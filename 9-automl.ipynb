{
 "cells": [
  {
   "cell_type": "markdown",
   "metadata": {},
   "source": [
    "<img src='https://github.com/jtobelem-simplon/prepa-dp100/blob/master/images/top.png?raw=true'>"
   ]
  },
  {
   "cell_type": "markdown",
   "metadata": {},
   "source": [
    "# Configuration (à lancer avant tous les notebooks)"
   ]
  },
  {
   "cell_type": "code",
   "execution_count": 1,
   "metadata": {},
   "outputs": [
    {
     "data": {
      "text/plain": [
       "'3.8.5'"
      ]
     },
     "execution_count": 1,
     "metadata": {},
     "output_type": "execute_result"
    }
   ],
   "source": [
    "# version de python\n",
    "import platform\n",
    "platform.python_version()"
   ]
  },
  {
   "cell_type": "code",
   "execution_count": 27,
   "metadata": {
    "pycharm": {
     "is_executing": false
    }
   },
   "outputs": [
    {
     "name": "stdout",
     "output_type": "stream",
     "text": [
      "# packages in environment at /home/lab/anaconda3/envs/azure:\r\n",
      "#\r\n",
      "# Name                    Version                   Build  Channel\r\n",
      "_libgcc_mutex             0.1                        main  \r\n",
      "adal                      1.2.4                    pypi_0    pypi\r\n",
      "applicationinsights       0.11.9                   pypi_0    pypi\r\n",
      "async_generator           1.10                       py_0    conda-forge\r\n",
      "attrs                     20.2.0             pyh9f0ad1d_0    conda-forge\r\n",
      "azure-common              1.1.25                   pypi_0    pypi\r\n",
      "azure-core                1.8.1                    pypi_0    pypi\r\n",
      "azure-graphrbac           0.61.1                   pypi_0    pypi\r\n",
      "azure-identity            1.2.0                    pypi_0    pypi\r\n",
      "azure-mgmt-authorization  0.61.0                   pypi_0    pypi\r\n",
      "azure-mgmt-containerregistry 2.8.0                    pypi_0    pypi\r\n",
      "azure-mgmt-keyvault       2.2.0                    pypi_0    pypi\r\n",
      "azure-mgmt-resource       10.2.0                   pypi_0    pypi\r\n",
      "azure-mgmt-storage        11.2.0                   pypi_0    pypi\r\n",
      "azureml-automl-core       1.13.0                   pypi_0    pypi\r\n",
      "azureml-core              1.13.0                   pypi_0    pypi\r\n",
      "azureml-dataprep          2.0.8                    pypi_0    pypi\r\n",
      "azureml-dataprep-native   20.0.2                   pypi_0    pypi\r\n",
      "azureml-dataset-runtime   1.13.0                   pypi_0    pypi\r\n",
      "azureml-defaults          1.13.0                   pypi_0    pypi\r\n",
      "azureml-model-management-sdk 1.0.1b6.post1            pypi_0    pypi\r\n",
      "azureml-pipeline          1.13.0                   pypi_0    pypi\r\n",
      "azureml-pipeline-core     1.13.0                   pypi_0    pypi\r\n",
      "azureml-pipeline-steps    1.13.0                   pypi_0    pypi\r\n",
      "azureml-sdk               1.13.0                   pypi_0    pypi\r\n",
      "azureml-telemetry         1.13.0                   pypi_0    pypi\r\n",
      "azureml-train             1.13.0                   pypi_0    pypi\r\n",
      "azureml-train-automl-client 1.13.0.post1             pypi_0    pypi\r\n",
      "azureml-train-core        1.13.0                   pypi_0    pypi\r\n",
      "azureml-train-restclients-hyperdrive 1.13.0                   pypi_0    pypi\r\n",
      "azureml-widgets           1.13.0                   pypi_0    pypi\r\n",
      "backcall                  0.2.0              pyh9f0ad1d_0    conda-forge\r\n",
      "backports                 1.0                        py_2    conda-forge\r\n",
      "backports-tempfile        1.0                      pypi_0    pypi\r\n",
      "backports-weakref         1.0.post1                pypi_0    pypi\r\n",
      "backports.functools_lru_cache 1.6.1                      py_0    conda-forge\r\n",
      "bleach                    3.1.5              pyh9f0ad1d_0    conda-forge\r\n",
      "ca-certificates           2020.7.22                     0  \r\n",
      "certifi                   2020.6.20                py38_0  \r\n",
      "cffi                      1.14.2                   pypi_0    pypi\r\n",
      "chardet                   3.0.4                    pypi_0    pypi\r\n",
      "click                     7.1.2                    pypi_0    pypi\r\n",
      "cloudpickle               1.6.0                    pypi_0    pypi\r\n",
      "configparser              3.7.4                    pypi_0    pypi\r\n",
      "contextlib2               0.6.0.post1              pypi_0    pypi\r\n",
      "cryptography              3.1                      pypi_0    pypi\r\n",
      "cycler                    0.10.0                     py_2    conda-forge\r\n",
      "dbus                      1.13.16              hb2f20db_0  \r\n",
      "decorator                 4.4.2                      py_0    conda-forge\r\n",
      "defusedxml                0.6.0                      py_0    conda-forge\r\n",
      "dill                      0.3.2                    pypi_0    pypi\r\n",
      "distro                    1.5.0                    pypi_0    pypi\r\n",
      "docker                    4.3.1                    pypi_0    pypi\r\n",
      "dotnetcore2               2.1.14                   pypi_0    pypi\r\n",
      "entrypoints               0.3             py38h32f6830_1001    conda-forge\r\n",
      "expat                     2.2.9                he1b5a44_2    conda-forge\r\n",
      "flask                     1.0.3                    pypi_0    pypi\r\n",
      "fontconfig                2.13.1            he4413a7_1000    conda-forge\r\n",
      "freetype                  2.10.2               he06d7ca_0    conda-forge\r\n",
      "fusepy                    3.0.1                    pypi_0    pypi\r\n",
      "glib                      2.65.0               h3eb4bd4_0  \r\n",
      "gst-plugins-base          1.14.0               hbbd80ab_1  \r\n",
      "gstreamer                 1.14.0               hb31296c_0  \r\n",
      "gunicorn                  19.9.0                   pypi_0    pypi\r\n",
      "icu                       58.2              hf484d3e_1000    conda-forge\r\n",
      "idna                      2.10                     pypi_0    pypi\r\n",
      "importlib-metadata        1.7.0            py38h32f6830_0    conda-forge\r\n",
      "importlib_metadata        1.7.0                         0    conda-forge\r\n",
      "ipykernel                 5.3.4            py38h23f93f0_0    conda-forge\r\n",
      "ipython                   7.18.1           py38h1cdfbd6_0    conda-forge\r\n",
      "ipython_genutils          0.2.0                      py_1    conda-forge\r\n",
      "ipywidgets                7.5.1              pyh9f0ad1d_1    conda-forge\r\n",
      "isodate                   0.6.0                    pypi_0    pypi\r\n",
      "itsdangerous              1.1.0                    pypi_0    pypi\r\n",
      "jedi                      0.17.2           py38h32f6830_0    conda-forge\r\n",
      "jeepney                   0.4.3                    pypi_0    pypi\r\n",
      "jinja2                    2.11.2             pyh9f0ad1d_0    conda-forge\r\n",
      "jmespath                  0.10.0                   pypi_0    pypi\r\n",
      "joblib                    0.16.0                     py_0    conda-forge\r\n",
      "jpeg                      9d                   h516909a_0    conda-forge\r\n",
      "json-logging-py           0.2                      pypi_0    pypi\r\n",
      "jsonpickle                1.4.1                    pypi_0    pypi\r\n",
      "jsonschema                3.2.0            py38h32f6830_1    conda-forge\r\n",
      "jupyter                   1.0.0                    py38_7  \r\n",
      "jupyter_client            6.1.7                      py_0    conda-forge\r\n",
      "jupyter_console           6.2.0                      py_0    conda-forge\r\n",
      "jupyter_contrib_core      0.3.3                      py_2    conda-forge\r\n",
      "jupyter_contrib_nbextensions 0.5.1                    py38_0    conda-forge\r\n",
      "jupyter_core              4.6.3            py38h32f6830_1    conda-forge\r\n",
      "jupyter_highlight_selected_word 0.2.0                 py38_1000    conda-forge\r\n",
      "jupyter_latex_envs        1.4.6                 py38_1000    conda-forge\r\n",
      "jupyter_nbextensions_configurator 0.4.1            py38h32f6830_1    conda-forge\r\n",
      "jupyterlab_pygments       0.1.1              pyh9f0ad1d_0    conda-forge\r\n",
      "kiwisolver                1.2.0            py38hbf85e49_0    conda-forge\r\n",
      "lcms2                     2.11                 hbd6801e_0    conda-forge\r\n",
      "ld_impl_linux-64          2.33.1               h53a641e_7  \r\n",
      "liac-arff                 2.5.0                    pypi_0    pypi\r\n",
      "libblas                   3.8.0               17_openblas    conda-forge\r\n",
      "libcblas                  3.8.0               17_openblas    conda-forge\r\n",
      "libedit                   3.1.20191231         h14c3975_1  \r\n",
      "libffi                    3.3                  he6710b0_2  \r\n",
      "libgcc-ng                 9.1.0                hdf63c60_0  \r\n",
      "libgfortran-ng            7.5.0               hdf63c60_16    conda-forge\r\n",
      "liblapack                 3.8.0               17_openblas    conda-forge\r\n",
      "libopenblas               0.3.10          pthreads_hb3c22a3_4    conda-forge\r\n",
      "libpng                    1.6.37               hed695b0_2    conda-forge\r\n",
      "libsodium                 1.0.18               h516909a_0    conda-forge\r\n",
      "libstdcxx-ng              9.1.0                hdf63c60_0  \r\n",
      "libtiff                   4.1.0                hc7e4089_6    conda-forge\r\n",
      "libuuid                   2.32.1            h14c3975_1000    conda-forge\r\n",
      "libwebp-base              1.1.0                h516909a_3    conda-forge\r\n",
      "libxcb                    1.13              h14c3975_1002    conda-forge\r\n",
      "libxml2                   2.9.10               he19cac6_1  \r\n",
      "libxslt                   1.1.34               hc22bd24_0  \r\n",
      "lxml                      4.5.2            py38hbb43d70_0    conda-forge\r\n",
      "lz4-c                     1.9.2                he1b5a44_3    conda-forge\r\n",
      "markupsafe                1.1.1            py38h1e0a361_1    conda-forge\r\n",
      "matplotlib                3.3.2                         0    conda-forge\r\n",
      "matplotlib-base           3.3.2            py38h91b0d89_0    conda-forge\r\n",
      "mistune                   0.8.4           py38h1e0a361_1001    conda-forge\r\n",
      "msal                      1.5.0                    pypi_0    pypi\r\n",
      "msal-extensions           0.1.3                    pypi_0    pypi\r\n",
      "msrest                    0.6.19                   pypi_0    pypi\r\n",
      "msrestazure               0.6.4                    pypi_0    pypi\r\n",
      "nbclient                  0.5.0                      py_0    conda-forge\r\n",
      "nbconvert                 6.0.2            py38h32f6830_0    conda-forge\r\n",
      "nbformat                  5.0.7                      py_0    conda-forge\r\n",
      "ncurses                   6.2                  he6710b0_1  \r\n",
      "ndg-httpsclient           0.5.1                    pypi_0    pypi\r\n",
      "nest-asyncio              1.4.0                      py_0    conda-forge\r\n",
      "notebook                  6.0.3            py38h32f6830_1    conda-forge\r\n",
      "numpy                     1.19.1           py38hbc27379_2    conda-forge\r\n",
      "oauthlib                  3.1.0                    pypi_0    pypi\r\n",
      "olefile                   0.46                       py_0    conda-forge\r\n",
      "openssl                   1.1.1g               h7b6447c_0  \r\n",
      "packaging                 20.4               pyh9f0ad1d_0    conda-forge\r\n",
      "pandas                    1.1.2            py38h950e882_0    conda-forge\r\n",
      "pandoc                    2.10.1               h516909a_0    conda-forge\r\n",
      "pandocfilters             1.4.2                      py_1    conda-forge\r\n",
      "parso                     0.7.1              pyh9f0ad1d_0    conda-forge\r\n",
      "pathspec                  0.8.0                    pypi_0    pypi\r\n",
      "pcre                      8.44                 he1b5a44_0    conda-forge\r\n",
      "pexpect                   4.8.0            py38h32f6830_1    conda-forge\r\n",
      "pickleshare               0.7.5           py38h32f6830_1001    conda-forge\r\n",
      "pillow                    7.2.0            py38h9776b28_1    conda-forge\r\n",
      "pip                       20.2.3                     py_0    conda-forge\r\n",
      "portalocker               1.7.1                    pypi_0    pypi\r\n",
      "prometheus_client         0.8.0              pyh9f0ad1d_0    conda-forge\r\n",
      "prompt-toolkit            3.0.7                      py_0    conda-forge\r\n",
      "prompt_toolkit            3.0.7                         0    conda-forge\r\n",
      "pthread-stubs             0.4               h14c3975_1001    conda-forge\r\n",
      "ptyprocess                0.6.0                   py_1001    conda-forge\r\n",
      "pyarrow                   1.0.1                    pypi_0    pypi\r\n",
      "pyasn1                    0.4.8                    pypi_0    pypi\r\n",
      "pycparser                 2.20                     pypi_0    pypi\r\n",
      "pygments                  2.7.0                      py_0    conda-forge\r\n",
      "pyjwt                     1.7.1                    pypi_0    pypi\r\n",
      "pyopenssl                 19.1.0                   pypi_0    pypi\r\n",
      "pyparsing                 2.4.7              pyh9f0ad1d_0    conda-forge\r\n",
      "pyqt                      5.9.2            py38h05f1152_4  \r\n",
      "pyrsistent                0.17.3           py38h1e0a361_0    conda-forge\r\n",
      "python                    3.8.5                h7579374_1  \r\n",
      "python-dateutil           2.8.1                      py_0    conda-forge\r\n",
      "python_abi                3.8                      1_cp38    conda-forge\r\n",
      "pytz                      2020.1             pyh9f0ad1d_0    conda-forge\r\n",
      "pyyaml                    5.3.1            py38h1e0a361_0    conda-forge\r\n",
      "pyzmq                     19.0.2           py38ha71036d_0    conda-forge\r\n",
      "qt                        5.9.7                h5867ecd_1  \r\n",
      "qtconsole                 4.7.7              pyh9f0ad1d_0    conda-forge\r\n",
      "qtpy                      1.9.0                      py_0    conda-forge\r\n",
      "readline                  8.0                  h7b6447c_0  \r\n",
      "requests                  2.24.0                   pypi_0    pypi\r\n",
      "requests-oauthlib         1.3.0                    pypi_0    pypi\r\n",
      "ruamel-yaml               0.16.12                  pypi_0    pypi\r\n",
      "ruamel-yaml-clib          0.2.2                    pypi_0    pypi\r\n",
      "scikit-learn              0.23.2           py38hee58b96_0    conda-forge\r\n",
      "scipy                     1.5.2            py38h8c5af15_0    conda-forge\r\n",
      "secretstorage             3.1.2                    pypi_0    pypi\r\n",
      "send2trash                1.5.0                      py_0    conda-forge\r\n",
      "setuptools                49.6.0                   py38_0  \r\n",
      "sip                       4.19.13          py38he6710b0_0  \r\n",
      "six                       1.15.0             pyh9f0ad1d_0    conda-forge\r\n",
      "sqlite                    3.33.0               h62c20be_0  \r\n",
      "terminado                 0.8.3            py38h32f6830_1    conda-forge\r\n",
      "testpath                  0.4.4                      py_0    conda-forge\r\n",
      "threadpoolctl             2.1.0              pyh5ca1d4c_0    conda-forge\r\n",
      "tk                        8.6.10               hbc83047_0  \r\n",
      "tornado                   6.0.4            py38h1e0a361_1    conda-forge\r\n",
      "traitlets                 5.0.4                      py_0    conda-forge\r\n",
      "urllib3                   1.25.10                  pypi_0    pypi\r\n",
      "wcwidth                   0.2.5              pyh9f0ad1d_1    conda-forge\r\n",
      "webencodings              0.5.1                      py_1    conda-forge\r\n",
      "websocket-client          0.57.0                   pypi_0    pypi\r\n",
      "werkzeug                  0.16.1                   pypi_0    pypi\r\n",
      "wheel                     0.35.1                     py_0  \r\n",
      "widgetsnbextension        3.5.1            py38h32f6830_1    conda-forge\r\n",
      "xorg-libxau               1.0.9                h14c3975_0    conda-forge\r\n",
      "xorg-libxdmcp             1.1.3                h516909a_0    conda-forge\r\n",
      "xz                        5.2.5                h7b6447c_0  \r\n",
      "yaml                      0.2.5                h516909a_0    conda-forge\r\n",
      "zeromq                    4.3.2                he1b5a44_3    conda-forge\r\n",
      "zipp                      3.1.0                      py_0    conda-forge\r\n",
      "zlib                      1.2.11               h7b6447c_3  \r\n",
      "zstd                      1.4.5                h6597ccf_2    conda-forge\r\n"
     ]
    }
   ],
   "source": [
    "# la liste des packages installés\n",
    "!conda list"
   ]
  },
  {
   "cell_type": "code",
   "execution_count": 28,
   "metadata": {},
   "outputs": [
    {
     "name": "stdout",
     "output_type": "stream",
     "text": [
      "Ready to use Azure ML 1.13.0\n"
     ]
    }
   ],
   "source": [
    "# version de la SDK azureml\n",
    "import azureml.core\n",
    "print(\"Ready to use Azure ML\", azureml.core.VERSION)"
   ]
  },
  {
   "cell_type": "markdown",
   "metadata": {},
   "source": [
    "Si le notebook est executé en dehors d'Azure, il faut télécharger le fichier config.json depuis le portail https://portal.azure.com/, et le mettre dans le workspace qui contient le notebook.\n",
    "\n",
    "Si le notebook est exécuté directement depuis le workspace Azure, le fichier de config devrait déjà être là."
   ]
  },
  {
   "cell_type": "code",
   "execution_count": 29,
   "metadata": {},
   "outputs": [
    {
     "name": "stdout",
     "output_type": "stream",
     "text": [
      "jt-dp100 loaded\n"
     ]
    }
   ],
   "source": [
    "# connexion au workspace\n",
    "from azureml.core import Workspace\n",
    "\n",
    "ws = Workspace.from_config()\n",
    "print(ws.name, \"loaded\")"
   ]
  },
  {
   "cell_type": "markdown",
   "metadata": {},
   "source": [
    "# Enregistrement des données"
   ]
  },
  {
   "cell_type": "code",
   "execution_count": 30,
   "metadata": {},
   "outputs": [
    {
     "name": "stdout",
     "output_type": "stream",
     "text": [
      "Dataset already registered.\n"
     ]
    }
   ],
   "source": [
    "from azureml.core import Dataset\n",
    "\n",
    "default_ds = ws.get_default_datastore()\n",
    "\n",
    "if 'titanic train dataset' not in ws.datasets:\n",
    "    default_ds.upload_files(files=['./data/titanic/train.csv'], # Upload the titanic csv files in /data\n",
    "                        target_path='titanic-data/', # Put it in a folder path in the datastore\n",
    "                        overwrite=True, # Replace existing files of the same name\n",
    "                        show_progress=True)\n",
    "\n",
    "    #Create a tabular dataset from the path on the datastore (this may take a short while)\n",
    "    tab_data_set = Dataset.Tabular.from_delimited_files(path=(default_ds, 'titanic-data/train.csv'))\n",
    "\n",
    "    # Register the tabular dataset\n",
    "    try:\n",
    "        tab_data_set = tab_data_set.register(workspace=ws, \n",
    "                                name='titanic dataset',\n",
    "                                description='titanic data',\n",
    "                                tags = {'format':'CSV'},\n",
    "                                create_new_version=True)\n",
    "        print('Dataset registered.')\n",
    "    except Exception as ex:\n",
    "        print(ex)\n",
    "else:\n",
    "    print('Dataset already registered.')"
   ]
  },
  {
   "cell_type": "code",
   "execution_count": 31,
   "metadata": {},
   "outputs": [],
   "source": [
    "# Split the dataset into training and validation subsets\n",
    "titanic_ds = ws.datasets.get(\"titanic train dataset\")\n",
    "train_ds, test_ds = titanic_ds.random_split(percentage=0.7, seed=0)"
   ]
  },
  {
   "cell_type": "code",
   "execution_count": 32,
   "metadata": {},
   "outputs": [
    {
     "data": {
      "text/html": [
       "<div>\n",
       "<style scoped>\n",
       "    .dataframe tbody tr th:only-of-type {\n",
       "        vertical-align: middle;\n",
       "    }\n",
       "\n",
       "    .dataframe tbody tr th {\n",
       "        vertical-align: top;\n",
       "    }\n",
       "\n",
       "    .dataframe thead th {\n",
       "        text-align: right;\n",
       "    }\n",
       "</style>\n",
       "<table border=\"1\" class=\"dataframe\">\n",
       "  <thead>\n",
       "    <tr style=\"text-align: right;\">\n",
       "      <th></th>\n",
       "      <th>PassengerId</th>\n",
       "      <th>Survived</th>\n",
       "      <th>Pclass</th>\n",
       "      <th>Name</th>\n",
       "      <th>Sex</th>\n",
       "      <th>Age</th>\n",
       "      <th>SibSp</th>\n",
       "      <th>Parch</th>\n",
       "      <th>Ticket</th>\n",
       "      <th>Fare</th>\n",
       "      <th>Cabin</th>\n",
       "      <th>Embarked</th>\n",
       "    </tr>\n",
       "  </thead>\n",
       "  <tbody>\n",
       "    <tr>\n",
       "      <th>0</th>\n",
       "      <td>1</td>\n",
       "      <td>0</td>\n",
       "      <td>3</td>\n",
       "      <td>Braund, Mr. Owen Harris</td>\n",
       "      <td>male</td>\n",
       "      <td>22.0</td>\n",
       "      <td>1</td>\n",
       "      <td>0</td>\n",
       "      <td>A/5 21171</td>\n",
       "      <td>7.2500</td>\n",
       "      <td>None</td>\n",
       "      <td>S</td>\n",
       "    </tr>\n",
       "    <tr>\n",
       "      <th>1</th>\n",
       "      <td>2</td>\n",
       "      <td>1</td>\n",
       "      <td>1</td>\n",
       "      <td>Cumings, Mrs. John Bradley (Florence Briggs Th...</td>\n",
       "      <td>female</td>\n",
       "      <td>38.0</td>\n",
       "      <td>1</td>\n",
       "      <td>0</td>\n",
       "      <td>PC 17599</td>\n",
       "      <td>71.2833</td>\n",
       "      <td>C85</td>\n",
       "      <td>C</td>\n",
       "    </tr>\n",
       "    <tr>\n",
       "      <th>2</th>\n",
       "      <td>3</td>\n",
       "      <td>1</td>\n",
       "      <td>3</td>\n",
       "      <td>Heikkinen, Miss. Laina</td>\n",
       "      <td>female</td>\n",
       "      <td>26.0</td>\n",
       "      <td>0</td>\n",
       "      <td>0</td>\n",
       "      <td>STON/O2. 3101282</td>\n",
       "      <td>7.9250</td>\n",
       "      <td>None</td>\n",
       "      <td>S</td>\n",
       "    </tr>\n",
       "    <tr>\n",
       "      <th>3</th>\n",
       "      <td>4</td>\n",
       "      <td>1</td>\n",
       "      <td>1</td>\n",
       "      <td>Futrelle, Mrs. Jacques Heath (Lily May Peel)</td>\n",
       "      <td>female</td>\n",
       "      <td>35.0</td>\n",
       "      <td>1</td>\n",
       "      <td>0</td>\n",
       "      <td>113803</td>\n",
       "      <td>53.1000</td>\n",
       "      <td>C123</td>\n",
       "      <td>S</td>\n",
       "    </tr>\n",
       "    <tr>\n",
       "      <th>4</th>\n",
       "      <td>5</td>\n",
       "      <td>0</td>\n",
       "      <td>3</td>\n",
       "      <td>Allen, Mr. William Henry</td>\n",
       "      <td>male</td>\n",
       "      <td>35.0</td>\n",
       "      <td>0</td>\n",
       "      <td>0</td>\n",
       "      <td>373450</td>\n",
       "      <td>8.0500</td>\n",
       "      <td>None</td>\n",
       "      <td>S</td>\n",
       "    </tr>\n",
       "  </tbody>\n",
       "</table>\n",
       "</div>"
      ],
      "text/plain": [
       "   PassengerId  Survived  Pclass  \\\n",
       "0            1         0       3   \n",
       "1            2         1       1   \n",
       "2            3         1       3   \n",
       "3            4         1       1   \n",
       "4            5         0       3   \n",
       "\n",
       "                                                Name     Sex   Age  SibSp  \\\n",
       "0                            Braund, Mr. Owen Harris    male  22.0      1   \n",
       "1  Cumings, Mrs. John Bradley (Florence Briggs Th...  female  38.0      1   \n",
       "2                             Heikkinen, Miss. Laina  female  26.0      0   \n",
       "3       Futrelle, Mrs. Jacques Heath (Lily May Peel)  female  35.0      1   \n",
       "4                           Allen, Mr. William Henry    male  35.0      0   \n",
       "\n",
       "   Parch            Ticket     Fare Cabin Embarked  \n",
       "0      0         A/5 21171   7.2500  None        S  \n",
       "1      0          PC 17599  71.2833   C85        C  \n",
       "2      0  STON/O2. 3101282   7.9250  None        S  \n",
       "3      0            113803  53.1000  C123        S  \n",
       "4      0            373450   8.0500  None        S  "
      ]
     },
     "execution_count": 32,
     "metadata": {},
     "output_type": "execute_result"
    }
   ],
   "source": [
    "titanic_ds.to_pandas_dataframe().head()"
   ]
  },
  {
   "cell_type": "markdown",
   "metadata": {},
   "source": [
    "# Configure the compute target"
   ]
  },
  {
   "cell_type": "code",
   "execution_count": 33,
   "metadata": {},
   "outputs": [
    {
     "name": "stdout",
     "output_type": "stream",
     "text": [
      "found compute target. just use it. aml-cluster\n"
     ]
    }
   ],
   "source": [
    "from azureml.core.compute import AmlCompute\n",
    "from azureml.core.compute import ComputeTarget\n",
    "import os\n",
    "\n",
    "# choose a name for your cluster\n",
    "compute_name = os.environ.get(\"AML_COMPUTE_CLUSTER_NAME\", \"aml-cluster\")\n",
    "compute_min_nodes = os.environ.get(\"AML_COMPUTE_CLUSTER_MIN_NODES\", 0)\n",
    "compute_max_nodes = os.environ.get(\"AML_COMPUTE_CLUSTER_MAX_NODES\", 4)\n",
    "\n",
    "# This example uses CPU VM. For using GPU VM, set SKU to STANDARD_NC6\n",
    "vm_size = os.environ.get(\"AML_COMPUTE_CLUSTER_SKU\", \"STANDARD_D2_V2\")\n",
    "\n",
    "\n",
    "if compute_name in ws.compute_targets:\n",
    "    compute_target = ws.compute_targets[compute_name]\n",
    "    if compute_target and type(compute_target) is AmlCompute:\n",
    "        print('found compute target. just use it. ' + compute_name)\n",
    "else:\n",
    "    print('creating a new compute target...')\n",
    "    provisioning_config = AmlCompute.provisioning_configuration(vm_size=vm_size,\n",
    "                                                                min_nodes=compute_min_nodes,\n",
    "                                                                max_nodes=compute_max_nodes)\n",
    "\n",
    "    # create the cluster\n",
    "    compute_target = ComputeTarget.create(\n",
    "        ws, compute_name, provisioning_config)\n",
    "\n",
    "    # can poll for a minimum number of nodes and for a specific timeout.\n",
    "    # if no min node count is provided it will use the scale settings for the cluster\n",
    "    compute_target.wait_for_completion(\n",
    "        show_output=True, min_node_count=None, timeout_in_minutes=20)\n",
    "\n",
    "    # For a more detailed view of current AmlCompute status, use get_status()\n",
    "    print(compute_target.get_status().serialize())"
   ]
  },
  {
   "cell_type": "code",
   "execution_count": 34,
   "metadata": {},
   "outputs": [],
   "source": [
    "# compute_target = 'local'"
   ]
  },
  {
   "cell_type": "markdown",
   "metadata": {},
   "source": [
    "# Configure Automated Machine Learning"
   ]
  },
  {
   "cell_type": "code",
   "execution_count": 35,
   "metadata": {},
   "outputs": [
    {
     "name": "stderr",
     "output_type": "stream",
     "text": [
      "WARNING - Local managed runs are currently disabled even if the \"enable_local_managed\" flag isset. Falling back to running in the current environment.\n"
     ]
    },
    {
     "name": "stdout",
     "output_type": "stream",
     "text": [
      "Ready for Auto ML run.\n"
     ]
    }
   ],
   "source": [
    "from azureml.train.automl import AutoMLConfig\n",
    "\n",
    "automl_config = AutoMLConfig(name='Automated ML Experiment on titanic dataset',\n",
    "                             task='classification',\n",
    "                             compute_target=compute_target,\n",
    "                             enable_local_managed=True,\n",
    "                             training_data = train_ds,\n",
    "                             validation_data = test_ds,\n",
    "                             label_column_name='Survived',\n",
    "                             iterations=6,\n",
    "                             primary_metric = 'AUC_weighted',\n",
    "                             max_concurrent_iterations=4,\n",
    "                             featurization='auto'\n",
    "                             )\n",
    "\n",
    "print(\"Ready for Auto ML run.\")"
   ]
  },
  {
   "cell_type": "markdown",
   "metadata": {},
   "source": [
    "# Run an Automated Machine Learning Experiment"
   ]
  },
  {
   "cell_type": "code",
   "execution_count": 36,
   "metadata": {},
   "outputs": [
    {
     "name": "stdout",
     "output_type": "stream",
     "text": [
      "Submitting Auto ML experiment...\n",
      "Running on remote or ADB.\n"
     ]
    },
    {
     "data": {
      "application/vnd.jupyter.widget-view+json": {
       "model_id": "f3588b543d804c37900e285cc258ca5b",
       "version_major": 2,
       "version_minor": 0
      },
      "text/plain": [
       "_AutoMLWidget(widget_settings={'childWidgetDisplay': 'popup', 'send_telemetry': False, 'log_level': 'INFO', 's…"
      ]
     },
     "metadata": {},
     "output_type": "display_data"
    },
    {
     "data": {
      "application/aml.mini.widget.v1": "{\"status\": \"Completed\", \"workbench_run_details_uri\": \"https://ml.azure.com/experiments/titanic_automl/runs/AutoML_534f109f-3cf0-40ba-a547-d04c60ba519c?wsid=/subscriptions/9114a63e-9210-4e32-97ca-b7d9e8ac403d/resourcegroups/jt-dp100-ressources/workspaces/jt-dp100\", \"run_id\": \"AutoML_534f109f-3cf0-40ba-a547-d04c60ba519c\", \"run_properties\": {\"run_id\": \"AutoML_534f109f-3cf0-40ba-a547-d04c60ba519c\", \"created_utc\": \"2020-09-16T15:19:37.638814Z\", \"properties\": {\"num_iterations\": \"6\", \"training_type\": \"TrainFull\", \"acquisition_function\": \"EI\", \"primary_metric\": \"AUC_weighted\", \"train_split\": \"0\", \"acquisition_parameter\": \"0\", \"num_cross_validation\": null, \"target\": \"aml-cluster\", \"AMLSettingsJsonString\": \"{\\\"path\\\":null,\\\"name\\\":\\\"Automated ML Experiment on titanic dataset\\\",\\\"subscription_id\\\":\\\"9114a63e-9210-4e32-97ca-b7d9e8ac403d\\\",\\\"resource_group\\\":\\\"jt-dp100-ressources\\\",\\\"workspace_name\\\":\\\"jt-dp100\\\",\\\"region\\\":\\\"westeurope\\\",\\\"compute_target\\\":\\\"aml-cluster\\\",\\\"spark_service\\\":null,\\\"azure_service\\\":\\\"remote\\\",\\\"_local_managed_run_id\\\":null,\\\"many_models\\\":false,\\\"iterations\\\":6,\\\"primary_metric\\\":\\\"AUC_weighted\\\",\\\"task_type\\\":\\\"classification\\\",\\\"data_script\\\":null,\\\"validation_size\\\":0.0,\\\"n_cross_validations\\\":null,\\\"y_min\\\":null,\\\"y_max\\\":null,\\\"num_classes\\\":null,\\\"featurization\\\":\\\"auto\\\",\\\"_ignore_package_version_incompatibilities\\\":false,\\\"is_timeseries\\\":false,\\\"max_cores_per_iteration\\\":1,\\\"max_concurrent_iterations\\\":4,\\\"iteration_timeout_minutes\\\":null,\\\"mem_in_mb\\\":null,\\\"enforce_time_on_windows\\\":false,\\\"experiment_timeout_minutes\\\":8640,\\\"experiment_exit_score\\\":null,\\\"whitelist_models\\\":null,\\\"blacklist_algos\\\":[\\\"TensorFlowLinearClassifier\\\"],\\\"supported_models\\\":[\\\"BernoulliNaiveBayes\\\",\\\"DecisionTree\\\",\\\"AveragedPerceptronClassifier\\\",\\\"TensorFlowLinearClassifier\\\",\\\"GradientBoosting\\\",\\\"LogisticRegression\\\",\\\"RandomForest\\\",\\\"XGBoostClassifier\\\",\\\"TensorFlowDNN\\\",\\\"SVM\\\",\\\"KNN\\\",\\\"SGD\\\",\\\"ExtremeRandomTrees\\\",\\\"LinearSVM\\\",\\\"LightGBM\\\",\\\"MultinomialNaiveBayes\\\"],\\\"auto_blacklist\\\":true,\\\"blacklist_samples_reached\\\":false,\\\"exclude_nan_labels\\\":true,\\\"verbosity\\\":20,\\\"_debug_log\\\":\\\"azureml_automl.log\\\",\\\"show_warnings\\\":false,\\\"model_explainability\\\":true,\\\"service_url\\\":null,\\\"sdk_url\\\":null,\\\"sdk_packages\\\":null,\\\"enable_onnx_compatible_models\\\":false,\\\"enable_split_onnx_featurizer_estimator_models\\\":false,\\\"vm_type\\\":\\\"STANDARD_D2_V2\\\",\\\"telemetry_verbosity\\\":20,\\\"send_telemetry\\\":true,\\\"enable_dnn\\\":false,\\\"force_text_dnn\\\":false,\\\"enable_feature_sweeping\\\":true,\\\"enable_early_stopping\\\":false,\\\"early_stopping_n_iters\\\":10,\\\"metrics\\\":null,\\\"enable_ensembling\\\":true,\\\"enable_stack_ensembling\\\":true,\\\"ensemble_iterations\\\":6,\\\"enable_tf\\\":false,\\\"enable_subsampling\\\":false,\\\"subsample_seed\\\":null,\\\"enable_nimbusml\\\":false,\\\"enable_streaming\\\":false,\\\"force_streaming\\\":false,\\\"track_child_runs\\\":true,\\\"label_column_name\\\":\\\"Survived\\\",\\\"weight_column_name\\\":null,\\\"cv_split_column_names\\\":null,\\\"enable_local_managed\\\":false,\\\"cost_mode\\\":1,\\\"lag_length\\\":0,\\\"metric_operation\\\":\\\"maximize\\\",\\\"preprocess\\\":true,\\\"scenario\\\":\\\"SDK-1.13.0\\\"}\", \"DataPrepJsonString\": \"{\\\\\\\"training_data\\\\\\\": \\\\\\\"{\\\\\\\\\\\\\\\"blocks\\\\\\\\\\\\\\\": [{\\\\\\\\\\\\\\\"id\\\\\\\\\\\\\\\": \\\\\\\\\\\\\\\"effc7271-5193-4aac-aa8e-2aabafe34126\\\\\\\\\\\\\\\", \\\\\\\\\\\\\\\"type\\\\\\\\\\\\\\\": \\\\\\\\\\\\\\\"Microsoft.DPrep.GetDatastoreFilesBlock\\\\\\\\\\\\\\\", \\\\\\\\\\\\\\\"arguments\\\\\\\\\\\\\\\": {\\\\\\\\\\\\\\\"datastores\\\\\\\\\\\\\\\": [{\\\\\\\\\\\\\\\"datastoreName\\\\\\\\\\\\\\\": \\\\\\\\\\\\\\\"workspaceblobstore\\\\\\\\\\\\\\\", \\\\\\\\\\\\\\\"path\\\\\\\\\\\\\\\": \\\\\\\\\\\\\\\"titanic-data/train.csv\\\\\\\\\\\\\\\", \\\\\\\\\\\\\\\"resourceGroup\\\\\\\\\\\\\\\": \\\\\\\\\\\\\\\"jt-dp100-ressources\\\\\\\\\\\\\\\", \\\\\\\\\\\\\\\"subscription\\\\\\\\\\\\\\\": \\\\\\\\\\\\\\\"9114a63e-9210-4e32-97ca-b7d9e8ac403d\\\\\\\\\\\\\\\", \\\\\\\\\\\\\\\"workspaceName\\\\\\\\\\\\\\\": \\\\\\\\\\\\\\\"jt-dp100\\\\\\\\\\\\\\\"}]}, \\\\\\\\\\\\\\\"localData\\\\\\\\\\\\\\\": {}, \\\\\\\\\\\\\\\"isEnabled\\\\\\\\\\\\\\\": true, \\\\\\\\\\\\\\\"name\\\\\\\\\\\\\\\": null, \\\\\\\\\\\\\\\"annotation\\\\\\\\\\\\\\\": null}, {\\\\\\\\\\\\\\\"id\\\\\\\\\\\\\\\": \\\\\\\\\\\\\\\"1e2320f8-f211-42fa-a42b-ea40aca45d3d\\\\\\\\\\\\\\\", \\\\\\\\\\\\\\\"type\\\\\\\\\\\\\\\": \\\\\\\\\\\\\\\"Microsoft.DPrep.ParseDelimitedBlock\\\\\\\\\\\\\\\", \\\\\\\\\\\\\\\"arguments\\\\\\\\\\\\\\\": {\\\\\\\\\\\\\\\"columnHeadersMode\\\\\\\\\\\\\\\": 3, \\\\\\\\\\\\\\\"fileEncoding\\\\\\\\\\\\\\\": 0, \\\\\\\\\\\\\\\"handleQuotedLineBreaks\\\\\\\\\\\\\\\": false, \\\\\\\\\\\\\\\"preview\\\\\\\\\\\\\\\": false, \\\\\\\\\\\\\\\"separator\\\\\\\\\\\\\\\": \\\\\\\\\\\\\\\",\\\\\\\\\\\\\\\", \\\\\\\\\\\\\\\"skipRows\\\\\\\\\\\\\\\": 0, \\\\\\\\\\\\\\\"skipRowsMode\\\\\\\\\\\\\\\": 0}, \\\\\\\\\\\\\\\"localData\\\\\\\\\\\\\\\": {}, \\\\\\\\\\\\\\\"isEnabled\\\\\\\\\\\\\\\": true, \\\\\\\\\\\\\\\"name\\\\\\\\\\\\\\\": null, \\\\\\\\\\\\\\\"annotation\\\\\\\\\\\\\\\": null}, {\\\\\\\\\\\\\\\"id\\\\\\\\\\\\\\\": \\\\\\\\\\\\\\\"a5d00f86-e8fc-473e-a319-03176797ff82\\\\\\\\\\\\\\\", \\\\\\\\\\\\\\\"type\\\\\\\\\\\\\\\": \\\\\\\\\\\\\\\"Microsoft.DPrep.DropColumnsBlock\\\\\\\\\\\\\\\", \\\\\\\\\\\\\\\"arguments\\\\\\\\\\\\\\\": {\\\\\\\\\\\\\\\"columns\\\\\\\\\\\\\\\": {\\\\\\\\\\\\\\\"type\\\\\\\\\\\\\\\": 0, \\\\\\\\\\\\\\\"details\\\\\\\\\\\\\\\": {\\\\\\\\\\\\\\\"selectedColumns\\\\\\\\\\\\\\\": [\\\\\\\\\\\\\\\"Path\\\\\\\\\\\\\\\"]}}}, \\\\\\\\\\\\\\\"localData\\\\\\\\\\\\\\\": {}, \\\\\\\\\\\\\\\"isEnabled\\\\\\\\\\\\\\\": true, \\\\\\\\\\\\\\\"name\\\\\\\\\\\\\\\": null, \\\\\\\\\\\\\\\"annotation\\\\\\\\\\\\\\\": null}, {\\\\\\\\\\\\\\\"id\\\\\\\\\\\\\\\": \\\\\\\\\\\\\\\"634bcfc8-4a04-4fcf-92f7-fa502b6d608d\\\\\\\\\\\\\\\", \\\\\\\\\\\\\\\"type\\\\\\\\\\\\\\\": \\\\\\\\\\\\\\\"Microsoft.DPrep.SetColumnTypesBlock\\\\\\\\\\\\\\\", \\\\\\\\\\\\\\\"arguments\\\\\\\\\\\\\\\": {\\\\\\\\\\\\\\\"columnConversion\\\\\\\\\\\\\\\": [{\\\\\\\\\\\\\\\"column\\\\\\\\\\\\\\\": {\\\\\\\\\\\\\\\"type\\\\\\\\\\\\\\\": 2, \\\\\\\\\\\\\\\"details\\\\\\\\\\\\\\\": {\\\\\\\\\\\\\\\"selectedColumn\\\\\\\\\\\\\\\": \\\\\\\\\\\\\\\"PassengerId\\\\\\\\\\\\\\\"}}, \\\\\\\\\\\\\\\"typeProperty\\\\\\\\\\\\\\\": 2}, {\\\\\\\\\\\\\\\"column\\\\\\\\\\\\\\\": {\\\\\\\\\\\\\\\"type\\\\\\\\\\\\\\\": 2, \\\\\\\\\\\\\\\"details\\\\\\\\\\\\\\\": {\\\\\\\\\\\\\\\"selectedColumn\\\\\\\\\\\\\\\": \\\\\\\\\\\\\\\"Survived\\\\\\\\\\\\\\\"}}, \\\\\\\\\\\\\\\"typeProperty\\\\\\\\\\\\\\\": 2}, {\\\\\\\\\\\\\\\"column\\\\\\\\\\\\\\\": {\\\\\\\\\\\\\\\"type\\\\\\\\\\\\\\\": 2, \\\\\\\\\\\\\\\"details\\\\\\\\\\\\\\\": {\\\\\\\\\\\\\\\"selectedColumn\\\\\\\\\\\\\\\": \\\\\\\\\\\\\\\"Pclass\\\\\\\\\\\\\\\"}}, \\\\\\\\\\\\\\\"typeProperty\\\\\\\\\\\\\\\": 2}, {\\\\\\\\\\\\\\\"column\\\\\\\\\\\\\\\": {\\\\\\\\\\\\\\\"type\\\\\\\\\\\\\\\": 2, \\\\\\\\\\\\\\\"details\\\\\\\\\\\\\\\": {\\\\\\\\\\\\\\\"selectedColumn\\\\\\\\\\\\\\\": \\\\\\\\\\\\\\\"Name\\\\\\\\\\\\\\\"}}, \\\\\\\\\\\\\\\"typeProperty\\\\\\\\\\\\\\\": 0}, {\\\\\\\\\\\\\\\"column\\\\\\\\\\\\\\\": {\\\\\\\\\\\\\\\"type\\\\\\\\\\\\\\\": 2, \\\\\\\\\\\\\\\"details\\\\\\\\\\\\\\\": {\\\\\\\\\\\\\\\"selectedColumn\\\\\\\\\\\\\\\": \\\\\\\\\\\\\\\"Sex\\\\\\\\\\\\\\\"}}, \\\\\\\\\\\\\\\"typeProperty\\\\\\\\\\\\\\\": 0}, {\\\\\\\\\\\\\\\"column\\\\\\\\\\\\\\\": {\\\\\\\\\\\\\\\"type\\\\\\\\\\\\\\\": 2, \\\\\\\\\\\\\\\"details\\\\\\\\\\\\\\\": {\\\\\\\\\\\\\\\"selectedColumn\\\\\\\\\\\\\\\": \\\\\\\\\\\\\\\"Age\\\\\\\\\\\\\\\"}}, \\\\\\\\\\\\\\\"typeProperty\\\\\\\\\\\\\\\": 3}, {\\\\\\\\\\\\\\\"column\\\\\\\\\\\\\\\": {\\\\\\\\\\\\\\\"type\\\\\\\\\\\\\\\": 2, \\\\\\\\\\\\\\\"details\\\\\\\\\\\\\\\": {\\\\\\\\\\\\\\\"selectedColumn\\\\\\\\\\\\\\\": \\\\\\\\\\\\\\\"SibSp\\\\\\\\\\\\\\\"}}, \\\\\\\\\\\\\\\"typeProperty\\\\\\\\\\\\\\\": 2}, {\\\\\\\\\\\\\\\"column\\\\\\\\\\\\\\\": {\\\\\\\\\\\\\\\"type\\\\\\\\\\\\\\\": 2, \\\\\\\\\\\\\\\"details\\\\\\\\\\\\\\\": {\\\\\\\\\\\\\\\"selectedColumn\\\\\\\\\\\\\\\": \\\\\\\\\\\\\\\"Parch\\\\\\\\\\\\\\\"}}, \\\\\\\\\\\\\\\"typeProperty\\\\\\\\\\\\\\\": 2}, {\\\\\\\\\\\\\\\"column\\\\\\\\\\\\\\\": {\\\\\\\\\\\\\\\"type\\\\\\\\\\\\\\\": 2, \\\\\\\\\\\\\\\"details\\\\\\\\\\\\\\\": {\\\\\\\\\\\\\\\"selectedColumn\\\\\\\\\\\\\\\": \\\\\\\\\\\\\\\"Ticket\\\\\\\\\\\\\\\"}}, \\\\\\\\\\\\\\\"typeProperty\\\\\\\\\\\\\\\": 0}, {\\\\\\\\\\\\\\\"column\\\\\\\\\\\\\\\": {\\\\\\\\\\\\\\\"type\\\\\\\\\\\\\\\": 2, \\\\\\\\\\\\\\\"details\\\\\\\\\\\\\\\": {\\\\\\\\\\\\\\\"selectedColumn\\\\\\\\\\\\\\\": \\\\\\\\\\\\\\\"Fare\\\\\\\\\\\\\\\"}}, \\\\\\\\\\\\\\\"typeProperty\\\\\\\\\\\\\\\": 3}, {\\\\\\\\\\\\\\\"column\\\\\\\\\\\\\\\": {\\\\\\\\\\\\\\\"type\\\\\\\\\\\\\\\": 2, \\\\\\\\\\\\\\\"details\\\\\\\\\\\\\\\": {\\\\\\\\\\\\\\\"selectedColumn\\\\\\\\\\\\\\\": \\\\\\\\\\\\\\\"Cabin\\\\\\\\\\\\\\\"}}, \\\\\\\\\\\\\\\"typeProperty\\\\\\\\\\\\\\\": 0}, {\\\\\\\\\\\\\\\"column\\\\\\\\\\\\\\\": {\\\\\\\\\\\\\\\"type\\\\\\\\\\\\\\\": 2, \\\\\\\\\\\\\\\"details\\\\\\\\\\\\\\\": {\\\\\\\\\\\\\\\"selectedColumn\\\\\\\\\\\\\\\": \\\\\\\\\\\\\\\"Embarked\\\\\\\\\\\\\\\"}}, \\\\\\\\\\\\\\\"typeProperty\\\\\\\\\\\\\\\": 0}]}, \\\\\\\\\\\\\\\"localData\\\\\\\\\\\\\\\": {}, \\\\\\\\\\\\\\\"isEnabled\\\\\\\\\\\\\\\": true, \\\\\\\\\\\\\\\"name\\\\\\\\\\\\\\\": null, \\\\\\\\\\\\\\\"annotation\\\\\\\\\\\\\\\": null}, {\\\\\\\\\\\\\\\"id\\\\\\\\\\\\\\\": \\\\\\\\\\\\\\\"54a38630-be1f-49e7-b4e6-57fdb5312f01\\\\\\\\\\\\\\\", \\\\\\\\\\\\\\\"type\\\\\\\\\\\\\\\": \\\\\\\\\\\\\\\"Microsoft.DPrep.RandomSplitBlock\\\\\\\\\\\\\\\", \\\\\\\\\\\\\\\"arguments\\\\\\\\\\\\\\\": {\\\\\\\\\\\\\\\"probability\\\\\\\\\\\\\\\": 0.7, \\\\\\\\\\\\\\\"seed\\\\\\\\\\\\\\\": 3030253503}, \\\\\\\\\\\\\\\"localData\\\\\\\\\\\\\\\": {}, \\\\\\\\\\\\\\\"isEnabled\\\\\\\\\\\\\\\": true, \\\\\\\\\\\\\\\"name\\\\\\\\\\\\\\\": null, \\\\\\\\\\\\\\\"annotation\\\\\\\\\\\\\\\": null}], \\\\\\\\\\\\\\\"inspectors\\\\\\\\\\\\\\\": [], \\\\\\\\\\\\\\\"meta\\\\\\\\\\\\\\\": {\\\\\\\\\\\\\\\"savedDatasetId\\\\\\\\\\\\\\\": \\\\\\\\\\\\\\\"7c955d9a-a85b-4df1-8478-b064dc6e17ce\\\\\\\\\\\\\\\", \\\\\\\\\\\\\\\"datasetType\\\\\\\\\\\\\\\": \\\\\\\\\\\\\\\"tabular\\\\\\\\\\\\\\\", \\\\\\\\\\\\\\\"subscriptionId\\\\\\\\\\\\\\\": \\\\\\\\\\\\\\\"9114a63e-9210-4e32-97ca-b7d9e8ac403d\\\\\\\\\\\\\\\", \\\\\\\\\\\\\\\"workspaceId\\\\\\\\\\\\\\\": \\\\\\\\\\\\\\\"ffe976c5-0d98-42f3-98ed-002364971ee4\\\\\\\\\\\\\\\", \\\\\\\\\\\\\\\"workspaceLocation\\\\\\\\\\\\\\\": \\\\\\\\\\\\\\\"westeurope\\\\\\\\\\\\\\\"}}\\\\\\\", \\\\\\\"validation_data\\\\\\\": \\\\\\\"{\\\\\\\\\\\\\\\"blocks\\\\\\\\\\\\\\\": [{\\\\\\\\\\\\\\\"id\\\\\\\\\\\\\\\": \\\\\\\\\\\\\\\"674fdf18-1d93-4d6a-a4c0-805eabde8204\\\\\\\\\\\\\\\", \\\\\\\\\\\\\\\"type\\\\\\\\\\\\\\\": \\\\\\\\\\\\\\\"Microsoft.DPrep.ReferenceAndInverseSplitBlock\\\\\\\\\\\\\\\", \\\\\\\\\\\\\\\"arguments\\\\\\\\\\\\\\\": {\\\\\\\\\\\\\\\"sourceFilter\\\\\\\\\\\\\\\": {\\\\\\\\\\\\\\\"referenceType\\\\\\\\\\\\\\\": 2, \\\\\\\\\\\\\\\"referenceContainerPath\\\\\\\\\\\\\\\": null, \\\\\\\\\\\\\\\"referencedStep\\\\\\\\\\\\\\\": {\\\\\\\\\\\\\\\"referencedStepId\\\\\\\\\\\\\\\": \\\\\\\\\\\\\\\"00000000-0000-0000-0000-000000000000\\\\\\\\\\\\\\\", \\\\\\\\\\\\\\\"fallback\\\\\\\\\\\\\\\": 1}, \\\\\\\\\\\\\\\"anonymousSteps\\\\\\\\\\\\\\\": [{\\\\\\\\\\\\\\\"id\\\\\\\\\\\\\\\": \\\\\\\\\\\\\\\"effc7271-5193-4aac-aa8e-2aabafe34126\\\\\\\\\\\\\\\", \\\\\\\\\\\\\\\"description\\\\\\\\\\\\\\\": {\\\\\\\\\\\\\\\"localDataProperties\\\\\\\\\\\\\\\": [], \\\\\\\\\\\\\\\"blockGroup\\\\\\\\\\\\\\\": 0, \\\\\\\\\\\\\\\"supportedTargets\\\\\\\\\\\\\\\": [4], \\\\\\\\\\\\\\\"supportedFieldTypes\\\\\\\\\\\\\\\": null, \\\\\\\\\\\\\\\"supportedMessages\\\\\\\\\\\\\\\": [], \\\\\\\\\\\\\\\"requiresInitialization\\\\\\\\\\\\\\\": false, \\\\\\\\\\\\\\\"allowDefaultAdd\\\\\\\\\\\\\\\": true, \\\\\\\\\\\\\\\"documentation\\\\\\\\\\\\\\\": null, \\\\\\\\\\\\\\\"type\\\\\\\\\\\\\\\": \\\\\\\\\\\\\\\"Microsoft.DPrep.GetDatastoreFilesBlock\\\\\\\\\\\\\\\", \\\\\\\\\\\\\\\"propertyDescriptions\\\\\\\\\\\\\\\": [{\\\\\\\\\\\\\\\"name\\\\\\\\\\\\\\\": \\\\\\\\\\\\\\\"datastores\\\\\\\\\\\\\\\", \\\\\\\\\\\\\\\"type\\\\\\\\\\\\\\\": 7, \\\\\\\\\\\\\\\"multipleValues\\\\\\\\\\\\\\\": true, \\\\\\\\\\\\\\\"domain\\\\\\\\\\\\\\\": {\\\\\\\\\\\\\\\"type\\\\\\\\\\\\\\\": 0, \\\\\\\\\\\\\\\"details\\\\\\\\\\\\\\\": [{\\\\\\\\\\\\\\\"name\\\\\\\\\\\\\\\": \\\\\\\\\\\\\\\"subscription\\\\\\\\\\\\\\\", \\\\\\\\\\\\\\\"type\\\\\\\\\\\\\\\": 1, \\\\\\\\\\\\\\\"multipleValues\\\\\\\\\\\\\\\": false, \\\\\\\\\\\\\\\"domain\\\\\\\\\\\\\\\": null, \\\\\\\\\\\\\\\"multiValueDetails\\\\\\\\\\\\\\\": null, \\\\\\\\\\\\\\\"isRequired\\\\\\\\\\\\\\\": true, \\\\\\\\\\\\\\\"origin\\\\\\\\\\\\\\\": 1, \\\\\\\\\\\\\\\"defaultValue\\\\\\\\\\\\\\\": null, \\\\\\\\\\\\\\\"initializeFromProperty\\\\\\\\\\\\\\\": null, \\\\\\\\\\\\\\\"telemetryStrategy\\\\\\\\\\\\\\\": 0, \\\\\\\\\\\\\\\"condition\\\\\\\\\\\\\\\": null, \\\\\\\\\\\\\\\"documentation\\\\\\\\\\\\\\\": \\\\\\\\\\\\\\\"The subscription the workspace belongs to.\\\\\\\\\\\\\\\", \\\\\\\\\\\\\\\"serializeWhenDefault\\\\\\\\\\\\\\\": true}, {\\\\\\\\\\\\\\\"name\\\\\\\\\\\\\\\": \\\\\\\\\\\\\\\"resourceGroup\\\\\\\\\\\\\\\", \\\\\\\\\\\\\\\"type\\\\\\\\\\\\\\\": 1, \\\\\\\\\\\\\\\"multipleValues\\\\\\\\\\\\\\\": false, \\\\\\\\\\\\\\\"domain\\\\\\\\\\\\\\\": null, \\\\\\\\\\\\\\\"multiValueDetails\\\\\\\\\\\\\\\": null, \\\\\\\\\\\\\\\"isRequired\\\\\\\\\\\\\\\": true, \\\\\\\\\\\\\\\"origin\\\\\\\\\\\\\\\": 1, \\\\\\\\\\\\\\\"defaultValue\\\\\\\\\\\\\\\": null, \\\\\\\\\\\\\\\"initializeFromProperty\\\\\\\\\\\\\\\": null, \\\\\\\\\\\\\\\"telemetryStrategy\\\\\\\\\\\\\\\": 2, \\\\\\\\\\\\\\\"condition\\\\\\\\\\\\\\\": null, \\\\\\\\\\\\\\\"documentation\\\\\\\\\\\\\\\": \\\\\\\\\\\\\\\"The resource group the workspace belongs to.\\\\\\\\\\\\\\\", \\\\\\\\\\\\\\\"serializeWhenDefault\\\\\\\\\\\\\\\": true}, {\\\\\\\\\\\\\\\"name\\\\\\\\\\\\\\\": \\\\\\\\\\\\\\\"workspaceName\\\\\\\\\\\\\\\", \\\\\\\\\\\\\\\"type\\\\\\\\\\\\\\\": 1, \\\\\\\\\\\\\\\"multipleValues\\\\\\\\\\\\\\\": false, \\\\\\\\\\\\\\\"domain\\\\\\\\\\\\\\\": null, \\\\\\\\\\\\\\\"multiValueDetails\\\\\\\\\\\\\\\": null, \\\\\\\\\\\\\\\"isRequired\\\\\\\\\\\\\\\": true, \\\\\\\\\\\\\\\"origin\\\\\\\\\\\\\\\": 1, \\\\\\\\\\\\\\\"defaultValue\\\\\\\\\\\\\\\": null, \\\\\\\\\\\\\\\"initializeFromProperty\\\\\\\\\\\\\\\": null, \\\\\\\\\\\\\\\"telemetryStrategy\\\\\\\\\\\\\\\": 2, \\\\\\\\\\\\\\\"condition\\\\\\\\\\\\\\\": null, \\\\\\\\\\\\\\\"documentation\\\\\\\\\\\\\\\": \\\\\\\\\\\\\\\"The workspace the datastore belongs to.\\\\\\\\\\\\\\\", \\\\\\\\\\\\\\\"serializeWhenDefault\\\\\\\\\\\\\\\": true}, {\\\\\\\\\\\\\\\"name\\\\\\\\\\\\\\\": \\\\\\\\\\\\\\\"datastoreName\\\\\\\\\\\\\\\", \\\\\\\\\\\\\\\"type\\\\\\\\\\\\\\\": 1, \\\\\\\\\\\\\\\"multipleValues\\\\\\\\\\\\\\\": false, \\\\\\\\\\\\\\\"domain\\\\\\\\\\\\\\\": null, \\\\\\\\\\\\\\\"multiValueDetails\\\\\\\\\\\\\\\": null, \\\\\\\\\\\\\\\"isRequired\\\\\\\\\\\\\\\": true, \\\\\\\\\\\\\\\"origin\\\\\\\\\\\\\\\": 1, \\\\\\\\\\\\\\\"defaultValue\\\\\\\\\\\\\\\": null, \\\\\\\\\\\\\\\"initializeFromProperty\\\\\\\\\\\\\\\": null, \\\\\\\\\\\\\\\"telemetryStrategy\\\\\\\\\\\\\\\": 2, \\\\\\\\\\\\\\\"condition\\\\\\\\\\\\\\\": null, \\\\\\\\\\\\\\\"documentation\\\\\\\\\\\\\\\": \\\\\\\\\\\\\\\"The datastore to read the data from.\\\\\\\\\\\\\\\", \\\\\\\\\\\\\\\"serializeWhenDefault\\\\\\\\\\\\\\\": true}, {\\\\\\\\\\\\\\\"name\\\\\\\\\\\\\\\": \\\\\\\\\\\\\\\"path\\\\\\\\\\\\\\\", \\\\\\\\\\\\\\\"type\\\\\\\\\\\\\\\": 1, \\\\\\\\\\\\\\\"multipleValues\\\\\\\\\\\\\\\": false, \\\\\\\\\\\\\\\"domain\\\\\\\\\\\\\\\": null, \\\\\\\\\\\\\\\"multiValueDetails\\\\\\\\\\\\\\\": null, \\\\\\\\\\\\\\\"isRequired\\\\\\\\\\\\\\\": false, \\\\\\\\\\\\\\\"origin\\\\\\\\\\\\\\\": 1, \\\\\\\\\\\\\\\"defaultValue\\\\\\\\\\\\\\\": \\\\\\\\\\\\\\\"\\\\\\\\\\\\\\\", \\\\\\\\\\\\\\\"initializeFromProperty\\\\\\\\\\\\\\\": null, \\\\\\\\\\\\\\\"telemetryStrategy\\\\\\\\\\\\\\\": 2, \\\\\\\\\\\\\\\"condition\\\\\\\\\\\\\\\": null, \\\\\\\\\\\\\\\"documentation\\\\\\\\\\\\\\\": \\\\\\\\\\\\\\\"The path on the datastore.\\\\\\\\\\\\\\\", \\\\\\\\\\\\\\\"serializeWhenDefault\\\\\\\\\\\\\\\": true}]}, \\\\\\\\\\\\\\\"multiValueDetails\\\\\\\\\\\\\\\": {\\\\\\\\\\\\\\\"isOrdered\\\\\\\\\\\\\\\": false}, \\\\\\\\\\\\\\\"isRequired\\\\\\\\\\\\\\\": true, \\\\\\\\\\\\\\\"origin\\\\\\\\\\\\\\\": 1, \\\\\\\\\\\\\\\"defaultValue\\\\\\\\\\\\\\\": null, \\\\\\\\\\\\\\\"initializeFromProperty\\\\\\\\\\\\\\\": null, \\\\\\\\\\\\\\\"telemetryStrategy\\\\\\\\\\\\\\\": 0, \\\\\\\\\\\\\\\"condition\\\\\\\\\\\\\\\": null, \\\\\\\\\\\\\\\"documentation\\\\\\\\\\\\\\\": \\\\\\\\\\\\\\\"Properties uniquely identifying a datastore.\\\\\\\\\\\\\\\", \\\\\\\\\\\\\\\"serializeWhenDefault\\\\\\\\\\\\\\\": true}], \\\\\\\\\\\\\\\"dataEffectDetails\\\\\\\\\\\\\\\": {\\\\\\\\\\\\\\\"dataEffect\\\\\\\\\\\\\\\": 9}}, \\\\\\\\\\\\\\\"type\\\\\\\\\\\\\\\": \\\\\\\\\\\\\\\"Microsoft.DPrep.GetDatastoreFilesBlock\\\\\\\\\\\\\\\", \\\\\\\\\\\\\\\"dataEffectDetails\\\\\\\\\\\\\\\": {\\\\\\\\\\\\\\\"dataEffect\\\\\\\\\\\\\\\": 9}, \\\\\\\\\\\\\\\"propertyDescriptions\\\\\\\\\\\\\\\": [{\\\\\\\\\\\\\\\"name\\\\\\\\\\\\\\\": \\\\\\\\\\\\\\\"datastores\\\\\\\\\\\\\\\", \\\\\\\\\\\\\\\"type\\\\\\\\\\\\\\\": 7, \\\\\\\\\\\\\\\"multipleValues\\\\\\\\\\\\\\\": true, \\\\\\\\\\\\\\\"domain\\\\\\\\\\\\\\\": {\\\\\\\\\\\\\\\"type\\\\\\\\\\\\\\\": 0, \\\\\\\\\\\\\\\"details\\\\\\\\\\\\\\\": [{\\\\\\\\\\\\\\\"name\\\\\\\\\\\\\\\": \\\\\\\\\\\\\\\"subscription\\\\\\\\\\\\\\\", \\\\\\\\\\\\\\\"type\\\\\\\\\\\\\\\": 1, \\\\\\\\\\\\\\\"multipleValues\\\\\\\\\\\\\\\": false, \\\\\\\\\\\\\\\"domain\\\\\\\\\\\\\\\": null, \\\\\\\\\\\\\\\"multiValueDetails\\\\\\\\\\\\\\\": null, \\\\\\\\\\\\\\\"isRequired\\\\\\\\\\\\\\\": true, \\\\\\\\\\\\\\\"origin\\\\\\\\\\\\\\\": 1, \\\\\\\\\\\\\\\"defaultValue\\\\\\\\\\\\\\\": null, \\\\\\\\\\\\\\\"initializeFromProperty\\\\\\\\\\\\\\\": null, \\\\\\\\\\\\\\\"telemetryStrategy\\\\\\\\\\\\\\\": 0, \\\\\\\\\\\\\\\"condition\\\\\\\\\\\\\\\": null, \\\\\\\\\\\\\\\"documentation\\\\\\\\\\\\\\\": \\\\\\\\\\\\\\\"The subscription the workspace belongs to.\\\\\\\\\\\\\\\", \\\\\\\\\\\\\\\"serializeWhenDefault\\\\\\\\\\\\\\\": true}, {\\\\\\\\\\\\\\\"name\\\\\\\\\\\\\\\": \\\\\\\\\\\\\\\"resourceGroup\\\\\\\\\\\\\\\", \\\\\\\\\\\\\\\"type\\\\\\\\\\\\\\\": 1, \\\\\\\\\\\\\\\"multipleValues\\\\\\\\\\\\\\\": false, \\\\\\\\\\\\\\\"domain\\\\\\\\\\\\\\\": null, \\\\\\\\\\\\\\\"multiValueDetails\\\\\\\\\\\\\\\": null, \\\\\\\\\\\\\\\"isRequired\\\\\\\\\\\\\\\": true, \\\\\\\\\\\\\\\"origin\\\\\\\\\\\\\\\": 1, \\\\\\\\\\\\\\\"defaultValue\\\\\\\\\\\\\\\": null, \\\\\\\\\\\\\\\"initializeFromProperty\\\\\\\\\\\\\\\": null, \\\\\\\\\\\\\\\"telemetryStrategy\\\\\\\\\\\\\\\": 2, \\\\\\\\\\\\\\\"condition\\\\\\\\\\\\\\\": null, \\\\\\\\\\\\\\\"documentation\\\\\\\\\\\\\\\": \\\\\\\\\\\\\\\"The resource group the workspace belongs to.\\\\\\\\\\\\\\\", \\\\\\\\\\\\\\\"serializeWhenDefault\\\\\\\\\\\\\\\": true}, {\\\\\\\\\\\\\\\"name\\\\\\\\\\\\\\\": \\\\\\\\\\\\\\\"workspaceName\\\\\\\\\\\\\\\", \\\\\\\\\\\\\\\"type\\\\\\\\\\\\\\\": 1, \\\\\\\\\\\\\\\"multipleValues\\\\\\\\\\\\\\\": false, \\\\\\\\\\\\\\\"domain\\\\\\\\\\\\\\\": null, \\\\\\\\\\\\\\\"multiValueDetails\\\\\\\\\\\\\\\": null, \\\\\\\\\\\\\\\"isRequired\\\\\\\\\\\\\\\": true, \\\\\\\\\\\\\\\"origin\\\\\\\\\\\\\\\": 1, \\\\\\\\\\\\\\\"defaultValue\\\\\\\\\\\\\\\": null, \\\\\\\\\\\\\\\"initializeFromProperty\\\\\\\\\\\\\\\": null, \\\\\\\\\\\\\\\"telemetryStrategy\\\\\\\\\\\\\\\": 2, \\\\\\\\\\\\\\\"condition\\\\\\\\\\\\\\\": null, \\\\\\\\\\\\\\\"documentation\\\\\\\\\\\\\\\": \\\\\\\\\\\\\\\"The workspace the datastore belongs to.\\\\\\\\\\\\\\\", \\\\\\\\\\\\\\\"serializeWhenDefault\\\\\\\\\\\\\\\": true}, {\\\\\\\\\\\\\\\"name\\\\\\\\\\\\\\\": \\\\\\\\\\\\\\\"datastoreName\\\\\\\\\\\\\\\", \\\\\\\\\\\\\\\"type\\\\\\\\\\\\\\\": 1, \\\\\\\\\\\\\\\"multipleValues\\\\\\\\\\\\\\\": false, \\\\\\\\\\\\\\\"domain\\\\\\\\\\\\\\\": null, \\\\\\\\\\\\\\\"multiValueDetails\\\\\\\\\\\\\\\": null, \\\\\\\\\\\\\\\"isRequired\\\\\\\\\\\\\\\": true, \\\\\\\\\\\\\\\"origin\\\\\\\\\\\\\\\": 1, \\\\\\\\\\\\\\\"defaultValue\\\\\\\\\\\\\\\": null, \\\\\\\\\\\\\\\"initializeFromProperty\\\\\\\\\\\\\\\": null, \\\\\\\\\\\\\\\"telemetryStrategy\\\\\\\\\\\\\\\": 2, \\\\\\\\\\\\\\\"condition\\\\\\\\\\\\\\\": null, \\\\\\\\\\\\\\\"documentation\\\\\\\\\\\\\\\": \\\\\\\\\\\\\\\"The datastore to read the data from.\\\\\\\\\\\\\\\", \\\\\\\\\\\\\\\"serializeWhenDefault\\\\\\\\\\\\\\\": true}, {\\\\\\\\\\\\\\\"name\\\\\\\\\\\\\\\": \\\\\\\\\\\\\\\"path\\\\\\\\\\\\\\\", \\\\\\\\\\\\\\\"type\\\\\\\\\\\\\\\": 1, \\\\\\\\\\\\\\\"multipleValues\\\\\\\\\\\\\\\": false, \\\\\\\\\\\\\\\"domain\\\\\\\\\\\\\\\": null, \\\\\\\\\\\\\\\"multiValueDetails\\\\\\\\\\\\\\\": null, \\\\\\\\\\\\\\\"isRequired\\\\\\\\\\\\\\\": false, \\\\\\\\\\\\\\\"origin\\\\\\\\\\\\\\\": 1, \\\\\\\\\\\\\\\"defaultValue\\\\\\\\\\\\\\\": \\\\\\\\\\\\\\\"\\\\\\\\\\\\\\\", \\\\\\\\\\\\\\\"initializeFromProperty\\\\\\\\\\\\\\\": null, \\\\\\\\\\\\\\\"telemetryStrategy\\\\\\\\\\\\\\\": 2, \\\\\\\\\\\\\\\"condition\\\\\\\\\\\\\\\": null, \\\\\\\\\\\\\\\"documentation\\\\\\\\\\\\\\\": \\\\\\\\\\\\\\\"The path on the datastore.\\\\\\\\\\\\\\\", \\\\\\\\\\\\\\\"serializeWhenDefault\\\\\\\\\\\\\\\": true}]}, \\\\\\\\\\\\\\\"multiValueDetails\\\\\\\\\\\\\\\": {\\\\\\\\\\\\\\\"isOrdered\\\\\\\\\\\\\\\": false}, \\\\\\\\\\\\\\\"isRequired\\\\\\\\\\\\\\\": true, \\\\\\\\\\\\\\\"origin\\\\\\\\\\\\\\\": 1, \\\\\\\\\\\\\\\"defaultValue\\\\\\\\\\\\\\\": null, \\\\\\\\\\\\\\\"initializeFromProperty\\\\\\\\\\\\\\\": null, \\\\\\\\\\\\\\\"telemetryStrategy\\\\\\\\\\\\\\\": 0, \\\\\\\\\\\\\\\"condition\\\\\\\\\\\\\\\": null, \\\\\\\\\\\\\\\"documentation\\\\\\\\\\\\\\\": \\\\\\\\\\\\\\\"Properties uniquely identifying a datastore.\\\\\\\\\\\\\\\", \\\\\\\\\\\\\\\"serializeWhenDefault\\\\\\\\\\\\\\\": true}], \\\\\\\\\\\\\\\"arguments\\\\\\\\\\\\\\\": {\\\\\\\\\\\\\\\"datastores\\\\\\\\\\\\\\\": [{\\\\\\\\\\\\\\\"datastoreName\\\\\\\\\\\\\\\": \\\\\\\\\\\\\\\"workspaceblobstore\\\\\\\\\\\\\\\", \\\\\\\\\\\\\\\"path\\\\\\\\\\\\\\\": \\\\\\\\\\\\\\\"titanic-data/train.csv\\\\\\\\\\\\\\\", \\\\\\\\\\\\\\\"resourceGroup\\\\\\\\\\\\\\\": \\\\\\\\\\\\\\\"jt-dp100-ressources\\\\\\\\\\\\\\\", \\\\\\\\\\\\\\\"subscription\\\\\\\\\\\\\\\": \\\\\\\\\\\\\\\"9114a63e-9210-4e32-97ca-b7d9e8ac403d\\\\\\\\\\\\\\\", \\\\\\\\\\\\\\\"workspaceName\\\\\\\\\\\\\\\": \\\\\\\\\\\\\\\"jt-dp100\\\\\\\\\\\\\\\"}]}}, {\\\\\\\\\\\\\\\"id\\\\\\\\\\\\\\\": \\\\\\\\\\\\\\\"1e2320f8-f211-42fa-a42b-ea40aca45d3d\\\\\\\\\\\\\\\", \\\\\\\\\\\\\\\"description\\\\\\\\\\\\\\\": {\\\\\\\\\\\\\\\"localDataProperties\\\\\\\\\\\\\\\": [], \\\\\\\\\\\\\\\"blockGroup\\\\\\\\\\\\\\\": 0, \\\\\\\\\\\\\\\"supportedTargets\\\\\\\\\\\\\\\": [5], \\\\\\\\\\\\\\\"supportedFieldTypes\\\\\\\\\\\\\\\": null, \\\\\\\\\\\\\\\"supportedMessages\\\\\\\\\\\\\\\": [], \\\\\\\\\\\\\\\"requiresInitialization\\\\\\\\\\\\\\\": false, \\\\\\\\\\\\\\\"allowDefaultAdd\\\\\\\\\\\\\\\": true, \\\\\\\\\\\\\\\"documentation\\\\\\\\\\\\\\\": null, \\\\\\\\\\\\\\\"type\\\\\\\\\\\\\\\": \\\\\\\\\\\\\\\"Microsoft.DPrep.ParseDelimitedBlock\\\\\\\\\\\\\\\", \\\\\\\\\\\\\\\"propertyDescriptions\\\\\\\\\\\\\\\": [{\\\\\\\\\\\\\\\"name\\\\\\\\\\\\\\\": \\\\\\\\\\\\\\\"maxRows\\\\\\\\\\\\\\\", \\\\\\\\\\\\\\\"type\\\\\\\\\\\\\\\": 2, \\\\\\\\\\\\\\\"multipleValues\\\\\\\\\\\\\\\": false, \\\\\\\\\\\\\\\"domain\\\\\\\\\\\\\\\": null, \\\\\\\\\\\\\\\"multiValueDetails\\\\\\\\\\\\\\\": null, \\\\\\\\\\\\\\\"isRequired\\\\\\\\\\\\\\\": false, \\\\\\\\\\\\\\\"origin\\\\\\\\\\\\\\\": 2, \\\\\\\\\\\\\\\"defaultValue\\\\\\\\\\\\\\\": null, \\\\\\\\\\\\\\\"initializeFromProperty\\\\\\\\\\\\\\\": null, \\\\\\\\\\\\\\\"telemetryStrategy\\\\\\\\\\\\\\\": 0, \\\\\\\\\\\\\\\"condition\\\\\\\\\\\\\\\": null, \\\\\\\\\\\\\\\"documentation\\\\\\\\\\\\\\\": null, \\\\\\\\\\\\\\\"serializeWhenDefault\\\\\\\\\\\\\\\": true}, {\\\\\\\\\\\\\\\"name\\\\\\\\\\\\\\\": \\\\\\\\\\\\\\\"preview\\\\\\\\\\\\\\\", \\\\\\\\\\\\\\\"type\\\\\\\\\\\\\\\": 4, \\\\\\\\\\\\\\\"multipleValues\\\\\\\\\\\\\\\": false, \\\\\\\\\\\\\\\"domain\\\\\\\\\\\\\\\": null, \\\\\\\\\\\\\\\"multiValueDetails\\\\\\\\\\\\\\\": null, \\\\\\\\\\\\\\\"isRequired\\\\\\\\\\\\\\\": false, \\\\\\\\\\\\\\\"origin\\\\\\\\\\\\\\\": 2, \\\\\\\\\\\\\\\"defaultValue\\\\\\\\\\\\\\\": false, \\\\\\\\\\\\\\\"initializeFromProperty\\\\\\\\\\\\\\\": null, \\\\\\\\\\\\\\\"telemetryStrategy\\\\\\\\\\\\\\\": 0, \\\\\\\\\\\\\\\"condition\\\\\\\\\\\\\\\": null, \\\\\\\\\\\\\\\"documentation\\\\\\\\\\\\\\\": null, \\\\\\\\\\\\\\\"serializeWhenDefault\\\\\\\\\\\\\\\": true}, {\\\\\\\\\\\\\\\"name\\\\\\\\\\\\\\\": \\\\\\\\\\\\\\\"columnHeadersMode\\\\\\\\\\\\\\\", \\\\\\\\\\\\\\\"type\\\\\\\\\\\\\\\": 6, \\\\\\\\\\\\\\\"multipleValues\\\\\\\\\\\\\\\": false, \\\\\\\\\\\\\\\"domain\\\\\\\\\\\\\\\": {\\\\\\\\\\\\\\\"type\\\\\\\\\\\\\\\": 1, \\\\\\\\\\\\\\\"details\\\\\\\\\\\\\\\": {\\\\\\\\\\\\\\\"enumName\\\\\\\\\\\\\\\": \\\\\\\\\\\\\\\"PromoteHeadersMode\\\\\\\\\\\\\\\", \\\\\\\\\\\\\\\"enumType\\\\\\\\\\\\\\\": \\\\\\\\\\\\\\\"Microsoft.DPrep.Engine.PromoteHeadersMode, Microsoft.DPrep.EngineAPI, Version=0.1.2009.11013, Culture=neutral, PublicKeyToken=null\\\\\\\\\\\\\\\", \\\\\\\\\\\\\\\"enumValues\\\\\\\\\\\\\\\": [0, 1, 1, 2, 2, 3, 3]}}, \\\\\\\\\\\\\\\"multiValueDetails\\\\\\\\\\\\\\\": null, \\\\\\\\\\\\\\\"isRequired\\\\\\\\\\\\\\\": true, \\\\\\\\\\\\\\\"origin\\\\\\\\\\\\\\\": 1, \\\\\\\\\\\\\\\"defaultValue\\\\\\\\\\\\\\\": 1, \\\\\\\\\\\\\\\"initializeFromProperty\\\\\\\\\\\\\\\": null, \\\\\\\\\\\\\\\"telemetryStrategy\\\\\\\\\\\\\\\": 0, \\\\\\\\\\\\\\\"condition\\\\\\\\\\\\\\\": null, \\\\\\\\\\\\\\\"documentation\\\\\\\\\\\\\\\": null, \\\\\\\\\\\\\\\"serializeWhenDefault\\\\\\\\\\\\\\\": true}, {\\\\\\\\\\\\\\\"name\\\\\\\\\\\\\\\": \\\\\\\\\\\\\\\"separator\\\\\\\\\\\\\\\", \\\\\\\\\\\\\\\"type\\\\\\\\\\\\\\\": 0, \\\\\\\\\\\\\\\"multipleValues\\\\\\\\\\\\\\\": false, \\\\\\\\\\\\\\\"domain\\\\\\\\\\\\\\\": {\\\\\\\\\\\\\\\"type\\\\\\\\\\\\\\\": 6, \\\\\\\\\\\\\\\"details\\\\\\\\\\\\\\\": {\\\\\\\\\\\\\\\"values\\\\\\\\\\\\\\\": [{\\\\\\\\\\\\\\\"value\\\\\\\\\\\\\\\": \\\\\\\\\\\\\\\",\\\\\\\\\\\\\\\", \\\\\\\\\\\\\\\"id\\\\\\\\\\\\\\\": 0}, {\\\\\\\\\\\\\\\"value\\\\\\\\\\\\\\\": \\\\\\\\\\\\\\\"\\\\\\\\\\\\\\\\t\\\\\\\\\\\\\\\", \\\\\\\\\\\\\\\"id\\\\\\\\\\\\\\\": 1}, {\\\\\\\\\\\\\\\"value\\\\\\\\\\\\\\\": \\\\\\\\\\\\\\\":\\\\\\\\\\\\\\\", \\\\\\\\\\\\\\\"id\\\\\\\\\\\\\\\": 2}, {\\\\\\\\\\\\\\\"value\\\\\\\\\\\\\\\": \\\\\\\\\\\\\\\";\\\\\\\\\\\\\\\", \\\\\\\\\\\\\\\"id\\\\\\\\\\\\\\\": 3}, {\\\\\\\\\\\\\\\"value\\\\\\\\\\\\\\\": \\\\\\\\\\\\\\\" \\\\\\\\\\\\\\\", \\\\\\\\\\\\\\\"id\\\\\\\\\\\\\\\": 5}, {\\\\\\\\\\\\\\\"value\\\\\\\\\\\\\\\": \\\\\\\\\\\\\\\"=\\\\\\\\\\\\\\\", \\\\\\\\\\\\\\\"id\\\\\\\\\\\\\\\": 4}, {\\\\\\\\\\\\\\\"value\\\\\\\\\\\\\\\": \\\\\\\\\\\\\\\"\\\\\\\\\\\\\\\\u2014\\\\\\\\\\\\\\\", \\\\\\\\\\\\\\\"id\\\\\\\\\\\\\\\": 7}], \\\\\\\\\\\\\\\"allowCustom\\\\\\\\\\\\\\\": true, \\\\\\\\\\\\\\\"customEnumValue\\\\\\\\\\\\\\\": 6}}, \\\\\\\\\\\\\\\"multiValueDetails\\\\\\\\\\\\\\\": null, \\\\\\\\\\\\\\\"isRequired\\\\\\\\\\\\\\\": true, \\\\\\\\\\\\\\\"origin\\\\\\\\\\\\\\\": 1, \\\\\\\\\\\\\\\"defaultValue\\\\\\\\\\\\\\\": \\\\\\\\\\\\\\\",\\\\\\\\\\\\\\\", \\\\\\\\\\\\\\\"initializeFromProperty\\\\\\\\\\\\\\\": null, \\\\\\\\\\\\\\\"telemetryStrategy\\\\\\\\\\\\\\\": 0, \\\\\\\\\\\\\\\"condition\\\\\\\\\\\\\\\": null, \\\\\\\\\\\\\\\"documentation\\\\\\\\\\\\\\\": null, \\\\\\\\\\\\\\\"serializeWhenDefault\\\\\\\\\\\\\\\": true}, {\\\\\\\\\\\\\\\"name\\\\\\\\\\\\\\\": \\\\\\\\\\\\\\\"commentLineCharacter\\\\\\\\\\\\\\\", \\\\\\\\\\\\\\\"type\\\\\\\\\\\\\\\": 0, \\\\\\\\\\\\\\\"multipleValues\\\\\\\\\\\\\\\": false, \\\\\\\\\\\\\\\"domain\\\\\\\\\\\\\\\": null, \\\\\\\\\\\\\\\"multiValueDetails\\\\\\\\\\\\\\\": null, \\\\\\\\\\\\\\\"isRequired\\\\\\\\\\\\\\\": false, \\\\\\\\\\\\\\\"origin\\\\\\\\\\\\\\\": 1, \\\\\\\\\\\\\\\"defaultValue\\\\\\\\\\\\\\\": null, \\\\\\\\\\\\\\\"initializeFromProperty\\\\\\\\\\\\\\\": null, \\\\\\\\\\\\\\\"telemetryStrategy\\\\\\\\\\\\\\\": 0, \\\\\\\\\\\\\\\"condition\\\\\\\\\\\\\\\": null, \\\\\\\\\\\\\\\"documentation\\\\\\\\\\\\\\\": null, \\\\\\\\\\\\\\\"serializeWhenDefault\\\\\\\\\\\\\\\": true}, {\\\\\\\\\\\\\\\"name\\\\\\\\\\\\\\\": \\\\\\\\\\\\\\\"fileEncoding\\\\\\\\\\\\\\\", \\\\\\\\\\\\\\\"type\\\\\\\\\\\\\\\": 6, \\\\\\\\\\\\\\\"multipleValues\\\\\\\\\\\\\\\": false, \\\\\\\\\\\\\\\"domain\\\\\\\\\\\\\\\": {\\\\\\\\\\\\\\\"type\\\\\\\\\\\\\\\": 1, \\\\\\\\\\\\\\\"details\\\\\\\\\\\\\\\": {\\\\\\\\\\\\\\\"enumName\\\\\\\\\\\\\\\": \\\\\\\\\\\\\\\"FileEncoding\\\\\\\\\\\\\\\", \\\\\\\\\\\\\\\"enumType\\\\\\\\\\\\\\\": \\\\\\\\\\\\\\\"Microsoft.DPrep.Engine.FileEncoding, Microsoft.DPrep.EngineAPI, Version=0.1.2009.11013, Culture=neutral, PublicKeyToken=null\\\\\\\\\\\\\\\", \\\\\\\\\\\\\\\"enumValues\\\\\\\\\\\\\\\": [0, 1, 2, 3, 4, 5, 6, 7]}}, \\\\\\\\\\\\\\\"multiValueDetails\\\\\\\\\\\\\\\": null, \\\\\\\\\\\\\\\"isRequired\\\\\\\\\\\\\\\": true, \\\\\\\\\\\\\\\"origin\\\\\\\\\\\\\\\": 1, \\\\\\\\\\\\\\\"defaultValue\\\\\\\\\\\\\\\": 0, \\\\\\\\\\\\\\\"initializeFromProperty\\\\\\\\\\\\\\\": null, \\\\\\\\\\\\\\\"telemetryStrategy\\\\\\\\\\\\\\\": 0, \\\\\\\\\\\\\\\"condition\\\\\\\\\\\\\\\": null, \\\\\\\\\\\\\\\"documentation\\\\\\\\\\\\\\\": null, \\\\\\\\\\\\\\\"serializeWhenDefault\\\\\\\\\\\\\\\": true}, {\\\\\\\\\\\\\\\"name\\\\\\\\\\\\\\\": \\\\\\\\\\\\\\\"skipRowsMode\\\\\\\\\\\\\\\", \\\\\\\\\\\\\\\"type\\\\\\\\\\\\\\\": 6, \\\\\\\\\\\\\\\"multipleValues\\\\\\\\\\\\\\\": false, \\\\\\\\\\\\\\\"domain\\\\\\\\\\\\\\\": {\\\\\\\\\\\\\\\"type\\\\\\\\\\\\\\\": 1, \\\\\\\\\\\\\\\"details\\\\\\\\\\\\\\\": {\\\\\\\\\\\\\\\"enumName\\\\\\\\\\\\\\\": \\\\\\\\\\\\\\\"SkipMode\\\\\\\\\\\\\\\", \\\\\\\\\\\\\\\"enumType\\\\\\\\\\\\\\\": \\\\\\\\\\\\\\\"Microsoft.DPrep.Engine.SkipMode, Microsoft.DPrep.EngineAPI, Version=0.1.2009.11013, Culture=neutral, PublicKeyToken=null\\\\\\\\\\\\\\\", \\\\\\\\\\\\\\\"enumValues\\\\\\\\\\\\\\\": [0, 1, 1, 2, 2]}}, \\\\\\\\\\\\\\\"multiValueDetails\\\\\\\\\\\\\\\": null, \\\\\\\\\\\\\\\"isRequired\\\\\\\\\\\\\\\": true, \\\\\\\\\\\\\\\"origin\\\\\\\\\\\\\\\": 1, \\\\\\\\\\\\\\\"defaultValue\\\\\\\\\\\\\\\": 0, \\\\\\\\\\\\\\\"initializeFromProperty\\\\\\\\\\\\\\\": null, \\\\\\\\\\\\\\\"telemetryStrategy\\\\\\\\\\\\\\\": 0, \\\\\\\\\\\\\\\"condition\\\\\\\\\\\\\\\": null, \\\\\\\\\\\\\\\"documentation\\\\\\\\\\\\\\\": null, \\\\\\\\\\\\\\\"serializeWhenDefault\\\\\\\\\\\\\\\": true}, {\\\\\\\\\\\\\\\"name\\\\\\\\\\\\\\\": \\\\\\\\\\\\\\\"skipRows\\\\\\\\\\\\\\\", \\\\\\\\\\\\\\\"type\\\\\\\\\\\\\\\": 2, \\\\\\\\\\\\\\\"multipleValues\\\\\\\\\\\\\\\": false, \\\\\\\\\\\\\\\"domain\\\\\\\\\\\\\\\": {\\\\\\\\\\\\\\\"type\\\\\\\\\\\\\\\": 4, \\\\\\\\\\\\\\\"details\\\\\\\\\\\\\\\": {\\\\\\\\\\\\\\\"min\\\\\\\\\\\\\\\": 0.0, \\\\\\\\\\\\\\\"max\\\\\\\\\\\\\\\": 1.7976931348623157e+308}}, \\\\\\\\\\\\\\\"multiValueDetails\\\\\\\\\\\\\\\": null, \\\\\\\\\\\\\\\"isRequired\\\\\\\\\\\\\\\": false, \\\\\\\\\\\\\\\"origin\\\\\\\\\\\\\\\": 1, \\\\\\\\\\\\\\\"defaultValue\\\\\\\\\\\\\\\": null, \\\\\\\\\\\\\\\"initializeFromProperty\\\\\\\\\\\\\\\": null, \\\\\\\\\\\\\\\"telemetryStrategy\\\\\\\\\\\\\\\": 0, \\\\\\\\\\\\\\\"condition\\\\\\\\\\\\\\\": {\\\\\\\\\\\\\\\"condition\\\\\\\\\\\\\\\": {\\\\\\\\\\\\\\\"property\\\\\\\\\\\\\\\": {\\\\\\\\\\\\\\\"propertyPath\\\\\\\\\\\\\\\": [\\\\\\\\\\\\\\\"skipRowsMode\\\\\\\\\\\\\\\"]}, \\\\\\\\\\\\\\\"comparison\\\\\\\\\\\\\\\": 1, \\\\\\\\\\\\\\\"value\\\\\\\\\\\\\\\": 0}, \\\\\\\\\\\\\\\"aggregate\\\\\\\\\\\\\\\": null}, \\\\\\\\\\\\\\\"documentation\\\\\\\\\\\\\\\": null, \\\\\\\\\\\\\\\"serializeWhenDefault\\\\\\\\\\\\\\\": true}, {\\\\\\\\\\\\\\\"name\\\\\\\\\\\\\\\": \\\\\\\\\\\\\\\"handleQuotedLineBreaks\\\\\\\\\\\\\\\", \\\\\\\\\\\\\\\"type\\\\\\\\\\\\\\\": 4, \\\\\\\\\\\\\\\"multipleValues\\\\\\\\\\\\\\\": false, \\\\\\\\\\\\\\\"domain\\\\\\\\\\\\\\\": null, \\\\\\\\\\\\\\\"multiValueDetails\\\\\\\\\\\\\\\": null, \\\\\\\\\\\\\\\"isRequired\\\\\\\\\\\\\\\": true, \\\\\\\\\\\\\\\"origin\\\\\\\\\\\\\\\": 1, \\\\\\\\\\\\\\\"defaultValue\\\\\\\\\\\\\\\": false, \\\\\\\\\\\\\\\"initializeFromProperty\\\\\\\\\\\\\\\": null, \\\\\\\\\\\\\\\"telemetryStrategy\\\\\\\\\\\\\\\": 0, \\\\\\\\\\\\\\\"condition\\\\\\\\\\\\\\\": null, \\\\\\\\\\\\\\\"documentation\\\\\\\\\\\\\\\": null, \\\\\\\\\\\\\\\"serializeWhenDefault\\\\\\\\\\\\\\\": true}, {\\\\\\\\\\\\\\\"name\\\\\\\\\\\\\\\": \\\\\\\\\\\\\\\"partitionSize\\\\\\\\\\\\\\\", \\\\\\\\\\\\\\\"type\\\\\\\\\\\\\\\": 2, \\\\\\\\\\\\\\\"multipleValues\\\\\\\\\\\\\\\": false, \\\\\\\\\\\\\\\"domain\\\\\\\\\\\\\\\": null, \\\\\\\\\\\\\\\"multiValueDetails\\\\\\\\\\\\\\\": null, \\\\\\\\\\\\\\\"isRequired\\\\\\\\\\\\\\\": false, \\\\\\\\\\\\\\\"origin\\\\\\\\\\\\\\\": 1, \\\\\\\\\\\\\\\"defaultValue\\\\\\\\\\\\\\\": null, \\\\\\\\\\\\\\\"initializeFromProperty\\\\\\\\\\\\\\\": null, \\\\\\\\\\\\\\\"telemetryStrategy\\\\\\\\\\\\\\\": 0, \\\\\\\\\\\\\\\"condition\\\\\\\\\\\\\\\": null, \\\\\\\\\\\\\\\"documentation\\\\\\\\\\\\\\\": null, \\\\\\\\\\\\\\\"serializeWhenDefault\\\\\\\\\\\\\\\": true}, {\\\\\\\\\\\\\\\"name\\\\\\\\\\\\\\\": \\\\\\\\\\\\\\\"emptyAsString\\\\\\\\\\\\\\\", \\\\\\\\\\\\\\\"type\\\\\\\\\\\\\\\": 4, \\\\\\\\\\\\\\\"multipleValues\\\\\\\\\\\\\\\": false, \\\\\\\\\\\\\\\"domain\\\\\\\\\\\\\\\": null, \\\\\\\\\\\\\\\"multiValueDetails\\\\\\\\\\\\\\\": null, \\\\\\\\\\\\\\\"isRequired\\\\\\\\\\\\\\\": false, \\\\\\\\\\\\\\\"origin\\\\\\\\\\\\\\\": 1, \\\\\\\\\\\\\\\"defaultValue\\\\\\\\\\\\\\\": false, \\\\\\\\\\\\\\\"initializeFromProperty\\\\\\\\\\\\\\\": null, \\\\\\\\\\\\\\\"telemetryStrategy\\\\\\\\\\\\\\\": 0, \\\\\\\\\\\\\\\"condition\\\\\\\\\\\\\\\": null, \\\\\\\\\\\\\\\"documentation\\\\\\\\\\\\\\\": null, \\\\\\\\\\\\\\\"serializeWhenDefault\\\\\\\\\\\\\\\": false}], \\\\\\\\\\\\\\\"dataEffectDetails\\\\\\\\\\\\\\\": {\\\\\\\\\\\\\\\"dataEffect\\\\\\\\\\\\\\\": 1}}, \\\\\\\\\\\\\\\"type\\\\\\\\\\\\\\\": \\\\\\\\\\\\\\\"Microsoft.DPrep.ParseDelimitedBlock\\\\\\\\\\\\\\\", \\\\\\\\\\\\\\\"dataEffectDetails\\\\\\\\\\\\\\\": {\\\\\\\\\\\\\\\"dataEffect\\\\\\\\\\\\\\\": 1}, \\\\\\\\\\\\\\\"propertyDescriptions\\\\\\\\\\\\\\\": [{\\\\\\\\\\\\\\\"name\\\\\\\\\\\\\\\": \\\\\\\\\\\\\\\"maxRows\\\\\\\\\\\\\\\", \\\\\\\\\\\\\\\"type\\\\\\\\\\\\\\\": 2, \\\\\\\\\\\\\\\"multipleValues\\\\\\\\\\\\\\\": false, \\\\\\\\\\\\\\\"domain\\\\\\\\\\\\\\\": null, \\\\\\\\\\\\\\\"multiValueDetails\\\\\\\\\\\\\\\": null, \\\\\\\\\\\\\\\"isRequired\\\\\\\\\\\\\\\": false, \\\\\\\\\\\\\\\"origin\\\\\\\\\\\\\\\": 2, \\\\\\\\\\\\\\\"defaultValue\\\\\\\\\\\\\\\": null, \\\\\\\\\\\\\\\"initializeFromProperty\\\\\\\\\\\\\\\": null, \\\\\\\\\\\\\\\"telemetryStrategy\\\\\\\\\\\\\\\": 0, \\\\\\\\\\\\\\\"condition\\\\\\\\\\\\\\\": null, \\\\\\\\\\\\\\\"documentation\\\\\\\\\\\\\\\": null, \\\\\\\\\\\\\\\"serializeWhenDefault\\\\\\\\\\\\\\\": true}, {\\\\\\\\\\\\\\\"name\\\\\\\\\\\\\\\": \\\\\\\\\\\\\\\"preview\\\\\\\\\\\\\\\", \\\\\\\\\\\\\\\"type\\\\\\\\\\\\\\\": 4, \\\\\\\\\\\\\\\"multipleValues\\\\\\\\\\\\\\\": false, \\\\\\\\\\\\\\\"domain\\\\\\\\\\\\\\\": null, \\\\\\\\\\\\\\\"multiValueDetails\\\\\\\\\\\\\\\": null, \\\\\\\\\\\\\\\"isRequired\\\\\\\\\\\\\\\": false, \\\\\\\\\\\\\\\"origin\\\\\\\\\\\\\\\": 2, \\\\\\\\\\\\\\\"defaultValue\\\\\\\\\\\\\\\": false, \\\\\\\\\\\\\\\"initializeFromProperty\\\\\\\\\\\\\\\": null, \\\\\\\\\\\\\\\"telemetryStrategy\\\\\\\\\\\\\\\": 0, \\\\\\\\\\\\\\\"condition\\\\\\\\\\\\\\\": null, \\\\\\\\\\\\\\\"documentation\\\\\\\\\\\\\\\": null, \\\\\\\\\\\\\\\"serializeWhenDefault\\\\\\\\\\\\\\\": true}, {\\\\\\\\\\\\\\\"name\\\\\\\\\\\\\\\": \\\\\\\\\\\\\\\"columnHeadersMode\\\\\\\\\\\\\\\", \\\\\\\\\\\\\\\"type\\\\\\\\\\\\\\\": 6, \\\\\\\\\\\\\\\"multipleValues\\\\\\\\\\\\\\\": false, \\\\\\\\\\\\\\\"domain\\\\\\\\\\\\\\\": {\\\\\\\\\\\\\\\"type\\\\\\\\\\\\\\\": 1, \\\\\\\\\\\\\\\"details\\\\\\\\\\\\\\\": {\\\\\\\\\\\\\\\"enumName\\\\\\\\\\\\\\\": \\\\\\\\\\\\\\\"PromoteHeadersMode\\\\\\\\\\\\\\\", \\\\\\\\\\\\\\\"enumType\\\\\\\\\\\\\\\": \\\\\\\\\\\\\\\"Microsoft.DPrep.Engine.PromoteHeadersMode, Microsoft.DPrep.EngineAPI, Version=0.1.2009.11013, Culture=neutral, PublicKeyToken=null\\\\\\\\\\\\\\\", \\\\\\\\\\\\\\\"enumValues\\\\\\\\\\\\\\\": [0, 1, 1, 2, 2, 3, 3]}}, \\\\\\\\\\\\\\\"multiValueDetails\\\\\\\\\\\\\\\": null, \\\\\\\\\\\\\\\"isRequired\\\\\\\\\\\\\\\": true, \\\\\\\\\\\\\\\"origin\\\\\\\\\\\\\\\": 1, \\\\\\\\\\\\\\\"defaultValue\\\\\\\\\\\\\\\": 1, \\\\\\\\\\\\\\\"initializeFromProperty\\\\\\\\\\\\\\\": null, \\\\\\\\\\\\\\\"telemetryStrategy\\\\\\\\\\\\\\\": 0, \\\\\\\\\\\\\\\"condition\\\\\\\\\\\\\\\": null, \\\\\\\\\\\\\\\"documentation\\\\\\\\\\\\\\\": null, \\\\\\\\\\\\\\\"serializeWhenDefault\\\\\\\\\\\\\\\": true}, {\\\\\\\\\\\\\\\"name\\\\\\\\\\\\\\\": \\\\\\\\\\\\\\\"separator\\\\\\\\\\\\\\\", \\\\\\\\\\\\\\\"type\\\\\\\\\\\\\\\": 0, \\\\\\\\\\\\\\\"multipleValues\\\\\\\\\\\\\\\": false, \\\\\\\\\\\\\\\"domain\\\\\\\\\\\\\\\": {\\\\\\\\\\\\\\\"type\\\\\\\\\\\\\\\": 6, \\\\\\\\\\\\\\\"details\\\\\\\\\\\\\\\": {\\\\\\\\\\\\\\\"values\\\\\\\\\\\\\\\": [{\\\\\\\\\\\\\\\"value\\\\\\\\\\\\\\\": \\\\\\\\\\\\\\\",\\\\\\\\\\\\\\\", \\\\\\\\\\\\\\\"id\\\\\\\\\\\\\\\": 0}, {\\\\\\\\\\\\\\\"value\\\\\\\\\\\\\\\": \\\\\\\\\\\\\\\"\\\\\\\\\\\\\\\\t\\\\\\\\\\\\\\\", \\\\\\\\\\\\\\\"id\\\\\\\\\\\\\\\": 1}, {\\\\\\\\\\\\\\\"value\\\\\\\\\\\\\\\": \\\\\\\\\\\\\\\":\\\\\\\\\\\\\\\", \\\\\\\\\\\\\\\"id\\\\\\\\\\\\\\\": 2}, {\\\\\\\\\\\\\\\"value\\\\\\\\\\\\\\\": \\\\\\\\\\\\\\\";\\\\\\\\\\\\\\\", \\\\\\\\\\\\\\\"id\\\\\\\\\\\\\\\": 3}, {\\\\\\\\\\\\\\\"value\\\\\\\\\\\\\\\": \\\\\\\\\\\\\\\" \\\\\\\\\\\\\\\", \\\\\\\\\\\\\\\"id\\\\\\\\\\\\\\\": 5}, {\\\\\\\\\\\\\\\"value\\\\\\\\\\\\\\\": \\\\\\\\\\\\\\\"=\\\\\\\\\\\\\\\", \\\\\\\\\\\\\\\"id\\\\\\\\\\\\\\\": 4}, {\\\\\\\\\\\\\\\"value\\\\\\\\\\\\\\\": \\\\\\\\\\\\\\\"\\\\\\\\\\\\\\\\u2014\\\\\\\\\\\\\\\", \\\\\\\\\\\\\\\"id\\\\\\\\\\\\\\\": 7}], \\\\\\\\\\\\\\\"allowCustom\\\\\\\\\\\\\\\": true, \\\\\\\\\\\\\\\"customEnumValue\\\\\\\\\\\\\\\": 6}}, \\\\\\\\\\\\\\\"multiValueDetails\\\\\\\\\\\\\\\": null, \\\\\\\\\\\\\\\"isRequired\\\\\\\\\\\\\\\": true, \\\\\\\\\\\\\\\"origin\\\\\\\\\\\\\\\": 1, \\\\\\\\\\\\\\\"defaultValue\\\\\\\\\\\\\\\": \\\\\\\\\\\\\\\",\\\\\\\\\\\\\\\", \\\\\\\\\\\\\\\"initializeFromProperty\\\\\\\\\\\\\\\": null, \\\\\\\\\\\\\\\"telemetryStrategy\\\\\\\\\\\\\\\": 0, \\\\\\\\\\\\\\\"condition\\\\\\\\\\\\\\\": null, \\\\\\\\\\\\\\\"documentation\\\\\\\\\\\\\\\": null, \\\\\\\\\\\\\\\"serializeWhenDefault\\\\\\\\\\\\\\\": true}, {\\\\\\\\\\\\\\\"name\\\\\\\\\\\\\\\": \\\\\\\\\\\\\\\"commentLineCharacter\\\\\\\\\\\\\\\", \\\\\\\\\\\\\\\"type\\\\\\\\\\\\\\\": 0, \\\\\\\\\\\\\\\"multipleValues\\\\\\\\\\\\\\\": false, \\\\\\\\\\\\\\\"domain\\\\\\\\\\\\\\\": null, \\\\\\\\\\\\\\\"multiValueDetails\\\\\\\\\\\\\\\": null, \\\\\\\\\\\\\\\"isRequired\\\\\\\\\\\\\\\": false, \\\\\\\\\\\\\\\"origin\\\\\\\\\\\\\\\": 1, \\\\\\\\\\\\\\\"defaultValue\\\\\\\\\\\\\\\": null, \\\\\\\\\\\\\\\"initializeFromProperty\\\\\\\\\\\\\\\": null, \\\\\\\\\\\\\\\"telemetryStrategy\\\\\\\\\\\\\\\": 0, \\\\\\\\\\\\\\\"condition\\\\\\\\\\\\\\\": null, \\\\\\\\\\\\\\\"documentation\\\\\\\\\\\\\\\": null, \\\\\\\\\\\\\\\"serializeWhenDefault\\\\\\\\\\\\\\\": true}, {\\\\\\\\\\\\\\\"name\\\\\\\\\\\\\\\": \\\\\\\\\\\\\\\"fileEncoding\\\\\\\\\\\\\\\", \\\\\\\\\\\\\\\"type\\\\\\\\\\\\\\\": 6, \\\\\\\\\\\\\\\"multipleValues\\\\\\\\\\\\\\\": false, \\\\\\\\\\\\\\\"domain\\\\\\\\\\\\\\\": {\\\\\\\\\\\\\\\"type\\\\\\\\\\\\\\\": 1, \\\\\\\\\\\\\\\"details\\\\\\\\\\\\\\\": {\\\\\\\\\\\\\\\"enumName\\\\\\\\\\\\\\\": \\\\\\\\\\\\\\\"FileEncoding\\\\\\\\\\\\\\\", \\\\\\\\\\\\\\\"enumType\\\\\\\\\\\\\\\": \\\\\\\\\\\\\\\"Microsoft.DPrep.Engine.FileEncoding, Microsoft.DPrep.EngineAPI, Version=0.1.2009.11013, Culture=neutral, PublicKeyToken=null\\\\\\\\\\\\\\\", \\\\\\\\\\\\\\\"enumValues\\\\\\\\\\\\\\\": [0, 1, 2, 3, 4, 5, 6, 7]}}, \\\\\\\\\\\\\\\"multiValueDetails\\\\\\\\\\\\\\\": null, \\\\\\\\\\\\\\\"isRequired\\\\\\\\\\\\\\\": true, \\\\\\\\\\\\\\\"origin\\\\\\\\\\\\\\\": 1, \\\\\\\\\\\\\\\"defaultValue\\\\\\\\\\\\\\\": 0, \\\\\\\\\\\\\\\"initializeFromProperty\\\\\\\\\\\\\\\": null, \\\\\\\\\\\\\\\"telemetryStrategy\\\\\\\\\\\\\\\": 0, \\\\\\\\\\\\\\\"condition\\\\\\\\\\\\\\\": null, \\\\\\\\\\\\\\\"documentation\\\\\\\\\\\\\\\": null, \\\\\\\\\\\\\\\"serializeWhenDefault\\\\\\\\\\\\\\\": true}, {\\\\\\\\\\\\\\\"name\\\\\\\\\\\\\\\": \\\\\\\\\\\\\\\"skipRowsMode\\\\\\\\\\\\\\\", \\\\\\\\\\\\\\\"type\\\\\\\\\\\\\\\": 6, \\\\\\\\\\\\\\\"multipleValues\\\\\\\\\\\\\\\": false, \\\\\\\\\\\\\\\"domain\\\\\\\\\\\\\\\": {\\\\\\\\\\\\\\\"type\\\\\\\\\\\\\\\": 1, \\\\\\\\\\\\\\\"details\\\\\\\\\\\\\\\": {\\\\\\\\\\\\\\\"enumName\\\\\\\\\\\\\\\": \\\\\\\\\\\\\\\"SkipMode\\\\\\\\\\\\\\\", \\\\\\\\\\\\\\\"enumType\\\\\\\\\\\\\\\": \\\\\\\\\\\\\\\"Microsoft.DPrep.Engine.SkipMode, Microsoft.DPrep.EngineAPI, Version=0.1.2009.11013, Culture=neutral, PublicKeyToken=null\\\\\\\\\\\\\\\", \\\\\\\\\\\\\\\"enumValues\\\\\\\\\\\\\\\": [0, 1, 1, 2, 2]}}, \\\\\\\\\\\\\\\"multiValueDetails\\\\\\\\\\\\\\\": null, \\\\\\\\\\\\\\\"isRequired\\\\\\\\\\\\\\\": true, \\\\\\\\\\\\\\\"origin\\\\\\\\\\\\\\\": 1, \\\\\\\\\\\\\\\"defaultValue\\\\\\\\\\\\\\\": 0, \\\\\\\\\\\\\\\"initializeFromProperty\\\\\\\\\\\\\\\": null, \\\\\\\\\\\\\\\"telemetryStrategy\\\\\\\\\\\\\\\": 0, \\\\\\\\\\\\\\\"condition\\\\\\\\\\\\\\\": null, \\\\\\\\\\\\\\\"documentation\\\\\\\\\\\\\\\": null, \\\\\\\\\\\\\\\"serializeWhenDefault\\\\\\\\\\\\\\\": true}, {\\\\\\\\\\\\\\\"name\\\\\\\\\\\\\\\": \\\\\\\\\\\\\\\"skipRows\\\\\\\\\\\\\\\", \\\\\\\\\\\\\\\"type\\\\\\\\\\\\\\\": 2, \\\\\\\\\\\\\\\"multipleValues\\\\\\\\\\\\\\\": false, \\\\\\\\\\\\\\\"domain\\\\\\\\\\\\\\\": {\\\\\\\\\\\\\\\"type\\\\\\\\\\\\\\\": 4, \\\\\\\\\\\\\\\"details\\\\\\\\\\\\\\\": {\\\\\\\\\\\\\\\"min\\\\\\\\\\\\\\\": 0.0, \\\\\\\\\\\\\\\"max\\\\\\\\\\\\\\\": 1.7976931348623157e+308}}, \\\\\\\\\\\\\\\"multiValueDetails\\\\\\\\\\\\\\\": null, \\\\\\\\\\\\\\\"isRequired\\\\\\\\\\\\\\\": false, \\\\\\\\\\\\\\\"origin\\\\\\\\\\\\\\\": 1, \\\\\\\\\\\\\\\"defaultValue\\\\\\\\\\\\\\\": null, \\\\\\\\\\\\\\\"initializeFromProperty\\\\\\\\\\\\\\\": null, \\\\\\\\\\\\\\\"telemetryStrategy\\\\\\\\\\\\\\\": 0, \\\\\\\\\\\\\\\"condition\\\\\\\\\\\\\\\": {\\\\\\\\\\\\\\\"condition\\\\\\\\\\\\\\\": {\\\\\\\\\\\\\\\"property\\\\\\\\\\\\\\\": {\\\\\\\\\\\\\\\"propertyPath\\\\\\\\\\\\\\\": [\\\\\\\\\\\\\\\"skipRowsMode\\\\\\\\\\\\\\\"]}, \\\\\\\\\\\\\\\"comparison\\\\\\\\\\\\\\\": 1, \\\\\\\\\\\\\\\"value\\\\\\\\\\\\\\\": 0}, \\\\\\\\\\\\\\\"aggregate\\\\\\\\\\\\\\\": null}, \\\\\\\\\\\\\\\"documentation\\\\\\\\\\\\\\\": null, \\\\\\\\\\\\\\\"serializeWhenDefault\\\\\\\\\\\\\\\": true}, {\\\\\\\\\\\\\\\"name\\\\\\\\\\\\\\\": \\\\\\\\\\\\\\\"handleQuotedLineBreaks\\\\\\\\\\\\\\\", \\\\\\\\\\\\\\\"type\\\\\\\\\\\\\\\": 4, \\\\\\\\\\\\\\\"multipleValues\\\\\\\\\\\\\\\": false, \\\\\\\\\\\\\\\"domain\\\\\\\\\\\\\\\": null, \\\\\\\\\\\\\\\"multiValueDetails\\\\\\\\\\\\\\\": null, \\\\\\\\\\\\\\\"isRequired\\\\\\\\\\\\\\\": true, \\\\\\\\\\\\\\\"origin\\\\\\\\\\\\\\\": 1, \\\\\\\\\\\\\\\"defaultValue\\\\\\\\\\\\\\\": false, \\\\\\\\\\\\\\\"initializeFromProperty\\\\\\\\\\\\\\\": null, \\\\\\\\\\\\\\\"telemetryStrategy\\\\\\\\\\\\\\\": 0, \\\\\\\\\\\\\\\"condition\\\\\\\\\\\\\\\": null, \\\\\\\\\\\\\\\"documentation\\\\\\\\\\\\\\\": null, \\\\\\\\\\\\\\\"serializeWhenDefault\\\\\\\\\\\\\\\": true}, {\\\\\\\\\\\\\\\"name\\\\\\\\\\\\\\\": \\\\\\\\\\\\\\\"partitionSize\\\\\\\\\\\\\\\", \\\\\\\\\\\\\\\"type\\\\\\\\\\\\\\\": 2, \\\\\\\\\\\\\\\"multipleValues\\\\\\\\\\\\\\\": false, \\\\\\\\\\\\\\\"domain\\\\\\\\\\\\\\\": null, \\\\\\\\\\\\\\\"multiValueDetails\\\\\\\\\\\\\\\": null, \\\\\\\\\\\\\\\"isRequired\\\\\\\\\\\\\\\": false, \\\\\\\\\\\\\\\"origin\\\\\\\\\\\\\\\": 1, \\\\\\\\\\\\\\\"defaultValue\\\\\\\\\\\\\\\": null, \\\\\\\\\\\\\\\"initializeFromProperty\\\\\\\\\\\\\\\": null, \\\\\\\\\\\\\\\"telemetryStrategy\\\\\\\\\\\\\\\": 0, \\\\\\\\\\\\\\\"condition\\\\\\\\\\\\\\\": null, \\\\\\\\\\\\\\\"documentation\\\\\\\\\\\\\\\": null, \\\\\\\\\\\\\\\"serializeWhenDefault\\\\\\\\\\\\\\\": true}, {\\\\\\\\\\\\\\\"name\\\\\\\\\\\\\\\": \\\\\\\\\\\\\\\"emptyAsString\\\\\\\\\\\\\\\", \\\\\\\\\\\\\\\"type\\\\\\\\\\\\\\\": 4, \\\\\\\\\\\\\\\"multipleValues\\\\\\\\\\\\\\\": false, \\\\\\\\\\\\\\\"domain\\\\\\\\\\\\\\\": null, \\\\\\\\\\\\\\\"multiValueDetails\\\\\\\\\\\\\\\": null, \\\\\\\\\\\\\\\"isRequired\\\\\\\\\\\\\\\": false, \\\\\\\\\\\\\\\"origin\\\\\\\\\\\\\\\": 1, \\\\\\\\\\\\\\\"defaultValue\\\\\\\\\\\\\\\": false, \\\\\\\\\\\\\\\"initializeFromProperty\\\\\\\\\\\\\\\": null, \\\\\\\\\\\\\\\"telemetryStrategy\\\\\\\\\\\\\\\": 0, \\\\\\\\\\\\\\\"condition\\\\\\\\\\\\\\\": null, \\\\\\\\\\\\\\\"documentation\\\\\\\\\\\\\\\": null, \\\\\\\\\\\\\\\"serializeWhenDefault\\\\\\\\\\\\\\\": false}], \\\\\\\\\\\\\\\"arguments\\\\\\\\\\\\\\\": {\\\\\\\\\\\\\\\"columnHeadersMode\\\\\\\\\\\\\\\": 3, \\\\\\\\\\\\\\\"fileEncoding\\\\\\\\\\\\\\\": 0, \\\\\\\\\\\\\\\"handleQuotedLineBreaks\\\\\\\\\\\\\\\": false, \\\\\\\\\\\\\\\"preview\\\\\\\\\\\\\\\": false, \\\\\\\\\\\\\\\"separator\\\\\\\\\\\\\\\": \\\\\\\\\\\\\\\",\\\\\\\\\\\\\\\", \\\\\\\\\\\\\\\"skipRows\\\\\\\\\\\\\\\": 0, \\\\\\\\\\\\\\\"skipRowsMode\\\\\\\\\\\\\\\": 0}}, {\\\\\\\\\\\\\\\"id\\\\\\\\\\\\\\\": \\\\\\\\\\\\\\\"a5d00f86-e8fc-473e-a319-03176797ff82\\\\\\\\\\\\\\\", \\\\\\\\\\\\\\\"description\\\\\\\\\\\\\\\": {\\\\\\\\\\\\\\\"localDataProperties\\\\\\\\\\\\\\\": [], \\\\\\\\\\\\\\\"blockGroup\\\\\\\\\\\\\\\": 6, \\\\\\\\\\\\\\\"supportedTargets\\\\\\\\\\\\\\\": [2, 3], \\\\\\\\\\\\\\\"supportedFieldTypes\\\\\\\\\\\\\\\": null, \\\\\\\\\\\\\\\"supportedMessages\\\\\\\\\\\\\\\": [], \\\\\\\\\\\\\\\"requiresInitialization\\\\\\\\\\\\\\\": false, \\\\\\\\\\\\\\\"allowDefaultAdd\\\\\\\\\\\\\\\": true, \\\\\\\\\\\\\\\"documentation\\\\\\\\\\\\\\\": \\\\\\\\\\\\\\\"Drops the specified columns.\\\\\\\\\\\\\\\", \\\\\\\\\\\\\\\"type\\\\\\\\\\\\\\\": \\\\\\\\\\\\\\\"Microsoft.DPrep.DropColumnsBlock\\\\\\\\\\\\\\\", \\\\\\\\\\\\\\\"propertyDescriptions\\\\\\\\\\\\\\\": [{\\\\\\\\\\\\\\\"name\\\\\\\\\\\\\\\": \\\\\\\\\\\\\\\"columns\\\\\\\\\\\\\\\", \\\\\\\\\\\\\\\"type\\\\\\\\\\\\\\\": 5, \\\\\\\\\\\\\\\"multipleValues\\\\\\\\\\\\\\\": false, \\\\\\\\\\\\\\\"domain\\\\\\\\\\\\\\\": {\\\\\\\\\\\\\\\"type\\\\\\\\\\\\\\\": 12, \\\\\\\\\\\\\\\"details\\\\\\\\\\\\\\\": {\\\\\\\\\\\\\\\"selectorDomainType\\\\\\\\\\\\\\\": 1, \\\\\\\\\\\\\\\"fieldTypes\\\\\\\\\\\\\\\": []}}, \\\\\\\\\\\\\\\"multiValueDetails\\\\\\\\\\\\\\\": null, \\\\\\\\\\\\\\\"isRequired\\\\\\\\\\\\\\\": true, \\\\\\\\\\\\\\\"origin\\\\\\\\\\\\\\\": 0, \\\\\\\\\\\\\\\"defaultValue\\\\\\\\\\\\\\\": null, \\\\\\\\\\\\\\\"initializeFromProperty\\\\\\\\\\\\\\\": null, \\\\\\\\\\\\\\\"telemetryStrategy\\\\\\\\\\\\\\\": 1, \\\\\\\\\\\\\\\"condition\\\\\\\\\\\\\\\": null, \\\\\\\\\\\\\\\"documentation\\\\\\\\\\\\\\\": \\\\\\\\\\\\\\\"The source columns.\\\\\\\\\\\\\\\", \\\\\\\\\\\\\\\"serializeWhenDefault\\\\\\\\\\\\\\\": true}], \\\\\\\\\\\\\\\"dataEffectDetails\\\\\\\\\\\\\\\": {\\\\\\\\\\\\\\\"columnsRemovedProperties\\\\\\\\\\\\\\\": [{\\\\\\\\\\\\\\\"propertyPath\\\\\\\\\\\\\\\": [\\\\\\\\\\\\\\\"columns\\\\\\\\\\\\\\\"]}], \\\\\\\\\\\\\\\"dataEffect\\\\\\\\\\\\\\\": 4}}, \\\\\\\\\\\\\\\"type\\\\\\\\\\\\\\\": \\\\\\\\\\\\\\\"Microsoft.DPrep.DropColumnsBlock\\\\\\\\\\\\\\\", \\\\\\\\\\\\\\\"dataEffectDetails\\\\\\\\\\\\\\\": {\\\\\\\\\\\\\\\"columnsRemovedProperties\\\\\\\\\\\\\\\": [{\\\\\\\\\\\\\\\"propertyPath\\\\\\\\\\\\\\\": [\\\\\\\\\\\\\\\"columns\\\\\\\\\\\\\\\"]}], \\\\\\\\\\\\\\\"dataEffect\\\\\\\\\\\\\\\": 4}, \\\\\\\\\\\\\\\"propertyDescriptions\\\\\\\\\\\\\\\": [{\\\\\\\\\\\\\\\"name\\\\\\\\\\\\\\\": \\\\\\\\\\\\\\\"columns\\\\\\\\\\\\\\\", \\\\\\\\\\\\\\\"type\\\\\\\\\\\\\\\": 5, \\\\\\\\\\\\\\\"multipleValues\\\\\\\\\\\\\\\": false, \\\\\\\\\\\\\\\"domain\\\\\\\\\\\\\\\": {\\\\\\\\\\\\\\\"type\\\\\\\\\\\\\\\": 12, \\\\\\\\\\\\\\\"details\\\\\\\\\\\\\\\": {\\\\\\\\\\\\\\\"selectorDomainType\\\\\\\\\\\\\\\": 1, \\\\\\\\\\\\\\\"fieldTypes\\\\\\\\\\\\\\\": []}}, \\\\\\\\\\\\\\\"multiValueDetails\\\\\\\\\\\\\\\": null, \\\\\\\\\\\\\\\"isRequired\\\\\\\\\\\\\\\": true, \\\\\\\\\\\\\\\"origin\\\\\\\\\\\\\\\": 0, \\\\\\\\\\\\\\\"defaultValue\\\\\\\\\\\\\\\": null, \\\\\\\\\\\\\\\"initializeFromProperty\\\\\\\\\\\\\\\": null, \\\\\\\\\\\\\\\"telemetryStrategy\\\\\\\\\\\\\\\": 1, \\\\\\\\\\\\\\\"condition\\\\\\\\\\\\\\\": null, \\\\\\\\\\\\\\\"documentation\\\\\\\\\\\\\\\": \\\\\\\\\\\\\\\"The source columns.\\\\\\\\\\\\\\\", \\\\\\\\\\\\\\\"serializeWhenDefault\\\\\\\\\\\\\\\": true}], \\\\\\\\\\\\\\\"arguments\\\\\\\\\\\\\\\": {\\\\\\\\\\\\\\\"columns\\\\\\\\\\\\\\\": {\\\\\\\\\\\\\\\"type\\\\\\\\\\\\\\\": 0, \\\\\\\\\\\\\\\"details\\\\\\\\\\\\\\\": {\\\\\\\\\\\\\\\"selectedColumns\\\\\\\\\\\\\\\": [\\\\\\\\\\\\\\\"Path\\\\\\\\\\\\\\\"]}}}}, {\\\\\\\\\\\\\\\"id\\\\\\\\\\\\\\\": \\\\\\\\\\\\\\\"634bcfc8-4a04-4fcf-92f7-fa502b6d608d\\\\\\\\\\\\\\\", \\\\\\\\\\\\\\\"description\\\\\\\\\\\\\\\": {\\\\\\\\\\\\\\\"localDataProperties\\\\\\\\\\\\\\\": [], \\\\\\\\\\\\\\\"blockGroup\\\\\\\\\\\\\\\": 7, \\\\\\\\\\\\\\\"supportedTargets\\\\\\\\\\\\\\\": [5], \\\\\\\\\\\\\\\"supportedFieldTypes\\\\\\\\\\\\\\\": null, \\\\\\\\\\\\\\\"supportedMessages\\\\\\\\\\\\\\\": [], \\\\\\\\\\\\\\\"requiresInitialization\\\\\\\\\\\\\\\": false, \\\\\\\\\\\\\\\"allowDefaultAdd\\\\\\\\\\\\\\\": true, \\\\\\\\\\\\\\\"documentation\\\\\\\\\\\\\\\": null, \\\\\\\\\\\\\\\"type\\\\\\\\\\\\\\\": \\\\\\\\\\\\\\\"Microsoft.DPrep.SetColumnTypesBlock\\\\\\\\\\\\\\\", \\\\\\\\\\\\\\\"propertyDescriptions\\\\\\\\\\\\\\\": [{\\\\\\\\\\\\\\\"name\\\\\\\\\\\\\\\": \\\\\\\\\\\\\\\"columnConversion\\\\\\\\\\\\\\\", \\\\\\\\\\\\\\\"type\\\\\\\\\\\\\\\": 7, \\\\\\\\\\\\\\\"multipleValues\\\\\\\\\\\\\\\": true, \\\\\\\\\\\\\\\"domain\\\\\\\\\\\\\\\": {\\\\\\\\\\\\\\\"type\\\\\\\\\\\\\\\": 0, \\\\\\\\\\\\\\\"details\\\\\\\\\\\\\\\": [{\\\\\\\\\\\\\\\"name\\\\\\\\\\\\\\\": \\\\\\\\\\\\\\\"column\\\\\\\\\\\\\\\", \\\\\\\\\\\\\\\"type\\\\\\\\\\\\\\\": 5, \\\\\\\\\\\\\\\"multipleValues\\\\\\\\\\\\\\\": false, \\\\\\\\\\\\\\\"domain\\\\\\\\\\\\\\\": {\\\\\\\\\\\\\\\"type\\\\\\\\\\\\\\\": 12, \\\\\\\\\\\\\\\"details\\\\\\\\\\\\\\\": {\\\\\\\\\\\\\\\"selectorDomainType\\\\\\\\\\\\\\\": 0, \\\\\\\\\\\\\\\"fieldTypes\\\\\\\\\\\\\\\": []}}, \\\\\\\\\\\\\\\"multiValueDetails\\\\\\\\\\\\\\\": null, \\\\\\\\\\\\\\\"isRequired\\\\\\\\\\\\\\\": true, \\\\\\\\\\\\\\\"origin\\\\\\\\\\\\\\\": 0, \\\\\\\\\\\\\\\"defaultValue\\\\\\\\\\\\\\\": null, \\\\\\\\\\\\\\\"initializeFromProperty\\\\\\\\\\\\\\\": null, \\\\\\\\\\\\\\\"telemetryStrategy\\\\\\\\\\\\\\\": 1, \\\\\\\\\\\\\\\"condition\\\\\\\\\\\\\\\": null, \\\\\\\\\\\\\\\"documentation\\\\\\\\\\\\\\\": \\\\\\\\\\\\\\\"The source column.\\\\\\\\\\\\\\\", \\\\\\\\\\\\\\\"serializeWhenDefault\\\\\\\\\\\\\\\": true}, {\\\\\\\\\\\\\\\"name\\\\\\\\\\\\\\\": \\\\\\\\\\\\\\\"typeProperty\\\\\\\\\\\\\\\", \\\\\\\\\\\\\\\"type\\\\\\\\\\\\\\\": 6, \\\\\\\\\\\\\\\"multipleValues\\\\\\\\\\\\\\\": false, \\\\\\\\\\\\\\\"domain\\\\\\\\\\\\\\\": {\\\\\\\\\\\\\\\"type\\\\\\\\\\\\\\\": 1, \\\\\\\\\\\\\\\"details\\\\\\\\\\\\\\\": {\\\\\\\\\\\\\\\"enumName\\\\\\\\\\\\\\\": \\\\\\\\\\\\\\\"FieldType\\\\\\\\\\\\\\\", \\\\\\\\\\\\\\\"enumType\\\\\\\\\\\\\\\": \\\\\\\\\\\\\\\"Microsoft.DPrep.Engine.FieldType, Microsoft.DPrep.EngineAPI, Version=0.1.2009.11013, Culture=neutral, PublicKeyToken=null\\\\\\\\\\\\\\\", \\\\\\\\\\\\\\\"enumValues\\\\\\\\\\\\\\\": [0, 1, 3, 4, 10]}}, \\\\\\\\\\\\\\\"multiValueDetails\\\\\\\\\\\\\\\": null, \\\\\\\\\\\\\\\"isRequired\\\\\\\\\\\\\\\": true, \\\\\\\\\\\\\\\"origin\\\\\\\\\\\\\\\": 0, \\\\\\\\\\\\\\\"defaultValue\\\\\\\\\\\\\\\": 0, \\\\\\\\\\\\\\\"initializeFromProperty\\\\\\\\\\\\\\\": null, \\\\\\\\\\\\\\\"telemetryStrategy\\\\\\\\\\\\\\\": 0, \\\\\\\\\\\\\\\"condition\\\\\\\\\\\\\\\": null, \\\\\\\\\\\\\\\"documentation\\\\\\\\\\\\\\\": null, \\\\\\\\\\\\\\\"serializeWhenDefault\\\\\\\\\\\\\\\": true}, {\\\\\\\\\\\\\\\"name\\\\\\\\\\\\\\\": \\\\\\\\\\\\\\\"typeArguments\\\\\\\\\\\\\\\", \\\\\\\\\\\\\\\"type\\\\\\\\\\\\\\\": 7, \\\\\\\\\\\\\\\"multipleValues\\\\\\\\\\\\\\\": false, \\\\\\\\\\\\\\\"domain\\\\\\\\\\\\\\\": {\\\\\\\\\\\\\\\"type\\\\\\\\\\\\\\\": 0, \\\\\\\\\\\\\\\"details\\\\\\\\\\\\\\\": [{\\\\\\\\\\\\\\\"name\\\\\\\\\\\\\\\": \\\\\\\\\\\\\\\"dateTimeFormats\\\\\\\\\\\\\\\", \\\\\\\\\\\\\\\"type\\\\\\\\\\\\\\\": 1, \\\\\\\\\\\\\\\"multipleValues\\\\\\\\\\\\\\\": true, \\\\\\\\\\\\\\\"domain\\\\\\\\\\\\\\\": null, \\\\\\\\\\\\\\\"multiValueDetails\\\\\\\\\\\\\\\": {\\\\\\\\\\\\\\\"isOrdered\\\\\\\\\\\\\\\": false}, \\\\\\\\\\\\\\\"isRequired\\\\\\\\\\\\\\\": false, \\\\\\\\\\\\\\\"origin\\\\\\\\\\\\\\\": 1, \\\\\\\\\\\\\\\"defaultValue\\\\\\\\\\\\\\\": null, \\\\\\\\\\\\\\\"initializeFromProperty\\\\\\\\\\\\\\\": null, \\\\\\\\\\\\\\\"telemetryStrategy\\\\\\\\\\\\\\\": 0, \\\\\\\\\\\\\\\"condition\\\\\\\\\\\\\\\": null, \\\\\\\\\\\\\\\"documentation\\\\\\\\\\\\\\\": null, \\\\\\\\\\\\\\\"serializeWhenDefault\\\\\\\\\\\\\\\": true}, {\\\\\\\\\\\\\\\"name\\\\\\\\\\\\\\\": \\\\\\\\\\\\\\\"decimalMark\\\\\\\\\\\\\\\", \\\\\\\\\\\\\\\"type\\\\\\\\\\\\\\\": 6, \\\\\\\\\\\\\\\"multipleValues\\\\\\\\\\\\\\\": false, \\\\\\\\\\\\\\\"domain\\\\\\\\\\\\\\\": {\\\\\\\\\\\\\\\"type\\\\\\\\\\\\\\\": 1, \\\\\\\\\\\\\\\"details\\\\\\\\\\\\\\\": {\\\\\\\\\\\\\\\"enumName\\\\\\\\\\\\\\\": \\\\\\\\\\\\\\\"DecimalMark\\\\\\\\\\\\\\\", \\\\\\\\\\\\\\\"enumType\\\\\\\\\\\\\\\": \\\\\\\\\\\\\\\"Microsoft.DPrep.Engine.PropertiesSystem.SharedSystemProperties+DecimalMark, Microsoft.DPrep.Engine, Version=0.1.2009.11013, Culture=neutral, PublicKeyToken=null\\\\\\\\\\\\\\\", \\\\\\\\\\\\\\\"enumValues\\\\\\\\\\\\\\\": [0, 1]}}, \\\\\\\\\\\\\\\"multiValueDetails\\\\\\\\\\\\\\\": null, \\\\\\\\\\\\\\\"isRequired\\\\\\\\\\\\\\\": false, \\\\\\\\\\\\\\\"origin\\\\\\\\\\\\\\\": 1, \\\\\\\\\\\\\\\"defaultValue\\\\\\\\\\\\\\\": null, \\\\\\\\\\\\\\\"initializeFromProperty\\\\\\\\\\\\\\\": null, \\\\\\\\\\\\\\\"telemetryStrategy\\\\\\\\\\\\\\\": 0, \\\\\\\\\\\\\\\"condition\\\\\\\\\\\\\\\": null, \\\\\\\\\\\\\\\"documentation\\\\\\\\\\\\\\\": \\\\\\\\\\\\\\\"The symbol to use as the decimal mark.\\\\\\\\\\\\\\\", \\\\\\\\\\\\\\\"serializeWhenDefault\\\\\\\\\\\\\\\": false}]}, \\\\\\\\\\\\\\\"multiValueDetails\\\\\\\\\\\\\\\": null, \\\\\\\\\\\\\\\"isRequired\\\\\\\\\\\\\\\": false, \\\\\\\\\\\\\\\"origin\\\\\\\\\\\\\\\": 0, \\\\\\\\\\\\\\\"defaultValue\\\\\\\\\\\\\\\": null, \\\\\\\\\\\\\\\"initializeFromProperty\\\\\\\\\\\\\\\": null, \\\\\\\\\\\\\\\"telemetryStrategy\\\\\\\\\\\\\\\": 0, \\\\\\\\\\\\\\\"condition\\\\\\\\\\\\\\\": null, \\\\\\\\\\\\\\\"documentation\\\\\\\\\\\\\\\": null, \\\\\\\\\\\\\\\"serializeWhenDefault\\\\\\\\\\\\\\\": true}]}, \\\\\\\\\\\\\\\"multiValueDetails\\\\\\\\\\\\\\\": {\\\\\\\\\\\\\\\"isOrdered\\\\\\\\\\\\\\\": false}, \\\\\\\\\\\\\\\"isRequired\\\\\\\\\\\\\\\": false, \\\\\\\\\\\\\\\"origin\\\\\\\\\\\\\\\": 0, \\\\\\\\\\\\\\\"defaultValue\\\\\\\\\\\\\\\": null, \\\\\\\\\\\\\\\"initializeFromProperty\\\\\\\\\\\\\\\": null, \\\\\\\\\\\\\\\"telemetryStrategy\\\\\\\\\\\\\\\": 0, \\\\\\\\\\\\\\\"condition\\\\\\\\\\\\\\\": null, \\\\\\\\\\\\\\\"documentation\\\\\\\\\\\\\\\": null, \\\\\\\\\\\\\\\"serializeWhenDefault\\\\\\\\\\\\\\\": true}], \\\\\\\\\\\\\\\"dataEffectDetails\\\\\\\\\\\\\\\": {\\\\\\\\\\\\\\\"dataEffect\\\\\\\\\\\\\\\": 1}}, \\\\\\\\\\\\\\\"type\\\\\\\\\\\\\\\": \\\\\\\\\\\\\\\"Microsoft.DPrep.SetColumnTypesBlock\\\\\\\\\\\\\\\", \\\\\\\\\\\\\\\"dataEffectDetails\\\\\\\\\\\\\\\": {\\\\\\\\\\\\\\\"dataEffect\\\\\\\\\\\\\\\": 1}, \\\\\\\\\\\\\\\"propertyDescriptions\\\\\\\\\\\\\\\": [{\\\\\\\\\\\\\\\"name\\\\\\\\\\\\\\\": \\\\\\\\\\\\\\\"columnConversion\\\\\\\\\\\\\\\", \\\\\\\\\\\\\\\"type\\\\\\\\\\\\\\\": 7, \\\\\\\\\\\\\\\"multipleValues\\\\\\\\\\\\\\\": true, \\\\\\\\\\\\\\\"domain\\\\\\\\\\\\\\\": {\\\\\\\\\\\\\\\"type\\\\\\\\\\\\\\\": 0, \\\\\\\\\\\\\\\"details\\\\\\\\\\\\\\\": [{\\\\\\\\\\\\\\\"name\\\\\\\\\\\\\\\": \\\\\\\\\\\\\\\"column\\\\\\\\\\\\\\\", \\\\\\\\\\\\\\\"type\\\\\\\\\\\\\\\": 5, \\\\\\\\\\\\\\\"multipleValues\\\\\\\\\\\\\\\": false, \\\\\\\\\\\\\\\"domain\\\\\\\\\\\\\\\": {\\\\\\\\\\\\\\\"type\\\\\\\\\\\\\\\": 12, \\\\\\\\\\\\\\\"details\\\\\\\\\\\\\\\": {\\\\\\\\\\\\\\\"selectorDomainType\\\\\\\\\\\\\\\": 0, \\\\\\\\\\\\\\\"fieldTypes\\\\\\\\\\\\\\\": []}}, \\\\\\\\\\\\\\\"multiValueDetails\\\\\\\\\\\\\\\": null, \\\\\\\\\\\\\\\"isRequired\\\\\\\\\\\\\\\": true, \\\\\\\\\\\\\\\"origin\\\\\\\\\\\\\\\": 0, \\\\\\\\\\\\\\\"defaultValue\\\\\\\\\\\\\\\": null, \\\\\\\\\\\\\\\"initializeFromProperty\\\\\\\\\\\\\\\": null, \\\\\\\\\\\\\\\"telemetryStrategy\\\\\\\\\\\\\\\": 1, \\\\\\\\\\\\\\\"condition\\\\\\\\\\\\\\\": null, \\\\\\\\\\\\\\\"documentation\\\\\\\\\\\\\\\": \\\\\\\\\\\\\\\"The source column.\\\\\\\\\\\\\\\", \\\\\\\\\\\\\\\"serializeWhenDefault\\\\\\\\\\\\\\\": true}, {\\\\\\\\\\\\\\\"name\\\\\\\\\\\\\\\": \\\\\\\\\\\\\\\"typeProperty\\\\\\\\\\\\\\\", \\\\\\\\\\\\\\\"type\\\\\\\\\\\\\\\": 6, \\\\\\\\\\\\\\\"multipleValues\\\\\\\\\\\\\\\": false, \\\\\\\\\\\\\\\"domain\\\\\\\\\\\\\\\": {\\\\\\\\\\\\\\\"type\\\\\\\\\\\\\\\": 1, \\\\\\\\\\\\\\\"details\\\\\\\\\\\\\\\": {\\\\\\\\\\\\\\\"enumName\\\\\\\\\\\\\\\": \\\\\\\\\\\\\\\"FieldType\\\\\\\\\\\\\\\", \\\\\\\\\\\\\\\"enumType\\\\\\\\\\\\\\\": \\\\\\\\\\\\\\\"Microsoft.DPrep.Engine.FieldType, Microsoft.DPrep.EngineAPI, Version=0.1.2009.11013, Culture=neutral, PublicKeyToken=null\\\\\\\\\\\\\\\", \\\\\\\\\\\\\\\"enumValues\\\\\\\\\\\\\\\": [0, 1, 3, 4, 10]}}, \\\\\\\\\\\\\\\"multiValueDetails\\\\\\\\\\\\\\\": null, \\\\\\\\\\\\\\\"isRequired\\\\\\\\\\\\\\\": true, \\\\\\\\\\\\\\\"origin\\\\\\\\\\\\\\\": 0, \\\\\\\\\\\\\\\"defaultValue\\\\\\\\\\\\\\\": 0, \\\\\\\\\\\\\\\"initializeFromProperty\\\\\\\\\\\\\\\": null, \\\\\\\\\\\\\\\"telemetryStrategy\\\\\\\\\\\\\\\": 0, \\\\\\\\\\\\\\\"condition\\\\\\\\\\\\\\\": null, \\\\\\\\\\\\\\\"documentation\\\\\\\\\\\\\\\": null, \\\\\\\\\\\\\\\"serializeWhenDefault\\\\\\\\\\\\\\\": true}, {\\\\\\\\\\\\\\\"name\\\\\\\\\\\\\\\": \\\\\\\\\\\\\\\"typeArguments\\\\\\\\\\\\\\\", \\\\\\\\\\\\\\\"type\\\\\\\\\\\\\\\": 7, \\\\\\\\\\\\\\\"multipleValues\\\\\\\\\\\\\\\": false, \\\\\\\\\\\\\\\"domain\\\\\\\\\\\\\\\": {\\\\\\\\\\\\\\\"type\\\\\\\\\\\\\\\": 0, \\\\\\\\\\\\\\\"details\\\\\\\\\\\\\\\": [{\\\\\\\\\\\\\\\"name\\\\\\\\\\\\\\\": \\\\\\\\\\\\\\\"dateTimeFormats\\\\\\\\\\\\\\\", \\\\\\\\\\\\\\\"type\\\\\\\\\\\\\\\": 1, \\\\\\\\\\\\\\\"multipleValues\\\\\\\\\\\\\\\": true, \\\\\\\\\\\\\\\"domain\\\\\\\\\\\\\\\": null, \\\\\\\\\\\\\\\"multiValueDetails\\\\\\\\\\\\\\\": {\\\\\\\\\\\\\\\"isOrdered\\\\\\\\\\\\\\\": false}, \\\\\\\\\\\\\\\"isRequired\\\\\\\\\\\\\\\": false, \\\\\\\\\\\\\\\"origin\\\\\\\\\\\\\\\": 1, \\\\\\\\\\\\\\\"defaultValue\\\\\\\\\\\\\\\": null, \\\\\\\\\\\\\\\"initializeFromProperty\\\\\\\\\\\\\\\": null, \\\\\\\\\\\\\\\"telemetryStrategy\\\\\\\\\\\\\\\": 0, \\\\\\\\\\\\\\\"condition\\\\\\\\\\\\\\\": null, \\\\\\\\\\\\\\\"documentation\\\\\\\\\\\\\\\": null, \\\\\\\\\\\\\\\"serializeWhenDefault\\\\\\\\\\\\\\\": true}, {\\\\\\\\\\\\\\\"name\\\\\\\\\\\\\\\": \\\\\\\\\\\\\\\"decimalMark\\\\\\\\\\\\\\\", \\\\\\\\\\\\\\\"type\\\\\\\\\\\\\\\": 6, \\\\\\\\\\\\\\\"multipleValues\\\\\\\\\\\\\\\": false, \\\\\\\\\\\\\\\"domain\\\\\\\\\\\\\\\": {\\\\\\\\\\\\\\\"type\\\\\\\\\\\\\\\": 1, \\\\\\\\\\\\\\\"details\\\\\\\\\\\\\\\": {\\\\\\\\\\\\\\\"enumName\\\\\\\\\\\\\\\": \\\\\\\\\\\\\\\"DecimalMark\\\\\\\\\\\\\\\", \\\\\\\\\\\\\\\"enumType\\\\\\\\\\\\\\\": \\\\\\\\\\\\\\\"Microsoft.DPrep.Engine.PropertiesSystem.SharedSystemProperties+DecimalMark, Microsoft.DPrep.Engine, Version=0.1.2009.11013, Culture=neutral, PublicKeyToken=null\\\\\\\\\\\\\\\", \\\\\\\\\\\\\\\"enumValues\\\\\\\\\\\\\\\": [0, 1]}}, \\\\\\\\\\\\\\\"multiValueDetails\\\\\\\\\\\\\\\": null, \\\\\\\\\\\\\\\"isRequired\\\\\\\\\\\\\\\": false, \\\\\\\\\\\\\\\"origin\\\\\\\\\\\\\\\": 1, \\\\\\\\\\\\\\\"defaultValue\\\\\\\\\\\\\\\": null, \\\\\\\\\\\\\\\"initializeFromProperty\\\\\\\\\\\\\\\": null, \\\\\\\\\\\\\\\"telemetryStrategy\\\\\\\\\\\\\\\": 0, \\\\\\\\\\\\\\\"condition\\\\\\\\\\\\\\\": null, \\\\\\\\\\\\\\\"documentation\\\\\\\\\\\\\\\": \\\\\\\\\\\\\\\"The symbol to use as the decimal mark.\\\\\\\\\\\\\\\", \\\\\\\\\\\\\\\"serializeWhenDefault\\\\\\\\\\\\\\\": false}]}, \\\\\\\\\\\\\\\"multiValueDetails\\\\\\\\\\\\\\\": null, \\\\\\\\\\\\\\\"isRequired\\\\\\\\\\\\\\\": false, \\\\\\\\\\\\\\\"origin\\\\\\\\\\\\\\\": 0, \\\\\\\\\\\\\\\"defaultValue\\\\\\\\\\\\\\\": null, \\\\\\\\\\\\\\\"initializeFromProperty\\\\\\\\\\\\\\\": null, \\\\\\\\\\\\\\\"telemetryStrategy\\\\\\\\\\\\\\\": 0, \\\\\\\\\\\\\\\"condition\\\\\\\\\\\\\\\": null, \\\\\\\\\\\\\\\"documentation\\\\\\\\\\\\\\\": null, \\\\\\\\\\\\\\\"serializeWhenDefault\\\\\\\\\\\\\\\": true}]}, \\\\\\\\\\\\\\\"multiValueDetails\\\\\\\\\\\\\\\": {\\\\\\\\\\\\\\\"isOrdered\\\\\\\\\\\\\\\": false}, \\\\\\\\\\\\\\\"isRequired\\\\\\\\\\\\\\\": false, \\\\\\\\\\\\\\\"origin\\\\\\\\\\\\\\\": 0, \\\\\\\\\\\\\\\"defaultValue\\\\\\\\\\\\\\\": null, \\\\\\\\\\\\\\\"initializeFromProperty\\\\\\\\\\\\\\\": null, \\\\\\\\\\\\\\\"telemetryStrategy\\\\\\\\\\\\\\\": 0, \\\\\\\\\\\\\\\"condition\\\\\\\\\\\\\\\": null, \\\\\\\\\\\\\\\"documentation\\\\\\\\\\\\\\\": null, \\\\\\\\\\\\\\\"serializeWhenDefault\\\\\\\\\\\\\\\": true}], \\\\\\\\\\\\\\\"arguments\\\\\\\\\\\\\\\": {\\\\\\\\\\\\\\\"columnConversion\\\\\\\\\\\\\\\": [{\\\\\\\\\\\\\\\"column\\\\\\\\\\\\\\\": {\\\\\\\\\\\\\\\"type\\\\\\\\\\\\\\\": 2, \\\\\\\\\\\\\\\"details\\\\\\\\\\\\\\\": {\\\\\\\\\\\\\\\"selectedColumn\\\\\\\\\\\\\\\": \\\\\\\\\\\\\\\"PassengerId\\\\\\\\\\\\\\\"}}, \\\\\\\\\\\\\\\"typeProperty\\\\\\\\\\\\\\\": 2}, {\\\\\\\\\\\\\\\"column\\\\\\\\\\\\\\\": {\\\\\\\\\\\\\\\"type\\\\\\\\\\\\\\\": 2, \\\\\\\\\\\\\\\"details\\\\\\\\\\\\\\\": {\\\\\\\\\\\\\\\"selectedColumn\\\\\\\\\\\\\\\": \\\\\\\\\\\\\\\"Survived\\\\\\\\\\\\\\\"}}, \\\\\\\\\\\\\\\"typeProperty\\\\\\\\\\\\\\\": 2}, {\\\\\\\\\\\\\\\"column\\\\\\\\\\\\\\\": {\\\\\\\\\\\\\\\"type\\\\\\\\\\\\\\\": 2, \\\\\\\\\\\\\\\"details\\\\\\\\\\\\\\\": {\\\\\\\\\\\\\\\"selectedColumn\\\\\\\\\\\\\\\": \\\\\\\\\\\\\\\"Pclass\\\\\\\\\\\\\\\"}}, \\\\\\\\\\\\\\\"typeProperty\\\\\\\\\\\\\\\": 2}, {\\\\\\\\\\\\\\\"column\\\\\\\\\\\\\\\": {\\\\\\\\\\\\\\\"type\\\\\\\\\\\\\\\": 2, \\\\\\\\\\\\\\\"details\\\\\\\\\\\\\\\": {\\\\\\\\\\\\\\\"selectedColumn\\\\\\\\\\\\\\\": \\\\\\\\\\\\\\\"Name\\\\\\\\\\\\\\\"}}, \\\\\\\\\\\\\\\"typeProperty\\\\\\\\\\\\\\\": 0}, {\\\\\\\\\\\\\\\"column\\\\\\\\\\\\\\\": {\\\\\\\\\\\\\\\"type\\\\\\\\\\\\\\\": 2, \\\\\\\\\\\\\\\"details\\\\\\\\\\\\\\\": {\\\\\\\\\\\\\\\"selectedColumn\\\\\\\\\\\\\\\": \\\\\\\\\\\\\\\"Sex\\\\\\\\\\\\\\\"}}, \\\\\\\\\\\\\\\"typeProperty\\\\\\\\\\\\\\\": 0}, {\\\\\\\\\\\\\\\"column\\\\\\\\\\\\\\\": {\\\\\\\\\\\\\\\"type\\\\\\\\\\\\\\\": 2, \\\\\\\\\\\\\\\"details\\\\\\\\\\\\\\\": {\\\\\\\\\\\\\\\"selectedColumn\\\\\\\\\\\\\\\": \\\\\\\\\\\\\\\"Age\\\\\\\\\\\\\\\"}}, \\\\\\\\\\\\\\\"typeProperty\\\\\\\\\\\\\\\": 3}, {\\\\\\\\\\\\\\\"column\\\\\\\\\\\\\\\": {\\\\\\\\\\\\\\\"type\\\\\\\\\\\\\\\": 2, \\\\\\\\\\\\\\\"details\\\\\\\\\\\\\\\": {\\\\\\\\\\\\\\\"selectedColumn\\\\\\\\\\\\\\\": \\\\\\\\\\\\\\\"SibSp\\\\\\\\\\\\\\\"}}, \\\\\\\\\\\\\\\"typeProperty\\\\\\\\\\\\\\\": 2}, {\\\\\\\\\\\\\\\"column\\\\\\\\\\\\\\\": {\\\\\\\\\\\\\\\"type\\\\\\\\\\\\\\\": 2, \\\\\\\\\\\\\\\"details\\\\\\\\\\\\\\\": {\\\\\\\\\\\\\\\"selectedColumn\\\\\\\\\\\\\\\": \\\\\\\\\\\\\\\"Parch\\\\\\\\\\\\\\\"}}, \\\\\\\\\\\\\\\"typeProperty\\\\\\\\\\\\\\\": 2}, {\\\\\\\\\\\\\\\"column\\\\\\\\\\\\\\\": {\\\\\\\\\\\\\\\"type\\\\\\\\\\\\\\\": 2, \\\\\\\\\\\\\\\"details\\\\\\\\\\\\\\\": {\\\\\\\\\\\\\\\"selectedColumn\\\\\\\\\\\\\\\": \\\\\\\\\\\\\\\"Ticket\\\\\\\\\\\\\\\"}}, \\\\\\\\\\\\\\\"typeProperty\\\\\\\\\\\\\\\": 0}, {\\\\\\\\\\\\\\\"column\\\\\\\\\\\\\\\": {\\\\\\\\\\\\\\\"type\\\\\\\\\\\\\\\": 2, \\\\\\\\\\\\\\\"details\\\\\\\\\\\\\\\": {\\\\\\\\\\\\\\\"selectedColumn\\\\\\\\\\\\\\\": \\\\\\\\\\\\\\\"Fare\\\\\\\\\\\\\\\"}}, \\\\\\\\\\\\\\\"typeProperty\\\\\\\\\\\\\\\": 3}, {\\\\\\\\\\\\\\\"column\\\\\\\\\\\\\\\": {\\\\\\\\\\\\\\\"type\\\\\\\\\\\\\\\": 2, \\\\\\\\\\\\\\\"details\\\\\\\\\\\\\\\": {\\\\\\\\\\\\\\\"selectedColumn\\\\\\\\\\\\\\\": \\\\\\\\\\\\\\\"Cabin\\\\\\\\\\\\\\\"}}, \\\\\\\\\\\\\\\"typeProperty\\\\\\\\\\\\\\\": 0}, {\\\\\\\\\\\\\\\"column\\\\\\\\\\\\\\\": {\\\\\\\\\\\\\\\"type\\\\\\\\\\\\\\\": 2, \\\\\\\\\\\\\\\"details\\\\\\\\\\\\\\\": {\\\\\\\\\\\\\\\"selectedColumn\\\\\\\\\\\\\\\": \\\\\\\\\\\\\\\"Embarked\\\\\\\\\\\\\\\"}}, \\\\\\\\\\\\\\\"typeProperty\\\\\\\\\\\\\\\": 0}]}}, {\\\\\\\\\\\\\\\"id\\\\\\\\\\\\\\\": \\\\\\\\\\\\\\\"54a38630-be1f-49e7-b4e6-57fdb5312f01\\\\\\\\\\\\\\\", \\\\\\\\\\\\\\\"description\\\\\\\\\\\\\\\": {\\\\\\\\\\\\\\\"type\\\\\\\\\\\\\\\": \\\\\\\\\\\\\\\"Microsoft.DPrep.RandomSplitStepDescription\\\\\\\\\\\\\\\", \\\\\\\\\\\\\\\"propertyDescriptions\\\\\\\\\\\\\\\": [{\\\\\\\\\\\\\\\"name\\\\\\\\\\\\\\\": \\\\\\\\\\\\\\\"probability\\\\\\\\\\\\\\\", \\\\\\\\\\\\\\\"type\\\\\\\\\\\\\\\": 3, \\\\\\\\\\\\\\\"multipleValues\\\\\\\\\\\\\\\": false, \\\\\\\\\\\\\\\"domain\\\\\\\\\\\\\\\": {\\\\\\\\\\\\\\\"type\\\\\\\\\\\\\\\": 4, \\\\\\\\\\\\\\\"details\\\\\\\\\\\\\\\": {\\\\\\\\\\\\\\\"min\\\\\\\\\\\\\\\": 0.0, \\\\\\\\\\\\\\\"max\\\\\\\\\\\\\\\": 1.0}}, \\\\\\\\\\\\\\\"multiValueDetails\\\\\\\\\\\\\\\": null, \\\\\\\\\\\\\\\"isRequired\\\\\\\\\\\\\\\": true, \\\\\\\\\\\\\\\"origin\\\\\\\\\\\\\\\": 1, \\\\\\\\\\\\\\\"defaultValue\\\\\\\\\\\\\\\": 0.1, \\\\\\\\\\\\\\\"initializeFromProperty\\\\\\\\\\\\\\\": null, \\\\\\\\\\\\\\\"telemetryStrategy\\\\\\\\\\\\\\\": 0, \\\\\\\\\\\\\\\"condition\\\\\\\\\\\\\\\": null, \\\\\\\\\\\\\\\"documentation\\\\\\\\\\\\\\\": \\\\\\\\\\\\\\\"The probability of a record being included in the sample.\\\\\\\\\\\\\\\", \\\\\\\\\\\\\\\"serializeWhenDefault\\\\\\\\\\\\\\\": true}, {\\\\\\\\\\\\\\\"name\\\\\\\\\\\\\\\": \\\\\\\\\\\\\\\"probabilityLowerBound\\\\\\\\\\\\\\\", \\\\\\\\\\\\\\\"type\\\\\\\\\\\\\\\": 3, \\\\\\\\\\\\\\\"multipleValues\\\\\\\\\\\\\\\": false, \\\\\\\\\\\\\\\"domain\\\\\\\\\\\\\\\": null, \\\\\\\\\\\\\\\"multiValueDetails\\\\\\\\\\\\\\\": null, \\\\\\\\\\\\\\\"isRequired\\\\\\\\\\\\\\\": false, \\\\\\\\\\\\\\\"origin\\\\\\\\\\\\\\\": 1, \\\\\\\\\\\\\\\"defaultValue\\\\\\\\\\\\\\\": 0.0, \\\\\\\\\\\\\\\"initializeFromProperty\\\\\\\\\\\\\\\": null, \\\\\\\\\\\\\\\"telemetryStrategy\\\\\\\\\\\\\\\": 0, \\\\\\\\\\\\\\\"condition\\\\\\\\\\\\\\\": null, \\\\\\\\\\\\\\\"documentation\\\\\\\\\\\\\\\": \\\\\\\\\\\\\\\"A lower bound for the accepted range of probabilities when taking a random sample. If probability is set to 0.6, specifying a lower bound of 0.2 would result in only 40% of the records being taken by the sample instead of 60%. This can be useful in order to create multiple exclusive random splits from a single Dataflow.\\\\\\\\\\\\\\\", \\\\\\\\\\\\\\\"serializeWhenDefault\\\\\\\\\\\\\\\": true}, {\\\\\\\\\\\\\\\"name\\\\\\\\\\\\\\\": \\\\\\\\\\\\\\\"seed\\\\\\\\\\\\\\\", \\\\\\\\\\\\\\\"type\\\\\\\\\\\\\\\": 2, \\\\\\\\\\\\\\\"multipleValues\\\\\\\\\\\\\\\": false, \\\\\\\\\\\\\\\"domain\\\\\\\\\\\\\\\": {\\\\\\\\\\\\\\\"type\\\\\\\\\\\\\\\": 4, \\\\\\\\\\\\\\\"details\\\\\\\\\\\\\\\": {\\\\\\\\\\\\\\\"min\\\\\\\\\\\\\\\": 0.0, \\\\\\\\\\\\\\\"max\\\\\\\\\\\\\\\": 4294967295.0}}, \\\\\\\\\\\\\\\"multiValueDetails\\\\\\\\\\\\\\\": null, \\\\\\\\\\\\\\\"isRequired\\\\\\\\\\\\\\\": true, \\\\\\\\\\\\\\\"origin\\\\\\\\\\\\\\\": 1, \\\\\\\\\\\\\\\"defaultValue\\\\\\\\\\\\\\\": null, \\\\\\\\\\\\\\\"initializeFromProperty\\\\\\\\\\\\\\\": null, \\\\\\\\\\\\\\\"telemetryStrategy\\\\\\\\\\\\\\\": 0, \\\\\\\\\\\\\\\"condition\\\\\\\\\\\\\\\": null, \\\\\\\\\\\\\\\"documentation\\\\\\\\\\\\\\\": \\\\\\\\\\\\\\\"The seed to use for the random generator.\\\\\\\\\\\\\\\", \\\\\\\\\\\\\\\"serializeWhenDefault\\\\\\\\\\\\\\\": true}, {\\\\\\\\\\\\\\\"name\\\\\\\\\\\\\\\": \\\\\\\\\\\\\\\"invert\\\\\\\\\\\\\\\", \\\\\\\\\\\\\\\"type\\\\\\\\\\\\\\\": 4, \\\\\\\\\\\\\\\"multipleValues\\\\\\\\\\\\\\\": false, \\\\\\\\\\\\\\\"domain\\\\\\\\\\\\\\\": null, \\\\\\\\\\\\\\\"multiValueDetails\\\\\\\\\\\\\\\": null, \\\\\\\\\\\\\\\"isRequired\\\\\\\\\\\\\\\": false, \\\\\\\\\\\\\\\"origin\\\\\\\\\\\\\\\": 1, \\\\\\\\\\\\\\\"defaultValue\\\\\\\\\\\\\\\": false, \\\\\\\\\\\\\\\"initializeFromProperty\\\\\\\\\\\\\\\": null, \\\\\\\\\\\\\\\"telemetryStrategy\\\\\\\\\\\\\\\": 0, \\\\\\\\\\\\\\\"condition\\\\\\\\\\\\\\\": null, \\\\\\\\\\\\\\\"documentation\\\\\\\\\\\\\\\": null, \\\\\\\\\\\\\\\"serializeWhenDefault\\\\\\\\\\\\\\\": true}], \\\\\\\\\\\\\\\"dataEffectDetails\\\\\\\\\\\\\\\": {\\\\\\\\\\\\\\\"dataEffect\\\\\\\\\\\\\\\": 6}}, \\\\\\\\\\\\\\\"type\\\\\\\\\\\\\\\": \\\\\\\\\\\\\\\"Microsoft.DPrep.RandomSplitStepDescription\\\\\\\\\\\\\\\", \\\\\\\\\\\\\\\"dataEffectDetails\\\\\\\\\\\\\\\": {\\\\\\\\\\\\\\\"dataEffect\\\\\\\\\\\\\\\": 6}, \\\\\\\\\\\\\\\"propertyDescriptions\\\\\\\\\\\\\\\": [{\\\\\\\\\\\\\\\"name\\\\\\\\\\\\\\\": \\\\\\\\\\\\\\\"probability\\\\\\\\\\\\\\\", \\\\\\\\\\\\\\\"type\\\\\\\\\\\\\\\": 3, \\\\\\\\\\\\\\\"multipleValues\\\\\\\\\\\\\\\": false, \\\\\\\\\\\\\\\"domain\\\\\\\\\\\\\\\": {\\\\\\\\\\\\\\\"type\\\\\\\\\\\\\\\": 4, \\\\\\\\\\\\\\\"details\\\\\\\\\\\\\\\": {\\\\\\\\\\\\\\\"min\\\\\\\\\\\\\\\": 0.0, \\\\\\\\\\\\\\\"max\\\\\\\\\\\\\\\": 1.0}}, \\\\\\\\\\\\\\\"multiValueDetails\\\\\\\\\\\\\\\": null, \\\\\\\\\\\\\\\"isRequired\\\\\\\\\\\\\\\": true, \\\\\\\\\\\\\\\"origin\\\\\\\\\\\\\\\": 1, \\\\\\\\\\\\\\\"defaultValue\\\\\\\\\\\\\\\": 0.1, \\\\\\\\\\\\\\\"initializeFromProperty\\\\\\\\\\\\\\\": null, \\\\\\\\\\\\\\\"telemetryStrategy\\\\\\\\\\\\\\\": 0, \\\\\\\\\\\\\\\"condition\\\\\\\\\\\\\\\": null, \\\\\\\\\\\\\\\"documentation\\\\\\\\\\\\\\\": \\\\\\\\\\\\\\\"The probability of a record being included in the sample.\\\\\\\\\\\\\\\", \\\\\\\\\\\\\\\"serializeWhenDefault\\\\\\\\\\\\\\\": true}, {\\\\\\\\\\\\\\\"name\\\\\\\\\\\\\\\": \\\\\\\\\\\\\\\"probabilityLowerBound\\\\\\\\\\\\\\\", \\\\\\\\\\\\\\\"type\\\\\\\\\\\\\\\": 3, \\\\\\\\\\\\\\\"multipleValues\\\\\\\\\\\\\\\": false, \\\\\\\\\\\\\\\"domain\\\\\\\\\\\\\\\": null, \\\\\\\\\\\\\\\"multiValueDetails\\\\\\\\\\\\\\\": null, \\\\\\\\\\\\\\\"isRequired\\\\\\\\\\\\\\\": false, \\\\\\\\\\\\\\\"origin\\\\\\\\\\\\\\\": 1, \\\\\\\\\\\\\\\"defaultValue\\\\\\\\\\\\\\\": 0.0, \\\\\\\\\\\\\\\"initializeFromProperty\\\\\\\\\\\\\\\": null, \\\\\\\\\\\\\\\"telemetryStrategy\\\\\\\\\\\\\\\": 0, \\\\\\\\\\\\\\\"condition\\\\\\\\\\\\\\\": null, \\\\\\\\\\\\\\\"documentation\\\\\\\\\\\\\\\": \\\\\\\\\\\\\\\"A lower bound for the accepted range of probabilities when taking a random sample. If probability is set to 0.6, specifying a lower bound of 0.2 would result in only 40% of the records being taken by the sample instead of 60%. This can be useful in order to create multiple exclusive random splits from a single Dataflow.\\\\\\\\\\\\\\\", \\\\\\\\\\\\\\\"serializeWhenDefault\\\\\\\\\\\\\\\": true}, {\\\\\\\\\\\\\\\"name\\\\\\\\\\\\\\\": \\\\\\\\\\\\\\\"seed\\\\\\\\\\\\\\\", \\\\\\\\\\\\\\\"type\\\\\\\\\\\\\\\": 2, \\\\\\\\\\\\\\\"multipleValues\\\\\\\\\\\\\\\": false, \\\\\\\\\\\\\\\"domain\\\\\\\\\\\\\\\": {\\\\\\\\\\\\\\\"type\\\\\\\\\\\\\\\": 4, \\\\\\\\\\\\\\\"details\\\\\\\\\\\\\\\": {\\\\\\\\\\\\\\\"min\\\\\\\\\\\\\\\": 0.0, \\\\\\\\\\\\\\\"max\\\\\\\\\\\\\\\": 4294967295.0}}, \\\\\\\\\\\\\\\"multiValueDetails\\\\\\\\\\\\\\\": null, \\\\\\\\\\\\\\\"isRequired\\\\\\\\\\\\\\\": true, \\\\\\\\\\\\\\\"origin\\\\\\\\\\\\\\\": 1, \\\\\\\\\\\\\\\"defaultValue\\\\\\\\\\\\\\\": null, \\\\\\\\\\\\\\\"initializeFromProperty\\\\\\\\\\\\\\\": null, \\\\\\\\\\\\\\\"telemetryStrategy\\\\\\\\\\\\\\\": 0, \\\\\\\\\\\\\\\"condition\\\\\\\\\\\\\\\": null, \\\\\\\\\\\\\\\"documentation\\\\\\\\\\\\\\\": \\\\\\\\\\\\\\\"The seed to use for the random generator.\\\\\\\\\\\\\\\", \\\\\\\\\\\\\\\"serializeWhenDefault\\\\\\\\\\\\\\\": true}, {\\\\\\\\\\\\\\\"name\\\\\\\\\\\\\\\": \\\\\\\\\\\\\\\"invert\\\\\\\\\\\\\\\", \\\\\\\\\\\\\\\"type\\\\\\\\\\\\\\\": 4, \\\\\\\\\\\\\\\"multipleValues\\\\\\\\\\\\\\\": false, \\\\\\\\\\\\\\\"domain\\\\\\\\\\\\\\\": null, \\\\\\\\\\\\\\\"multiValueDetails\\\\\\\\\\\\\\\": null, \\\\\\\\\\\\\\\"isRequired\\\\\\\\\\\\\\\": false, \\\\\\\\\\\\\\\"origin\\\\\\\\\\\\\\\": 1, \\\\\\\\\\\\\\\"defaultValue\\\\\\\\\\\\\\\": false, \\\\\\\\\\\\\\\"initializeFromProperty\\\\\\\\\\\\\\\": null, \\\\\\\\\\\\\\\"telemetryStrategy\\\\\\\\\\\\\\\": 0, \\\\\\\\\\\\\\\"condition\\\\\\\\\\\\\\\": null, \\\\\\\\\\\\\\\"documentation\\\\\\\\\\\\\\\": null, \\\\\\\\\\\\\\\"serializeWhenDefault\\\\\\\\\\\\\\\": true}], \\\\\\\\\\\\\\\"arguments\\\\\\\\\\\\\\\": {\\\\\\\\\\\\\\\"invert\\\\\\\\\\\\\\\": false, \\\\\\\\\\\\\\\"probability\\\\\\\\\\\\\\\": 0.7, \\\\\\\\\\\\\\\"probabilityLowerBound\\\\\\\\\\\\\\\": 0.0, \\\\\\\\\\\\\\\"seed\\\\\\\\\\\\\\\": 3030253503}}]}}, \\\\\\\\\\\\\\\"localData\\\\\\\\\\\\\\\": {}, \\\\\\\\\\\\\\\"isEnabled\\\\\\\\\\\\\\\": true, \\\\\\\\\\\\\\\"name\\\\\\\\\\\\\\\": null, \\\\\\\\\\\\\\\"annotation\\\\\\\\\\\\\\\": null}], \\\\\\\\\\\\\\\"inspectors\\\\\\\\\\\\\\\": [], \\\\\\\\\\\\\\\"meta\\\\\\\\\\\\\\\": {\\\\\\\\\\\\\\\"savedDatasetId\\\\\\\\\\\\\\\": \\\\\\\\\\\\\\\"20bf89e6-7494-4376-b074-5d4002d5a656\\\\\\\\\\\\\\\", \\\\\\\\\\\\\\\"datasetType\\\\\\\\\\\\\\\": \\\\\\\\\\\\\\\"tabular\\\\\\\\\\\\\\\", \\\\\\\\\\\\\\\"subscriptionId\\\\\\\\\\\\\\\": \\\\\\\\\\\\\\\"9114a63e-9210-4e32-97ca-b7d9e8ac403d\\\\\\\\\\\\\\\", \\\\\\\\\\\\\\\"workspaceId\\\\\\\\\\\\\\\": \\\\\\\\\\\\\\\"ffe976c5-0d98-42f3-98ed-002364971ee4\\\\\\\\\\\\\\\", \\\\\\\\\\\\\\\"workspaceLocation\\\\\\\\\\\\\\\": \\\\\\\\\\\\\\\"westeurope\\\\\\\\\\\\\\\"}}\\\\\\\", \\\\\\\"activities\\\\\\\": 0}\", \"EnableSubsampling\": \"False\", \"runTemplate\": \"AutoML\", \"azureml.runsource\": \"automl\", \"display_task_type\": \"classification\", \"dependencies_versions\": \"{\\\"azureml-widgets\\\": \\\"1.13.0\\\", \\\"azureml-train\\\": \\\"1.13.0\\\", \\\"azureml-train-restclients-hyperdrive\\\": \\\"1.13.0\\\", \\\"azureml-train-core\\\": \\\"1.13.0\\\", \\\"azureml-train-automl-client\\\": \\\"1.13.0.post1\\\", \\\"azureml-telemetry\\\": \\\"1.13.0\\\", \\\"azureml-sdk\\\": \\\"1.13.0\\\", \\\"azureml-pipeline\\\": \\\"1.13.0\\\", \\\"azureml-pipeline-steps\\\": \\\"1.13.0\\\", \\\"azureml-pipeline-core\\\": \\\"1.13.0\\\", \\\"azureml-dataset-runtime\\\": \\\"1.13.0\\\", \\\"azureml-dataprep\\\": \\\"2.0.8\\\", \\\"azureml-dataprep-native\\\": \\\"20.0.2\\\", \\\"azureml-core\\\": \\\"1.13.0\\\", \\\"azureml-automl-core\\\": \\\"1.13.0\\\"}\", \"ClientSdkVersion\": \"1.13.0\", \"ClientType\": \"SDK\", \"_aml_system_scenario_identification\": \"Remote.Parent\", \"environment_cpu_name\": \"AzureML-AutoML\", \"environment_cpu_version\": \"35\", \"environment_gpu_name\": \"AzureML-AutoML-GPU\", \"environment_gpu_version\": \"23\", \"root_attribution\": \"automl\", \"attribution\": \"AutoML\", \"Orchestrator\": \"AutoML\", \"CancelUri\": \"https://westeurope.experiments.azureml.net/jasmine/v1.0/subscriptions/9114a63e-9210-4e32-97ca-b7d9e8ac403d/resourceGroups/jt-dp100-ressources/providers/Microsoft.MachineLearningServices/workspaces/jt-dp100/experiment/titanic_automl/cancel/AutoML_534f109f-3cf0-40ba-a547-d04c60ba519c\", \"azureml.git.repository_uri\": \"https://github.com/jtobelem-simplon/prepa-dp100.git\", \"mlflow.source.git.repoURL\": \"https://github.com/jtobelem-simplon/prepa-dp100.git\", \"azureml.git.branch\": \"master\", \"mlflow.source.git.branch\": \"master\", \"azureml.git.commit\": \"ec3f4315d10480b95de0e7f372ca9be3530138bb\", \"mlflow.source.git.commit\": \"ec3f4315d10480b95de0e7f372ca9be3530138bb\", \"azureml.git.dirty\": \"True\", \"snapshotId\": \"00000000-0000-0000-0000-000000000000\", \"SetupRunId\": \"AutoML_534f109f-3cf0-40ba-a547-d04c60ba519c_setup\", \"SetupRunContainerId\": \"dcid.AutoML_534f109f-3cf0-40ba-a547-d04c60ba519c_setup\", \"FeaturizationRunJsonPath\": \"featurizer_container.json\", \"FeaturizationRunId\": \"AutoML_534f109f-3cf0-40ba-a547-d04c60ba519c_featurize\", \"ProblemInfoJsonString\": \"{\\\"dataset_num_categorical\\\": 0, \\\"is_sparse\\\": true, \\\"subsampling\\\": false, \\\"dataset_classes\\\": 2, \\\"dataset_features\\\": 5576, \\\"dataset_samples\\\": 626, \\\"single_frequency_class_detected\\\": false}\", \"ModelExplainRunId\": \"AutoML_534f109f-3cf0-40ba-a547-d04c60ba519c_ModelExplain\"}, \"tags\": {\"model_explain_run\": \"best_run\", \"_aml_system_azureml.automlComponent\": \"AutoML\", \"pipeline_id\": \"<a2983da01504b121cc4056d933a1191b51be87bc>;<5dfac790c5c209f98a1da2dc1c7fb76f0397324f>;<c7af0367625be6ac5c2fecbfc72ed444cb7a2111>;<cf1dc9b7ea4a50d759bce352343ec6737501695a>;<__AutoML_Stack_Ensemble__>;<__AutoML_Ensemble__>;\", \"score\": \"<0.8430282292557741>;<0.8531712086032017>;<0.8482219234999389>;<0.818709519736038>;<0.8572039594280828>;<0.8574483685689844>;\", \"predicted_cost\": \"<0.5>;<0>;<0>;<0.5>;<0>;<0>;\", \"fit_time\": \"<0.068263>;<0.227661>;<1.494314>;<0.024489>;<5>;<3>;\", \"training_percent\": \"<100>;<100>;<100>;<100>;<100>;<100>;\", \"iteration\": \"<3>;<0>;<1>;<2>;<5>;<4>;\", \"run_preprocessor\": \"<MaxAbsScaler>;<MaxAbsScaler>;<MaxAbsScaler>;<MaxAbsScaler>;<>;<>;\", \"run_algorithm\": \"<SGD>;<LightGBM>;<XGBoostClassifier>;<RandomForest>;<StackEnsemble>;<VotingEnsemble>;\", \"automl_best_child_run_id\": \"AutoML_534f109f-3cf0-40ba-a547-d04c60ba519c_4\", \"model_explain_best_run_child_id\": \"AutoML_534f109f-3cf0-40ba-a547-d04c60ba519c_4\"}, \"end_time_utc\": \"2020-09-16T15:46:48.76964Z\", \"status\": \"Completed\", \"log_files\": {}, \"log_groups\": [], \"run_duration\": \"0:27:11\"}, \"child_runs\": [{\"run_id\": \"AutoML_534f109f-3cf0-40ba-a547-d04c60ba519c_0\", \"run_number\": 24, \"metric\": null, \"status\": \"Completed\", \"run_type\": \"azureml.scriptrun\", \"training_percent\": \"100\", \"start_time\": \"2020-09-16T15:41:22.313665Z\", \"end_time\": \"2020-09-16T15:41:59.951696Z\", \"created_time\": \"2020-09-16T15:37:28.815623Z\", \"created_time_dt\": \"2020-09-16T15:37:28.815623Z\", \"duration\": \"0:04:31\", \"iteration\": \"0\", \"goal\": \"AUC_weighted_max\", \"run_name\": \"MaxAbsScaler, LightGBM\", \"run_properties\": \"copy=True\", \"primary_metric\": 0.85317121, \"best_metric\": 0.85317121}, {\"run_id\": \"AutoML_534f109f-3cf0-40ba-a547-d04c60ba519c_1\", \"run_number\": 25, \"metric\": null, \"status\": \"Completed\", \"run_type\": \"azureml.scriptrun\", \"training_percent\": \"100\", \"start_time\": \"2020-09-16T15:37:40.99978Z\", \"end_time\": \"2020-09-16T15:42:45.279341Z\", \"created_time\": \"2020-09-16T15:37:28.829381Z\", \"created_time_dt\": \"2020-09-16T15:37:28.829381Z\", \"duration\": \"0:05:16\", \"iteration\": \"1\", \"goal\": \"AUC_weighted_max\", \"run_name\": \"MaxAbsScaler, XGBoostClassifier\", \"run_properties\": \"copy=True\", \"primary_metric\": 0.84822192, \"best_metric\": 0.85317121}, {\"run_id\": \"AutoML_534f109f-3cf0-40ba-a547-d04c60ba519c_2\", \"run_number\": 26, \"metric\": null, \"status\": \"Completed\", \"run_type\": \"azureml.scriptrun\", \"training_percent\": \"100\", \"start_time\": \"2020-09-16T15:40:22.220168Z\", \"end_time\": \"2020-09-16T15:45:36.353874Z\", \"created_time\": \"2020-09-16T15:37:28.861367Z\", \"created_time_dt\": \"2020-09-16T15:37:28.861367Z\", \"duration\": \"0:08:07\", \"iteration\": \"2\", \"goal\": \"AUC_weighted_max\", \"run_name\": \"MaxAbsScaler, RandomForest\", \"run_properties\": \"copy=True\", \"primary_metric\": 0.81870952, \"best_metric\": 0.85317121}, {\"run_id\": \"AutoML_534f109f-3cf0-40ba-a547-d04c60ba519c_3\", \"run_number\": 27, \"metric\": null, \"status\": \"Completed\", \"run_type\": \"azureml.scriptrun\", \"training_percent\": \"100\", \"start_time\": \"2020-09-16T15:40:23.183682Z\", \"end_time\": \"2020-09-16T15:45:40.458429Z\", \"created_time\": \"2020-09-16T15:37:29.010521Z\", \"created_time_dt\": \"2020-09-16T15:37:29.010521Z\", \"duration\": \"0:08:11\", \"iteration\": \"3\", \"goal\": \"AUC_weighted_max\", \"run_name\": \"MaxAbsScaler, SGD\", \"run_properties\": \"copy=True\", \"primary_metric\": 0.84302823, \"best_metric\": 0.85317121}, {\"run_id\": \"AutoML_534f109f-3cf0-40ba-a547-d04c60ba519c_4\", \"run_number\": 28, \"metric\": null, \"status\": \"Completed\", \"run_type\": \"azureml.scriptrun\", \"training_percent\": \"100\", \"start_time\": \"2020-09-16T15:46:02.193374Z\", \"end_time\": \"2020-09-16T15:46:42.457678Z\", \"created_time\": \"2020-09-16T15:45:50.496596Z\", \"created_time_dt\": \"2020-09-16T15:45:50.496596Z\", \"duration\": \"0:00:51\", \"iteration\": \"4\", \"goal\": \"AUC_weighted_max\", \"run_name\": \"VotingEnsemble\", \"run_properties\": \"classification_labels=None,\\n                              estimators=[('0',\\n                                           Pipeline(memory=None,\\n                                                    steps=[('maxabsscaler',\\n                                                            MaxAbsScaler(copy=True\", \"primary_metric\": 0.85744837, \"best_metric\": 0.85744837}, {\"run_id\": \"AutoML_534f109f-3cf0-40ba-a547-d04c60ba519c_5\", \"run_number\": 29, \"metric\": null, \"status\": \"Completed\", \"run_type\": \"azureml.scriptrun\", \"training_percent\": \"100\", \"start_time\": \"2020-09-16T15:46:08.04553Z\", \"end_time\": \"2020-09-16T15:46:45.821183Z\", \"created_time\": \"2020-09-16T15:45:50.625742Z\", \"created_time_dt\": \"2020-09-16T15:45:50.625742Z\", \"duration\": \"0:00:55\", \"iteration\": \"5\", \"goal\": \"AUC_weighted_max\", \"run_name\": \"StackEnsemble\", \"run_properties\": \"base_learners=[('0',\\n                                        Pipeline(memory=None,\\n                                                 steps=[('maxabsscaler',\\n                                                         MaxAbsScaler(copy=True\", \"primary_metric\": 0.85720396, \"best_metric\": 0.85744837}], \"children_metrics\": {\"categories\": [0], \"series\": {\"balanced_accuracy\": [{\"categories\": [\"0\", \"1\", \"2\", \"3\", \"4\", \"5\"], \"mode\": \"markers\", \"name\": \"balanced_accuracy\", \"stepped\": false, \"type\": \"scatter\", \"data\": [0.8065807161187828, 0.790724673102774, 0.7433704020530367, 0.7727606012464866, 0.7916106562385433, 0.5]}, {\"categories\": [\"0\", \"1\", \"2\", \"3\", \"4\", \"5\"], \"mode\": \"lines\", \"name\": \"balanced_accuracy_max\", \"stepped\": true, \"type\": \"scatter\", \"data\": [0.8065807161187828, 0.8065807161187828, 0.8065807161187828, 0.8065807161187828, 0.8065807161187828, 0.8065807161187828]}], \"precision_score_micro\": [{\"categories\": [\"0\", \"1\", \"2\", \"3\", \"4\", \"5\"], \"mode\": \"markers\", \"name\": \"precision_score_micro\", \"stepped\": false, \"type\": \"scatter\", \"data\": [0.8226415094339623, 0.8, 0.7509433962264151, 0.7773584905660378, 0.8037735849056604, 0.630188679245283]}, {\"categories\": [\"0\", \"1\", \"2\", \"3\", \"4\", \"5\"], \"mode\": \"lines\", \"name\": \"precision_score_micro_max\", \"stepped\": true, \"type\": \"scatter\", \"data\": [0.8226415094339623, 0.8226415094339623, 0.8226415094339623, 0.8226415094339623, 0.8226415094339623, 0.8226415094339623]}], \"precision_score_macro\": [{\"categories\": [\"0\", \"1\", \"2\", \"3\", \"4\", \"5\"], \"mode\": \"markers\", \"name\": \"precision_score_macro\", \"stepped\": false, \"type\": \"scatter\", \"data\": [0.8106811145510835, 0.7851492268967997, 0.7349020995517811, 0.7625264643613268, 0.7892424242424243, 0.3150943396226415]}, {\"categories\": [\"0\", \"1\", \"2\", \"3\", \"4\", \"5\"], \"mode\": \"lines\", \"name\": \"precision_score_macro_max\", \"stepped\": true, \"type\": \"scatter\", \"data\": [0.8106811145510835, 0.8106811145510835, 0.8106811145510835, 0.8106811145510835, 0.8106811145510835, 0.8106811145510835]}], \"accuracy\": [{\"categories\": [\"0\", \"1\", \"2\", \"3\", \"4\", \"5\"], \"mode\": \"markers\", \"name\": \"accuracy\", \"stepped\": false, \"type\": \"scatter\", \"data\": [0.8226415094339623, 0.8, 0.7509433962264151, 0.7773584905660378, 0.8037735849056604, 0.630188679245283]}, {\"categories\": [\"0\", \"1\", \"2\", \"3\", \"4\", \"5\"], \"mode\": \"lines\", \"name\": \"accuracy_max\", \"stepped\": true, \"type\": \"scatter\", \"data\": [0.8226415094339623, 0.8226415094339623, 0.8226415094339623, 0.8226415094339623, 0.8226415094339623, 0.8226415094339623]}], \"AUC_micro\": [{\"categories\": [\"0\", \"1\", \"2\", \"3\", \"4\", \"5\"], \"mode\": \"markers\", \"name\": \"AUC_micro\", \"stepped\": false, \"type\": \"scatter\", \"data\": [0.8665290138839443, 0.8638234247063012, 0.8394304022783909, 0.8447703809184763, 0.8697045211819152, 0.7966820932716269]}, {\"categories\": [\"0\", \"1\", \"2\", \"3\", \"4\", \"5\"], \"mode\": \"lines\", \"name\": \"AUC_micro_max\", \"stepped\": true, \"type\": \"scatter\", \"data\": [0.8665290138839443, 0.8665290138839443, 0.8665290138839443, 0.8665290138839443, 0.8697045211819152, 0.8697045211819152]}], \"AUC_macro\": [{\"categories\": [\"0\", \"1\", \"2\", \"3\", \"4\", \"5\"], \"mode\": \"markers\", \"name\": \"AUC_macro\", \"stepped\": false, \"type\": \"scatter\", \"data\": [0.8531712086032017, 0.8482219234999389, 0.8187095197360381, 0.8430282292557743, 0.8574483685689844, 0.8572039594280827]}, {\"categories\": [\"0\", \"1\", \"2\", \"3\", \"4\", \"5\"], \"mode\": \"lines\", \"name\": \"AUC_macro_max\", \"stepped\": true, \"type\": \"scatter\", \"data\": [0.8531712086032017, 0.8531712086032017, 0.8531712086032017, 0.8531712086032017, 0.8574483685689844, 0.8574483685689844]}], \"AUC_weighted\": [{\"categories\": [\"0\", \"1\", \"2\", \"3\", \"4\", \"5\"], \"mode\": \"markers\", \"name\": \"AUC_weighted\", \"stepped\": false, \"type\": \"scatter\", \"data\": [0.8531712086032017, 0.8482219234999389, 0.818709519736038, 0.8430282292557741, 0.8574483685689844, 0.8572039594280828]}, {\"categories\": [\"0\", \"1\", \"2\", \"3\", \"4\", \"5\"], \"mode\": \"lines\", \"name\": \"AUC_weighted_max\", \"stepped\": true, \"type\": \"scatter\", \"data\": [0.8531712086032017, 0.8531712086032017, 0.8531712086032017, 0.8531712086032017, 0.8574483685689844, 0.8574483685689844]}], \"recall_score_weighted\": [{\"categories\": [\"0\", \"1\", \"2\", \"3\", \"4\", \"5\"], \"mode\": \"markers\", \"name\": \"recall_score_weighted\", \"stepped\": false, \"type\": \"scatter\", \"data\": [0.8226415094339623, 0.8, 0.7509433962264151, 0.7773584905660378, 0.8037735849056604, 0.630188679245283]}, {\"categories\": [\"0\", \"1\", \"2\", \"3\", \"4\", \"5\"], \"mode\": \"lines\", \"name\": \"recall_score_weighted_max\", \"stepped\": true, \"type\": \"scatter\", \"data\": [0.8226415094339623, 0.8226415094339623, 0.8226415094339623, 0.8226415094339623, 0.8226415094339623, 0.8226415094339623]}], \"f1_score_macro\": [{\"categories\": [\"0\", \"1\", \"2\", \"3\", \"4\", \"5\"], \"mode\": \"markers\", \"name\": \"f1_score_macro\", \"stepped\": false, \"type\": \"scatter\", \"data\": [0.808505404283452, 0.7876120915180934, 0.7379539733908667, 0.7661566533554687, 0.7903736156748205, 0.386574074074074]}, {\"categories\": [\"0\", \"1\", \"2\", \"3\", \"4\", \"5\"], \"mode\": \"lines\", \"name\": \"f1_score_macro_max\", \"stepped\": true, \"type\": \"scatter\", \"data\": [0.808505404283452, 0.808505404283452, 0.808505404283452, 0.808505404283452, 0.808505404283452, 0.808505404283452]}], \"precision_score_weighted\": [{\"categories\": [\"0\", \"1\", \"2\", \"3\", \"4\", \"5\"], \"mode\": \"markers\", \"name\": \"precision_score_weighted\", \"stepped\": false, \"type\": \"scatter\", \"data\": [0.8216846778433319, 0.8025170801869831, 0.7574908642568781, 0.784301141129945, 0.8046678101772441, 0.3971377714489142]}, {\"categories\": [\"0\", \"1\", \"2\", \"3\", \"4\", \"5\"], \"mode\": \"lines\", \"name\": \"precision_score_weighted_max\", \"stepped\": true, \"type\": \"scatter\", \"data\": [0.8216846778433319, 0.8216846778433319, 0.8216846778433319, 0.8216846778433319, 0.8216846778433319, 0.8216846778433319]}], \"average_precision_score_macro\": [{\"categories\": [\"0\", \"1\", \"2\", \"3\", \"4\", \"5\"], \"mode\": \"markers\", \"name\": \"average_precision_score_macro\", \"stepped\": false, \"type\": \"scatter\", \"data\": [0.8321799745177612, 0.8396165228839962, 0.7820667025112329, 0.8315591886603138, 0.8424506508676365, 0.8422224070053445]}, {\"categories\": [\"0\", \"1\", \"2\", \"3\", \"4\", \"5\"], \"mode\": \"lines\", \"name\": \"average_precision_score_macro_max\", \"stepped\": true, \"type\": \"scatter\", \"data\": [0.8321799745177612, 0.8396165228839962, 0.8396165228839962, 0.8396165228839962, 0.8424506508676365, 0.8424506508676365]}], \"f1_score_micro\": [{\"categories\": [\"0\", \"1\", \"2\", \"3\", \"4\", \"5\"], \"mode\": \"markers\", \"name\": \"f1_score_micro\", \"stepped\": false, \"type\": \"scatter\", \"data\": [0.8226415094339623, 0.8000000000000002, 0.7509433962264151, 0.7773584905660378, 0.8037735849056604, 0.630188679245283]}, {\"categories\": [\"0\", \"1\", \"2\", \"3\", \"4\", \"5\"], \"mode\": \"lines\", \"name\": \"f1_score_micro_max\", \"stepped\": true, \"type\": \"scatter\", \"data\": [0.8226415094339623, 0.8226415094339623, 0.8226415094339623, 0.8226415094339623, 0.8226415094339623, 0.8226415094339623]}], \"recall_score_macro\": [{\"categories\": [\"0\", \"1\", \"2\", \"3\", \"4\", \"5\"], \"mode\": \"markers\", \"name\": \"recall_score_macro\", \"stepped\": false, \"type\": \"scatter\", \"data\": [0.8065807161187828, 0.790724673102774, 0.7433704020530367, 0.7727606012464866, 0.7916106562385433, 0.5]}, {\"categories\": [\"0\", \"1\", \"2\", \"3\", \"4\", \"5\"], \"mode\": \"lines\", \"name\": \"recall_score_macro_max\", \"stepped\": true, \"type\": \"scatter\", \"data\": [0.8065807161187828, 0.8065807161187828, 0.8065807161187828, 0.8065807161187828, 0.8065807161187828, 0.8065807161187828]}], \"matthews_correlation\": [{\"categories\": [\"0\", \"1\", \"2\", \"3\", \"4\", \"5\"], \"mode\": \"markers\", \"name\": \"matthews_correlation\", \"stepped\": false, \"type\": \"scatter\", \"data\": [0.6172482112850642, 0.575846909430209, 0.47819752576114166, 0.5351892235922163, 0.5808482526283797, 0.0]}, {\"categories\": [\"0\", \"1\", \"2\", \"3\", \"4\", \"5\"], \"mode\": \"lines\", \"name\": \"matthews_correlation_max\", \"stepped\": true, \"type\": \"scatter\", \"data\": [0.6172482112850642, 0.6172482112850642, 0.6172482112850642, 0.6172482112850642, 0.6172482112850642, 0.6172482112850642]}], \"norm_macro_recall\": [{\"categories\": [\"0\", \"1\", \"2\", \"3\", \"4\", \"5\"], \"mode\": \"markers\", \"name\": \"norm_macro_recall\", \"stepped\": false, \"type\": \"scatter\", \"data\": [0.6131614322375656, 0.5814493462055479, 0.48674080410607345, 0.5455212024929732, 0.5832213124770866, 0.0]}, {\"categories\": [\"0\", \"1\", \"2\", \"3\", \"4\", \"5\"], \"mode\": \"lines\", \"name\": \"norm_macro_recall_max\", \"stepped\": true, \"type\": \"scatter\", \"data\": [0.6131614322375656, 0.6131614322375656, 0.6131614322375656, 0.6131614322375656, 0.6131614322375656, 0.6131614322375656]}], \"weighted_accuracy\": [{\"categories\": [\"0\", \"1\", \"2\", \"3\", \"4\", \"5\"], \"mode\": \"markers\", \"name\": \"weighted_accuracy\", \"stepped\": false, \"type\": \"scatter\", \"data\": [0.8366628437308298, 0.8080975115354867, 0.7575547435521297, 0.781372522870936, 0.8143920198437042, 0.7438455178299949]}, {\"categories\": [\"0\", \"1\", \"2\", \"3\", \"4\", \"5\"], \"mode\": \"lines\", \"name\": \"weighted_accuracy_max\", \"stepped\": true, \"type\": \"scatter\", \"data\": [0.8366628437308298, 0.8366628437308298, 0.8366628437308298, 0.8366628437308298, 0.8366628437308298, 0.8366628437308298]}], \"average_precision_score_weighted\": [{\"categories\": [\"0\", \"1\", \"2\", \"3\", \"4\", \"5\"], \"mode\": \"markers\", \"name\": \"average_precision_score_weighted\", \"stepped\": false, \"type\": \"scatter\", \"data\": [0.8492585144746541, 0.852026314402304, 0.8062640670367367, 0.8461878045985436, 0.8547312648543035, 0.8543562522117295]}, {\"categories\": [\"0\", \"1\", \"2\", \"3\", \"4\", \"5\"], \"mode\": \"lines\", \"name\": \"average_precision_score_weighted_max\", \"stepped\": true, \"type\": \"scatter\", \"data\": [0.8492585144746541, 0.852026314402304, 0.852026314402304, 0.852026314402304, 0.8547312648543035, 0.8547312648543035]}], \"recall_score_micro\": [{\"categories\": [\"0\", \"1\", \"2\", \"3\", \"4\", \"5\"], \"mode\": \"markers\", \"name\": \"recall_score_micro\", \"stepped\": false, \"type\": \"scatter\", \"data\": [0.8226415094339623, 0.8, 0.7509433962264151, 0.7773584905660378, 0.8037735849056604, 0.630188679245283]}, {\"categories\": [\"0\", \"1\", \"2\", \"3\", \"4\", \"5\"], \"mode\": \"lines\", \"name\": \"recall_score_micro_max\", \"stepped\": true, \"type\": \"scatter\", \"data\": [0.8226415094339623, 0.8226415094339623, 0.8226415094339623, 0.8226415094339623, 0.8226415094339623, 0.8226415094339623]}], \"f1_score_weighted\": [{\"categories\": [\"0\", \"1\", \"2\", \"3\", \"4\", \"5\"], \"mode\": \"markers\", \"name\": \"f1_score_weighted\", \"stepped\": false, \"type\": \"scatter\", \"data\": [0.8220525050526909, 0.800967805350149, 0.753144993317186, 0.7794829769335593, 0.804173583987178, 0.48722921034241784]}, {\"categories\": [\"0\", \"1\", \"2\", \"3\", \"4\", \"5\"], \"mode\": \"lines\", \"name\": \"f1_score_weighted_max\", \"stepped\": true, \"type\": \"scatter\", \"data\": [0.8220525050526909, 0.8220525050526909, 0.8220525050526909, 0.8220525050526909, 0.8220525050526909, 0.8220525050526909]}], \"average_precision_score_micro\": [{\"categories\": [\"0\", \"1\", \"2\", \"3\", \"4\", \"5\"], \"mode\": \"markers\", \"name\": \"average_precision_score_micro\", \"stepped\": false, \"type\": \"scatter\", \"data\": [0.8484954097135184, 0.85177788820579, 0.8295726499580593, 0.8372156423232829, 0.8530326478777204, 0.7985210812900159]}, {\"categories\": [\"0\", \"1\", \"2\", \"3\", \"4\", \"5\"], \"mode\": \"lines\", \"name\": \"average_precision_score_micro_max\", \"stepped\": true, \"type\": \"scatter\", \"data\": [0.8484954097135184, 0.85177788820579, 0.85177788820579, 0.85177788820579, 0.8530326478777204, 0.8530326478777204]}], \"log_loss\": [{\"categories\": [\"0\", \"1\", \"2\", \"3\", \"4\", \"5\"], \"mode\": \"markers\", \"name\": \"log_loss\", \"stepped\": false, \"type\": \"scatter\", \"data\": [0.5480641961564783, 0.46050558698195965, 0.5056128617620145, 0.5046893367341915, 0.4607830439751315, 0.6591659737451454]}, {\"categories\": [\"0\", \"1\", \"2\", \"3\", \"4\", \"5\"], \"mode\": \"lines\", \"name\": \"log_loss_min\", \"stepped\": true, \"type\": \"scatter\", \"data\": [0.5480641961564783, 0.46050558698195965, 0.46050558698195965, 0.46050558698195965, 0.46050558698195965, 0.46050558698195965]}]}, \"metricName\": null, \"primaryMetricName\": \"AUC_weighted\", \"showLegend\": false}, \"run_metrics\": [{\"name\": \"experiment_status\", \"run_id\": \"AutoML_534f109f-3cf0-40ba-a547-d04c60ba519c\", \"categories\": [0, 1, 2, 3, 4, 5, 6, 7, 8, 9, 10, 11, 12], \"series\": [{\"data\": [\"DatasetEvaluation\", \"FeaturesGeneration\", \"DatasetFeaturization\", \"DatasetFeaturizationCompleted\", \"ModelSelection\", \"BestRunExplainModel\", \"ModelExplanationDataSetSetup\", \"PickSurrogateModel\", \"EngineeredFeatureExplanations\", \"EngineeredFeatureExplanations\", \"RawFeaturesExplanations\", \"RawFeaturesExplanations\", \"BestRunExplainModel\"]}]}, {\"name\": \"experiment_status_description\", \"run_id\": \"AutoML_534f109f-3cf0-40ba-a547-d04c60ba519c\", \"categories\": [0, 1, 2, 3, 4, 5, 6, 7, 8, 9, 10, 11, 12], \"series\": [{\"data\": [\"Gathering dataset statistics.\", \"Generating features for the dataset.\", \"Beginning to fit featurizers and featurize the dataset.\", \"Completed fit featurizers and featurizing the dataset.\", \"Beginning model selection.\", \"Best run model explanations started\", \"Model explanations data setup completed\", \"Choosing LinearModel as the surrogate model for explanations\", \"Computation of engineered features started\", \"Computation of engineered features completed\", \"Computation of raw features started\", \"Computation of raw features completed\", \"Best run model explanations completed\"]}]}, {\"name\": \"log_loss\", \"run_id\": \"AutoML_534f109f-3cf0-40ba-a547-d04c60ba519c\", \"categories\": [0], \"series\": [{\"data\": [0.4607830439751315]}]}, {\"name\": \"AUC_macro\", \"run_id\": \"AutoML_534f109f-3cf0-40ba-a547-d04c60ba519c\", \"categories\": [0], \"series\": [{\"data\": [0.8574483685689844]}]}, {\"name\": \"f1_score_weighted\", \"run_id\": \"AutoML_534f109f-3cf0-40ba-a547-d04c60ba519c\", \"categories\": [0], \"series\": [{\"data\": [0.804173583987178]}]}, {\"name\": \"matthews_correlation\", \"run_id\": \"AutoML_534f109f-3cf0-40ba-a547-d04c60ba519c\", \"categories\": [0], \"series\": [{\"data\": [0.5808482526283797]}]}, {\"name\": \"recall_score_weighted\", \"run_id\": \"AutoML_534f109f-3cf0-40ba-a547-d04c60ba519c\", \"categories\": [0], \"series\": [{\"data\": [0.8037735849056604]}]}, {\"name\": \"average_precision_score_macro\", \"run_id\": \"AutoML_534f109f-3cf0-40ba-a547-d04c60ba519c\", \"categories\": [0], \"series\": [{\"data\": [0.8424506508676365]}]}, {\"name\": \"recall_score_macro\", \"run_id\": \"AutoML_534f109f-3cf0-40ba-a547-d04c60ba519c\", \"categories\": [0], \"series\": [{\"data\": [0.7916106562385433]}]}, {\"name\": \"f1_score_micro\", \"run_id\": \"AutoML_534f109f-3cf0-40ba-a547-d04c60ba519c\", \"categories\": [0], \"series\": [{\"data\": [0.8037735849056604]}]}, {\"name\": \"average_precision_score_micro\", \"run_id\": \"AutoML_534f109f-3cf0-40ba-a547-d04c60ba519c\", \"categories\": [0], \"series\": [{\"data\": [0.8530326478777204]}]}, {\"name\": \"recall_score_micro\", \"run_id\": \"AutoML_534f109f-3cf0-40ba-a547-d04c60ba519c\", \"categories\": [0], \"series\": [{\"data\": [0.8037735849056604]}]}, {\"name\": \"average_precision_score_weighted\", \"run_id\": \"AutoML_534f109f-3cf0-40ba-a547-d04c60ba519c\", \"categories\": [0], \"series\": [{\"data\": [0.8547312648543035]}]}, {\"name\": \"AUC_micro\", \"run_id\": \"AutoML_534f109f-3cf0-40ba-a547-d04c60ba519c\", \"categories\": [0], \"series\": [{\"data\": [0.8697045211819152]}]}, {\"name\": \"accuracy\", \"run_id\": \"AutoML_534f109f-3cf0-40ba-a547-d04c60ba519c\", \"categories\": [0], \"series\": [{\"data\": [0.8037735849056604]}]}, {\"name\": \"weighted_accuracy\", \"run_id\": \"AutoML_534f109f-3cf0-40ba-a547-d04c60ba519c\", \"categories\": [0], \"series\": [{\"data\": [0.8143920198437042]}]}, {\"name\": \"f1_score_macro\", \"run_id\": \"AutoML_534f109f-3cf0-40ba-a547-d04c60ba519c\", \"categories\": [0], \"series\": [{\"data\": [0.7903736156748205]}]}, {\"name\": \"precision_score_micro\", \"run_id\": \"AutoML_534f109f-3cf0-40ba-a547-d04c60ba519c\", \"categories\": [0], \"series\": [{\"data\": [0.8037735849056604]}]}, {\"name\": \"AUC_weighted\", \"run_id\": \"AutoML_534f109f-3cf0-40ba-a547-d04c60ba519c\", \"categories\": [0], \"series\": [{\"data\": [0.8574483685689844]}]}, {\"name\": \"norm_macro_recall\", \"run_id\": \"AutoML_534f109f-3cf0-40ba-a547-d04c60ba519c\", \"categories\": [0], \"series\": [{\"data\": [0.5832213124770866]}]}, {\"name\": \"balanced_accuracy\", \"run_id\": \"AutoML_534f109f-3cf0-40ba-a547-d04c60ba519c\", \"categories\": [0], \"series\": [{\"data\": [0.7916106562385433]}]}, {\"name\": \"precision_score_weighted\", \"run_id\": \"AutoML_534f109f-3cf0-40ba-a547-d04c60ba519c\", \"categories\": [0], \"series\": [{\"data\": [0.8046678101772441]}]}, {\"name\": \"precision_score_macro\", \"run_id\": \"AutoML_534f109f-3cf0-40ba-a547-d04c60ba519c\", \"categories\": [0], \"series\": [{\"data\": [0.7892424242424243]}]}], \"run_logs\": \"\\nRun is completed.\", \"graph\": {}, \"widget_settings\": {\"childWidgetDisplay\": \"popup\", \"send_telemetry\": false, \"log_level\": \"INFO\", \"sdk_version\": \"1.13.0\"}, \"loading\": false}"
     },
     "metadata": {},
     "output_type": "display_data"
    },
    {
     "name": "stdout",
     "output_type": "stream",
     "text": [
      "\n",
      "Current status: FeaturesGeneration. Generating features for the dataset.\n",
      "Current status: ModelSelection. Beginning model selection.\n",
      "\n",
      "****************************************************************************************************\n",
      "DATA GUARDRAILS: \n",
      "\n",
      "TYPE:         Class balancing detection\n",
      "STATUS:       PASSED\n",
      "DESCRIPTION:  Your inputs were analyzed, and all classes are balanced in your training data.\n",
      "              Learn more about imbalanced data: https://aka.ms/AutomatedMLImbalancedData\n",
      "\n",
      "****************************************************************************************************\n",
      "\n",
      "TYPE:         Missing feature values imputation\n",
      "STATUS:       DONE\n",
      "DESCRIPTION:  If the missing values are expected, let the run complete. Otherwise cancel the current run and use a script to customize the handling of missing feature values that may be more appropriate based on the data type and business requirement.\n",
      "              Learn more about missing value imputation: https://aka.ms/AutomatedMLFeaturization\n",
      "DETAILS:      \n",
      "+---------------------------------+---------------------------------+---------------------------------+\n",
      "|Column name                      |Missing value count              |Imputation type                  |\n",
      "+=================================+=================================+=================================+\n",
      "|Age                              |123                              |mean                             |\n",
      "|Embarked                         |1                                |                                 |\n",
      "+---------------------------------+---------------------------------+---------------------------------+\n",
      "\n",
      "****************************************************************************************************\n",
      "\n",
      "TYPE:         High cardinality feature detection\n",
      "STATUS:       DONE\n",
      "DESCRIPTION:  High cardinality features were detected in your inputs and handled.\n",
      "              Learn more about high cardinality feature handling: https://aka.ms/AutomatedMLFeaturization\n",
      "DETAILS:      High cardinality features refer to columns that contain a large percentage of unique values.\n",
      "+---------------------------------+---------------------------------+\n",
      "|Column name                      |Column Content Type              |\n",
      "+=================================+=================================+\n",
      "|Name                             |text                             |\n",
      "+---------------------------------+---------------------------------+\n",
      "\n",
      "****************************************************************************************************\n",
      "\n",
      "****************************************************************************************************\n",
      "ITERATION: The iteration being evaluated.\n",
      "PIPELINE: A summary description of the pipeline being evaluated.\n",
      "DURATION: Time taken for the current iteration.\n",
      "METRIC: The result of computing score on the fitted pipeline.\n",
      "BEST: The best observed score thus far.\n",
      "****************************************************************************************************\n",
      "\n",
      " ITERATION   PIPELINE                                       DURATION      METRIC      BEST\n",
      "         0   MaxAbsScaler LightGBM                          0:00:38       0.8532    0.8532\n",
      "         1   MaxAbsScaler XGBoostClassifier                 0:05:04       0.8482    0.8532\n",
      "         3   MaxAbsScaler SGD                               0:05:17       0.8430    0.8532\n",
      "         2   MaxAbsScaler RandomForest                      0:05:14       0.8187    0.8532\n",
      "         4    VotingEnsemble                                0:00:40       0.8574    0.8574\n",
      "         5    StackEnsemble                                 0:00:38       0.8572    0.8574\n"
     ]
    },
    {
     "data": {
      "text/plain": [
       "{'runId': 'AutoML_534f109f-3cf0-40ba-a547-d04c60ba519c',\n",
       " 'target': 'aml-cluster',\n",
       " 'status': 'Completed',\n",
       " 'startTimeUtc': '2020-09-16T15:37:27.63548Z',\n",
       " 'endTimeUtc': '2020-09-16T15:46:48.76964Z',\n",
       " 'properties': {'num_iterations': '6',\n",
       "  'training_type': 'TrainFull',\n",
       "  'acquisition_function': 'EI',\n",
       "  'primary_metric': 'AUC_weighted',\n",
       "  'train_split': '0',\n",
       "  'acquisition_parameter': '0',\n",
       "  'num_cross_validation': None,\n",
       "  'target': 'aml-cluster',\n",
       "  'AMLSettingsJsonString': '{\"path\":null,\"name\":\"Automated ML Experiment on titanic dataset\",\"subscription_id\":\"9114a63e-9210-4e32-97ca-b7d9e8ac403d\",\"resource_group\":\"jt-dp100-ressources\",\"workspace_name\":\"jt-dp100\",\"region\":\"westeurope\",\"compute_target\":\"aml-cluster\",\"spark_service\":null,\"azure_service\":\"remote\",\"_local_managed_run_id\":null,\"many_models\":false,\"iterations\":6,\"primary_metric\":\"AUC_weighted\",\"task_type\":\"classification\",\"data_script\":null,\"validation_size\":0.0,\"n_cross_validations\":null,\"y_min\":null,\"y_max\":null,\"num_classes\":null,\"featurization\":\"auto\",\"_ignore_package_version_incompatibilities\":false,\"is_timeseries\":false,\"max_cores_per_iteration\":1,\"max_concurrent_iterations\":4,\"iteration_timeout_minutes\":null,\"mem_in_mb\":null,\"enforce_time_on_windows\":false,\"experiment_timeout_minutes\":8640,\"experiment_exit_score\":null,\"whitelist_models\":null,\"blacklist_algos\":[\"TensorFlowLinearClassifier\"],\"supported_models\":[\"BernoulliNaiveBayes\",\"DecisionTree\",\"AveragedPerceptronClassifier\",\"TensorFlowLinearClassifier\",\"GradientBoosting\",\"LogisticRegression\",\"RandomForest\",\"XGBoostClassifier\",\"TensorFlowDNN\",\"SVM\",\"KNN\",\"SGD\",\"ExtremeRandomTrees\",\"LinearSVM\",\"LightGBM\",\"MultinomialNaiveBayes\"],\"auto_blacklist\":true,\"blacklist_samples_reached\":false,\"exclude_nan_labels\":true,\"verbosity\":20,\"_debug_log\":\"azureml_automl.log\",\"show_warnings\":false,\"model_explainability\":true,\"service_url\":null,\"sdk_url\":null,\"sdk_packages\":null,\"enable_onnx_compatible_models\":false,\"enable_split_onnx_featurizer_estimator_models\":false,\"vm_type\":\"STANDARD_D2_V2\",\"telemetry_verbosity\":20,\"send_telemetry\":true,\"enable_dnn\":false,\"force_text_dnn\":false,\"enable_feature_sweeping\":true,\"enable_early_stopping\":false,\"early_stopping_n_iters\":10,\"metrics\":null,\"enable_ensembling\":true,\"enable_stack_ensembling\":true,\"ensemble_iterations\":6,\"enable_tf\":false,\"enable_subsampling\":false,\"subsample_seed\":null,\"enable_nimbusml\":false,\"enable_streaming\":false,\"force_streaming\":false,\"track_child_runs\":true,\"label_column_name\":\"Survived\",\"weight_column_name\":null,\"cv_split_column_names\":null,\"enable_local_managed\":false,\"cost_mode\":1,\"lag_length\":0,\"metric_operation\":\"maximize\",\"preprocess\":true,\"scenario\":\"SDK-1.13.0\"}',\n",
       "  'DataPrepJsonString': '{\\\\\"training_data\\\\\": \\\\\"{\\\\\\\\\\\\\"blocks\\\\\\\\\\\\\": [{\\\\\\\\\\\\\"id\\\\\\\\\\\\\": \\\\\\\\\\\\\"effc7271-5193-4aac-aa8e-2aabafe34126\\\\\\\\\\\\\", \\\\\\\\\\\\\"type\\\\\\\\\\\\\": \\\\\\\\\\\\\"Microsoft.DPrep.GetDatastoreFilesBlock\\\\\\\\\\\\\", \\\\\\\\\\\\\"arguments\\\\\\\\\\\\\": {\\\\\\\\\\\\\"datastores\\\\\\\\\\\\\": [{\\\\\\\\\\\\\"datastoreName\\\\\\\\\\\\\": \\\\\\\\\\\\\"workspaceblobstore\\\\\\\\\\\\\", \\\\\\\\\\\\\"path\\\\\\\\\\\\\": \\\\\\\\\\\\\"titanic-data/train.csv\\\\\\\\\\\\\", \\\\\\\\\\\\\"resourceGroup\\\\\\\\\\\\\": \\\\\\\\\\\\\"jt-dp100-ressources\\\\\\\\\\\\\", \\\\\\\\\\\\\"subscription\\\\\\\\\\\\\": \\\\\\\\\\\\\"9114a63e-9210-4e32-97ca-b7d9e8ac403d\\\\\\\\\\\\\", \\\\\\\\\\\\\"workspaceName\\\\\\\\\\\\\": \\\\\\\\\\\\\"jt-dp100\\\\\\\\\\\\\"}]}, \\\\\\\\\\\\\"localData\\\\\\\\\\\\\": {}, \\\\\\\\\\\\\"isEnabled\\\\\\\\\\\\\": true, \\\\\\\\\\\\\"name\\\\\\\\\\\\\": null, \\\\\\\\\\\\\"annotation\\\\\\\\\\\\\": null}, {\\\\\\\\\\\\\"id\\\\\\\\\\\\\": \\\\\\\\\\\\\"1e2320f8-f211-42fa-a42b-ea40aca45d3d\\\\\\\\\\\\\", \\\\\\\\\\\\\"type\\\\\\\\\\\\\": \\\\\\\\\\\\\"Microsoft.DPrep.ParseDelimitedBlock\\\\\\\\\\\\\", \\\\\\\\\\\\\"arguments\\\\\\\\\\\\\": {\\\\\\\\\\\\\"columnHeadersMode\\\\\\\\\\\\\": 3, \\\\\\\\\\\\\"fileEncoding\\\\\\\\\\\\\": 0, \\\\\\\\\\\\\"handleQuotedLineBreaks\\\\\\\\\\\\\": false, \\\\\\\\\\\\\"preview\\\\\\\\\\\\\": false, \\\\\\\\\\\\\"separator\\\\\\\\\\\\\": \\\\\\\\\\\\\",\\\\\\\\\\\\\", \\\\\\\\\\\\\"skipRows\\\\\\\\\\\\\": 0, \\\\\\\\\\\\\"skipRowsMode\\\\\\\\\\\\\": 0}, \\\\\\\\\\\\\"localData\\\\\\\\\\\\\": {}, \\\\\\\\\\\\\"isEnabled\\\\\\\\\\\\\": true, \\\\\\\\\\\\\"name\\\\\\\\\\\\\": null, \\\\\\\\\\\\\"annotation\\\\\\\\\\\\\": null}, {\\\\\\\\\\\\\"id\\\\\\\\\\\\\": \\\\\\\\\\\\\"a5d00f86-e8fc-473e-a319-03176797ff82\\\\\\\\\\\\\", \\\\\\\\\\\\\"type\\\\\\\\\\\\\": \\\\\\\\\\\\\"Microsoft.DPrep.DropColumnsBlock\\\\\\\\\\\\\", \\\\\\\\\\\\\"arguments\\\\\\\\\\\\\": {\\\\\\\\\\\\\"columns\\\\\\\\\\\\\": {\\\\\\\\\\\\\"type\\\\\\\\\\\\\": 0, \\\\\\\\\\\\\"details\\\\\\\\\\\\\": {\\\\\\\\\\\\\"selectedColumns\\\\\\\\\\\\\": [\\\\\\\\\\\\\"Path\\\\\\\\\\\\\"]}}}, \\\\\\\\\\\\\"localData\\\\\\\\\\\\\": {}, \\\\\\\\\\\\\"isEnabled\\\\\\\\\\\\\": true, \\\\\\\\\\\\\"name\\\\\\\\\\\\\": null, \\\\\\\\\\\\\"annotation\\\\\\\\\\\\\": null}, {\\\\\\\\\\\\\"id\\\\\\\\\\\\\": \\\\\\\\\\\\\"634bcfc8-4a04-4fcf-92f7-fa502b6d608d\\\\\\\\\\\\\", \\\\\\\\\\\\\"type\\\\\\\\\\\\\": \\\\\\\\\\\\\"Microsoft.DPrep.SetColumnTypesBlock\\\\\\\\\\\\\", \\\\\\\\\\\\\"arguments\\\\\\\\\\\\\": {\\\\\\\\\\\\\"columnConversion\\\\\\\\\\\\\": [{\\\\\\\\\\\\\"column\\\\\\\\\\\\\": {\\\\\\\\\\\\\"type\\\\\\\\\\\\\": 2, \\\\\\\\\\\\\"details\\\\\\\\\\\\\": {\\\\\\\\\\\\\"selectedColumn\\\\\\\\\\\\\": \\\\\\\\\\\\\"PassengerId\\\\\\\\\\\\\"}}, \\\\\\\\\\\\\"typeProperty\\\\\\\\\\\\\": 2}, {\\\\\\\\\\\\\"column\\\\\\\\\\\\\": {\\\\\\\\\\\\\"type\\\\\\\\\\\\\": 2, \\\\\\\\\\\\\"details\\\\\\\\\\\\\": {\\\\\\\\\\\\\"selectedColumn\\\\\\\\\\\\\": \\\\\\\\\\\\\"Survived\\\\\\\\\\\\\"}}, \\\\\\\\\\\\\"typeProperty\\\\\\\\\\\\\": 2}, {\\\\\\\\\\\\\"column\\\\\\\\\\\\\": {\\\\\\\\\\\\\"type\\\\\\\\\\\\\": 2, \\\\\\\\\\\\\"details\\\\\\\\\\\\\": {\\\\\\\\\\\\\"selectedColumn\\\\\\\\\\\\\": \\\\\\\\\\\\\"Pclass\\\\\\\\\\\\\"}}, \\\\\\\\\\\\\"typeProperty\\\\\\\\\\\\\": 2}, {\\\\\\\\\\\\\"column\\\\\\\\\\\\\": {\\\\\\\\\\\\\"type\\\\\\\\\\\\\": 2, \\\\\\\\\\\\\"details\\\\\\\\\\\\\": {\\\\\\\\\\\\\"selectedColumn\\\\\\\\\\\\\": \\\\\\\\\\\\\"Name\\\\\\\\\\\\\"}}, \\\\\\\\\\\\\"typeProperty\\\\\\\\\\\\\": 0}, {\\\\\\\\\\\\\"column\\\\\\\\\\\\\": {\\\\\\\\\\\\\"type\\\\\\\\\\\\\": 2, \\\\\\\\\\\\\"details\\\\\\\\\\\\\": {\\\\\\\\\\\\\"selectedColumn\\\\\\\\\\\\\": \\\\\\\\\\\\\"Sex\\\\\\\\\\\\\"}}, \\\\\\\\\\\\\"typeProperty\\\\\\\\\\\\\": 0}, {\\\\\\\\\\\\\"column\\\\\\\\\\\\\": {\\\\\\\\\\\\\"type\\\\\\\\\\\\\": 2, \\\\\\\\\\\\\"details\\\\\\\\\\\\\": {\\\\\\\\\\\\\"selectedColumn\\\\\\\\\\\\\": \\\\\\\\\\\\\"Age\\\\\\\\\\\\\"}}, \\\\\\\\\\\\\"typeProperty\\\\\\\\\\\\\": 3}, {\\\\\\\\\\\\\"column\\\\\\\\\\\\\": {\\\\\\\\\\\\\"type\\\\\\\\\\\\\": 2, \\\\\\\\\\\\\"details\\\\\\\\\\\\\": {\\\\\\\\\\\\\"selectedColumn\\\\\\\\\\\\\": \\\\\\\\\\\\\"SibSp\\\\\\\\\\\\\"}}, \\\\\\\\\\\\\"typeProperty\\\\\\\\\\\\\": 2}, {\\\\\\\\\\\\\"column\\\\\\\\\\\\\": {\\\\\\\\\\\\\"type\\\\\\\\\\\\\": 2, \\\\\\\\\\\\\"details\\\\\\\\\\\\\": {\\\\\\\\\\\\\"selectedColumn\\\\\\\\\\\\\": \\\\\\\\\\\\\"Parch\\\\\\\\\\\\\"}}, \\\\\\\\\\\\\"typeProperty\\\\\\\\\\\\\": 2}, {\\\\\\\\\\\\\"column\\\\\\\\\\\\\": {\\\\\\\\\\\\\"type\\\\\\\\\\\\\": 2, \\\\\\\\\\\\\"details\\\\\\\\\\\\\": {\\\\\\\\\\\\\"selectedColumn\\\\\\\\\\\\\": \\\\\\\\\\\\\"Ticket\\\\\\\\\\\\\"}}, \\\\\\\\\\\\\"typeProperty\\\\\\\\\\\\\": 0}, {\\\\\\\\\\\\\"column\\\\\\\\\\\\\": {\\\\\\\\\\\\\"type\\\\\\\\\\\\\": 2, \\\\\\\\\\\\\"details\\\\\\\\\\\\\": {\\\\\\\\\\\\\"selectedColumn\\\\\\\\\\\\\": \\\\\\\\\\\\\"Fare\\\\\\\\\\\\\"}}, \\\\\\\\\\\\\"typeProperty\\\\\\\\\\\\\": 3}, {\\\\\\\\\\\\\"column\\\\\\\\\\\\\": {\\\\\\\\\\\\\"type\\\\\\\\\\\\\": 2, \\\\\\\\\\\\\"details\\\\\\\\\\\\\": {\\\\\\\\\\\\\"selectedColumn\\\\\\\\\\\\\": \\\\\\\\\\\\\"Cabin\\\\\\\\\\\\\"}}, \\\\\\\\\\\\\"typeProperty\\\\\\\\\\\\\": 0}, {\\\\\\\\\\\\\"column\\\\\\\\\\\\\": {\\\\\\\\\\\\\"type\\\\\\\\\\\\\": 2, \\\\\\\\\\\\\"details\\\\\\\\\\\\\": {\\\\\\\\\\\\\"selectedColumn\\\\\\\\\\\\\": \\\\\\\\\\\\\"Embarked\\\\\\\\\\\\\"}}, \\\\\\\\\\\\\"typeProperty\\\\\\\\\\\\\": 0}]}, \\\\\\\\\\\\\"localData\\\\\\\\\\\\\": {}, \\\\\\\\\\\\\"isEnabled\\\\\\\\\\\\\": true, \\\\\\\\\\\\\"name\\\\\\\\\\\\\": null, \\\\\\\\\\\\\"annotation\\\\\\\\\\\\\": null}, {\\\\\\\\\\\\\"id\\\\\\\\\\\\\": \\\\\\\\\\\\\"54a38630-be1f-49e7-b4e6-57fdb5312f01\\\\\\\\\\\\\", \\\\\\\\\\\\\"type\\\\\\\\\\\\\": \\\\\\\\\\\\\"Microsoft.DPrep.RandomSplitBlock\\\\\\\\\\\\\", \\\\\\\\\\\\\"arguments\\\\\\\\\\\\\": {\\\\\\\\\\\\\"probability\\\\\\\\\\\\\": 0.7, \\\\\\\\\\\\\"seed\\\\\\\\\\\\\": 3030253503}, \\\\\\\\\\\\\"localData\\\\\\\\\\\\\": {}, \\\\\\\\\\\\\"isEnabled\\\\\\\\\\\\\": true, \\\\\\\\\\\\\"name\\\\\\\\\\\\\": null, \\\\\\\\\\\\\"annotation\\\\\\\\\\\\\": null}], \\\\\\\\\\\\\"inspectors\\\\\\\\\\\\\": [], \\\\\\\\\\\\\"meta\\\\\\\\\\\\\": {\\\\\\\\\\\\\"savedDatasetId\\\\\\\\\\\\\": \\\\\\\\\\\\\"7c955d9a-a85b-4df1-8478-b064dc6e17ce\\\\\\\\\\\\\", \\\\\\\\\\\\\"datasetType\\\\\\\\\\\\\": \\\\\\\\\\\\\"tabular\\\\\\\\\\\\\", \\\\\\\\\\\\\"subscriptionId\\\\\\\\\\\\\": \\\\\\\\\\\\\"9114a63e-9210-4e32-97ca-b7d9e8ac403d\\\\\\\\\\\\\", \\\\\\\\\\\\\"workspaceId\\\\\\\\\\\\\": \\\\\\\\\\\\\"ffe976c5-0d98-42f3-98ed-002364971ee4\\\\\\\\\\\\\", \\\\\\\\\\\\\"workspaceLocation\\\\\\\\\\\\\": \\\\\\\\\\\\\"westeurope\\\\\\\\\\\\\"}}\\\\\", \\\\\"validation_data\\\\\": \\\\\"{\\\\\\\\\\\\\"blocks\\\\\\\\\\\\\": [{\\\\\\\\\\\\\"id\\\\\\\\\\\\\": \\\\\\\\\\\\\"674fdf18-1d93-4d6a-a4c0-805eabde8204\\\\\\\\\\\\\", \\\\\\\\\\\\\"type\\\\\\\\\\\\\": \\\\\\\\\\\\\"Microsoft.DPrep.ReferenceAndInverseSplitBlock\\\\\\\\\\\\\", \\\\\\\\\\\\\"arguments\\\\\\\\\\\\\": {\\\\\\\\\\\\\"sourceFilter\\\\\\\\\\\\\": {\\\\\\\\\\\\\"referenceType\\\\\\\\\\\\\": 2, \\\\\\\\\\\\\"referenceContainerPath\\\\\\\\\\\\\": null, \\\\\\\\\\\\\"referencedStep\\\\\\\\\\\\\": {\\\\\\\\\\\\\"referencedStepId\\\\\\\\\\\\\": \\\\\\\\\\\\\"00000000-0000-0000-0000-000000000000\\\\\\\\\\\\\", \\\\\\\\\\\\\"fallback\\\\\\\\\\\\\": 1}, \\\\\\\\\\\\\"anonymousSteps\\\\\\\\\\\\\": [{\\\\\\\\\\\\\"id\\\\\\\\\\\\\": \\\\\\\\\\\\\"effc7271-5193-4aac-aa8e-2aabafe34126\\\\\\\\\\\\\", \\\\\\\\\\\\\"description\\\\\\\\\\\\\": {\\\\\\\\\\\\\"localDataProperties\\\\\\\\\\\\\": [], \\\\\\\\\\\\\"blockGroup\\\\\\\\\\\\\": 0, \\\\\\\\\\\\\"supportedTargets\\\\\\\\\\\\\": [4], \\\\\\\\\\\\\"supportedFieldTypes\\\\\\\\\\\\\": null, \\\\\\\\\\\\\"supportedMessages\\\\\\\\\\\\\": [], \\\\\\\\\\\\\"requiresInitialization\\\\\\\\\\\\\": false, \\\\\\\\\\\\\"allowDefaultAdd\\\\\\\\\\\\\": true, \\\\\\\\\\\\\"documentation\\\\\\\\\\\\\": null, \\\\\\\\\\\\\"type\\\\\\\\\\\\\": \\\\\\\\\\\\\"Microsoft.DPrep.GetDatastoreFilesBlock\\\\\\\\\\\\\", \\\\\\\\\\\\\"propertyDescriptions\\\\\\\\\\\\\": [{\\\\\\\\\\\\\"name\\\\\\\\\\\\\": \\\\\\\\\\\\\"datastores\\\\\\\\\\\\\", \\\\\\\\\\\\\"type\\\\\\\\\\\\\": 7, \\\\\\\\\\\\\"multipleValues\\\\\\\\\\\\\": true, \\\\\\\\\\\\\"domain\\\\\\\\\\\\\": {\\\\\\\\\\\\\"type\\\\\\\\\\\\\": 0, \\\\\\\\\\\\\"details\\\\\\\\\\\\\": [{\\\\\\\\\\\\\"name\\\\\\\\\\\\\": \\\\\\\\\\\\\"subscription\\\\\\\\\\\\\", \\\\\\\\\\\\\"type\\\\\\\\\\\\\": 1, \\\\\\\\\\\\\"multipleValues\\\\\\\\\\\\\": false, \\\\\\\\\\\\\"domain\\\\\\\\\\\\\": null, \\\\\\\\\\\\\"multiValueDetails\\\\\\\\\\\\\": null, \\\\\\\\\\\\\"isRequired\\\\\\\\\\\\\": true, \\\\\\\\\\\\\"origin\\\\\\\\\\\\\": 1, \\\\\\\\\\\\\"defaultValue\\\\\\\\\\\\\": null, \\\\\\\\\\\\\"initializeFromProperty\\\\\\\\\\\\\": null, \\\\\\\\\\\\\"telemetryStrategy\\\\\\\\\\\\\": 0, \\\\\\\\\\\\\"condition\\\\\\\\\\\\\": null, \\\\\\\\\\\\\"documentation\\\\\\\\\\\\\": \\\\\\\\\\\\\"The subscription the workspace belongs to.\\\\\\\\\\\\\", \\\\\\\\\\\\\"serializeWhenDefault\\\\\\\\\\\\\": true}, {\\\\\\\\\\\\\"name\\\\\\\\\\\\\": \\\\\\\\\\\\\"resourceGroup\\\\\\\\\\\\\", \\\\\\\\\\\\\"type\\\\\\\\\\\\\": 1, \\\\\\\\\\\\\"multipleValues\\\\\\\\\\\\\": false, \\\\\\\\\\\\\"domain\\\\\\\\\\\\\": null, \\\\\\\\\\\\\"multiValueDetails\\\\\\\\\\\\\": null, \\\\\\\\\\\\\"isRequired\\\\\\\\\\\\\": true, \\\\\\\\\\\\\"origin\\\\\\\\\\\\\": 1, \\\\\\\\\\\\\"defaultValue\\\\\\\\\\\\\": null, \\\\\\\\\\\\\"initializeFromProperty\\\\\\\\\\\\\": null, \\\\\\\\\\\\\"telemetryStrategy\\\\\\\\\\\\\": 2, \\\\\\\\\\\\\"condition\\\\\\\\\\\\\": null, \\\\\\\\\\\\\"documentation\\\\\\\\\\\\\": \\\\\\\\\\\\\"The resource group the workspace belongs to.\\\\\\\\\\\\\", \\\\\\\\\\\\\"serializeWhenDefault\\\\\\\\\\\\\": true}, {\\\\\\\\\\\\\"name\\\\\\\\\\\\\": \\\\\\\\\\\\\"workspaceName\\\\\\\\\\\\\", \\\\\\\\\\\\\"type\\\\\\\\\\\\\": 1, \\\\\\\\\\\\\"multipleValues\\\\\\\\\\\\\": false, \\\\\\\\\\\\\"domain\\\\\\\\\\\\\": null, \\\\\\\\\\\\\"multiValueDetails\\\\\\\\\\\\\": null, \\\\\\\\\\\\\"isRequired\\\\\\\\\\\\\": true, \\\\\\\\\\\\\"origin\\\\\\\\\\\\\": 1, \\\\\\\\\\\\\"defaultValue\\\\\\\\\\\\\": null, \\\\\\\\\\\\\"initializeFromProperty\\\\\\\\\\\\\": null, \\\\\\\\\\\\\"telemetryStrategy\\\\\\\\\\\\\": 2, \\\\\\\\\\\\\"condition\\\\\\\\\\\\\": null, \\\\\\\\\\\\\"documentation\\\\\\\\\\\\\": \\\\\\\\\\\\\"The workspace the datastore belongs to.\\\\\\\\\\\\\", \\\\\\\\\\\\\"serializeWhenDefault\\\\\\\\\\\\\": true}, {\\\\\\\\\\\\\"name\\\\\\\\\\\\\": \\\\\\\\\\\\\"datastoreName\\\\\\\\\\\\\", \\\\\\\\\\\\\"type\\\\\\\\\\\\\": 1, \\\\\\\\\\\\\"multipleValues\\\\\\\\\\\\\": false, \\\\\\\\\\\\\"domain\\\\\\\\\\\\\": null, \\\\\\\\\\\\\"multiValueDetails\\\\\\\\\\\\\": null, \\\\\\\\\\\\\"isRequired\\\\\\\\\\\\\": true, \\\\\\\\\\\\\"origin\\\\\\\\\\\\\": 1, \\\\\\\\\\\\\"defaultValue\\\\\\\\\\\\\": null, \\\\\\\\\\\\\"initializeFromProperty\\\\\\\\\\\\\": null, \\\\\\\\\\\\\"telemetryStrategy\\\\\\\\\\\\\": 2, \\\\\\\\\\\\\"condition\\\\\\\\\\\\\": null, \\\\\\\\\\\\\"documentation\\\\\\\\\\\\\": \\\\\\\\\\\\\"The datastore to read the data from.\\\\\\\\\\\\\", \\\\\\\\\\\\\"serializeWhenDefault\\\\\\\\\\\\\": true}, {\\\\\\\\\\\\\"name\\\\\\\\\\\\\": \\\\\\\\\\\\\"path\\\\\\\\\\\\\", \\\\\\\\\\\\\"type\\\\\\\\\\\\\": 1, \\\\\\\\\\\\\"multipleValues\\\\\\\\\\\\\": false, \\\\\\\\\\\\\"domain\\\\\\\\\\\\\": null, \\\\\\\\\\\\\"multiValueDetails\\\\\\\\\\\\\": null, \\\\\\\\\\\\\"isRequired\\\\\\\\\\\\\": false, \\\\\\\\\\\\\"origin\\\\\\\\\\\\\": 1, \\\\\\\\\\\\\"defaultValue\\\\\\\\\\\\\": \\\\\\\\\\\\\"\\\\\\\\\\\\\", \\\\\\\\\\\\\"initializeFromProperty\\\\\\\\\\\\\": null, \\\\\\\\\\\\\"telemetryStrategy\\\\\\\\\\\\\": 2, \\\\\\\\\\\\\"condition\\\\\\\\\\\\\": null, \\\\\\\\\\\\\"documentation\\\\\\\\\\\\\": \\\\\\\\\\\\\"The path on the datastore.\\\\\\\\\\\\\", \\\\\\\\\\\\\"serializeWhenDefault\\\\\\\\\\\\\": true}]}, \\\\\\\\\\\\\"multiValueDetails\\\\\\\\\\\\\": {\\\\\\\\\\\\\"isOrdered\\\\\\\\\\\\\": false}, \\\\\\\\\\\\\"isRequired\\\\\\\\\\\\\": true, \\\\\\\\\\\\\"origin\\\\\\\\\\\\\": 1, \\\\\\\\\\\\\"defaultValue\\\\\\\\\\\\\": null, \\\\\\\\\\\\\"initializeFromProperty\\\\\\\\\\\\\": null, \\\\\\\\\\\\\"telemetryStrategy\\\\\\\\\\\\\": 0, \\\\\\\\\\\\\"condition\\\\\\\\\\\\\": null, \\\\\\\\\\\\\"documentation\\\\\\\\\\\\\": \\\\\\\\\\\\\"Properties uniquely identifying a datastore.\\\\\\\\\\\\\", \\\\\\\\\\\\\"serializeWhenDefault\\\\\\\\\\\\\": true}], \\\\\\\\\\\\\"dataEffectDetails\\\\\\\\\\\\\": {\\\\\\\\\\\\\"dataEffect\\\\\\\\\\\\\": 9}}, \\\\\\\\\\\\\"type\\\\\\\\\\\\\": \\\\\\\\\\\\\"Microsoft.DPrep.GetDatastoreFilesBlock\\\\\\\\\\\\\", \\\\\\\\\\\\\"dataEffectDetails\\\\\\\\\\\\\": {\\\\\\\\\\\\\"dataEffect\\\\\\\\\\\\\": 9}, \\\\\\\\\\\\\"propertyDescriptions\\\\\\\\\\\\\": [{\\\\\\\\\\\\\"name\\\\\\\\\\\\\": \\\\\\\\\\\\\"datastores\\\\\\\\\\\\\", \\\\\\\\\\\\\"type\\\\\\\\\\\\\": 7, \\\\\\\\\\\\\"multipleValues\\\\\\\\\\\\\": true, \\\\\\\\\\\\\"domain\\\\\\\\\\\\\": {\\\\\\\\\\\\\"type\\\\\\\\\\\\\": 0, \\\\\\\\\\\\\"details\\\\\\\\\\\\\": [{\\\\\\\\\\\\\"name\\\\\\\\\\\\\": \\\\\\\\\\\\\"subscription\\\\\\\\\\\\\", \\\\\\\\\\\\\"type\\\\\\\\\\\\\": 1, \\\\\\\\\\\\\"multipleValues\\\\\\\\\\\\\": false, \\\\\\\\\\\\\"domain\\\\\\\\\\\\\": null, \\\\\\\\\\\\\"multiValueDetails\\\\\\\\\\\\\": null, \\\\\\\\\\\\\"isRequired\\\\\\\\\\\\\": true, \\\\\\\\\\\\\"origin\\\\\\\\\\\\\": 1, \\\\\\\\\\\\\"defaultValue\\\\\\\\\\\\\": null, \\\\\\\\\\\\\"initializeFromProperty\\\\\\\\\\\\\": null, \\\\\\\\\\\\\"telemetryStrategy\\\\\\\\\\\\\": 0, \\\\\\\\\\\\\"condition\\\\\\\\\\\\\": null, \\\\\\\\\\\\\"documentation\\\\\\\\\\\\\": \\\\\\\\\\\\\"The subscription the workspace belongs to.\\\\\\\\\\\\\", \\\\\\\\\\\\\"serializeWhenDefault\\\\\\\\\\\\\": true}, {\\\\\\\\\\\\\"name\\\\\\\\\\\\\": \\\\\\\\\\\\\"resourceGroup\\\\\\\\\\\\\", \\\\\\\\\\\\\"type\\\\\\\\\\\\\": 1, \\\\\\\\\\\\\"multipleValues\\\\\\\\\\\\\": false, \\\\\\\\\\\\\"domain\\\\\\\\\\\\\": null, \\\\\\\\\\\\\"multiValueDetails\\\\\\\\\\\\\": null, \\\\\\\\\\\\\"isRequired\\\\\\\\\\\\\": true, \\\\\\\\\\\\\"origin\\\\\\\\\\\\\": 1, \\\\\\\\\\\\\"defaultValue\\\\\\\\\\\\\": null, \\\\\\\\\\\\\"initializeFromProperty\\\\\\\\\\\\\": null, \\\\\\\\\\\\\"telemetryStrategy\\\\\\\\\\\\\": 2, \\\\\\\\\\\\\"condition\\\\\\\\\\\\\": null, \\\\\\\\\\\\\"documentation\\\\\\\\\\\\\": \\\\\\\\\\\\\"The resource group the workspace belongs to.\\\\\\\\\\\\\", \\\\\\\\\\\\\"serializeWhenDefault\\\\\\\\\\\\\": true}, {\\\\\\\\\\\\\"name\\\\\\\\\\\\\": \\\\\\\\\\\\\"workspaceName\\\\\\\\\\\\\", \\\\\\\\\\\\\"type\\\\\\\\\\\\\": 1, \\\\\\\\\\\\\"multipleValues\\\\\\\\\\\\\": false, \\\\\\\\\\\\\"domain\\\\\\\\\\\\\": null, \\\\\\\\\\\\\"multiValueDetails\\\\\\\\\\\\\": null, \\\\\\\\\\\\\"isRequired\\\\\\\\\\\\\": true, \\\\\\\\\\\\\"origin\\\\\\\\\\\\\": 1, \\\\\\\\\\\\\"defaultValue\\\\\\\\\\\\\": null, \\\\\\\\\\\\\"initializeFromProperty\\\\\\\\\\\\\": null, \\\\\\\\\\\\\"telemetryStrategy\\\\\\\\\\\\\": 2, \\\\\\\\\\\\\"condition\\\\\\\\\\\\\": null, \\\\\\\\\\\\\"documentation\\\\\\\\\\\\\": \\\\\\\\\\\\\"The workspace the datastore belongs to.\\\\\\\\\\\\\", \\\\\\\\\\\\\"serializeWhenDefault\\\\\\\\\\\\\": true}, {\\\\\\\\\\\\\"name\\\\\\\\\\\\\": \\\\\\\\\\\\\"datastoreName\\\\\\\\\\\\\", \\\\\\\\\\\\\"type\\\\\\\\\\\\\": 1, \\\\\\\\\\\\\"multipleValues\\\\\\\\\\\\\": false, \\\\\\\\\\\\\"domain\\\\\\\\\\\\\": null, \\\\\\\\\\\\\"multiValueDetails\\\\\\\\\\\\\": null, \\\\\\\\\\\\\"isRequired\\\\\\\\\\\\\": true, \\\\\\\\\\\\\"origin\\\\\\\\\\\\\": 1, \\\\\\\\\\\\\"defaultValue\\\\\\\\\\\\\": null, \\\\\\\\\\\\\"initializeFromProperty\\\\\\\\\\\\\": null, \\\\\\\\\\\\\"telemetryStrategy\\\\\\\\\\\\\": 2, \\\\\\\\\\\\\"condition\\\\\\\\\\\\\": null, \\\\\\\\\\\\\"documentation\\\\\\\\\\\\\": \\\\\\\\\\\\\"The datastore to read the data from.\\\\\\\\\\\\\", \\\\\\\\\\\\\"serializeWhenDefault\\\\\\\\\\\\\": true}, {\\\\\\\\\\\\\"name\\\\\\\\\\\\\": \\\\\\\\\\\\\"path\\\\\\\\\\\\\", \\\\\\\\\\\\\"type\\\\\\\\\\\\\": 1, \\\\\\\\\\\\\"multipleValues\\\\\\\\\\\\\": false, \\\\\\\\\\\\\"domain\\\\\\\\\\\\\": null, \\\\\\\\\\\\\"multiValueDetails\\\\\\\\\\\\\": null, \\\\\\\\\\\\\"isRequired\\\\\\\\\\\\\": false, \\\\\\\\\\\\\"origin\\\\\\\\\\\\\": 1, \\\\\\\\\\\\\"defaultValue\\\\\\\\\\\\\": \\\\\\\\\\\\\"\\\\\\\\\\\\\", \\\\\\\\\\\\\"initializeFromProperty\\\\\\\\\\\\\": null, \\\\\\\\\\\\\"telemetryStrategy\\\\\\\\\\\\\": 2, \\\\\\\\\\\\\"condition\\\\\\\\\\\\\": null, \\\\\\\\\\\\\"documentation\\\\\\\\\\\\\": \\\\\\\\\\\\\"The path on the datastore.\\\\\\\\\\\\\", \\\\\\\\\\\\\"serializeWhenDefault\\\\\\\\\\\\\": true}]}, \\\\\\\\\\\\\"multiValueDetails\\\\\\\\\\\\\": {\\\\\\\\\\\\\"isOrdered\\\\\\\\\\\\\": false}, \\\\\\\\\\\\\"isRequired\\\\\\\\\\\\\": true, \\\\\\\\\\\\\"origin\\\\\\\\\\\\\": 1, \\\\\\\\\\\\\"defaultValue\\\\\\\\\\\\\": null, \\\\\\\\\\\\\"initializeFromProperty\\\\\\\\\\\\\": null, \\\\\\\\\\\\\"telemetryStrategy\\\\\\\\\\\\\": 0, \\\\\\\\\\\\\"condition\\\\\\\\\\\\\": null, \\\\\\\\\\\\\"documentation\\\\\\\\\\\\\": \\\\\\\\\\\\\"Properties uniquely identifying a datastore.\\\\\\\\\\\\\", \\\\\\\\\\\\\"serializeWhenDefault\\\\\\\\\\\\\": true}], \\\\\\\\\\\\\"arguments\\\\\\\\\\\\\": {\\\\\\\\\\\\\"datastores\\\\\\\\\\\\\": [{\\\\\\\\\\\\\"datastoreName\\\\\\\\\\\\\": \\\\\\\\\\\\\"workspaceblobstore\\\\\\\\\\\\\", \\\\\\\\\\\\\"path\\\\\\\\\\\\\": \\\\\\\\\\\\\"titanic-data/train.csv\\\\\\\\\\\\\", \\\\\\\\\\\\\"resourceGroup\\\\\\\\\\\\\": \\\\\\\\\\\\\"jt-dp100-ressources\\\\\\\\\\\\\", \\\\\\\\\\\\\"subscription\\\\\\\\\\\\\": \\\\\\\\\\\\\"9114a63e-9210-4e32-97ca-b7d9e8ac403d\\\\\\\\\\\\\", \\\\\\\\\\\\\"workspaceName\\\\\\\\\\\\\": \\\\\\\\\\\\\"jt-dp100\\\\\\\\\\\\\"}]}}, {\\\\\\\\\\\\\"id\\\\\\\\\\\\\": \\\\\\\\\\\\\"1e2320f8-f211-42fa-a42b-ea40aca45d3d\\\\\\\\\\\\\", \\\\\\\\\\\\\"description\\\\\\\\\\\\\": {\\\\\\\\\\\\\"localDataProperties\\\\\\\\\\\\\": [], \\\\\\\\\\\\\"blockGroup\\\\\\\\\\\\\": 0, \\\\\\\\\\\\\"supportedTargets\\\\\\\\\\\\\": [5], \\\\\\\\\\\\\"supportedFieldTypes\\\\\\\\\\\\\": null, \\\\\\\\\\\\\"supportedMessages\\\\\\\\\\\\\": [], \\\\\\\\\\\\\"requiresInitialization\\\\\\\\\\\\\": false, \\\\\\\\\\\\\"allowDefaultAdd\\\\\\\\\\\\\": true, \\\\\\\\\\\\\"documentation\\\\\\\\\\\\\": null, \\\\\\\\\\\\\"type\\\\\\\\\\\\\": \\\\\\\\\\\\\"Microsoft.DPrep.ParseDelimitedBlock\\\\\\\\\\\\\", \\\\\\\\\\\\\"propertyDescriptions\\\\\\\\\\\\\": [{\\\\\\\\\\\\\"name\\\\\\\\\\\\\": \\\\\\\\\\\\\"maxRows\\\\\\\\\\\\\", \\\\\\\\\\\\\"type\\\\\\\\\\\\\": 2, \\\\\\\\\\\\\"multipleValues\\\\\\\\\\\\\": false, \\\\\\\\\\\\\"domain\\\\\\\\\\\\\": null, \\\\\\\\\\\\\"multiValueDetails\\\\\\\\\\\\\": null, \\\\\\\\\\\\\"isRequired\\\\\\\\\\\\\": false, \\\\\\\\\\\\\"origin\\\\\\\\\\\\\": 2, \\\\\\\\\\\\\"defaultValue\\\\\\\\\\\\\": null, \\\\\\\\\\\\\"initializeFromProperty\\\\\\\\\\\\\": null, \\\\\\\\\\\\\"telemetryStrategy\\\\\\\\\\\\\": 0, \\\\\\\\\\\\\"condition\\\\\\\\\\\\\": null, \\\\\\\\\\\\\"documentation\\\\\\\\\\\\\": null, \\\\\\\\\\\\\"serializeWhenDefault\\\\\\\\\\\\\": true}, {\\\\\\\\\\\\\"name\\\\\\\\\\\\\": \\\\\\\\\\\\\"preview\\\\\\\\\\\\\", \\\\\\\\\\\\\"type\\\\\\\\\\\\\": 4, \\\\\\\\\\\\\"multipleValues\\\\\\\\\\\\\": false, \\\\\\\\\\\\\"domain\\\\\\\\\\\\\": null, \\\\\\\\\\\\\"multiValueDetails\\\\\\\\\\\\\": null, \\\\\\\\\\\\\"isRequired\\\\\\\\\\\\\": false, \\\\\\\\\\\\\"origin\\\\\\\\\\\\\": 2, \\\\\\\\\\\\\"defaultValue\\\\\\\\\\\\\": false, \\\\\\\\\\\\\"initializeFromProperty\\\\\\\\\\\\\": null, \\\\\\\\\\\\\"telemetryStrategy\\\\\\\\\\\\\": 0, \\\\\\\\\\\\\"condition\\\\\\\\\\\\\": null, \\\\\\\\\\\\\"documentation\\\\\\\\\\\\\": null, \\\\\\\\\\\\\"serializeWhenDefault\\\\\\\\\\\\\": true}, {\\\\\\\\\\\\\"name\\\\\\\\\\\\\": \\\\\\\\\\\\\"columnHeadersMode\\\\\\\\\\\\\", \\\\\\\\\\\\\"type\\\\\\\\\\\\\": 6, \\\\\\\\\\\\\"multipleValues\\\\\\\\\\\\\": false, \\\\\\\\\\\\\"domain\\\\\\\\\\\\\": {\\\\\\\\\\\\\"type\\\\\\\\\\\\\": 1, \\\\\\\\\\\\\"details\\\\\\\\\\\\\": {\\\\\\\\\\\\\"enumName\\\\\\\\\\\\\": \\\\\\\\\\\\\"PromoteHeadersMode\\\\\\\\\\\\\", \\\\\\\\\\\\\"enumType\\\\\\\\\\\\\": \\\\\\\\\\\\\"Microsoft.DPrep.Engine.PromoteHeadersMode, Microsoft.DPrep.EngineAPI, Version=0.1.2009.11013, Culture=neutral, PublicKeyToken=null\\\\\\\\\\\\\", \\\\\\\\\\\\\"enumValues\\\\\\\\\\\\\": [0, 1, 1, 2, 2, 3, 3]}}, \\\\\\\\\\\\\"multiValueDetails\\\\\\\\\\\\\": null, \\\\\\\\\\\\\"isRequired\\\\\\\\\\\\\": true, \\\\\\\\\\\\\"origin\\\\\\\\\\\\\": 1, \\\\\\\\\\\\\"defaultValue\\\\\\\\\\\\\": 1, \\\\\\\\\\\\\"initializeFromProperty\\\\\\\\\\\\\": null, \\\\\\\\\\\\\"telemetryStrategy\\\\\\\\\\\\\": 0, \\\\\\\\\\\\\"condition\\\\\\\\\\\\\": null, \\\\\\\\\\\\\"documentation\\\\\\\\\\\\\": null, \\\\\\\\\\\\\"serializeWhenDefault\\\\\\\\\\\\\": true}, {\\\\\\\\\\\\\"name\\\\\\\\\\\\\": \\\\\\\\\\\\\"separator\\\\\\\\\\\\\", \\\\\\\\\\\\\"type\\\\\\\\\\\\\": 0, \\\\\\\\\\\\\"multipleValues\\\\\\\\\\\\\": false, \\\\\\\\\\\\\"domain\\\\\\\\\\\\\": {\\\\\\\\\\\\\"type\\\\\\\\\\\\\": 6, \\\\\\\\\\\\\"details\\\\\\\\\\\\\": {\\\\\\\\\\\\\"values\\\\\\\\\\\\\": [{\\\\\\\\\\\\\"value\\\\\\\\\\\\\": \\\\\\\\\\\\\",\\\\\\\\\\\\\", \\\\\\\\\\\\\"id\\\\\\\\\\\\\": 0}, {\\\\\\\\\\\\\"value\\\\\\\\\\\\\": \\\\\\\\\\\\\"\\\\\\\\\\\\\\\\t\\\\\\\\\\\\\", \\\\\\\\\\\\\"id\\\\\\\\\\\\\": 1}, {\\\\\\\\\\\\\"value\\\\\\\\\\\\\": \\\\\\\\\\\\\":\\\\\\\\\\\\\", \\\\\\\\\\\\\"id\\\\\\\\\\\\\": 2}, {\\\\\\\\\\\\\"value\\\\\\\\\\\\\": \\\\\\\\\\\\\";\\\\\\\\\\\\\", \\\\\\\\\\\\\"id\\\\\\\\\\\\\": 3}, {\\\\\\\\\\\\\"value\\\\\\\\\\\\\": \\\\\\\\\\\\\" \\\\\\\\\\\\\", \\\\\\\\\\\\\"id\\\\\\\\\\\\\": 5}, {\\\\\\\\\\\\\"value\\\\\\\\\\\\\": \\\\\\\\\\\\\"=\\\\\\\\\\\\\", \\\\\\\\\\\\\"id\\\\\\\\\\\\\": 4}, {\\\\\\\\\\\\\"value\\\\\\\\\\\\\": \\\\\\\\\\\\\"\\\\\\\\\\\\\\\\u2014\\\\\\\\\\\\\", \\\\\\\\\\\\\"id\\\\\\\\\\\\\": 7}], \\\\\\\\\\\\\"allowCustom\\\\\\\\\\\\\": true, \\\\\\\\\\\\\"customEnumValue\\\\\\\\\\\\\": 6}}, \\\\\\\\\\\\\"multiValueDetails\\\\\\\\\\\\\": null, \\\\\\\\\\\\\"isRequired\\\\\\\\\\\\\": true, \\\\\\\\\\\\\"origin\\\\\\\\\\\\\": 1, \\\\\\\\\\\\\"defaultValue\\\\\\\\\\\\\": \\\\\\\\\\\\\",\\\\\\\\\\\\\", \\\\\\\\\\\\\"initializeFromProperty\\\\\\\\\\\\\": null, \\\\\\\\\\\\\"telemetryStrategy\\\\\\\\\\\\\": 0, \\\\\\\\\\\\\"condition\\\\\\\\\\\\\": null, \\\\\\\\\\\\\"documentation\\\\\\\\\\\\\": null, \\\\\\\\\\\\\"serializeWhenDefault\\\\\\\\\\\\\": true}, {\\\\\\\\\\\\\"name\\\\\\\\\\\\\": \\\\\\\\\\\\\"commentLineCharacter\\\\\\\\\\\\\", \\\\\\\\\\\\\"type\\\\\\\\\\\\\": 0, \\\\\\\\\\\\\"multipleValues\\\\\\\\\\\\\": false, \\\\\\\\\\\\\"domain\\\\\\\\\\\\\": null, \\\\\\\\\\\\\"multiValueDetails\\\\\\\\\\\\\": null, \\\\\\\\\\\\\"isRequired\\\\\\\\\\\\\": false, \\\\\\\\\\\\\"origin\\\\\\\\\\\\\": 1, \\\\\\\\\\\\\"defaultValue\\\\\\\\\\\\\": null, \\\\\\\\\\\\\"initializeFromProperty\\\\\\\\\\\\\": null, \\\\\\\\\\\\\"telemetryStrategy\\\\\\\\\\\\\": 0, \\\\\\\\\\\\\"condition\\\\\\\\\\\\\": null, \\\\\\\\\\\\\"documentation\\\\\\\\\\\\\": null, \\\\\\\\\\\\\"serializeWhenDefault\\\\\\\\\\\\\": true}, {\\\\\\\\\\\\\"name\\\\\\\\\\\\\": \\\\\\\\\\\\\"fileEncoding\\\\\\\\\\\\\", \\\\\\\\\\\\\"type\\\\\\\\\\\\\": 6, \\\\\\\\\\\\\"multipleValues\\\\\\\\\\\\\": false, \\\\\\\\\\\\\"domain\\\\\\\\\\\\\": {\\\\\\\\\\\\\"type\\\\\\\\\\\\\": 1, \\\\\\\\\\\\\"details\\\\\\\\\\\\\": {\\\\\\\\\\\\\"enumName\\\\\\\\\\\\\": \\\\\\\\\\\\\"FileEncoding\\\\\\\\\\\\\", \\\\\\\\\\\\\"enumType\\\\\\\\\\\\\": \\\\\\\\\\\\\"Microsoft.DPrep.Engine.FileEncoding, Microsoft.DPrep.EngineAPI, Version=0.1.2009.11013, Culture=neutral, PublicKeyToken=null\\\\\\\\\\\\\", \\\\\\\\\\\\\"enumValues\\\\\\\\\\\\\": [0, 1, 2, 3, 4, 5, 6, 7]}}, \\\\\\\\\\\\\"multiValueDetails\\\\\\\\\\\\\": null, \\\\\\\\\\\\\"isRequired\\\\\\\\\\\\\": true, \\\\\\\\\\\\\"origin\\\\\\\\\\\\\": 1, \\\\\\\\\\\\\"defaultValue\\\\\\\\\\\\\": 0, \\\\\\\\\\\\\"initializeFromProperty\\\\\\\\\\\\\": null, \\\\\\\\\\\\\"telemetryStrategy\\\\\\\\\\\\\": 0, \\\\\\\\\\\\\"condition\\\\\\\\\\\\\": null, \\\\\\\\\\\\\"documentation\\\\\\\\\\\\\": null, \\\\\\\\\\\\\"serializeWhenDefault\\\\\\\\\\\\\": true}, {\\\\\\\\\\\\\"name\\\\\\\\\\\\\": \\\\\\\\\\\\\"skipRowsMode\\\\\\\\\\\\\", \\\\\\\\\\\\\"type\\\\\\\\\\\\\": 6, \\\\\\\\\\\\\"multipleValues\\\\\\\\\\\\\": false, \\\\\\\\\\\\\"domain\\\\\\\\\\\\\": {\\\\\\\\\\\\\"type\\\\\\\\\\\\\": 1, \\\\\\\\\\\\\"details\\\\\\\\\\\\\": {\\\\\\\\\\\\\"enumName\\\\\\\\\\\\\": \\\\\\\\\\\\\"SkipMode\\\\\\\\\\\\\", \\\\\\\\\\\\\"enumType\\\\\\\\\\\\\": \\\\\\\\\\\\\"Microsoft.DPrep.Engine.SkipMode, Microsoft.DPrep.EngineAPI, Version=0.1.2009.11013, Culture=neutral, PublicKeyToken=null\\\\\\\\\\\\\", \\\\\\\\\\\\\"enumValues\\\\\\\\\\\\\": [0, 1, 1, 2, 2]}}, \\\\\\\\\\\\\"multiValueDetails\\\\\\\\\\\\\": null, \\\\\\\\\\\\\"isRequired\\\\\\\\\\\\\": true, \\\\\\\\\\\\\"origin\\\\\\\\\\\\\": 1, \\\\\\\\\\\\\"defaultValue\\\\\\\\\\\\\": 0, \\\\\\\\\\\\\"initializeFromProperty\\\\\\\\\\\\\": null, \\\\\\\\\\\\\"telemetryStrategy\\\\\\\\\\\\\": 0, \\\\\\\\\\\\\"condition\\\\\\\\\\\\\": null, \\\\\\\\\\\\\"documentation\\\\\\\\\\\\\": null, \\\\\\\\\\\\\"serializeWhenDefault\\\\\\\\\\\\\": true}, {\\\\\\\\\\\\\"name\\\\\\\\\\\\\": \\\\\\\\\\\\\"skipRows\\\\\\\\\\\\\", \\\\\\\\\\\\\"type\\\\\\\\\\\\\": 2, \\\\\\\\\\\\\"multipleValues\\\\\\\\\\\\\": false, \\\\\\\\\\\\\"domain\\\\\\\\\\\\\": {\\\\\\\\\\\\\"type\\\\\\\\\\\\\": 4, \\\\\\\\\\\\\"details\\\\\\\\\\\\\": {\\\\\\\\\\\\\"min\\\\\\\\\\\\\": 0.0, \\\\\\\\\\\\\"max\\\\\\\\\\\\\": 1.7976931348623157e+308}}, \\\\\\\\\\\\\"multiValueDetails\\\\\\\\\\\\\": null, \\\\\\\\\\\\\"isRequired\\\\\\\\\\\\\": false, \\\\\\\\\\\\\"origin\\\\\\\\\\\\\": 1, \\\\\\\\\\\\\"defaultValue\\\\\\\\\\\\\": null, \\\\\\\\\\\\\"initializeFromProperty\\\\\\\\\\\\\": null, \\\\\\\\\\\\\"telemetryStrategy\\\\\\\\\\\\\": 0, \\\\\\\\\\\\\"condition\\\\\\\\\\\\\": {\\\\\\\\\\\\\"condition\\\\\\\\\\\\\": {\\\\\\\\\\\\\"property\\\\\\\\\\\\\": {\\\\\\\\\\\\\"propertyPath\\\\\\\\\\\\\": [\\\\\\\\\\\\\"skipRowsMode\\\\\\\\\\\\\"]}, \\\\\\\\\\\\\"comparison\\\\\\\\\\\\\": 1, \\\\\\\\\\\\\"value\\\\\\\\\\\\\": 0}, \\\\\\\\\\\\\"aggregate\\\\\\\\\\\\\": null}, \\\\\\\\\\\\\"documentation\\\\\\\\\\\\\": null, \\\\\\\\\\\\\"serializeWhenDefault\\\\\\\\\\\\\": true}, {\\\\\\\\\\\\\"name\\\\\\\\\\\\\": \\\\\\\\\\\\\"handleQuotedLineBreaks\\\\\\\\\\\\\", \\\\\\\\\\\\\"type\\\\\\\\\\\\\": 4, \\\\\\\\\\\\\"multipleValues\\\\\\\\\\\\\": false, \\\\\\\\\\\\\"domain\\\\\\\\\\\\\": null, \\\\\\\\\\\\\"multiValueDetails\\\\\\\\\\\\\": null, \\\\\\\\\\\\\"isRequired\\\\\\\\\\\\\": true, \\\\\\\\\\\\\"origin\\\\\\\\\\\\\": 1, \\\\\\\\\\\\\"defaultValue\\\\\\\\\\\\\": false, \\\\\\\\\\\\\"initializeFromProperty\\\\\\\\\\\\\": null, \\\\\\\\\\\\\"telemetryStrategy\\\\\\\\\\\\\": 0, \\\\\\\\\\\\\"condition\\\\\\\\\\\\\": null, \\\\\\\\\\\\\"documentation\\\\\\\\\\\\\": null, \\\\\\\\\\\\\"serializeWhenDefault\\\\\\\\\\\\\": true}, {\\\\\\\\\\\\\"name\\\\\\\\\\\\\": \\\\\\\\\\\\\"partitionSize\\\\\\\\\\\\\", \\\\\\\\\\\\\"type\\\\\\\\\\\\\": 2, \\\\\\\\\\\\\"multipleValues\\\\\\\\\\\\\": false, \\\\\\\\\\\\\"domain\\\\\\\\\\\\\": null, \\\\\\\\\\\\\"multiValueDetails\\\\\\\\\\\\\": null, \\\\\\\\\\\\\"isRequired\\\\\\\\\\\\\": false, \\\\\\\\\\\\\"origin\\\\\\\\\\\\\": 1, \\\\\\\\\\\\\"defaultValue\\\\\\\\\\\\\": null, \\\\\\\\\\\\\"initializeFromProperty\\\\\\\\\\\\\": null, \\\\\\\\\\\\\"telemetryStrategy\\\\\\\\\\\\\": 0, \\\\\\\\\\\\\"condition\\\\\\\\\\\\\": null, \\\\\\\\\\\\\"documentation\\\\\\\\\\\\\": null, \\\\\\\\\\\\\"serializeWhenDefault\\\\\\\\\\\\\": true}, {\\\\\\\\\\\\\"name\\\\\\\\\\\\\": \\\\\\\\\\\\\"emptyAsString\\\\\\\\\\\\\", \\\\\\\\\\\\\"type\\\\\\\\\\\\\": 4, \\\\\\\\\\\\\"multipleValues\\\\\\\\\\\\\": false, \\\\\\\\\\\\\"domain\\\\\\\\\\\\\": null, \\\\\\\\\\\\\"multiValueDetails\\\\\\\\\\\\\": null, \\\\\\\\\\\\\"isRequired\\\\\\\\\\\\\": false, \\\\\\\\\\\\\"origin\\\\\\\\\\\\\": 1, \\\\\\\\\\\\\"defaultValue\\\\\\\\\\\\\": false, \\\\\\\\\\\\\"initializeFromProperty\\\\\\\\\\\\\": null, \\\\\\\\\\\\\"telemetryStrategy\\\\\\\\\\\\\": 0, \\\\\\\\\\\\\"condition\\\\\\\\\\\\\": null, \\\\\\\\\\\\\"documentation\\\\\\\\\\\\\": null, \\\\\\\\\\\\\"serializeWhenDefault\\\\\\\\\\\\\": false}], \\\\\\\\\\\\\"dataEffectDetails\\\\\\\\\\\\\": {\\\\\\\\\\\\\"dataEffect\\\\\\\\\\\\\": 1}}, \\\\\\\\\\\\\"type\\\\\\\\\\\\\": \\\\\\\\\\\\\"Microsoft.DPrep.ParseDelimitedBlock\\\\\\\\\\\\\", \\\\\\\\\\\\\"dataEffectDetails\\\\\\\\\\\\\": {\\\\\\\\\\\\\"dataEffect\\\\\\\\\\\\\": 1}, \\\\\\\\\\\\\"propertyDescriptions\\\\\\\\\\\\\": [{\\\\\\\\\\\\\"name\\\\\\\\\\\\\": \\\\\\\\\\\\\"maxRows\\\\\\\\\\\\\", \\\\\\\\\\\\\"type\\\\\\\\\\\\\": 2, \\\\\\\\\\\\\"multipleValues\\\\\\\\\\\\\": false, \\\\\\\\\\\\\"domain\\\\\\\\\\\\\": null, \\\\\\\\\\\\\"multiValueDetails\\\\\\\\\\\\\": null, \\\\\\\\\\\\\"isRequired\\\\\\\\\\\\\": false, \\\\\\\\\\\\\"origin\\\\\\\\\\\\\": 2, \\\\\\\\\\\\\"defaultValue\\\\\\\\\\\\\": null, \\\\\\\\\\\\\"initializeFromProperty\\\\\\\\\\\\\": null, \\\\\\\\\\\\\"telemetryStrategy\\\\\\\\\\\\\": 0, \\\\\\\\\\\\\"condition\\\\\\\\\\\\\": null, \\\\\\\\\\\\\"documentation\\\\\\\\\\\\\": null, \\\\\\\\\\\\\"serializeWhenDefault\\\\\\\\\\\\\": true}, {\\\\\\\\\\\\\"name\\\\\\\\\\\\\": \\\\\\\\\\\\\"preview\\\\\\\\\\\\\", \\\\\\\\\\\\\"type\\\\\\\\\\\\\": 4, \\\\\\\\\\\\\"multipleValues\\\\\\\\\\\\\": false, \\\\\\\\\\\\\"domain\\\\\\\\\\\\\": null, \\\\\\\\\\\\\"multiValueDetails\\\\\\\\\\\\\": null, \\\\\\\\\\\\\"isRequired\\\\\\\\\\\\\": false, \\\\\\\\\\\\\"origin\\\\\\\\\\\\\": 2, \\\\\\\\\\\\\"defaultValue\\\\\\\\\\\\\": false, \\\\\\\\\\\\\"initializeFromProperty\\\\\\\\\\\\\": null, \\\\\\\\\\\\\"telemetryStrategy\\\\\\\\\\\\\": 0, \\\\\\\\\\\\\"condition\\\\\\\\\\\\\": null, \\\\\\\\\\\\\"documentation\\\\\\\\\\\\\": null, \\\\\\\\\\\\\"serializeWhenDefault\\\\\\\\\\\\\": true}, {\\\\\\\\\\\\\"name\\\\\\\\\\\\\": \\\\\\\\\\\\\"columnHeadersMode\\\\\\\\\\\\\", \\\\\\\\\\\\\"type\\\\\\\\\\\\\": 6, \\\\\\\\\\\\\"multipleValues\\\\\\\\\\\\\": false, \\\\\\\\\\\\\"domain\\\\\\\\\\\\\": {\\\\\\\\\\\\\"type\\\\\\\\\\\\\": 1, \\\\\\\\\\\\\"details\\\\\\\\\\\\\": {\\\\\\\\\\\\\"enumName\\\\\\\\\\\\\": \\\\\\\\\\\\\"PromoteHeadersMode\\\\\\\\\\\\\", \\\\\\\\\\\\\"enumType\\\\\\\\\\\\\": \\\\\\\\\\\\\"Microsoft.DPrep.Engine.PromoteHeadersMode, Microsoft.DPrep.EngineAPI, Version=0.1.2009.11013, Culture=neutral, PublicKeyToken=null\\\\\\\\\\\\\", \\\\\\\\\\\\\"enumValues\\\\\\\\\\\\\": [0, 1, 1, 2, 2, 3, 3]}}, \\\\\\\\\\\\\"multiValueDetails\\\\\\\\\\\\\": null, \\\\\\\\\\\\\"isRequired\\\\\\\\\\\\\": true, \\\\\\\\\\\\\"origin\\\\\\\\\\\\\": 1, \\\\\\\\\\\\\"defaultValue\\\\\\\\\\\\\": 1, \\\\\\\\\\\\\"initializeFromProperty\\\\\\\\\\\\\": null, \\\\\\\\\\\\\"telemetryStrategy\\\\\\\\\\\\\": 0, \\\\\\\\\\\\\"condition\\\\\\\\\\\\\": null, \\\\\\\\\\\\\"documentation\\\\\\\\\\\\\": null, \\\\\\\\\\\\\"serializeWhenDefault\\\\\\\\\\\\\": true}, {\\\\\\\\\\\\\"name\\\\\\\\\\\\\": \\\\\\\\\\\\\"separator\\\\\\\\\\\\\", \\\\\\\\\\\\\"type\\\\\\\\\\\\\": 0, \\\\\\\\\\\\\"multipleValues\\\\\\\\\\\\\": false, \\\\\\\\\\\\\"domain\\\\\\\\\\\\\": {\\\\\\\\\\\\\"type\\\\\\\\\\\\\": 6, \\\\\\\\\\\\\"details\\\\\\\\\\\\\": {\\\\\\\\\\\\\"values\\\\\\\\\\\\\": [{\\\\\\\\\\\\\"value\\\\\\\\\\\\\": \\\\\\\\\\\\\",\\\\\\\\\\\\\", \\\\\\\\\\\\\"id\\\\\\\\\\\\\": 0}, {\\\\\\\\\\\\\"value\\\\\\\\\\\\\": \\\\\\\\\\\\\"\\\\\\\\\\\\\\\\t\\\\\\\\\\\\\", \\\\\\\\\\\\\"id\\\\\\\\\\\\\": 1}, {\\\\\\\\\\\\\"value\\\\\\\\\\\\\": \\\\\\\\\\\\\":\\\\\\\\\\\\\", \\\\\\\\\\\\\"id\\\\\\\\\\\\\": 2}, {\\\\\\\\\\\\\"value\\\\\\\\\\\\\": \\\\\\\\\\\\\";\\\\\\\\\\\\\", \\\\\\\\\\\\\"id\\\\\\\\\\\\\": 3}, {\\\\\\\\\\\\\"value\\\\\\\\\\\\\": \\\\\\\\\\\\\" \\\\\\\\\\\\\", \\\\\\\\\\\\\"id\\\\\\\\\\\\\": 5}, {\\\\\\\\\\\\\"value\\\\\\\\\\\\\": \\\\\\\\\\\\\"=\\\\\\\\\\\\\", \\\\\\\\\\\\\"id\\\\\\\\\\\\\": 4}, {\\\\\\\\\\\\\"value\\\\\\\\\\\\\": \\\\\\\\\\\\\"\\\\\\\\\\\\\\\\u2014\\\\\\\\\\\\\", \\\\\\\\\\\\\"id\\\\\\\\\\\\\": 7}], \\\\\\\\\\\\\"allowCustom\\\\\\\\\\\\\": true, \\\\\\\\\\\\\"customEnumValue\\\\\\\\\\\\\": 6}}, \\\\\\\\\\\\\"multiValueDetails\\\\\\\\\\\\\": null, \\\\\\\\\\\\\"isRequired\\\\\\\\\\\\\": true, \\\\\\\\\\\\\"origin\\\\\\\\\\\\\": 1, \\\\\\\\\\\\\"defaultValue\\\\\\\\\\\\\": \\\\\\\\\\\\\",\\\\\\\\\\\\\", \\\\\\\\\\\\\"initializeFromProperty\\\\\\\\\\\\\": null, \\\\\\\\\\\\\"telemetryStrategy\\\\\\\\\\\\\": 0, \\\\\\\\\\\\\"condition\\\\\\\\\\\\\": null, \\\\\\\\\\\\\"documentation\\\\\\\\\\\\\": null, \\\\\\\\\\\\\"serializeWhenDefault\\\\\\\\\\\\\": true}, {\\\\\\\\\\\\\"name\\\\\\\\\\\\\": \\\\\\\\\\\\\"commentLineCharacter\\\\\\\\\\\\\", \\\\\\\\\\\\\"type\\\\\\\\\\\\\": 0, \\\\\\\\\\\\\"multipleValues\\\\\\\\\\\\\": false, \\\\\\\\\\\\\"domain\\\\\\\\\\\\\": null, \\\\\\\\\\\\\"multiValueDetails\\\\\\\\\\\\\": null, \\\\\\\\\\\\\"isRequired\\\\\\\\\\\\\": false, \\\\\\\\\\\\\"origin\\\\\\\\\\\\\": 1, \\\\\\\\\\\\\"defaultValue\\\\\\\\\\\\\": null, \\\\\\\\\\\\\"initializeFromProperty\\\\\\\\\\\\\": null, \\\\\\\\\\\\\"telemetryStrategy\\\\\\\\\\\\\": 0, \\\\\\\\\\\\\"condition\\\\\\\\\\\\\": null, \\\\\\\\\\\\\"documentation\\\\\\\\\\\\\": null, \\\\\\\\\\\\\"serializeWhenDefault\\\\\\\\\\\\\": true}, {\\\\\\\\\\\\\"name\\\\\\\\\\\\\": \\\\\\\\\\\\\"fileEncoding\\\\\\\\\\\\\", \\\\\\\\\\\\\"type\\\\\\\\\\\\\": 6, \\\\\\\\\\\\\"multipleValues\\\\\\\\\\\\\": false, \\\\\\\\\\\\\"domain\\\\\\\\\\\\\": {\\\\\\\\\\\\\"type\\\\\\\\\\\\\": 1, \\\\\\\\\\\\\"details\\\\\\\\\\\\\": {\\\\\\\\\\\\\"enumName\\\\\\\\\\\\\": \\\\\\\\\\\\\"FileEncoding\\\\\\\\\\\\\", \\\\\\\\\\\\\"enumType\\\\\\\\\\\\\": \\\\\\\\\\\\\"Microsoft.DPrep.Engine.FileEncoding, Microsoft.DPrep.EngineAPI, Version=0.1.2009.11013, Culture=neutral, PublicKeyToken=null\\\\\\\\\\\\\", \\\\\\\\\\\\\"enumValues\\\\\\\\\\\\\": [0, 1, 2, 3, 4, 5, 6, 7]}}, \\\\\\\\\\\\\"multiValueDetails\\\\\\\\\\\\\": null, \\\\\\\\\\\\\"isRequired\\\\\\\\\\\\\": true, \\\\\\\\\\\\\"origin\\\\\\\\\\\\\": 1, \\\\\\\\\\\\\"defaultValue\\\\\\\\\\\\\": 0, \\\\\\\\\\\\\"initializeFromProperty\\\\\\\\\\\\\": null, \\\\\\\\\\\\\"telemetryStrategy\\\\\\\\\\\\\": 0, \\\\\\\\\\\\\"condition\\\\\\\\\\\\\": null, \\\\\\\\\\\\\"documentation\\\\\\\\\\\\\": null, \\\\\\\\\\\\\"serializeWhenDefault\\\\\\\\\\\\\": true}, {\\\\\\\\\\\\\"name\\\\\\\\\\\\\": \\\\\\\\\\\\\"skipRowsMode\\\\\\\\\\\\\", \\\\\\\\\\\\\"type\\\\\\\\\\\\\": 6, \\\\\\\\\\\\\"multipleValues\\\\\\\\\\\\\": false, \\\\\\\\\\\\\"domain\\\\\\\\\\\\\": {\\\\\\\\\\\\\"type\\\\\\\\\\\\\": 1, \\\\\\\\\\\\\"details\\\\\\\\\\\\\": {\\\\\\\\\\\\\"enumName\\\\\\\\\\\\\": \\\\\\\\\\\\\"SkipMode\\\\\\\\\\\\\", \\\\\\\\\\\\\"enumType\\\\\\\\\\\\\": \\\\\\\\\\\\\"Microsoft.DPrep.Engine.SkipMode, Microsoft.DPrep.EngineAPI, Version=0.1.2009.11013, Culture=neutral, PublicKeyToken=null\\\\\\\\\\\\\", \\\\\\\\\\\\\"enumValues\\\\\\\\\\\\\": [0, 1, 1, 2, 2]}}, \\\\\\\\\\\\\"multiValueDetails\\\\\\\\\\\\\": null, \\\\\\\\\\\\\"isRequired\\\\\\\\\\\\\": true, \\\\\\\\\\\\\"origin\\\\\\\\\\\\\": 1, \\\\\\\\\\\\\"defaultValue\\\\\\\\\\\\\": 0, \\\\\\\\\\\\\"initializeFromProperty\\\\\\\\\\\\\": null, \\\\\\\\\\\\\"telemetryStrategy\\\\\\\\\\\\\": 0, \\\\\\\\\\\\\"condition\\\\\\\\\\\\\": null, \\\\\\\\\\\\\"documentation\\\\\\\\\\\\\": null, \\\\\\\\\\\\\"serializeWhenDefault\\\\\\\\\\\\\": true}, {\\\\\\\\\\\\\"name\\\\\\\\\\\\\": \\\\\\\\\\\\\"skipRows\\\\\\\\\\\\\", \\\\\\\\\\\\\"type\\\\\\\\\\\\\": 2, \\\\\\\\\\\\\"multipleValues\\\\\\\\\\\\\": false, \\\\\\\\\\\\\"domain\\\\\\\\\\\\\": {\\\\\\\\\\\\\"type\\\\\\\\\\\\\": 4, \\\\\\\\\\\\\"details\\\\\\\\\\\\\": {\\\\\\\\\\\\\"min\\\\\\\\\\\\\": 0.0, \\\\\\\\\\\\\"max\\\\\\\\\\\\\": 1.7976931348623157e+308}}, \\\\\\\\\\\\\"multiValueDetails\\\\\\\\\\\\\": null, \\\\\\\\\\\\\"isRequired\\\\\\\\\\\\\": false, \\\\\\\\\\\\\"origin\\\\\\\\\\\\\": 1, \\\\\\\\\\\\\"defaultValue\\\\\\\\\\\\\": null, \\\\\\\\\\\\\"initializeFromProperty\\\\\\\\\\\\\": null, \\\\\\\\\\\\\"telemetryStrategy\\\\\\\\\\\\\": 0, \\\\\\\\\\\\\"condition\\\\\\\\\\\\\": {\\\\\\\\\\\\\"condition\\\\\\\\\\\\\": {\\\\\\\\\\\\\"property\\\\\\\\\\\\\": {\\\\\\\\\\\\\"propertyPath\\\\\\\\\\\\\": [\\\\\\\\\\\\\"skipRowsMode\\\\\\\\\\\\\"]}, \\\\\\\\\\\\\"comparison\\\\\\\\\\\\\": 1, \\\\\\\\\\\\\"value\\\\\\\\\\\\\": 0}, \\\\\\\\\\\\\"aggregate\\\\\\\\\\\\\": null}, \\\\\\\\\\\\\"documentation\\\\\\\\\\\\\": null, \\\\\\\\\\\\\"serializeWhenDefault\\\\\\\\\\\\\": true}, {\\\\\\\\\\\\\"name\\\\\\\\\\\\\": \\\\\\\\\\\\\"handleQuotedLineBreaks\\\\\\\\\\\\\", \\\\\\\\\\\\\"type\\\\\\\\\\\\\": 4, \\\\\\\\\\\\\"multipleValues\\\\\\\\\\\\\": false, \\\\\\\\\\\\\"domain\\\\\\\\\\\\\": null, \\\\\\\\\\\\\"multiValueDetails\\\\\\\\\\\\\": null, \\\\\\\\\\\\\"isRequired\\\\\\\\\\\\\": true, \\\\\\\\\\\\\"origin\\\\\\\\\\\\\": 1, \\\\\\\\\\\\\"defaultValue\\\\\\\\\\\\\": false, \\\\\\\\\\\\\"initializeFromProperty\\\\\\\\\\\\\": null, \\\\\\\\\\\\\"telemetryStrategy\\\\\\\\\\\\\": 0, \\\\\\\\\\\\\"condition\\\\\\\\\\\\\": null, \\\\\\\\\\\\\"documentation\\\\\\\\\\\\\": null, \\\\\\\\\\\\\"serializeWhenDefault\\\\\\\\\\\\\": true}, {\\\\\\\\\\\\\"name\\\\\\\\\\\\\": \\\\\\\\\\\\\"partitionSize\\\\\\\\\\\\\", \\\\\\\\\\\\\"type\\\\\\\\\\\\\": 2, \\\\\\\\\\\\\"multipleValues\\\\\\\\\\\\\": false, \\\\\\\\\\\\\"domain\\\\\\\\\\\\\": null, \\\\\\\\\\\\\"multiValueDetails\\\\\\\\\\\\\": null, \\\\\\\\\\\\\"isRequired\\\\\\\\\\\\\": false, \\\\\\\\\\\\\"origin\\\\\\\\\\\\\": 1, \\\\\\\\\\\\\"defaultValue\\\\\\\\\\\\\": null, \\\\\\\\\\\\\"initializeFromProperty\\\\\\\\\\\\\": null, \\\\\\\\\\\\\"telemetryStrategy\\\\\\\\\\\\\": 0, \\\\\\\\\\\\\"condition\\\\\\\\\\\\\": null, \\\\\\\\\\\\\"documentation\\\\\\\\\\\\\": null, \\\\\\\\\\\\\"serializeWhenDefault\\\\\\\\\\\\\": true}, {\\\\\\\\\\\\\"name\\\\\\\\\\\\\": \\\\\\\\\\\\\"emptyAsString\\\\\\\\\\\\\", \\\\\\\\\\\\\"type\\\\\\\\\\\\\": 4, \\\\\\\\\\\\\"multipleValues\\\\\\\\\\\\\": false, \\\\\\\\\\\\\"domain\\\\\\\\\\\\\": null, \\\\\\\\\\\\\"multiValueDetails\\\\\\\\\\\\\": null, \\\\\\\\\\\\\"isRequired\\\\\\\\\\\\\": false, \\\\\\\\\\\\\"origin\\\\\\\\\\\\\": 1, \\\\\\\\\\\\\"defaultValue\\\\\\\\\\\\\": false, \\\\\\\\\\\\\"initializeFromProperty\\\\\\\\\\\\\": null, \\\\\\\\\\\\\"telemetryStrategy\\\\\\\\\\\\\": 0, \\\\\\\\\\\\\"condition\\\\\\\\\\\\\": null, \\\\\\\\\\\\\"documentation\\\\\\\\\\\\\": null, \\\\\\\\\\\\\"serializeWhenDefault\\\\\\\\\\\\\": false}], \\\\\\\\\\\\\"arguments\\\\\\\\\\\\\": {\\\\\\\\\\\\\"columnHeadersMode\\\\\\\\\\\\\": 3, \\\\\\\\\\\\\"fileEncoding\\\\\\\\\\\\\": 0, \\\\\\\\\\\\\"handleQuotedLineBreaks\\\\\\\\\\\\\": false, \\\\\\\\\\\\\"preview\\\\\\\\\\\\\": false, \\\\\\\\\\\\\"separator\\\\\\\\\\\\\": \\\\\\\\\\\\\",\\\\\\\\\\\\\", \\\\\\\\\\\\\"skipRows\\\\\\\\\\\\\": 0, \\\\\\\\\\\\\"skipRowsMode\\\\\\\\\\\\\": 0}}, {\\\\\\\\\\\\\"id\\\\\\\\\\\\\": \\\\\\\\\\\\\"a5d00f86-e8fc-473e-a319-03176797ff82\\\\\\\\\\\\\", \\\\\\\\\\\\\"description\\\\\\\\\\\\\": {\\\\\\\\\\\\\"localDataProperties\\\\\\\\\\\\\": [], \\\\\\\\\\\\\"blockGroup\\\\\\\\\\\\\": 6, \\\\\\\\\\\\\"supportedTargets\\\\\\\\\\\\\": [2, 3], \\\\\\\\\\\\\"supportedFieldTypes\\\\\\\\\\\\\": null, \\\\\\\\\\\\\"supportedMessages\\\\\\\\\\\\\": [], \\\\\\\\\\\\\"requiresInitialization\\\\\\\\\\\\\": false, \\\\\\\\\\\\\"allowDefaultAdd\\\\\\\\\\\\\": true, \\\\\\\\\\\\\"documentation\\\\\\\\\\\\\": \\\\\\\\\\\\\"Drops the specified columns.\\\\\\\\\\\\\", \\\\\\\\\\\\\"type\\\\\\\\\\\\\": \\\\\\\\\\\\\"Microsoft.DPrep.DropColumnsBlock\\\\\\\\\\\\\", \\\\\\\\\\\\\"propertyDescriptions\\\\\\\\\\\\\": [{\\\\\\\\\\\\\"name\\\\\\\\\\\\\": \\\\\\\\\\\\\"columns\\\\\\\\\\\\\", \\\\\\\\\\\\\"type\\\\\\\\\\\\\": 5, \\\\\\\\\\\\\"multipleValues\\\\\\\\\\\\\": false, \\\\\\\\\\\\\"domain\\\\\\\\\\\\\": {\\\\\\\\\\\\\"type\\\\\\\\\\\\\": 12, \\\\\\\\\\\\\"details\\\\\\\\\\\\\": {\\\\\\\\\\\\\"selectorDomainType\\\\\\\\\\\\\": 1, \\\\\\\\\\\\\"fieldTypes\\\\\\\\\\\\\": []}}, \\\\\\\\\\\\\"multiValueDetails\\\\\\\\\\\\\": null, \\\\\\\\\\\\\"isRequired\\\\\\\\\\\\\": true, \\\\\\\\\\\\\"origin\\\\\\\\\\\\\": 0, \\\\\\\\\\\\\"defaultValue\\\\\\\\\\\\\": null, \\\\\\\\\\\\\"initializeFromProperty\\\\\\\\\\\\\": null, \\\\\\\\\\\\\"telemetryStrategy\\\\\\\\\\\\\": 1, \\\\\\\\\\\\\"condition\\\\\\\\\\\\\": null, \\\\\\\\\\\\\"documentation\\\\\\\\\\\\\": \\\\\\\\\\\\\"The source columns.\\\\\\\\\\\\\", \\\\\\\\\\\\\"serializeWhenDefault\\\\\\\\\\\\\": true}], \\\\\\\\\\\\\"dataEffectDetails\\\\\\\\\\\\\": {\\\\\\\\\\\\\"columnsRemovedProperties\\\\\\\\\\\\\": [{\\\\\\\\\\\\\"propertyPath\\\\\\\\\\\\\": [\\\\\\\\\\\\\"columns\\\\\\\\\\\\\"]}], \\\\\\\\\\\\\"dataEffect\\\\\\\\\\\\\": 4}}, \\\\\\\\\\\\\"type\\\\\\\\\\\\\": \\\\\\\\\\\\\"Microsoft.DPrep.DropColumnsBlock\\\\\\\\\\\\\", \\\\\\\\\\\\\"dataEffectDetails\\\\\\\\\\\\\": {\\\\\\\\\\\\\"columnsRemovedProperties\\\\\\\\\\\\\": [{\\\\\\\\\\\\\"propertyPath\\\\\\\\\\\\\": [\\\\\\\\\\\\\"columns\\\\\\\\\\\\\"]}], \\\\\\\\\\\\\"dataEffect\\\\\\\\\\\\\": 4}, \\\\\\\\\\\\\"propertyDescriptions\\\\\\\\\\\\\": [{\\\\\\\\\\\\\"name\\\\\\\\\\\\\": \\\\\\\\\\\\\"columns\\\\\\\\\\\\\", \\\\\\\\\\\\\"type\\\\\\\\\\\\\": 5, \\\\\\\\\\\\\"multipleValues\\\\\\\\\\\\\": false, \\\\\\\\\\\\\"domain\\\\\\\\\\\\\": {\\\\\\\\\\\\\"type\\\\\\\\\\\\\": 12, \\\\\\\\\\\\\"details\\\\\\\\\\\\\": {\\\\\\\\\\\\\"selectorDomainType\\\\\\\\\\\\\": 1, \\\\\\\\\\\\\"fieldTypes\\\\\\\\\\\\\": []}}, \\\\\\\\\\\\\"multiValueDetails\\\\\\\\\\\\\": null, \\\\\\\\\\\\\"isRequired\\\\\\\\\\\\\": true, \\\\\\\\\\\\\"origin\\\\\\\\\\\\\": 0, \\\\\\\\\\\\\"defaultValue\\\\\\\\\\\\\": null, \\\\\\\\\\\\\"initializeFromProperty\\\\\\\\\\\\\": null, \\\\\\\\\\\\\"telemetryStrategy\\\\\\\\\\\\\": 1, \\\\\\\\\\\\\"condition\\\\\\\\\\\\\": null, \\\\\\\\\\\\\"documentation\\\\\\\\\\\\\": \\\\\\\\\\\\\"The source columns.\\\\\\\\\\\\\", \\\\\\\\\\\\\"serializeWhenDefault\\\\\\\\\\\\\": true}], \\\\\\\\\\\\\"arguments\\\\\\\\\\\\\": {\\\\\\\\\\\\\"columns\\\\\\\\\\\\\": {\\\\\\\\\\\\\"type\\\\\\\\\\\\\": 0, \\\\\\\\\\\\\"details\\\\\\\\\\\\\": {\\\\\\\\\\\\\"selectedColumns\\\\\\\\\\\\\": [\\\\\\\\\\\\\"Path\\\\\\\\\\\\\"]}}}}, {\\\\\\\\\\\\\"id\\\\\\\\\\\\\": \\\\\\\\\\\\\"634bcfc8-4a04-4fcf-92f7-fa502b6d608d\\\\\\\\\\\\\", \\\\\\\\\\\\\"description\\\\\\\\\\\\\": {\\\\\\\\\\\\\"localDataProperties\\\\\\\\\\\\\": [], \\\\\\\\\\\\\"blockGroup\\\\\\\\\\\\\": 7, \\\\\\\\\\\\\"supportedTargets\\\\\\\\\\\\\": [5], \\\\\\\\\\\\\"supportedFieldTypes\\\\\\\\\\\\\": null, \\\\\\\\\\\\\"supportedMessages\\\\\\\\\\\\\": [], \\\\\\\\\\\\\"requiresInitialization\\\\\\\\\\\\\": false, \\\\\\\\\\\\\"allowDefaultAdd\\\\\\\\\\\\\": true, \\\\\\\\\\\\\"documentation\\\\\\\\\\\\\": null, \\\\\\\\\\\\\"type\\\\\\\\\\\\\": \\\\\\\\\\\\\"Microsoft.DPrep.SetColumnTypesBlock\\\\\\\\\\\\\", \\\\\\\\\\\\\"propertyDescriptions\\\\\\\\\\\\\": [{\\\\\\\\\\\\\"name\\\\\\\\\\\\\": \\\\\\\\\\\\\"columnConversion\\\\\\\\\\\\\", \\\\\\\\\\\\\"type\\\\\\\\\\\\\": 7, \\\\\\\\\\\\\"multipleValues\\\\\\\\\\\\\": true, \\\\\\\\\\\\\"domain\\\\\\\\\\\\\": {\\\\\\\\\\\\\"type\\\\\\\\\\\\\": 0, \\\\\\\\\\\\\"details\\\\\\\\\\\\\": [{\\\\\\\\\\\\\"name\\\\\\\\\\\\\": \\\\\\\\\\\\\"column\\\\\\\\\\\\\", \\\\\\\\\\\\\"type\\\\\\\\\\\\\": 5, \\\\\\\\\\\\\"multipleValues\\\\\\\\\\\\\": false, \\\\\\\\\\\\\"domain\\\\\\\\\\\\\": {\\\\\\\\\\\\\"type\\\\\\\\\\\\\": 12, \\\\\\\\\\\\\"details\\\\\\\\\\\\\": {\\\\\\\\\\\\\"selectorDomainType\\\\\\\\\\\\\": 0, \\\\\\\\\\\\\"fieldTypes\\\\\\\\\\\\\": []}}, \\\\\\\\\\\\\"multiValueDetails\\\\\\\\\\\\\": null, \\\\\\\\\\\\\"isRequired\\\\\\\\\\\\\": true, \\\\\\\\\\\\\"origin\\\\\\\\\\\\\": 0, \\\\\\\\\\\\\"defaultValue\\\\\\\\\\\\\": null, \\\\\\\\\\\\\"initializeFromProperty\\\\\\\\\\\\\": null, \\\\\\\\\\\\\"telemetryStrategy\\\\\\\\\\\\\": 1, \\\\\\\\\\\\\"condition\\\\\\\\\\\\\": null, \\\\\\\\\\\\\"documentation\\\\\\\\\\\\\": \\\\\\\\\\\\\"The source column.\\\\\\\\\\\\\", \\\\\\\\\\\\\"serializeWhenDefault\\\\\\\\\\\\\": true}, {\\\\\\\\\\\\\"name\\\\\\\\\\\\\": \\\\\\\\\\\\\"typeProperty\\\\\\\\\\\\\", \\\\\\\\\\\\\"type\\\\\\\\\\\\\": 6, \\\\\\\\\\\\\"multipleValues\\\\\\\\\\\\\": false, \\\\\\\\\\\\\"domain\\\\\\\\\\\\\": {\\\\\\\\\\\\\"type\\\\\\\\\\\\\": 1, \\\\\\\\\\\\\"details\\\\\\\\\\\\\": {\\\\\\\\\\\\\"enumName\\\\\\\\\\\\\": \\\\\\\\\\\\\"FieldType\\\\\\\\\\\\\", \\\\\\\\\\\\\"enumType\\\\\\\\\\\\\": \\\\\\\\\\\\\"Microsoft.DPrep.Engine.FieldType, Microsoft.DPrep.EngineAPI, Version=0.1.2009.11013, Culture=neutral, PublicKeyToken=null\\\\\\\\\\\\\", \\\\\\\\\\\\\"enumValues\\\\\\\\\\\\\": [0, 1, 3, 4, 10]}}, \\\\\\\\\\\\\"multiValueDetails\\\\\\\\\\\\\": null, \\\\\\\\\\\\\"isRequired\\\\\\\\\\\\\": true, \\\\\\\\\\\\\"origin\\\\\\\\\\\\\": 0, \\\\\\\\\\\\\"defaultValue\\\\\\\\\\\\\": 0, \\\\\\\\\\\\\"initializeFromProperty\\\\\\\\\\\\\": null, \\\\\\\\\\\\\"telemetryStrategy\\\\\\\\\\\\\": 0, \\\\\\\\\\\\\"condition\\\\\\\\\\\\\": null, \\\\\\\\\\\\\"documentation\\\\\\\\\\\\\": null, \\\\\\\\\\\\\"serializeWhenDefault\\\\\\\\\\\\\": true}, {\\\\\\\\\\\\\"name\\\\\\\\\\\\\": \\\\\\\\\\\\\"typeArguments\\\\\\\\\\\\\", \\\\\\\\\\\\\"type\\\\\\\\\\\\\": 7, \\\\\\\\\\\\\"multipleValues\\\\\\\\\\\\\": false, \\\\\\\\\\\\\"domain\\\\\\\\\\\\\": {\\\\\\\\\\\\\"type\\\\\\\\\\\\\": 0, \\\\\\\\\\\\\"details\\\\\\\\\\\\\": [{\\\\\\\\\\\\\"name\\\\\\\\\\\\\": \\\\\\\\\\\\\"dateTimeFormats\\\\\\\\\\\\\", \\\\\\\\\\\\\"type\\\\\\\\\\\\\": 1, \\\\\\\\\\\\\"multipleValues\\\\\\\\\\\\\": true, \\\\\\\\\\\\\"domain\\\\\\\\\\\\\": null, \\\\\\\\\\\\\"multiValueDetails\\\\\\\\\\\\\": {\\\\\\\\\\\\\"isOrdered\\\\\\\\\\\\\": false}, \\\\\\\\\\\\\"isRequired\\\\\\\\\\\\\": false, \\\\\\\\\\\\\"origin\\\\\\\\\\\\\": 1, \\\\\\\\\\\\\"defaultValue\\\\\\\\\\\\\": null, \\\\\\\\\\\\\"initializeFromProperty\\\\\\\\\\\\\": null, \\\\\\\\\\\\\"telemetryStrategy\\\\\\\\\\\\\": 0, \\\\\\\\\\\\\"condition\\\\\\\\\\\\\": null, \\\\\\\\\\\\\"documentation\\\\\\\\\\\\\": null, \\\\\\\\\\\\\"serializeWhenDefault\\\\\\\\\\\\\": true}, {\\\\\\\\\\\\\"name\\\\\\\\\\\\\": \\\\\\\\\\\\\"decimalMark\\\\\\\\\\\\\", \\\\\\\\\\\\\"type\\\\\\\\\\\\\": 6, \\\\\\\\\\\\\"multipleValues\\\\\\\\\\\\\": false, \\\\\\\\\\\\\"domain\\\\\\\\\\\\\": {\\\\\\\\\\\\\"type\\\\\\\\\\\\\": 1, \\\\\\\\\\\\\"details\\\\\\\\\\\\\": {\\\\\\\\\\\\\"enumName\\\\\\\\\\\\\": \\\\\\\\\\\\\"DecimalMark\\\\\\\\\\\\\", \\\\\\\\\\\\\"enumType\\\\\\\\\\\\\": \\\\\\\\\\\\\"Microsoft.DPrep.Engine.PropertiesSystem.SharedSystemProperties+DecimalMark, Microsoft.DPrep.Engine, Version=0.1.2009.11013, Culture=neutral, PublicKeyToken=null\\\\\\\\\\\\\", \\\\\\\\\\\\\"enumValues\\\\\\\\\\\\\": [0, 1]}}, \\\\\\\\\\\\\"multiValueDetails\\\\\\\\\\\\\": null, \\\\\\\\\\\\\"isRequired\\\\\\\\\\\\\": false, \\\\\\\\\\\\\"origin\\\\\\\\\\\\\": 1, \\\\\\\\\\\\\"defaultValue\\\\\\\\\\\\\": null, \\\\\\\\\\\\\"initializeFromProperty\\\\\\\\\\\\\": null, \\\\\\\\\\\\\"telemetryStrategy\\\\\\\\\\\\\": 0, \\\\\\\\\\\\\"condition\\\\\\\\\\\\\": null, \\\\\\\\\\\\\"documentation\\\\\\\\\\\\\": \\\\\\\\\\\\\"The symbol to use as the decimal mark.\\\\\\\\\\\\\", \\\\\\\\\\\\\"serializeWhenDefault\\\\\\\\\\\\\": false}]}, \\\\\\\\\\\\\"multiValueDetails\\\\\\\\\\\\\": null, \\\\\\\\\\\\\"isRequired\\\\\\\\\\\\\": false, \\\\\\\\\\\\\"origin\\\\\\\\\\\\\": 0, \\\\\\\\\\\\\"defaultValue\\\\\\\\\\\\\": null, \\\\\\\\\\\\\"initializeFromProperty\\\\\\\\\\\\\": null, \\\\\\\\\\\\\"telemetryStrategy\\\\\\\\\\\\\": 0, \\\\\\\\\\\\\"condition\\\\\\\\\\\\\": null, \\\\\\\\\\\\\"documentation\\\\\\\\\\\\\": null, \\\\\\\\\\\\\"serializeWhenDefault\\\\\\\\\\\\\": true}]}, \\\\\\\\\\\\\"multiValueDetails\\\\\\\\\\\\\": {\\\\\\\\\\\\\"isOrdered\\\\\\\\\\\\\": false}, \\\\\\\\\\\\\"isRequired\\\\\\\\\\\\\": false, \\\\\\\\\\\\\"origin\\\\\\\\\\\\\": 0, \\\\\\\\\\\\\"defaultValue\\\\\\\\\\\\\": null, \\\\\\\\\\\\\"initializeFromProperty\\\\\\\\\\\\\": null, \\\\\\\\\\\\\"telemetryStrategy\\\\\\\\\\\\\": 0, \\\\\\\\\\\\\"condition\\\\\\\\\\\\\": null, \\\\\\\\\\\\\"documentation\\\\\\\\\\\\\": null, \\\\\\\\\\\\\"serializeWhenDefault\\\\\\\\\\\\\": true}], \\\\\\\\\\\\\"dataEffectDetails\\\\\\\\\\\\\": {\\\\\\\\\\\\\"dataEffect\\\\\\\\\\\\\": 1}}, \\\\\\\\\\\\\"type\\\\\\\\\\\\\": \\\\\\\\\\\\\"Microsoft.DPrep.SetColumnTypesBlock\\\\\\\\\\\\\", \\\\\\\\\\\\\"dataEffectDetails\\\\\\\\\\\\\": {\\\\\\\\\\\\\"dataEffect\\\\\\\\\\\\\": 1}, \\\\\\\\\\\\\"propertyDescriptions\\\\\\\\\\\\\": [{\\\\\\\\\\\\\"name\\\\\\\\\\\\\": \\\\\\\\\\\\\"columnConversion\\\\\\\\\\\\\", \\\\\\\\\\\\\"type\\\\\\\\\\\\\": 7, \\\\\\\\\\\\\"multipleValues\\\\\\\\\\\\\": true, \\\\\\\\\\\\\"domain\\\\\\\\\\\\\": {\\\\\\\\\\\\\"type\\\\\\\\\\\\\": 0, \\\\\\\\\\\\\"details\\\\\\\\\\\\\": [{\\\\\\\\\\\\\"name\\\\\\\\\\\\\": \\\\\\\\\\\\\"column\\\\\\\\\\\\\", \\\\\\\\\\\\\"type\\\\\\\\\\\\\": 5, \\\\\\\\\\\\\"multipleValues\\\\\\\\\\\\\": false, \\\\\\\\\\\\\"domain\\\\\\\\\\\\\": {\\\\\\\\\\\\\"type\\\\\\\\\\\\\": 12, \\\\\\\\\\\\\"details\\\\\\\\\\\\\": {\\\\\\\\\\\\\"selectorDomainType\\\\\\\\\\\\\": 0, \\\\\\\\\\\\\"fieldTypes\\\\\\\\\\\\\": []}}, \\\\\\\\\\\\\"multiValueDetails\\\\\\\\\\\\\": null, \\\\\\\\\\\\\"isRequired\\\\\\\\\\\\\": true, \\\\\\\\\\\\\"origin\\\\\\\\\\\\\": 0, \\\\\\\\\\\\\"defaultValue\\\\\\\\\\\\\": null, \\\\\\\\\\\\\"initializeFromProperty\\\\\\\\\\\\\": null, \\\\\\\\\\\\\"telemetryStrategy\\\\\\\\\\\\\": 1, \\\\\\\\\\\\\"condition\\\\\\\\\\\\\": null, \\\\\\\\\\\\\"documentation\\\\\\\\\\\\\": \\\\\\\\\\\\\"The source column.\\\\\\\\\\\\\", \\\\\\\\\\\\\"serializeWhenDefault\\\\\\\\\\\\\": true}, {\\\\\\\\\\\\\"name\\\\\\\\\\\\\": \\\\\\\\\\\\\"typeProperty\\\\\\\\\\\\\", \\\\\\\\\\\\\"type\\\\\\\\\\\\\": 6, \\\\\\\\\\\\\"multipleValues\\\\\\\\\\\\\": false, \\\\\\\\\\\\\"domain\\\\\\\\\\\\\": {\\\\\\\\\\\\\"type\\\\\\\\\\\\\": 1, \\\\\\\\\\\\\"details\\\\\\\\\\\\\": {\\\\\\\\\\\\\"enumName\\\\\\\\\\\\\": \\\\\\\\\\\\\"FieldType\\\\\\\\\\\\\", \\\\\\\\\\\\\"enumType\\\\\\\\\\\\\": \\\\\\\\\\\\\"Microsoft.DPrep.Engine.FieldType, Microsoft.DPrep.EngineAPI, Version=0.1.2009.11013, Culture=neutral, PublicKeyToken=null\\\\\\\\\\\\\", \\\\\\\\\\\\\"enumValues\\\\\\\\\\\\\": [0, 1, 3, 4, 10]}}, \\\\\\\\\\\\\"multiValueDetails\\\\\\\\\\\\\": null, \\\\\\\\\\\\\"isRequired\\\\\\\\\\\\\": true, \\\\\\\\\\\\\"origin\\\\\\\\\\\\\": 0, \\\\\\\\\\\\\"defaultValue\\\\\\\\\\\\\": 0, \\\\\\\\\\\\\"initializeFromProperty\\\\\\\\\\\\\": null, \\\\\\\\\\\\\"telemetryStrategy\\\\\\\\\\\\\": 0, \\\\\\\\\\\\\"condition\\\\\\\\\\\\\": null, \\\\\\\\\\\\\"documentation\\\\\\\\\\\\\": null, \\\\\\\\\\\\\"serializeWhenDefault\\\\\\\\\\\\\": true}, {\\\\\\\\\\\\\"name\\\\\\\\\\\\\": \\\\\\\\\\\\\"typeArguments\\\\\\\\\\\\\", \\\\\\\\\\\\\"type\\\\\\\\\\\\\": 7, \\\\\\\\\\\\\"multipleValues\\\\\\\\\\\\\": false, \\\\\\\\\\\\\"domain\\\\\\\\\\\\\": {\\\\\\\\\\\\\"type\\\\\\\\\\\\\": 0, \\\\\\\\\\\\\"details\\\\\\\\\\\\\": [{\\\\\\\\\\\\\"name\\\\\\\\\\\\\": \\\\\\\\\\\\\"dateTimeFormats\\\\\\\\\\\\\", \\\\\\\\\\\\\"type\\\\\\\\\\\\\": 1, \\\\\\\\\\\\\"multipleValues\\\\\\\\\\\\\": true, \\\\\\\\\\\\\"domain\\\\\\\\\\\\\": null, \\\\\\\\\\\\\"multiValueDetails\\\\\\\\\\\\\": {\\\\\\\\\\\\\"isOrdered\\\\\\\\\\\\\": false}, \\\\\\\\\\\\\"isRequired\\\\\\\\\\\\\": false, \\\\\\\\\\\\\"origin\\\\\\\\\\\\\": 1, \\\\\\\\\\\\\"defaultValue\\\\\\\\\\\\\": null, \\\\\\\\\\\\\"initializeFromProperty\\\\\\\\\\\\\": null, \\\\\\\\\\\\\"telemetryStrategy\\\\\\\\\\\\\": 0, \\\\\\\\\\\\\"condition\\\\\\\\\\\\\": null, \\\\\\\\\\\\\"documentation\\\\\\\\\\\\\": null, \\\\\\\\\\\\\"serializeWhenDefault\\\\\\\\\\\\\": true}, {\\\\\\\\\\\\\"name\\\\\\\\\\\\\": \\\\\\\\\\\\\"decimalMark\\\\\\\\\\\\\", \\\\\\\\\\\\\"type\\\\\\\\\\\\\": 6, \\\\\\\\\\\\\"multipleValues\\\\\\\\\\\\\": false, \\\\\\\\\\\\\"domain\\\\\\\\\\\\\": {\\\\\\\\\\\\\"type\\\\\\\\\\\\\": 1, \\\\\\\\\\\\\"details\\\\\\\\\\\\\": {\\\\\\\\\\\\\"enumName\\\\\\\\\\\\\": \\\\\\\\\\\\\"DecimalMark\\\\\\\\\\\\\", \\\\\\\\\\\\\"enumType\\\\\\\\\\\\\": \\\\\\\\\\\\\"Microsoft.DPrep.Engine.PropertiesSystem.SharedSystemProperties+DecimalMark, Microsoft.DPrep.Engine, Version=0.1.2009.11013, Culture=neutral, PublicKeyToken=null\\\\\\\\\\\\\", \\\\\\\\\\\\\"enumValues\\\\\\\\\\\\\": [0, 1]}}, \\\\\\\\\\\\\"multiValueDetails\\\\\\\\\\\\\": null, \\\\\\\\\\\\\"isRequired\\\\\\\\\\\\\": false, \\\\\\\\\\\\\"origin\\\\\\\\\\\\\": 1, \\\\\\\\\\\\\"defaultValue\\\\\\\\\\\\\": null, \\\\\\\\\\\\\"initializeFromProperty\\\\\\\\\\\\\": null, \\\\\\\\\\\\\"telemetryStrategy\\\\\\\\\\\\\": 0, \\\\\\\\\\\\\"condition\\\\\\\\\\\\\": null, \\\\\\\\\\\\\"documentation\\\\\\\\\\\\\": \\\\\\\\\\\\\"The symbol to use as the decimal mark.\\\\\\\\\\\\\", \\\\\\\\\\\\\"serializeWhenDefault\\\\\\\\\\\\\": false}]}, \\\\\\\\\\\\\"multiValueDetails\\\\\\\\\\\\\": null, \\\\\\\\\\\\\"isRequired\\\\\\\\\\\\\": false, \\\\\\\\\\\\\"origin\\\\\\\\\\\\\": 0, \\\\\\\\\\\\\"defaultValue\\\\\\\\\\\\\": null, \\\\\\\\\\\\\"initializeFromProperty\\\\\\\\\\\\\": null, \\\\\\\\\\\\\"telemetryStrategy\\\\\\\\\\\\\": 0, \\\\\\\\\\\\\"condition\\\\\\\\\\\\\": null, \\\\\\\\\\\\\"documentation\\\\\\\\\\\\\": null, \\\\\\\\\\\\\"serializeWhenDefault\\\\\\\\\\\\\": true}]}, \\\\\\\\\\\\\"multiValueDetails\\\\\\\\\\\\\": {\\\\\\\\\\\\\"isOrdered\\\\\\\\\\\\\": false}, \\\\\\\\\\\\\"isRequired\\\\\\\\\\\\\": false, \\\\\\\\\\\\\"origin\\\\\\\\\\\\\": 0, \\\\\\\\\\\\\"defaultValue\\\\\\\\\\\\\": null, \\\\\\\\\\\\\"initializeFromProperty\\\\\\\\\\\\\": null, \\\\\\\\\\\\\"telemetryStrategy\\\\\\\\\\\\\": 0, \\\\\\\\\\\\\"condition\\\\\\\\\\\\\": null, \\\\\\\\\\\\\"documentation\\\\\\\\\\\\\": null, \\\\\\\\\\\\\"serializeWhenDefault\\\\\\\\\\\\\": true}], \\\\\\\\\\\\\"arguments\\\\\\\\\\\\\": {\\\\\\\\\\\\\"columnConversion\\\\\\\\\\\\\": [{\\\\\\\\\\\\\"column\\\\\\\\\\\\\": {\\\\\\\\\\\\\"type\\\\\\\\\\\\\": 2, \\\\\\\\\\\\\"details\\\\\\\\\\\\\": {\\\\\\\\\\\\\"selectedColumn\\\\\\\\\\\\\": \\\\\\\\\\\\\"PassengerId\\\\\\\\\\\\\"}}, \\\\\\\\\\\\\"typeProperty\\\\\\\\\\\\\": 2}, {\\\\\\\\\\\\\"column\\\\\\\\\\\\\": {\\\\\\\\\\\\\"type\\\\\\\\\\\\\": 2, \\\\\\\\\\\\\"details\\\\\\\\\\\\\": {\\\\\\\\\\\\\"selectedColumn\\\\\\\\\\\\\": \\\\\\\\\\\\\"Survived\\\\\\\\\\\\\"}}, \\\\\\\\\\\\\"typeProperty\\\\\\\\\\\\\": 2}, {\\\\\\\\\\\\\"column\\\\\\\\\\\\\": {\\\\\\\\\\\\\"type\\\\\\\\\\\\\": 2, \\\\\\\\\\\\\"details\\\\\\\\\\\\\": {\\\\\\\\\\\\\"selectedColumn\\\\\\\\\\\\\": \\\\\\\\\\\\\"Pclass\\\\\\\\\\\\\"}}, \\\\\\\\\\\\\"typeProperty\\\\\\\\\\\\\": 2}, {\\\\\\\\\\\\\"column\\\\\\\\\\\\\": {\\\\\\\\\\\\\"type\\\\\\\\\\\\\": 2, \\\\\\\\\\\\\"details\\\\\\\\\\\\\": {\\\\\\\\\\\\\"selectedColumn\\\\\\\\\\\\\": \\\\\\\\\\\\\"Name\\\\\\\\\\\\\"}}, \\\\\\\\\\\\\"typeProperty\\\\\\\\\\\\\": 0}, {\\\\\\\\\\\\\"column\\\\\\\\\\\\\": {\\\\\\\\\\\\\"type\\\\\\\\\\\\\": 2, \\\\\\\\\\\\\"details\\\\\\\\\\\\\": {\\\\\\\\\\\\\"selectedColumn\\\\\\\\\\\\\": \\\\\\\\\\\\\"Sex\\\\\\\\\\\\\"}}, \\\\\\\\\\\\\"typeProperty\\\\\\\\\\\\\": 0}, {\\\\\\\\\\\\\"column\\\\\\\\\\\\\": {\\\\\\\\\\\\\"type\\\\\\\\\\\\\": 2, \\\\\\\\\\\\\"details\\\\\\\\\\\\\": {\\\\\\\\\\\\\"selectedColumn\\\\\\\\\\\\\": \\\\\\\\\\\\\"Age\\\\\\\\\\\\\"}}, \\\\\\\\\\\\\"typeProperty\\\\\\\\\\\\\": 3}, {\\\\\\\\\\\\\"column\\\\\\\\\\\\\": {\\\\\\\\\\\\\"type\\\\\\\\\\\\\": 2, \\\\\\\\\\\\\"details\\\\\\\\\\\\\": {\\\\\\\\\\\\\"selectedColumn\\\\\\\\\\\\\": \\\\\\\\\\\\\"SibSp\\\\\\\\\\\\\"}}, \\\\\\\\\\\\\"typeProperty\\\\\\\\\\\\\": 2}, {\\\\\\\\\\\\\"column\\\\\\\\\\\\\": {\\\\\\\\\\\\\"type\\\\\\\\\\\\\": 2, \\\\\\\\\\\\\"details\\\\\\\\\\\\\": {\\\\\\\\\\\\\"selectedColumn\\\\\\\\\\\\\": \\\\\\\\\\\\\"Parch\\\\\\\\\\\\\"}}, \\\\\\\\\\\\\"typeProperty\\\\\\\\\\\\\": 2}, {\\\\\\\\\\\\\"column\\\\\\\\\\\\\": {\\\\\\\\\\\\\"type\\\\\\\\\\\\\": 2, \\\\\\\\\\\\\"details\\\\\\\\\\\\\": {\\\\\\\\\\\\\"selectedColumn\\\\\\\\\\\\\": \\\\\\\\\\\\\"Ticket\\\\\\\\\\\\\"}}, \\\\\\\\\\\\\"typeProperty\\\\\\\\\\\\\": 0}, {\\\\\\\\\\\\\"column\\\\\\\\\\\\\": {\\\\\\\\\\\\\"type\\\\\\\\\\\\\": 2, \\\\\\\\\\\\\"details\\\\\\\\\\\\\": {\\\\\\\\\\\\\"selectedColumn\\\\\\\\\\\\\": \\\\\\\\\\\\\"Fare\\\\\\\\\\\\\"}}, \\\\\\\\\\\\\"typeProperty\\\\\\\\\\\\\": 3}, {\\\\\\\\\\\\\"column\\\\\\\\\\\\\": {\\\\\\\\\\\\\"type\\\\\\\\\\\\\": 2, \\\\\\\\\\\\\"details\\\\\\\\\\\\\": {\\\\\\\\\\\\\"selectedColumn\\\\\\\\\\\\\": \\\\\\\\\\\\\"Cabin\\\\\\\\\\\\\"}}, \\\\\\\\\\\\\"typeProperty\\\\\\\\\\\\\": 0}, {\\\\\\\\\\\\\"column\\\\\\\\\\\\\": {\\\\\\\\\\\\\"type\\\\\\\\\\\\\": 2, \\\\\\\\\\\\\"details\\\\\\\\\\\\\": {\\\\\\\\\\\\\"selectedColumn\\\\\\\\\\\\\": \\\\\\\\\\\\\"Embarked\\\\\\\\\\\\\"}}, \\\\\\\\\\\\\"typeProperty\\\\\\\\\\\\\": 0}]}}, {\\\\\\\\\\\\\"id\\\\\\\\\\\\\": \\\\\\\\\\\\\"54a38630-be1f-49e7-b4e6-57fdb5312f01\\\\\\\\\\\\\", \\\\\\\\\\\\\"description\\\\\\\\\\\\\": {\\\\\\\\\\\\\"type\\\\\\\\\\\\\": \\\\\\\\\\\\\"Microsoft.DPrep.RandomSplitStepDescription\\\\\\\\\\\\\", \\\\\\\\\\\\\"propertyDescriptions\\\\\\\\\\\\\": [{\\\\\\\\\\\\\"name\\\\\\\\\\\\\": \\\\\\\\\\\\\"probability\\\\\\\\\\\\\", \\\\\\\\\\\\\"type\\\\\\\\\\\\\": 3, \\\\\\\\\\\\\"multipleValues\\\\\\\\\\\\\": false, \\\\\\\\\\\\\"domain\\\\\\\\\\\\\": {\\\\\\\\\\\\\"type\\\\\\\\\\\\\": 4, \\\\\\\\\\\\\"details\\\\\\\\\\\\\": {\\\\\\\\\\\\\"min\\\\\\\\\\\\\": 0.0, \\\\\\\\\\\\\"max\\\\\\\\\\\\\": 1.0}}, \\\\\\\\\\\\\"multiValueDetails\\\\\\\\\\\\\": null, \\\\\\\\\\\\\"isRequired\\\\\\\\\\\\\": true, \\\\\\\\\\\\\"origin\\\\\\\\\\\\\": 1, \\\\\\\\\\\\\"defaultValue\\\\\\\\\\\\\": 0.1, \\\\\\\\\\\\\"initializeFromProperty\\\\\\\\\\\\\": null, \\\\\\\\\\\\\"telemetryStrategy\\\\\\\\\\\\\": 0, \\\\\\\\\\\\\"condition\\\\\\\\\\\\\": null, \\\\\\\\\\\\\"documentation\\\\\\\\\\\\\": \\\\\\\\\\\\\"The probability of a record being included in the sample.\\\\\\\\\\\\\", \\\\\\\\\\\\\"serializeWhenDefault\\\\\\\\\\\\\": true}, {\\\\\\\\\\\\\"name\\\\\\\\\\\\\": \\\\\\\\\\\\\"probabilityLowerBound\\\\\\\\\\\\\", \\\\\\\\\\\\\"type\\\\\\\\\\\\\": 3, \\\\\\\\\\\\\"multipleValues\\\\\\\\\\\\\": false, \\\\\\\\\\\\\"domain\\\\\\\\\\\\\": null, \\\\\\\\\\\\\"multiValueDetails\\\\\\\\\\\\\": null, \\\\\\\\\\\\\"isRequired\\\\\\\\\\\\\": false, \\\\\\\\\\\\\"origin\\\\\\\\\\\\\": 1, \\\\\\\\\\\\\"defaultValue\\\\\\\\\\\\\": 0.0, \\\\\\\\\\\\\"initializeFromProperty\\\\\\\\\\\\\": null, \\\\\\\\\\\\\"telemetryStrategy\\\\\\\\\\\\\": 0, \\\\\\\\\\\\\"condition\\\\\\\\\\\\\": null, \\\\\\\\\\\\\"documentation\\\\\\\\\\\\\": \\\\\\\\\\\\\"A lower bound for the accepted range of probabilities when taking a random sample. If probability is set to 0.6, specifying a lower bound of 0.2 would result in only 40% of the records being taken by the sample instead of 60%. This can be useful in order to create multiple exclusive random splits from a single Dataflow.\\\\\\\\\\\\\", \\\\\\\\\\\\\"serializeWhenDefault\\\\\\\\\\\\\": true}, {\\\\\\\\\\\\\"name\\\\\\\\\\\\\": \\\\\\\\\\\\\"seed\\\\\\\\\\\\\", \\\\\\\\\\\\\"type\\\\\\\\\\\\\": 2, \\\\\\\\\\\\\"multipleValues\\\\\\\\\\\\\": false, \\\\\\\\\\\\\"domain\\\\\\\\\\\\\": {\\\\\\\\\\\\\"type\\\\\\\\\\\\\": 4, \\\\\\\\\\\\\"details\\\\\\\\\\\\\": {\\\\\\\\\\\\\"min\\\\\\\\\\\\\": 0.0, \\\\\\\\\\\\\"max\\\\\\\\\\\\\": 4294967295.0}}, \\\\\\\\\\\\\"multiValueDetails\\\\\\\\\\\\\": null, \\\\\\\\\\\\\"isRequired\\\\\\\\\\\\\": true, \\\\\\\\\\\\\"origin\\\\\\\\\\\\\": 1, \\\\\\\\\\\\\"defaultValue\\\\\\\\\\\\\": null, \\\\\\\\\\\\\"initializeFromProperty\\\\\\\\\\\\\": null, \\\\\\\\\\\\\"telemetryStrategy\\\\\\\\\\\\\": 0, \\\\\\\\\\\\\"condition\\\\\\\\\\\\\": null, \\\\\\\\\\\\\"documentation\\\\\\\\\\\\\": \\\\\\\\\\\\\"The seed to use for the random generator.\\\\\\\\\\\\\", \\\\\\\\\\\\\"serializeWhenDefault\\\\\\\\\\\\\": true}, {\\\\\\\\\\\\\"name\\\\\\\\\\\\\": \\\\\\\\\\\\\"invert\\\\\\\\\\\\\", \\\\\\\\\\\\\"type\\\\\\\\\\\\\": 4, \\\\\\\\\\\\\"multipleValues\\\\\\\\\\\\\": false, \\\\\\\\\\\\\"domain\\\\\\\\\\\\\": null, \\\\\\\\\\\\\"multiValueDetails\\\\\\\\\\\\\": null, \\\\\\\\\\\\\"isRequired\\\\\\\\\\\\\": false, \\\\\\\\\\\\\"origin\\\\\\\\\\\\\": 1, \\\\\\\\\\\\\"defaultValue\\\\\\\\\\\\\": false, \\\\\\\\\\\\\"initializeFromProperty\\\\\\\\\\\\\": null, \\\\\\\\\\\\\"telemetryStrategy\\\\\\\\\\\\\": 0, \\\\\\\\\\\\\"condition\\\\\\\\\\\\\": null, \\\\\\\\\\\\\"documentation\\\\\\\\\\\\\": null, \\\\\\\\\\\\\"serializeWhenDefault\\\\\\\\\\\\\": true}], \\\\\\\\\\\\\"dataEffectDetails\\\\\\\\\\\\\": {\\\\\\\\\\\\\"dataEffect\\\\\\\\\\\\\": 6}}, \\\\\\\\\\\\\"type\\\\\\\\\\\\\": \\\\\\\\\\\\\"Microsoft.DPrep.RandomSplitStepDescription\\\\\\\\\\\\\", \\\\\\\\\\\\\"dataEffectDetails\\\\\\\\\\\\\": {\\\\\\\\\\\\\"dataEffect\\\\\\\\\\\\\": 6}, \\\\\\\\\\\\\"propertyDescriptions\\\\\\\\\\\\\": [{\\\\\\\\\\\\\"name\\\\\\\\\\\\\": \\\\\\\\\\\\\"probability\\\\\\\\\\\\\", \\\\\\\\\\\\\"type\\\\\\\\\\\\\": 3, \\\\\\\\\\\\\"multipleValues\\\\\\\\\\\\\": false, \\\\\\\\\\\\\"domain\\\\\\\\\\\\\": {\\\\\\\\\\\\\"type\\\\\\\\\\\\\": 4, \\\\\\\\\\\\\"details\\\\\\\\\\\\\": {\\\\\\\\\\\\\"min\\\\\\\\\\\\\": 0.0, \\\\\\\\\\\\\"max\\\\\\\\\\\\\": 1.0}}, \\\\\\\\\\\\\"multiValueDetails\\\\\\\\\\\\\": null, \\\\\\\\\\\\\"isRequired\\\\\\\\\\\\\": true, \\\\\\\\\\\\\"origin\\\\\\\\\\\\\": 1, \\\\\\\\\\\\\"defaultValue\\\\\\\\\\\\\": 0.1, \\\\\\\\\\\\\"initializeFromProperty\\\\\\\\\\\\\": null, \\\\\\\\\\\\\"telemetryStrategy\\\\\\\\\\\\\": 0, \\\\\\\\\\\\\"condition\\\\\\\\\\\\\": null, \\\\\\\\\\\\\"documentation\\\\\\\\\\\\\": \\\\\\\\\\\\\"The probability of a record being included in the sample.\\\\\\\\\\\\\", \\\\\\\\\\\\\"serializeWhenDefault\\\\\\\\\\\\\": true}, {\\\\\\\\\\\\\"name\\\\\\\\\\\\\": \\\\\\\\\\\\\"probabilityLowerBound\\\\\\\\\\\\\", \\\\\\\\\\\\\"type\\\\\\\\\\\\\": 3, \\\\\\\\\\\\\"multipleValues\\\\\\\\\\\\\": false, \\\\\\\\\\\\\"domain\\\\\\\\\\\\\": null, \\\\\\\\\\\\\"multiValueDetails\\\\\\\\\\\\\": null, \\\\\\\\\\\\\"isRequired\\\\\\\\\\\\\": false, \\\\\\\\\\\\\"origin\\\\\\\\\\\\\": 1, \\\\\\\\\\\\\"defaultValue\\\\\\\\\\\\\": 0.0, \\\\\\\\\\\\\"initializeFromProperty\\\\\\\\\\\\\": null, \\\\\\\\\\\\\"telemetryStrategy\\\\\\\\\\\\\": 0, \\\\\\\\\\\\\"condition\\\\\\\\\\\\\": null, \\\\\\\\\\\\\"documentation\\\\\\\\\\\\\": \\\\\\\\\\\\\"A lower bound for the accepted range of probabilities when taking a random sample. If probability is set to 0.6, specifying a lower bound of 0.2 would result in only 40% of the records being taken by the sample instead of 60%. This can be useful in order to create multiple exclusive random splits from a single Dataflow.\\\\\\\\\\\\\", \\\\\\\\\\\\\"serializeWhenDefault\\\\\\\\\\\\\": true}, {\\\\\\\\\\\\\"name\\\\\\\\\\\\\": \\\\\\\\\\\\\"seed\\\\\\\\\\\\\", \\\\\\\\\\\\\"type\\\\\\\\\\\\\": 2, \\\\\\\\\\\\\"multipleValues\\\\\\\\\\\\\": false, \\\\\\\\\\\\\"domain\\\\\\\\\\\\\": {\\\\\\\\\\\\\"type\\\\\\\\\\\\\": 4, \\\\\\\\\\\\\"details\\\\\\\\\\\\\": {\\\\\\\\\\\\\"min\\\\\\\\\\\\\": 0.0, \\\\\\\\\\\\\"max\\\\\\\\\\\\\": 4294967295.0}}, \\\\\\\\\\\\\"multiValueDetails\\\\\\\\\\\\\": null, \\\\\\\\\\\\\"isRequired\\\\\\\\\\\\\": true, \\\\\\\\\\\\\"origin\\\\\\\\\\\\\": 1, \\\\\\\\\\\\\"defaultValue\\\\\\\\\\\\\": null, \\\\\\\\\\\\\"initializeFromProperty\\\\\\\\\\\\\": null, \\\\\\\\\\\\\"telemetryStrategy\\\\\\\\\\\\\": 0, \\\\\\\\\\\\\"condition\\\\\\\\\\\\\": null, \\\\\\\\\\\\\"documentation\\\\\\\\\\\\\": \\\\\\\\\\\\\"The seed to use for the random generator.\\\\\\\\\\\\\", \\\\\\\\\\\\\"serializeWhenDefault\\\\\\\\\\\\\": true}, {\\\\\\\\\\\\\"name\\\\\\\\\\\\\": \\\\\\\\\\\\\"invert\\\\\\\\\\\\\", \\\\\\\\\\\\\"type\\\\\\\\\\\\\": 4, \\\\\\\\\\\\\"multipleValues\\\\\\\\\\\\\": false, \\\\\\\\\\\\\"domain\\\\\\\\\\\\\": null, \\\\\\\\\\\\\"multiValueDetails\\\\\\\\\\\\\": null, \\\\\\\\\\\\\"isRequired\\\\\\\\\\\\\": false, \\\\\\\\\\\\\"origin\\\\\\\\\\\\\": 1, \\\\\\\\\\\\\"defaultValue\\\\\\\\\\\\\": false, \\\\\\\\\\\\\"initializeFromProperty\\\\\\\\\\\\\": null, \\\\\\\\\\\\\"telemetryStrategy\\\\\\\\\\\\\": 0, \\\\\\\\\\\\\"condition\\\\\\\\\\\\\": null, \\\\\\\\\\\\\"documentation\\\\\\\\\\\\\": null, \\\\\\\\\\\\\"serializeWhenDefault\\\\\\\\\\\\\": true}], \\\\\\\\\\\\\"arguments\\\\\\\\\\\\\": {\\\\\\\\\\\\\"invert\\\\\\\\\\\\\": false, \\\\\\\\\\\\\"probability\\\\\\\\\\\\\": 0.7, \\\\\\\\\\\\\"probabilityLowerBound\\\\\\\\\\\\\": 0.0, \\\\\\\\\\\\\"seed\\\\\\\\\\\\\": 3030253503}}]}}, \\\\\\\\\\\\\"localData\\\\\\\\\\\\\": {}, \\\\\\\\\\\\\"isEnabled\\\\\\\\\\\\\": true, \\\\\\\\\\\\\"name\\\\\\\\\\\\\": null, \\\\\\\\\\\\\"annotation\\\\\\\\\\\\\": null}], \\\\\\\\\\\\\"inspectors\\\\\\\\\\\\\": [], \\\\\\\\\\\\\"meta\\\\\\\\\\\\\": {\\\\\\\\\\\\\"savedDatasetId\\\\\\\\\\\\\": \\\\\\\\\\\\\"20bf89e6-7494-4376-b074-5d4002d5a656\\\\\\\\\\\\\", \\\\\\\\\\\\\"datasetType\\\\\\\\\\\\\": \\\\\\\\\\\\\"tabular\\\\\\\\\\\\\", \\\\\\\\\\\\\"subscriptionId\\\\\\\\\\\\\": \\\\\\\\\\\\\"9114a63e-9210-4e32-97ca-b7d9e8ac403d\\\\\\\\\\\\\", \\\\\\\\\\\\\"workspaceId\\\\\\\\\\\\\": \\\\\\\\\\\\\"ffe976c5-0d98-42f3-98ed-002364971ee4\\\\\\\\\\\\\", \\\\\\\\\\\\\"workspaceLocation\\\\\\\\\\\\\": \\\\\\\\\\\\\"westeurope\\\\\\\\\\\\\"}}\\\\\", \\\\\"activities\\\\\": 0}',\n",
       "  'EnableSubsampling': 'False',\n",
       "  'runTemplate': 'AutoML',\n",
       "  'azureml.runsource': 'automl',\n",
       "  'display_task_type': 'classification',\n",
       "  'dependencies_versions': '{\"azureml-widgets\": \"1.13.0\", \"azureml-train\": \"1.13.0\", \"azureml-train-restclients-hyperdrive\": \"1.13.0\", \"azureml-train-core\": \"1.13.0\", \"azureml-train-automl-client\": \"1.13.0.post1\", \"azureml-telemetry\": \"1.13.0\", \"azureml-sdk\": \"1.13.0\", \"azureml-pipeline\": \"1.13.0\", \"azureml-pipeline-steps\": \"1.13.0\", \"azureml-pipeline-core\": \"1.13.0\", \"azureml-dataset-runtime\": \"1.13.0\", \"azureml-dataprep\": \"2.0.8\", \"azureml-dataprep-native\": \"20.0.2\", \"azureml-core\": \"1.13.0\", \"azureml-automl-core\": \"1.13.0\"}',\n",
       "  'ClientSdkVersion': '1.13.0',\n",
       "  'ClientType': 'SDK',\n",
       "  '_aml_system_scenario_identification': 'Remote.Parent',\n",
       "  'environment_cpu_name': 'AzureML-AutoML',\n",
       "  'environment_cpu_version': '35',\n",
       "  'environment_gpu_name': 'AzureML-AutoML-GPU',\n",
       "  'environment_gpu_version': '23',\n",
       "  'root_attribution': 'automl',\n",
       "  'attribution': 'AutoML',\n",
       "  'Orchestrator': 'AutoML',\n",
       "  'CancelUri': 'https://westeurope.experiments.azureml.net/jasmine/v1.0/subscriptions/9114a63e-9210-4e32-97ca-b7d9e8ac403d/resourceGroups/jt-dp100-ressources/providers/Microsoft.MachineLearningServices/workspaces/jt-dp100/experiment/titanic_automl/cancel/AutoML_534f109f-3cf0-40ba-a547-d04c60ba519c',\n",
       "  'azureml.git.repository_uri': 'https://github.com/jtobelem-simplon/prepa-dp100.git',\n",
       "  'mlflow.source.git.repoURL': 'https://github.com/jtobelem-simplon/prepa-dp100.git',\n",
       "  'azureml.git.branch': 'master',\n",
       "  'mlflow.source.git.branch': 'master',\n",
       "  'azureml.git.commit': 'ec3f4315d10480b95de0e7f372ca9be3530138bb',\n",
       "  'mlflow.source.git.commit': 'ec3f4315d10480b95de0e7f372ca9be3530138bb',\n",
       "  'azureml.git.dirty': 'True',\n",
       "  'snapshotId': '00000000-0000-0000-0000-000000000000',\n",
       "  'SetupRunId': 'AutoML_534f109f-3cf0-40ba-a547-d04c60ba519c_setup',\n",
       "  'SetupRunContainerId': 'dcid.AutoML_534f109f-3cf0-40ba-a547-d04c60ba519c_setup',\n",
       "  'FeaturizationRunJsonPath': 'featurizer_container.json',\n",
       "  'FeaturizationRunId': 'AutoML_534f109f-3cf0-40ba-a547-d04c60ba519c_featurize',\n",
       "  'ProblemInfoJsonString': '{\"dataset_num_categorical\": 0, \"is_sparse\": true, \"subsampling\": false, \"dataset_classes\": 2, \"dataset_features\": 5576, \"dataset_samples\": 626, \"single_frequency_class_detected\": false}',\n",
       "  'ModelExplainRunId': 'AutoML_534f109f-3cf0-40ba-a547-d04c60ba519c_ModelExplain'},\n",
       " 'inputDatasets': [{'dataset': {'id': '7c955d9a-a85b-4df1-8478-b064dc6e17ce'}, 'consumptionDetails': {'type': 'RunInput', 'inputName': 'training_data', 'mechanism': 'Direct'}}, {'dataset': {'id': '20bf89e6-7494-4376-b074-5d4002d5a656'}, 'consumptionDetails': {'type': 'RunInput', 'inputName': 'validation_data', 'mechanism': 'Direct'}}],\n",
       " 'outputDatasets': [],\n",
       " 'logFiles': {}}"
      ]
     },
     "execution_count": 36,
     "metadata": {},
     "output_type": "execute_result"
    }
   ],
   "source": [
    "from azureml.core.experiment import Experiment\n",
    "from azureml.widgets import RunDetails\n",
    "\n",
    "print('Submitting Auto ML experiment...')\n",
    "automl_experiment = Experiment(ws, 'titanic_automl')\n",
    "automl_run = automl_experiment.submit(automl_config)\n",
    "RunDetails(automl_run).show()\n",
    "automl_run.wait_for_completion(show_output=True)"
   ]
  },
  {
   "cell_type": "code",
   "execution_count": 37,
   "metadata": {},
   "outputs": [
    {
     "name": "stderr",
     "output_type": "stream",
     "text": [
      "WARNING - Cannot retrieve model since azureml-train-automl-runtime is not installed locally. Please install this dependency to enable returning a model from this method.\n"
     ]
    },
    {
     "name": "stdout",
     "output_type": "stream",
     "text": [
      "Run(Experiment: titanic_automl,\n",
      "Id: AutoML_534f109f-3cf0-40ba-a547-d04c60ba519c_4,\n",
      "Type: azureml.scriptrun,\n",
      "Status: Completed)\n",
      "None\n",
      "log_loss 0.4607830439751315\n",
      "AUC_macro 0.8574483685689844\n",
      "f1_score_weighted 0.804173583987178\n",
      "matthews_correlation 0.5808482526283797\n",
      "recall_score_weighted 0.8037735849056604\n",
      "average_precision_score_macro 0.8424506508676365\n",
      "recall_score_macro 0.7916106562385433\n",
      "f1_score_micro 0.8037735849056604\n",
      "average_precision_score_micro 0.8530326478777204\n",
      "recall_score_micro 0.8037735849056604\n",
      "average_precision_score_weighted 0.8547312648543035\n",
      "AUC_micro 0.8697045211819152\n",
      "accuracy 0.8037735849056604\n",
      "weighted_accuracy 0.8143920198437042\n",
      "f1_score_macro 0.7903736156748205\n",
      "precision_score_micro 0.8037735849056604\n",
      "AUC_weighted 0.8574483685689844\n",
      "norm_macro_recall 0.5832213124770866\n",
      "balanced_accuracy 0.7916106562385433\n",
      "precision_score_weighted 0.8046678101772441\n",
      "precision_score_macro 0.7892424242424243\n",
      "confusion_matrix aml://artifactId/ExperimentRun/dcid.AutoML_534f109f-3cf0-40ba-a547-d04c60ba519c_4/confusion_matrix\n",
      "accuracy_table aml://artifactId/ExperimentRun/dcid.AutoML_534f109f-3cf0-40ba-a547-d04c60ba519c_4/accuracy_table\n"
     ]
    }
   ],
   "source": [
    "best_run, fitted_model = automl_run.get_output()\n",
    "print(best_run)\n",
    "print(fitted_model)\n",
    "best_run_metrics = best_run.get_metrics()\n",
    "for metric_name in best_run_metrics:\n",
    "    metric = best_run_metrics[metric_name]\n",
    "    print(metric_name, metric)"
   ]
  },
  {
   "cell_type": "code",
   "execution_count": 38,
   "metadata": {},
   "outputs": [],
   "source": [
    "if fitted_model :\n",
    "    for step in fitted_model.named_steps:\n",
    "        print(step)"
   ]
  },
  {
   "cell_type": "code",
   "execution_count": 40,
   "metadata": {},
   "outputs": [
    {
     "name": "stdout",
     "output_type": "stream",
     "text": [
      "titanic_model_automl version: 4\n",
      "\t Training context : Auto ML\n",
      "\t AUC : 0.8574483685689844\n",
      "\t Accuracy : 0.8037735849056604\n",
      "\n",
      "\n",
      "titanic_model_automl version: 3\n",
      "\t Training context : Auto ML\n",
      "\t AUC : 0.8503186610280541\n",
      "\t Accuracy : 0.8045112781954887\n",
      "\n",
      "\n",
      "titanic_model_automl version: 2\n",
      "\t Training context : Auto ML\n",
      "\t AUC : 0.8503186610280541\n",
      "\t Accuracy : 0.8045112781954887\n",
      "\n",
      "\n",
      "titanic_model_automl version: 1\n",
      "\t Training context : Auto ML\n",
      "\t AUC : 0.8194452355185966\n",
      "\t Accuracy : 0.8057553956834532\n",
      "\n",
      "\n",
      "titanic_model version: 2\n",
      "\t Training context : Estimator\n",
      "\t Mean Absolute Error : 0.1787709497206704\n",
      "\t Accuracy : 0.8212290502793296\n",
      "\n",
      "\n",
      "titanic_model version: 1\n",
      "\t Training context : Estimator\n",
      "\t Mean Absolute Error : 0.1787709497206704\n",
      "\t Accuracy : 0.8212290502793296\n",
      "\n",
      "\n",
      "diabetes_model version: 6\n",
      "\t Training context : Inline Training\n",
      "\t AUC : 0.8726180406985422\n",
      "\t Accuracy : 0.8856666666666667\n",
      "\n",
      "\n",
      "diabetes_model version: 5\n",
      "\t Training context : Inline Training\n",
      "\t AUC : 0.8751306035126125\n",
      "\t Accuracy : 0.889\n",
      "\n",
      "\n",
      "diabetes_model_automl version: 1\n",
      "\t Training context : Auto ML\n",
      "\t AUC : 0.9900438004392353\n",
      "\t Accuracy : 0.9534308211473566\n",
      "\n",
      "\n",
      "diabetes_model version: 4\n",
      "\t Training context : Inline Training\n",
      "\t AUC : 0.8753594706204287\n",
      "\t Accuracy : 0.8883333333333333\n",
      "\n",
      "\n",
      "diabetes_model version: 3\n",
      "\t Training context : Inline Training\n",
      "\t AUC : 0.8761057764067863\n",
      "\t Accuracy : 0.889\n",
      "\n",
      "\n",
      "diabetes_model version: 2\n",
      "\t Training context : Pipeline\n",
      "\n",
      "\n",
      "diabetes_model version: 1\n",
      "\t Training context : Estimator\n",
      "\t AUC : 0.8483377282451863\n",
      "\t Accuracy : 0.774\n",
      "\n",
      "\n"
     ]
    }
   ],
   "source": [
    "from azureml.core import Model\n",
    "\n",
    "# Register model\n",
    "best_run.register_model(model_path='outputs/model.pkl', model_name='titanic_model_automl',\n",
    "                        tags={'Training context':'Auto ML'},\n",
    "                        properties={'AUC': best_run_metrics['AUC_weighted'], 'Accuracy': best_run_metrics['accuracy']})\n",
    "\n",
    "# List registered models\n",
    "for model in Model.list(ws):\n",
    "    print(model.name, 'version:', model.version)\n",
    "    for tag_name in model.tags:\n",
    "        tag = model.tags[tag_name]\n",
    "        print ('\\t',tag_name, ':', tag)\n",
    "    for prop_name in model.properties:\n",
    "        prop = model.properties[prop_name]\n",
    "        print ('\\t',prop_name, ':', prop)\n",
    "    print('\\n')"
   ]
  },
  {
   "cell_type": "markdown",
   "metadata": {},
   "source": [
    "# Charger un modèle"
   ]
  },
  {
   "cell_type": "code",
   "execution_count": 41,
   "metadata": {},
   "outputs": [],
   "source": [
    "X_test = ws.datasets.get(\"titanic test dataset\").to_pandas_dataframe()"
   ]
  },
  {
   "cell_type": "code",
   "execution_count": 1,
   "metadata": {},
   "outputs": [
    {
     "ename": "ModuleNotFoundError",
     "evalue": "No module named 'azureml.automl.runtime'",
     "output_type": "error",
     "traceback": [
      "\u001B[0;31m---------------------------------------------------------------------------\u001B[0m",
      "\u001B[0;31mModuleNotFoundError\u001B[0m                       Traceback (most recent call last)",
      "\u001B[0;32m<ipython-input-1-5ec5818fa841>\u001B[0m in \u001B[0;36m<module>\u001B[0;34m\u001B[0m\n\u001B[1;32m      2\u001B[0m \u001B[0;34m\u001B[0m\u001B[0m\n\u001B[1;32m      3\u001B[0m \u001B[0mfilename\u001B[0m \u001B[0;34m=\u001B[0m \u001B[0;34m'outputs/model.pkl'\u001B[0m\u001B[0;34m\u001B[0m\u001B[0;34m\u001B[0m\u001B[0m\n\u001B[0;32m----> 4\u001B[0;31m \u001B[0mmodel\u001B[0m \u001B[0;34m=\u001B[0m \u001B[0mpickle\u001B[0m\u001B[0;34m.\u001B[0m\u001B[0mload\u001B[0m\u001B[0;34m(\u001B[0m\u001B[0mopen\u001B[0m\u001B[0;34m(\u001B[0m\u001B[0mfilename\u001B[0m\u001B[0;34m,\u001B[0m \u001B[0;34m'rb'\u001B[0m\u001B[0;34m)\u001B[0m\u001B[0;34m)\u001B[0m\u001B[0;34m\u001B[0m\u001B[0;34m\u001B[0m\u001B[0m\n\u001B[0m",
      "\u001B[0;31mModuleNotFoundError\u001B[0m: No module named 'azureml.automl.runtime'"
     ]
    }
   ],
   "source": [
    "import pickle\n",
    "import azureml.train.automl\n",
    "\n",
    "\n",
    "\n",
    "filename = 'outputs/model.pkl'\n",
    "model = pickle.load(open(filename, 'rb'))"
   ]
  },
  {
   "cell_type": "code",
   "execution_count": null,
   "metadata": {},
   "outputs": [],
   "source": [
    "predictions = model.predict(X_test)"
   ]
  },
  {
   "cell_type": "code",
   "execution_count": null,
   "metadata": {},
   "outputs": [],
   "source": [
    "import pandas as pd\n",
    "output = pd.DataFrame({'PassengerId': X_test.PassengerId, 'Survived': predictions})\n",
    "output.to_csv('my_submission.csv', index=False)\n",
    "print(\"Your submission was successfully saved!\")"
   ]
  },
  {
   "cell_type": "markdown",
   "metadata": {},
   "source": [
    "# Ne pas oublier à la fin de l'expérience!!\n",
    "(si votre travail à utilisé une instance de calcul)\n",
    "\n",
    "<img src='https://github.com/jtobelem-simplon/prepa-dp100/blob/master/images/down.png?raw=true'>\n",
    "\n"
   ]
  },
  {
   "cell_type": "code",
   "execution_count": null,
   "metadata": {},
   "outputs": [],
   "source": [
    "# stop toutes les instances de calcul\n",
    "from azureml.core.compute import ComputeTarget, AmlCompute, ComputeInstance\n",
    "from azureml.core.compute_target import ComputeTargetException\n",
    "\n",
    "for compute in ComputeTarget.list(ws):\n",
    "    if type(compute) is ComputeInstance and compute.get_status().state != 'Stopped':\n",
    "        print('try to stop compute', compute.name)\n",
    "        compute.stop(show_output=True)"
   ]
  },
  {
   "cell_type": "code",
   "execution_count": null,
   "metadata": {},
   "outputs": [],
   "source": [
    "# liste tous les compute pour vérifier qu'elles sont éteintes\n",
    "for compute in ComputeTarget.list(ws):\n",
    "    if type(compute) is ComputeInstance:\n",
    "        print(compute.name, compute.get_status())"
   ]
  },
  {
   "cell_type": "markdown",
   "metadata": {},
   "source": [
    "# Ressources\n",
    "\n",
    "[api azure](https://docs.microsoft.com/en-us/python/api/azureml-core)\n",
    "\n",
    "[parcours d'apprentissage microsoft](https://docs.microsoft.com/fr-fr/learn/paths/build-ai-solutions-with-azure-ml-service/)\n",
    "\n",
    "[le repository microsoft](https://github.com/MicrosoftDocs/mslearn-aml-labs.git)"
   ]
  },
  {
   "cell_type": "code",
   "execution_count": null,
   "metadata": {},
   "outputs": [],
   "source": []
  }
 ],
 "metadata": {
  "kernelspec": {
   "display_name": "Python 3",
   "language": "python",
   "name": "python3"
  },
  "language_info": {
   "codemirror_mode": {
    "name": "ipython",
    "version": 3
   },
   "file_extension": ".py",
   "mimetype": "text/x-python",
   "name": "python",
   "nbconvert_exporter": "python",
   "pygments_lexer": "ipython3",
   "version": "3.8.5"
  },
  "toc": {
   "base_numbering": 1,
   "nav_menu": {},
   "number_sections": true,
   "sideBar": true,
   "skip_h1_title": false,
   "title_cell": "Table of Contents",
   "title_sidebar": "Contents",
   "toc_cell": false,
   "toc_position": {},
   "toc_section_display": true,
   "toc_window_display": true
  }
 },
 "nbformat": 4,
 "nbformat_minor": 1
}