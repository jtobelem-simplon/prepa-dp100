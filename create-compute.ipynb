{
 "cells": [
  {
   "cell_type": "markdown",
   "metadata": {},
   "source": [
    "<img src='https://github.com/jtobelem-simplon/prepa-dp100/blob/master/images/top.png?raw=true'>"
   ]
  },
  {
   "cell_type": "markdown",
   "metadata": {},
   "source": [
    "# Configuration (à lancer avant tous les notebooks)"
   ]
  },
  {
   "cell_type": "code",
   "execution_count": 2,
   "metadata": {},
   "outputs": [
    {
     "data": {
      "text/plain": [
       "'3.8.5'"
      ]
     },
     "execution_count": 2,
     "metadata": {},
     "output_type": "execute_result"
    }
   ],
   "source": [
    "# version de python\n",
    "import platform\n",
    "platform.python_version()"
   ]
  },
  {
   "cell_type": "code",
   "execution_count": 10,
   "metadata": {
    "pycharm": {
     "is_executing": false
    }
   },
   "outputs": [
    {
     "name": "stdout",
     "output_type": "stream",
     "text": [
      "# packages in environment at /home/lab/anaconda3/envs/azure:\r\n",
      "#\r\n",
      "# Name                    Version                   Build  Channel\r\n",
      "_libgcc_mutex             0.1                        main  \r\n",
      "adal                      1.2.4                    pypi_0    pypi\r\n",
      "applicationinsights       0.11.9                   pypi_0    pypi\r\n",
      "argon2-cffi               20.1.0           py38h7b6447c_1  \r\n",
      "attrs                     20.2.0                     py_0  \r\n",
      "azure-common              1.1.25                   pypi_0    pypi\r\n",
      "azure-core                1.8.1                    pypi_0    pypi\r\n",
      "azure-graphrbac           0.61.1                   pypi_0    pypi\r\n",
      "azure-identity            1.2.0                    pypi_0    pypi\r\n",
      "azure-mgmt-authorization  0.61.0                   pypi_0    pypi\r\n",
      "azure-mgmt-containerregistry 2.8.0                    pypi_0    pypi\r\n",
      "azure-mgmt-keyvault       2.2.0                    pypi_0    pypi\r\n",
      "azure-mgmt-resource       10.2.0                   pypi_0    pypi\r\n",
      "azure-mgmt-storage        11.2.0                   pypi_0    pypi\r\n",
      "azureml-automl-core       1.13.0                   pypi_0    pypi\r\n",
      "azureml-core              1.13.0                   pypi_0    pypi\r\n",
      "azureml-dataprep          2.0.8                    pypi_0    pypi\r\n",
      "azureml-dataprep-native   20.0.2                   pypi_0    pypi\r\n",
      "azureml-dataset-runtime   1.13.0                   pypi_0    pypi\r\n",
      "azureml-defaults          1.13.0                   pypi_0    pypi\r\n",
      "azureml-model-management-sdk 1.0.1b6.post1            pypi_0    pypi\r\n",
      "azureml-pipeline          1.13.0                   pypi_0    pypi\r\n",
      "azureml-pipeline-core     1.13.0                   pypi_0    pypi\r\n",
      "azureml-pipeline-steps    1.13.0                   pypi_0    pypi\r\n",
      "azureml-sdk               1.13.0                   pypi_0    pypi\r\n",
      "azureml-telemetry         1.13.0                   pypi_0    pypi\r\n",
      "azureml-train             1.13.0                   pypi_0    pypi\r\n",
      "azureml-train-automl-client 1.13.0.post1             pypi_0    pypi\r\n",
      "azureml-train-core        1.13.0                   pypi_0    pypi\r\n",
      "azureml-train-restclients-hyperdrive 1.13.0                   pypi_0    pypi\r\n",
      "azureml-widgets           1.13.0                   pypi_0    pypi\r\n",
      "backcall                  0.2.0                      py_0  \r\n",
      "backports-tempfile        1.0                      pypi_0    pypi\r\n",
      "backports-weakref         1.0.post1                pypi_0    pypi\r\n",
      "bleach                    3.2.0                      py_0  \r\n",
      "ca-certificates           2020.6.20            hecda079_0    conda-forge\r\n",
      "certifi                   2020.6.20        py38h32f6830_0    conda-forge\r\n",
      "cffi                      1.14.2           py38he30daa8_0  \r\n",
      "chardet                   3.0.4                    pypi_0    pypi\r\n",
      "click                     7.1.2                    pypi_0    pypi\r\n",
      "cloudpickle               1.6.0                    pypi_0    pypi\r\n",
      "configparser              3.7.4                    pypi_0    pypi\r\n",
      "contextlib2               0.6.0.post1              pypi_0    pypi\r\n",
      "cryptography              3.1                      pypi_0    pypi\r\n",
      "cycler                    0.10.0                   py38_0  \r\n",
      "dbus                      1.13.16              hb2f20db_0  \r\n",
      "decorator                 4.4.2                      py_0  \r\n",
      "defusedxml                0.6.0                      py_0  \r\n",
      "dill                      0.3.2                    pypi_0    pypi\r\n",
      "distro                    1.5.0                    pypi_0    pypi\r\n",
      "docker                    4.3.1                    pypi_0    pypi\r\n",
      "dotnetcore2               2.1.14                   pypi_0    pypi\r\n",
      "entrypoints               0.3                      py38_0  \r\n",
      "expat                     2.2.9                he6710b0_2  \r\n",
      "flask                     1.0.3                    pypi_0    pypi\r\n",
      "fontconfig                2.13.0               h9420a91_0  \r\n",
      "freetype                  2.10.2               h5ab3b9f_0  \r\n",
      "fusepy                    3.0.1                    pypi_0    pypi\r\n",
      "glib                      2.65.0               h3eb4bd4_0  \r\n",
      "gst-plugins-base          1.14.0               hbbd80ab_1  \r\n",
      "gstreamer                 1.14.0               hb31296c_0  \r\n",
      "gunicorn                  19.9.0                   pypi_0    pypi\r\n",
      "icu                       58.2                 he6710b0_3  \r\n",
      "idna                      2.10                     pypi_0    pypi\r\n",
      "importlib-metadata        1.7.0                    py38_0  \r\n",
      "importlib_metadata        1.7.0                         0  \r\n",
      "ipykernel                 5.3.4            py38h5ca1d4c_0  \r\n",
      "ipython                   7.18.1           py38h5ca1d4c_0  \r\n",
      "ipython_genutils          0.2.0                    py38_0  \r\n",
      "ipywidgets                7.5.1                      py_0  \r\n",
      "isodate                   0.6.0                    pypi_0    pypi\r\n",
      "itsdangerous              1.1.0                    pypi_0    pypi\r\n",
      "jedi                      0.17.2                   py38_0  \r\n",
      "jeepney                   0.4.3                    pypi_0    pypi\r\n",
      "jinja2                    2.11.2                     py_0  \r\n",
      "jmespath                  0.10.0                   pypi_0    pypi\r\n",
      "joblib                    0.16.0                     py_0  \r\n",
      "jpeg                      9b                   h024ee3a_2  \r\n",
      "json-logging-py           0.2                      pypi_0    pypi\r\n",
      "jsonpickle                1.4.1                    pypi_0    pypi\r\n",
      "jsonschema                3.2.0                    py38_0  \r\n",
      "jupyter                   1.0.0                    py38_7  \r\n",
      "jupyter_client            6.1.6                      py_0  \r\n",
      "jupyter_console           6.2.0                      py_0  \r\n",
      "jupyter_contrib_core      0.3.3                      py_2    conda-forge\r\n",
      "jupyter_contrib_nbextensions 0.5.1                    py38_0    conda-forge\r\n",
      "jupyter_core              4.6.3                    py38_0  \r\n",
      "jupyter_highlight_selected_word 0.2.0                 py38_1000    conda-forge\r\n",
      "jupyter_latex_envs        1.4.6                 py38_1000    conda-forge\r\n",
      "jupyter_nbextensions_configurator 0.4.1            py38h32f6830_1    conda-forge\r\n",
      "kiwisolver                1.2.0            py38hfd86e86_0  \r\n",
      "lcms2                     2.11                 h396b838_0  \r\n",
      "ld_impl_linux-64          2.33.1               h53a641e_7  \r\n",
      "liac-arff                 2.5.0                    pypi_0    pypi\r\n",
      "libblas                   3.8.0               17_openblas    conda-forge\r\n",
      "libcblas                  3.8.0               17_openblas    conda-forge\r\n",
      "libedit                   3.1.20191231         h14c3975_1  \r\n",
      "libffi                    3.3                  he6710b0_2  \r\n",
      "libgcc-ng                 9.1.0                hdf63c60_0  \r\n",
      "libgfortran-ng            7.3.0                hdf63c60_0  \r\n",
      "liblapack                 3.8.0               17_openblas    conda-forge\r\n",
      "libopenblas               0.3.10               h5a2b251_0  \r\n",
      "libpng                    1.6.37               hbc83047_0  \r\n",
      "libprotobuf               3.13.0               h8b12597_0    conda-forge\r\n",
      "libsodium                 1.0.18               h7b6447c_0  \r\n",
      "libstdcxx-ng              9.1.0                hdf63c60_0  \r\n",
      "libtiff                   4.1.0                h2733197_1  \r\n",
      "libuuid                   1.0.3                h1bed415_2  \r\n",
      "libxcb                    1.14                 h7b6447c_0  \r\n",
      "libxml2                   2.9.10               he19cac6_1  \r\n",
      "libxslt                   1.1.34               hc22bd24_0  \r\n",
      "lxml                      4.5.2            py38hefd8a0e_0  \r\n",
      "lz4-c                     1.9.2                he6710b0_1  \r\n",
      "markupsafe                1.1.1            py38h7b6447c_0  \r\n",
      "matplotlib                3.3.2                         0    conda-forge\r\n",
      "matplotlib-base           3.3.2            py38h91b0d89_0    conda-forge\r\n",
      "mistune                   0.8.4           py38h7b6447c_1000  \r\n",
      "msal                      1.5.0                    pypi_0    pypi\r\n",
      "msal-extensions           0.1.3                    pypi_0    pypi\r\n",
      "msrest                    0.6.19                   pypi_0    pypi\r\n",
      "msrestazure               0.6.4                    pypi_0    pypi\r\n",
      "nbconvert                 5.6.1                    py38_0  \r\n",
      "nbformat                  5.0.7                      py_0  \r\n",
      "ncurses                   6.2                  he6710b0_1  \r\n",
      "ndg-httpsclient           0.5.1                    pypi_0    pypi\r\n",
      "notebook                  6.1.1                    py38_0  \r\n",
      "numpy                     1.19.1           py38hbc27379_2    conda-forge\r\n",
      "oauthlib                  3.1.0                    pypi_0    pypi\r\n",
      "olefile                   0.46                       py_0  \r\n",
      "onnx                      1.7.0            py38h8b45335_4    conda-forge\r\n",
      "openssl                   1.1.1g               h516909a_1    conda-forge\r\n",
      "packaging                 20.4                       py_0  \r\n",
      "pandas                    1.1.2            py38h950e882_0    conda-forge\r\n",
      "pandoc                    2.10.1                        0  \r\n",
      "pandocfilters             1.4.2                    py38_1  \r\n",
      "parso                     0.7.0                      py_0  \r\n",
      "pathspec                  0.8.0                    pypi_0    pypi\r\n",
      "pcre                      8.44                 he6710b0_0  \r\n",
      "pexpect                   4.8.0                    py38_0  \r\n",
      "pickleshare               0.7.5                 py38_1000  \r\n",
      "pillow                    7.2.0            py38hb39fc2d_0  \r\n",
      "pip                       20.2.3                     py_0    conda-forge\r\n",
      "portalocker               1.7.1                    pypi_0    pypi\r\n",
      "prometheus_client         0.8.0                      py_0  \r\n",
      "prompt-toolkit            3.0.7                      py_0  \r\n",
      "prompt_toolkit            3.0.7                         0  \r\n",
      "protobuf                  3.13.0           py38h950e882_0    conda-forge\r\n",
      "ptyprocess                0.6.0                    py38_0  \r\n",
      "pyarrow                   1.0.1                    pypi_0    pypi\r\n",
      "pyasn1                    0.4.8                    pypi_0    pypi\r\n",
      "pycparser                 2.20                       py_2  \r\n",
      "pygments                  2.7.0                      py_0  \r\n",
      "pyjwt                     1.7.1                    pypi_0    pypi\r\n",
      "pyopenssl                 19.1.0                   pypi_0    pypi\r\n",
      "pyparsing                 2.4.7                      py_0  \r\n",
      "pyqt                      5.9.2            py38h05f1152_4  \r\n",
      "pyrsistent                0.17.3           py38h7b6447c_0  \r\n",
      "python                    3.8.5                h7579374_1  \r\n",
      "python-dateutil           2.8.1                      py_0  \r\n",
      "python_abi                3.8                      1_cp38    conda-forge\r\n",
      "pytz                      2020.1                     py_0  \r\n",
      "pyyaml                    5.3.1            py38h7b6447c_1  \r\n",
      "pyzmq                     19.0.1           py38he6710b0_1  \r\n",
      "qt                        5.9.7                h5867ecd_1  \r\n",
      "qtconsole                 4.7.6                      py_0  \r\n",
      "qtpy                      1.9.0                      py_0  \r\n",
      "readline                  8.0                  h7b6447c_0  \r\n",
      "requests                  2.24.0                   pypi_0    pypi\r\n",
      "requests-oauthlib         1.3.0                    pypi_0    pypi\r\n",
      "ruamel-yaml               0.16.12                  pypi_0    pypi\r\n",
      "ruamel-yaml-clib          0.2.2                    pypi_0    pypi\r\n",
      "scikit-learn              0.23.2           py38hee58b96_0    conda-forge\r\n",
      "scipy                     1.5.2            py38h8c5af15_0    conda-forge\r\n",
      "secretstorage             3.1.2                    pypi_0    pypi\r\n",
      "send2trash                1.5.0                    py38_0  \r\n",
      "setuptools                49.6.0                   py38_0  \r\n",
      "sip                       4.19.13          py38he6710b0_0  \r\n",
      "six                       1.15.0                     py_0  \r\n",
      "sqlite                    3.33.0               h62c20be_0  \r\n",
      "terminado                 0.8.3                    py38_0  \r\n",
      "testpath                  0.4.4                      py_0  \r\n",
      "threadpoolctl             2.1.0              pyh5ca1d4c_0  \r\n",
      "tk                        8.6.10               hbc83047_0  \r\n",
      "tornado                   6.0.4            py38h7b6447c_1  \r\n",
      "traitlets                 4.3.3                    py38_0  \r\n",
      "typing-extensions         3.7.4.2                       0    conda-forge\r\n",
      "typing_extensions         3.7.4.2                    py_0    conda-forge\r\n",
      "urllib3                   1.25.10                  pypi_0    pypi\r\n",
      "wcwidth                   0.2.5                      py_0  \r\n",
      "webencodings              0.5.1                    py38_1  \r\n",
      "websocket-client          0.57.0                   pypi_0    pypi\r\n",
      "werkzeug                  0.16.1                   pypi_0    pypi\r\n",
      "wheel                     0.35.1                     py_0  \r\n",
      "widgetsnbextension        3.5.1                    py38_0  \r\n",
      "xz                        5.2.5                h7b6447c_0  \r\n",
      "yaml                      0.2.5                h7b6447c_0  \r\n",
      "zeromq                    4.3.2                he6710b0_3  \r\n",
      "zipp                      3.1.0                      py_0  \r\n",
      "zlib                      1.2.11               h7b6447c_3  \r\n",
      "zstd                      1.4.5                h9ceee32_0  \r\n"
     ]
    }
   ],
   "source": [
    "# la liste des packages installés\n",
    "!conda list"
   ]
  },
  {
   "cell_type": "code",
   "execution_count": 11,
   "metadata": {},
   "outputs": [
    {
     "name": "stdout",
     "output_type": "stream",
     "text": [
      "Ready to use Azure ML 1.13.0\n"
     ]
    }
   ],
   "source": [
    "# version de la SDK azureml\n",
    "import azureml.core\n",
    "print(\"Ready to use Azure ML\", azureml.core.VERSION)"
   ]
  },
  {
   "cell_type": "markdown",
   "metadata": {},
   "source": [
    "Si le notebook est executé en dehors d'Azure, il faut télécharger le fichier config.json depuis le portail https://portal.azure.com/, et le mettre dans le workspace qui contient le notebook.\n",
    "\n",
    "Si le notebook est exécuté directement depuis le workspace Azure, le fichier de config devrait déjà être là."
   ]
  },
  {
   "cell_type": "code",
   "execution_count": 3,
   "metadata": {},
   "outputs": [
    {
     "name": "stdout",
     "output_type": "stream",
     "text": [
      "jt-dp100 loaded\n"
     ]
    }
   ],
   "source": [
    "# connexion au workspace\n",
    "from azureml.core import Workspace\n",
    "\n",
    "ws = Workspace.from_config()\n",
    "print(ws.name, \"loaded\")"
   ]
  },
  {
   "cell_type": "code",
   "execution_count": 13,
   "metadata": {
    "pycharm": {
     "name": "#%%\n"
    }
   },
   "outputs": [
    {
     "name": "stdout",
     "output_type": "stream",
     "text": [
      "- Compute Targets :\n",
      "\t vm-ds3-v2 : ComputeInstance\n",
      "\t aml-cluster : AmlCompute\n",
      "\t vm-ds3-v2-b : ComputeInstance\n",
      "- Datastores :\n",
      "\t azureml_globaldatasets : AzureBlob\n",
      "\t workspacefilestore : AzureFile\n",
      "\t workspaceblobstore : AzureBlob\n",
      "- Datasets :\n",
      "\t titanic test dataset\n",
      "\t titanic train dataset\n",
      "\t diabetes file dataset\n",
      "\t diabetes dataset\n"
     ]
    }
   ],
   "source": [
    "from azureml.core import ComputeTarget, Datastore, Dataset\n",
    "\n",
    "print(\"- Compute Targets :\")\n",
    "for compute_name in ws.compute_targets:\n",
    "    compute = ws.compute_targets[compute_name]\n",
    "    print(\"\\t\", compute.name, ':', compute.type)\n",
    "    \n",
    "print(\"- Datastores :\")\n",
    "for datastore_name in ws.datastores:\n",
    "    datastore = Datastore.get(ws, datastore_name)\n",
    "    print(\"\\t\", datastore.name, ':', datastore.datastore_type)\n",
    "    \n",
    "print(\"- Datasets :\")\n",
    "for dataset_name in list(ws.datasets.keys()):\n",
    "    dataset = Dataset.get_by_name(ws, dataset_name)\n",
    "    print(\"\\t\", dataset.name)"
   ]
  },
  {
   "cell_type": "markdown",
   "metadata": {
    "pycharm": {
     "name": "#%% md\n"
    }
   },
   "source": [
    "# Enregistrer une source de donnée"
   ]
  },
  {
   "cell_type": "markdown",
   "metadata": {},
   "source": [
    "Upload des fichiers csv, crée un dataset à partir de ces fichiers et enregistre la référence sur le working set."
   ]
  },
  {
   "cell_type": "code",
   "execution_count": 5,
   "metadata": {
    "pycharm": {
     "name": "#%%\n"
    }
   },
   "outputs": [
    {
     "name": "stdout",
     "output_type": "stream",
     "text": [
      "Dataset already registered.\n"
     ]
    }
   ],
   "source": [
    "from azureml.core import Dataset\n",
    "\n",
    "dataset_name = 'titanic train dataset'\n",
    "description='titanic training data'\n",
    "file='./data/titanic/train.csv'\n",
    "target_path='titanic-data/'\n",
    "\n",
    "default_ds = ws.get_default_datastore()\n",
    "\n",
    "if dataset_name not in ws.datasets:\n",
    "    default_ds.upload_files(files=[file], target_path=target_path, overwrite=True, show_progress=True)\n",
    "\n",
    "    #Create a tabular dataset from the path on the datastore (this may take a short while)\n",
    "    tab_data_set = Dataset.Tabular.from_delimited_files(path=(default_ds, file))\n",
    "\n",
    "    # Register the tabular dataset\n",
    "    try:\n",
    "        tab_data_set.register(workspace=ws, \n",
    "                                name=dataset_name,\n",
    "                                description=description,\n",
    "                                tags = {'format':'CSV'},\n",
    "                                create_new_version=True)\n",
    "        \n",
    "        print('Dataset registered.')\n",
    "    except Exception as ex:\n",
    "        print(ex)\n",
    "else:\n",
    "    print('Dataset already registered.')"
   ]
  },
  {
   "cell_type": "markdown",
   "source": [
    "On peut vérifier le contenu du dataset."
   ],
   "metadata": {
    "collapsed": false
   }
  },
  {
   "cell_type": "code",
   "execution_count": null,
   "outputs": [],
   "source": [
    "titanic_ds = ws.datasets.get(\"titanic train dataset\")\n",
    "titanic_ds.to_pandas_dataframe().head()"
   ],
   "metadata": {
    "collapsed": false,
    "pycharm": {
     "name": "#%%\n"
    }
   }
  },
  {
   "cell_type": "markdown",
   "source": [
    "# Gestion des environnements"
   ],
   "metadata": {
    "collapsed": false
   }
  },
  {
   "cell_type": "markdown",
   "source": [
    "https://docs.microsoft.com/fr-fr/azure/machine-learning/how-to-use-environments\n",
    "\n",
    "https://docs.microsoft.com/fr-fr/azure/machine-learning/resource-curated-environments"
   ],
   "metadata": {
    "collapsed": false
   }
  },
  {
   "cell_type": "code",
   "execution_count": null,
   "outputs": [],
   "source": [
    "from azureml.core import Environment\n",
    "\n",
    "envs = Environment.list(workspace=ws)\n",
    "\n",
    "for env in envs:\n",
    "    if env.startswith(\"AzureML-AutoML\"):\n",
    "        print(\"Nom :\",env)\n",
    "        print()\n",
    "        print(\"Packages :\", envs[env].python.conda_dependencies.serialize_to_string())"
   ],
   "metadata": {
    "collapsed": false,
    "pycharm": {
     "name": "#%%\n"
    }
   }
  },
  {
   "cell_type": "code",
   "execution_count": null,
   "outputs": [],
   "source": [
    "from azureml.core import Workspace, Environment\n",
    "\n",
    "ws = Workspace.from_config()\n",
    "env = Environment.get(workspace=ws, name=\"AzureML-AutoML\")"
   ],
   "metadata": {
    "collapsed": false,
    "pycharm": {
     "name": "#%%\n"
    }
   }
  },
  {
   "cell_type": "markdown",
   "source": [
    "# Création d'une instance de calcul"
   ],
   "metadata": {
    "collapsed": false
   }
  },
  {
   "cell_type": "markdown",
   "source": [
    "## Création d'une aml compute instance"
   ],
   "metadata": {
    "collapsed": false
   }
  },
  {
   "cell_type": "code",
   "execution_count": null,
   "outputs": [],
   "source": [
    "from azureml.core.compute import ComputeTarget, ComputeInstance\n",
    "from azureml.core.compute_target import ComputeTargetException\n",
    "\n",
    "compute_name = \"vm-ds3-v2\"\n",
    "\n",
    "# Verify that instance does not exist already\n",
    "if compute_name in ws.compute_targets:\n",
    "    print('Found existing instance, use it : ' + compute_name)\n",
    "else:\n",
    "    print('creating a new compute target...')\n",
    "    compute_config = ComputeInstance.provisioning_configuration(\n",
    "        vm_size='STANDARD_D3_V2',\n",
    "        ssh_public_access=False\n",
    "    )\n",
    "    instance = ComputeInstance.create(ws, compute_name, compute_config)\n",
    "    instance.wait_for_completion(show_output=True)"
   ],
   "metadata": {
    "collapsed": false,
    "pycharm": {
     "name": "#%%\n"
    }
   }
  },
  {
   "cell_type": "markdown",
   "source": [
    "## Création d'un cluster\n",
    "\n",
    "Il faut définir le nom du cluster, ainsi que les nombres de noeuds min et max."
   ],
   "metadata": {
    "collapsed": false
   }
  },
  {
   "cell_type": "code",
   "execution_count": null,
   "outputs": [],
   "source": [
    "from azureml.core.compute import AmlCompute\n",
    "from azureml.core.compute import ComputeTarget\n",
    "import os\n",
    "\n",
    "# choose a name for your cluster\n",
    "compute_name = os.environ.get(\"AML_COMPUTE_CLUSTER_NAME\", \"aml-cluster\")\n",
    "compute_min_nodes = os.environ.get(\"AML_COMPUTE_CLUSTER_MIN_NODES\", 0)\n",
    "compute_max_nodes = os.environ.get(\"AML_COMPUTE_CLUSTER_MAX_NODES\", 4)\n",
    "\n",
    "# This example uses CPU VM. For using GPU VM, set SKU to STANDARD_NC6\n",
    "vm_size = os.environ.get(\"AML_COMPUTE_CLUSTER_SKU\", \"STANDARD_D2_V2\")\n",
    "\n",
    "\n",
    "if compute_name in ws.compute_targets:\n",
    "    compute_target = ws.compute_targets[compute_name]\n",
    "    if compute_target and type(compute_target) is AmlCompute:\n",
    "        print('found compute target. just use it : ' + compute_name)\n",
    "else:\n",
    "    print('creating a new compute target...')\n",
    "    provisioning_config = AmlCompute.provisioning_configuration(vm_size=vm_size,\n",
    "                                                                min_nodes=compute_min_nodes,\n",
    "                                                                max_nodes=compute_max_nodes)\n",
    "\n",
    "    compute_target = ComputeTarget.create(ws, compute_name, provisioning_config)\n",
    "\n",
    "    compute_target.wait_for_completion(show_output=True, min_node_count=None, timeout_in_minutes=20)\n",
    "\n",
    "    print(compute_target.get_status().serialize())"
   ],
   "metadata": {
    "collapsed": false,
    "pycharm": {
     "name": "#%%\n"
    }
   }
  },
  {
   "cell_type": "markdown",
   "source": [
    "## Pour utiliser une instance déjà créee"
   ],
   "metadata": {
    "collapsed": false
   }
  },
  {
   "cell_type": "code",
   "execution_count": null,
   "outputs": [],
   "source": [
    "compute_name = \"aml-cluster\"\n",
    "\n",
    "if compute_name in ws.compute_targets:\n",
    "    compute_target = ws.compute_targets[compute_name]\n",
    "    print('found compute target. just use it. ' + compute_name)\n",
    "        \n",
    "else :\n",
    "    compute_target = 'local'\n",
    "    print('compute target not found. work locally.')"
   ],
   "metadata": {
    "collapsed": false,
    "pycharm": {
     "name": "#%%\n"
    }
   }
  },
  {
   "cell_type": "markdown",
   "source": [
    "# Ne pas oublier à la fin de l'expérience!!\n",
    "(si votre travail à utilisé une instance de calcul)\n",
    "\n",
    "<img src='https://github.com/jtobelem-simplon/prepa-dp100/blob/master/images/down.png?raw=true'>\n",
    "\n"
   ],
   "metadata": {
    "collapsed": false
   }
  },
  {
   "cell_type": "code",
   "execution_count": null,
   "outputs": [],
   "source": [
    "# stop toutes les instances de calcul\n",
    "from azureml.core.compute import ComputeTarget, AmlCompute, ComputeInstance\n",
    "from azureml.core.compute_target import ComputeTargetException\n",
    "\n",
    "for compute in ComputeTarget.list(ws):\n",
    "    if type(compute) is ComputeInstance and compute.get_status().state != 'Stopped':\n",
    "        print('try to stop compute', compute.name)\n",
    "        compute.stop(show_output=True)"
   ],
   "metadata": {
    "collapsed": false,
    "pycharm": {
     "name": "#%%\n"
    }
   }
  },
  {
   "cell_type": "code",
   "execution_count": null,
   "outputs": [],
   "source": [
    "from azureml.core.compute import ComputeTarget, AmlCompute, ComputeInstance\n",
    "\n",
    "# liste tous les compute pour vérifier qu'elles sont éteintes\n",
    "for compute in ComputeTarget.list(ws):\n",
    "    if type(compute) is ComputeInstance:\n",
    "        print(compute.name, compute.get_status())"
   ],
   "metadata": {
    "collapsed": false,
    "pycharm": {
     "name": "#%%\n"
    }
   }
  },
  {
   "cell_type": "markdown",
   "source": [
    "# Ressources\n",
    "\n",
    "[api azure](https://docs.microsoft.com/en-us/python/api/azureml-core)\n",
    "\n",
    "[parcours d'apprentissage microsoft](https://docs.microsoft.com/fr-fr/learn/paths/build-ai-solutions-with-azure-ml-service/)\n",
    "\n",
    "[le repository microsoft](https://github.com/MicrosoftDocs/mslearn-aml-labs.git)"
   ],
   "metadata": {
    "collapsed": false
   }
  },
  {
   "cell_type": "markdown",
   "metadata": {},
   "source": [
    "from azureml.core import Environment\n",
    "\n",
    "envs = Environment.list(workspace=ws)\n",
    "\n",
    "for env in envs:\n",
    "    if env.startswith(\"AzureML-AutoML\"):\n",
    "        print(\"Nom :\",env)\n",
    "        print()\n",
    "        print(\"Packages :\", envs[env].python.conda_dependencies.serialize_to_string())"
   ]
  },
  {
   "cell_type": "code",
   "execution_count": 6,
   "metadata": {},
   "outputs": [
    {
     "data": {
      "text/html": [
       "<div>\n",
       "<style scoped>\n",
       "    .dataframe tbody tr th:only-of-type {\n",
       "        vertical-align: middle;\n",
       "    }\n",
       "\n",
       "    .dataframe tbody tr th {\n",
       "        vertical-align: top;\n",
       "    }\n",
       "\n",
       "    .dataframe thead th {\n",
       "        text-align: right;\n",
       "    }\n",
       "</style>\n",
       "<table border=\"1\" class=\"dataframe\">\n",
       "  <thead>\n",
       "    <tr style=\"text-align: right;\">\n",
       "      <th></th>\n",
       "      <th>PassengerId</th>\n",
       "      <th>Survived</th>\n",
       "      <th>Pclass</th>\n",
       "      <th>Name</th>\n",
       "      <th>Sex</th>\n",
       "      <th>Age</th>\n",
       "      <th>SibSp</th>\n",
       "      <th>Parch</th>\n",
       "      <th>Ticket</th>\n",
       "      <th>Fare</th>\n",
       "      <th>Cabin</th>\n",
       "      <th>Embarked</th>\n",
       "    </tr>\n",
       "  </thead>\n",
       "  <tbody>\n",
       "    <tr>\n",
       "      <th>0</th>\n",
       "      <td>1</td>\n",
       "      <td>0</td>\n",
       "      <td>3</td>\n",
       "      <td>Braund, Mr. Owen Harris</td>\n",
       "      <td>male</td>\n",
       "      <td>22.0</td>\n",
       "      <td>1</td>\n",
       "      <td>0</td>\n",
       "      <td>A/5 21171</td>\n",
       "      <td>7.2500</td>\n",
       "      <td>None</td>\n",
       "      <td>S</td>\n",
       "    </tr>\n",
       "    <tr>\n",
       "      <th>1</th>\n",
       "      <td>2</td>\n",
       "      <td>1</td>\n",
       "      <td>1</td>\n",
       "      <td>Cumings, Mrs. John Bradley (Florence Briggs Th...</td>\n",
       "      <td>female</td>\n",
       "      <td>38.0</td>\n",
       "      <td>1</td>\n",
       "      <td>0</td>\n",
       "      <td>PC 17599</td>\n",
       "      <td>71.2833</td>\n",
       "      <td>C85</td>\n",
       "      <td>C</td>\n",
       "    </tr>\n",
       "    <tr>\n",
       "      <th>2</th>\n",
       "      <td>3</td>\n",
       "      <td>1</td>\n",
       "      <td>3</td>\n",
       "      <td>Heikkinen, Miss. Laina</td>\n",
       "      <td>female</td>\n",
       "      <td>26.0</td>\n",
       "      <td>0</td>\n",
       "      <td>0</td>\n",
       "      <td>STON/O2. 3101282</td>\n",
       "      <td>7.9250</td>\n",
       "      <td>None</td>\n",
       "      <td>S</td>\n",
       "    </tr>\n",
       "    <tr>\n",
       "      <th>3</th>\n",
       "      <td>4</td>\n",
       "      <td>1</td>\n",
       "      <td>1</td>\n",
       "      <td>Futrelle, Mrs. Jacques Heath (Lily May Peel)</td>\n",
       "      <td>female</td>\n",
       "      <td>35.0</td>\n",
       "      <td>1</td>\n",
       "      <td>0</td>\n",
       "      <td>113803</td>\n",
       "      <td>53.1000</td>\n",
       "      <td>C123</td>\n",
       "      <td>S</td>\n",
       "    </tr>\n",
       "    <tr>\n",
       "      <th>4</th>\n",
       "      <td>5</td>\n",
       "      <td>0</td>\n",
       "      <td>3</td>\n",
       "      <td>Allen, Mr. William Henry</td>\n",
       "      <td>male</td>\n",
       "      <td>35.0</td>\n",
       "      <td>0</td>\n",
       "      <td>0</td>\n",
       "      <td>373450</td>\n",
       "      <td>8.0500</td>\n",
       "      <td>None</td>\n",
       "      <td>S</td>\n",
       "    </tr>\n",
       "  </tbody>\n",
       "</table>\n",
       "</div>"
      ],
      "text/plain": [
       "   PassengerId  Survived  Pclass  \\\n",
       "0            1         0       3   \n",
       "1            2         1       1   \n",
       "2            3         1       3   \n",
       "3            4         1       1   \n",
       "4            5         0       3   \n",
       "\n",
       "                                                Name     Sex   Age  SibSp  \\\n",
       "0                            Braund, Mr. Owen Harris    male  22.0      1   \n",
       "1  Cumings, Mrs. John Bradley (Florence Briggs Th...  female  38.0      1   \n",
       "2                             Heikkinen, Miss. Laina  female  26.0      0   \n",
       "3       Futrelle, Mrs. Jacques Heath (Lily May Peel)  female  35.0      1   \n",
       "4                           Allen, Mr. William Henry    male  35.0      0   \n",
       "\n",
       "   Parch            Ticket     Fare Cabin Embarked  \n",
       "0      0         A/5 21171   7.2500  None        S  \n",
       "1      0          PC 17599  71.2833   C85        C  \n",
       "2      0  STON/O2. 3101282   7.9250  None        S  \n",
       "3      0            113803  53.1000  C123        S  \n",
       "4      0            373450   8.0500  None        S  "
      ]
     },
     "execution_count": 6,
     "metadata": {},
     "output_type": "execute_result"
    }
   ],
   "source": [
    "titanic_ds = ws.datasets.get(\"titanic train dataset\")\n",
    "titanic_ds.to_pandas_dataframe().head()"
   ]
  },
  {
   "cell_type": "markdown",
   "metadata": {
    "pycharm": {
     "name": "#%% md\n"
    }
   },
   "source": [
    "# Gestion des environnements"
   ]
  },
  {
   "cell_type": "markdown",
   "metadata": {},
   "source": [
    "https://docs.microsoft.com/fr-fr/azure/machine-learning/how-to-use-environments\n",
    "\n",
    "https://docs.microsoft.com/fr-fr/azure/machine-learning/resource-curated-environments"
   ]
  },
  {
   "cell_type": "code",
   "execution_count": null,
   "metadata": {
    "pycharm": {
     "name": "#%%\n"
    }
   },
   "outputs": [],
   "source": [
    "from azureml.core import Environment\n",
    "\n",
    "envs = Environment.list(workspace=ws)\n",
    "\n",
    "for env in envs:\n",
    "    if env.startswith(\"AzureML-AutoML\"):\n",
    "        print(\"Nom :\",env)\n",
    "        print()\n",
    "        print(\"Packages :\", envs[env].python.conda_dependencies.serialize_to_string())"
   ]
  },
  {
   "cell_type": "code",
   "execution_count": null,
   "metadata": {
    "pycharm": {
     "name": "#%%\n"
    }
   },
   "outputs": [],
   "source": [
    "from azureml.core import Workspace, Environment\n",
    "\n",
    "ws = Workspace.from_config()\n",
    "env = Environment.get(workspace=ws, name=\"AzureML-AutoML\")"
   ]
  },
  {
   "cell_type": "markdown",
   "metadata": {},
   "source": [
    "# Création d'une instance de calcul"
   ]
  },
  {
   "cell_type": "markdown",
   "metadata": {},
   "source": [
    "## Création d'une aml compute instance"
   ]
  },
  {
   "cell_type": "code",
   "execution_count": null,
   "metadata": {
    "pycharm": {
     "name": "#%%\n"
    }
   },
   "outputs": [],
   "source": [
    "from azureml.core.compute import ComputeTarget, ComputeInstance\n",
    "from azureml.core.compute_target import ComputeTargetException\n",
    "\n",
    "compute_name = \"vm-ds3-v2\"\n",
    "\n",
    "# Verify that instance does not exist already\n",
    "if compute_name in ws.compute_targets:\n",
    "    print('Found existing instance, use it : ' + compute_name)\n",
    "else:\n",
    "    print('creating a new compute target...')\n",
    "    compute_config = ComputeInstance.provisioning_configuration(\n",
    "        vm_size='STANDARD_D3_V2',\n",
    "        ssh_public_access=False\n",
    "    )\n",
    "    instance = ComputeInstance.create(ws, compute_name, compute_config)\n",
    "    instance.wait_for_completion(show_output=True)"
   ]
  },
  {
   "cell_type": "markdown",
   "metadata": {},
   "source": [
    "## Création d'un cluster\n",
    "\n",
    "Il faut définir le nom du cluster, ainsi que les nombres de noeuds min et max."
   ]
  },
  {
   "cell_type": "code",
   "execution_count": null,
   "metadata": {
    "pycharm": {
     "name": "#%%\n"
    }
   },
   "outputs": [],
   "source": [
    "from azureml.core.compute import AmlCompute\n",
    "from azureml.core.compute import ComputeTarget\n",
    "import os\n",
    "\n",
    "# choose a name for your cluster\n",
    "compute_name = os.environ.get(\"AML_COMPUTE_CLUSTER_NAME\", \"aml-cluster\")\n",
    "compute_min_nodes = os.environ.get(\"AML_COMPUTE_CLUSTER_MIN_NODES\", 0)\n",
    "compute_max_nodes = os.environ.get(\"AML_COMPUTE_CLUSTER_MAX_NODES\", 4)\n",
    "\n",
    "# This example uses CPU VM. For using GPU VM, set SKU to STANDARD_NC6\n",
    "vm_size = os.environ.get(\"AML_COMPUTE_CLUSTER_SKU\", \"STANDARD_D2_V2\")\n",
    "\n",
    "\n",
    "if compute_name in ws.compute_targets:\n",
    "    compute_target = ws.compute_targets[compute_name]\n",
    "    if compute_target and type(compute_target) is AmlCompute:\n",
    "        print('found compute target. just use it : ' + compute_name)\n",
    "else:\n",
    "    print('creating a new compute target...')\n",
    "    provisioning_config = AmlCompute.provisioning_configuration(vm_size=vm_size,\n",
    "                                                                min_nodes=compute_min_nodes,\n",
    "                                                                max_nodes=compute_max_nodes)\n",
    "\n",
    "    compute_target = ComputeTarget.create(ws, compute_name, provisioning_config)\n",
    "\n",
    "    compute_target.wait_for_completion(show_output=True, min_node_count=None, timeout_in_minutes=20)\n",
    "\n",
    "    print(compute_target.get_status().serialize())"
   ]
  },
  {
   "cell_type": "markdown",
   "metadata": {},
   "source": [
    "## Pour utiliser une instance déjà créee"
   ]
  },
  {
   "cell_type": "code",
   "execution_count": null,
   "metadata": {
    "pycharm": {
     "name": "#%%\n"
    }
   },
   "outputs": [],
   "source": [
    "compute_name = \"aml-cluster\"\n",
    "\n",
    "if compute_name in ws.compute_targets:\n",
    "    compute_target = ws.compute_targets[compute_name]\n",
    "    print('found compute target. just use it. ' + compute_name)\n",
    "        \n",
    "else :\n",
    "    compute_target = 'local'\n",
    "    print('compute target not found. work locally.')"
   ]
  },
  {
   "cell_type": "markdown",
   "metadata": {},
   "source": [
    "# Ne pas oublier à la fin de l'expérience!!\n",
    "(si votre travail à utilisé une instance de calcul)\n",
    "\n",
    "<img src='https://github.com/jtobelem-simplon/prepa-dp100/blob/master/images/down.png?raw=true'>\n",
    "\n"
   ]
  },
  {
   "cell_type": "code",
   "execution_count": null,
   "metadata": {
    "pycharm": {
     "name": "#%%\n"
    }
   },
   "outputs": [],
   "source": [
    "# stop toutes les instances de calcul\n",
    "from azureml.core.compute import ComputeTarget, AmlCompute, ComputeInstance\n",
    "from azureml.core.compute_target import ComputeTargetException\n",
    "\n",
    "for compute in ComputeTarget.list(ws):\n",
    "    if type(compute) is ComputeInstance and compute.get_status().state != 'Stopped':\n",
    "        print('try to stop compute', compute.name)\n",
    "        compute.stop(show_output=True)"
   ]
  },
  {
   "cell_type": "code",
   "execution_count": null,
   "metadata": {
    "pycharm": {
     "name": "#%%\n"
    }
   },
   "outputs": [],
   "source": [
    "from azureml.core.compute import ComputeTarget, AmlCompute, ComputeInstance\n",
    "\n",
    "# liste tous les compute pour vérifier qu'elles sont éteintes\n",
    "for compute in ComputeTarget.list(ws):\n",
    "    if type(compute) is ComputeInstance:\n",
    "        print(compute.name, compute.get_status())"
   ]
  },
  {
   "cell_type": "markdown",
   "metadata": {},
   "source": [
    "# Ressources\n",
    "\n",
    "[api azure](https://docs.microsoft.com/en-us/python/api/azureml-core)\n",
    "\n",
    "[parcours d'apprentissage microsoft](https://docs.microsoft.com/fr-fr/learn/paths/build-ai-solutions-with-azure-ml-service/)\n",
    "\n",
    "[le repository microsoft](https://github.com/MicrosoftDocs/mslearn-aml-labs.git)"
   ]
  },
  {
   "cell_type": "code",
   "execution_count": 15,
   "metadata": {},
   "outputs": [
    {
     "name": "stdout",
     "output_type": "stream",
     "text": [
      "Nom : AzureML-AutoML\n",
      "\n",
      "Packages : channels:\n",
      "- anaconda\n",
      "- conda-forge\n",
      "- pytorch\n",
      "dependencies:\n",
      "- python=3.6.2\n",
      "- pip:\n",
      "  - azureml-core==1.13.0\n",
      "  - azureml-pipeline-core==1.13.0\n",
      "  - azureml-telemetry==1.13.0\n",
      "  - azureml-defaults==1.13.0\n",
      "  - azureml-interpret==1.13.0\n",
      "  - azureml-explain-model==1.13.0\n",
      "  - azureml-automl-core==1.13.0\n",
      "  - azureml-automl-runtime==1.13.0.post1\n",
      "  - azureml-train-automl-client==1.13.0.post2\n",
      "  - azureml-train-automl-runtime==1.13.0\n",
      "  - inference-schema\n",
      "  - py-cpuinfo==5.0.0\n",
      "- numpy~=1.18.0\n",
      "- scikit-learn==0.22.1\n",
      "- pandas~=0.25.0\n",
      "- py-xgboost<=0.90\n",
      "- fbprophet==0.5\n",
      "- holidays==0.9.11\n",
      "- setuptools-git\n",
      "- psutil>5.0.0,<6.0.0\n",
      "name: azureml_ff9800a75438efccb779648369b8d727\n",
      "\n",
      "Nom : AzureML-AutoML-DNN-Vision-GPU\n",
      "\n",
      "Packages : dependencies:\n",
      "- python=3.7\n",
      "- pip:\n",
      "  - azureml-core==1.13.0\n",
      "  - azureml-dataset-runtime==1.13.0\n",
      "  - azureml-contrib-dataset==1.13.0\n",
      "  - azureml-telemetry==1.13.0\n",
      "  - azureml-automl-core==1.13.0\n",
      "  - azureml-automl-runtime==1.13.0.post1\n",
      "  - azureml-train-automl-client==1.13.0.post2\n",
      "  - azureml-defaults==1.13.0\n",
      "  - azureml-interpret==1.13.0\n",
      "  - azureml-explain-model==1.13.0\n",
      "  - azureml-train-automl-runtime==1.13.0\n",
      "  - azureml-train-automl==1.13.0\n",
      "  - azureml-contrib-automl-dnn-vision==1.13.0.post1\n",
      "name: azureml_c5c5b6a666832de07e68f5c815d89362\n",
      "\n",
      "Nom : AzureML-AutoML-DNN\n",
      "\n",
      "Packages : channels:\n",
      "- anaconda\n",
      "- conda-forge\n",
      "- pytorch\n",
      "dependencies:\n",
      "- python=3.6.2\n",
      "- pip:\n",
      "  - azureml-core==1.13.0\n",
      "  - azureml-pipeline-core==1.13.0\n",
      "  - azureml-telemetry==1.13.0\n",
      "  - azureml-defaults==1.13.0\n",
      "  - azureml-interpret==1.13.0\n",
      "  - azureml-explain-model==1.13.0\n",
      "  - azureml-automl-core==1.13.0\n",
      "  - azureml-automl-runtime==1.13.0.post1\n",
      "  - azureml-train-automl-client==1.13.0.post2\n",
      "  - azureml-train-automl-runtime==1.13.0\n",
      "  - inference-schema\n",
      "  - pytorch-transformers==1.0.0\n",
      "  - spacy==2.1.8\n",
      "  - https://aka.ms/automl-resources/packages/en_core_web_sm-2.1.0.tar.gz\n",
      "  - py-cpuinfo==5.0.0\n",
      "- numpy~=1.18.0\n",
      "- scikit-learn==0.22.1\n",
      "- pandas~=0.25.0\n",
      "- py-xgboost<=0.90\n",
      "- fbprophet==0.5\n",
      "- holidays==0.9.11\n",
      "- setuptools-git\n",
      "- pytorch=1.4.0\n",
      "- cudatoolkit=10.0.130\n",
      "- psutil>5.0.0,<6.0.0\n",
      "name: azureml_46d62145b4c1dae45afe43565677fa6f\n",
      "\n",
      "Nom : AzureML-AutoML-DNN-GPU\n",
      "\n",
      "Packages : channels:\n",
      "- anaconda\n",
      "- conda-forge\n",
      "- pytorch\n",
      "dependencies:\n",
      "- python=3.6.2\n",
      "- pip:\n",
      "  - azureml-core==1.13.0\n",
      "  - azureml-pipeline-core==1.13.0\n",
      "  - azureml-telemetry==1.13.0\n",
      "  - azureml-defaults==1.13.0\n",
      "  - azureml-interpret==1.13.0\n",
      "  - azureml-explain-model==1.13.0\n",
      "  - azureml-automl-core==1.13.0\n",
      "  - azureml-automl-runtime==1.13.0.post1\n",
      "  - azureml-train-automl-client==1.13.0.post2\n",
      "  - azureml-train-automl-runtime==1.13.0\n",
      "  - inference-schema\n",
      "  - horovod==0.19.4\n",
      "  - pytorch-transformers==1.0.0\n",
      "  - spacy==2.1.8\n",
      "  - https://aka.ms/automl-resources/packages/en_core_web_sm-2.1.0.tar.gz\n",
      "  - py-cpuinfo==5.0.0\n",
      "- numpy~=1.18.0\n",
      "- scikit-learn==0.22.1\n",
      "- pandas~=0.25.0\n",
      "- fbprophet==0.5\n",
      "- holidays==0.9.11\n",
      "- setuptools-git\n",
      "- pytorch=1.4.0\n",
      "- cudatoolkit=10.0.130\n",
      "- psutil>5.0.0,<6.0.0\n",
      "name: azureml_bb023f588ecd43f675de6ff463963a51\n",
      "\n",
      "Nom : AzureML-AutoML-GPU\n",
      "\n",
      "Packages : channels:\n",
      "- anaconda\n",
      "- conda-forge\n",
      "- pytorch\n",
      "dependencies:\n",
      "- python=3.6.2\n",
      "- pip:\n",
      "  - azureml-core==1.13.0\n",
      "  - azureml-pipeline-core==1.13.0\n",
      "  - azureml-telemetry==1.13.0\n",
      "  - azureml-defaults==1.13.0\n",
      "  - azureml-interpret==1.13.0\n",
      "  - azureml-explain-model==1.13.0\n",
      "  - azureml-automl-core==1.13.0\n",
      "  - azureml-automl-runtime==1.13.0.post1\n",
      "  - azureml-train-automl-client==1.13.0.post2\n",
      "  - azureml-train-automl-runtime==1.13.0\n",
      "  - inference-schema\n",
      "  - py-cpuinfo==5.0.0\n",
      "- numpy~=1.18.0\n",
      "- scikit-learn==0.22.1\n",
      "- pandas~=0.25.0\n",
      "- fbprophet==0.5\n",
      "- holidays==0.9.11\n",
      "- setuptools-git\n",
      "- psutil>5.0.0,<6.0.0\n",
      "name: azureml_0654c0c4f185cee81be94dd1e193816a\n",
      "\n"
     ]
    }
   ],
   "source": [
    "from azureml.core import Environment\n",
    "\n",
    "envs = Environment.list(workspace=ws)\n",
    "\n",
    "for env in envs:\n",
    "    if env.startswith(\"AzureML-AutoML\"):\n",
    "        print(\"Nom :\",env)\n",
    "        print()\n",
    "        print(\"Packages :\", envs[env].python.conda_dependencies.serialize_to_string())"
   ]
  },
  {
   "cell_type": "code",
   "execution_count": 17,
   "metadata": {},
   "outputs": [],
   "source": [
    "from azureml.core import Workspace, Environment\n",
    "\n",
    "ws = Workspace.from_config()\n",
    "env = Environment.get(workspace=ws, name=\"AzureML-AutoML\")"
   ]
  },
  {
   "cell_type": "markdown",
   "metadata": {},
   "source": [
    "# Création d'une instance de calcul"
   ]
  },
  {
   "cell_type": "markdown",
   "metadata": {},
   "source": [
    "## Création d'une aml compute instance"
   ]
  },
  {
   "cell_type": "code",
   "execution_count": null,
   "metadata": {
    "hide_input": false
   },
   "outputs": [],
   "source": [
    "from azureml.core.compute import ComputeTarget, ComputeInstance\n",
    "from azureml.core.compute_target import ComputeTargetException\n",
    "\n",
    "compute_name = \"vm-ds3-v2\"\n",
    "\n",
    "# Verify that instance does not exist already\n",
    "if compute_name in ws.compute_targets:\n",
    "    print('Found existing instance, use it : ' + compute_name)\n",
    "else:\n",
    "    print('creating a new compute target...')\n",
    "    compute_config = ComputeInstance.provisioning_configuration(\n",
    "        vm_size='STANDARD_D3_V2',\n",
    "        ssh_public_access=False\n",
    "    )\n",
    "    instance = ComputeInstance.create(ws, compute_name, compute_config)\n",
    "    instance.wait_for_completion(show_output=True)"
   ]
  },
  {
   "cell_type": "markdown",
   "metadata": {},
   "source": [
    "## Création d'un cluster\n",
    "\n",
    "Il faut définir le nom du cluster, ainsi que les nombres de noeuds min et max."
   ]
  },
  {
   "cell_type": "code",
   "execution_count": null,
   "metadata": {
    "hide_input": false
   },
   "outputs": [],
   "source": [
    "from azureml.core.compute import AmlCompute\n",
    "from azureml.core.compute import ComputeTarget\n",
    "import os\n",
    "\n",
    "# choose a name for your cluster\n",
    "compute_name = os.environ.get(\"AML_COMPUTE_CLUSTER_NAME\", \"aml-cluster\")\n",
    "compute_min_nodes = os.environ.get(\"AML_COMPUTE_CLUSTER_MIN_NODES\", 0)\n",
    "compute_max_nodes = os.environ.get(\"AML_COMPUTE_CLUSTER_MAX_NODES\", 4)\n",
    "\n",
    "# This example uses CPU VM. For using GPU VM, set SKU to STANDARD_NC6\n",
    "vm_size = os.environ.get(\"AML_COMPUTE_CLUSTER_SKU\", \"STANDARD_D2_V2\")\n",
    "\n",
    "\n",
    "if compute_name in ws.compute_targets:\n",
    "    compute_target = ws.compute_targets[compute_name]\n",
    "    if compute_target and type(compute_target) is AmlCompute:\n",
    "        print('found compute target. just use it : ' + compute_name)\n",
    "else:\n",
    "    print('creating a new compute target...')\n",
    "    provisioning_config = AmlCompute.provisioning_configuration(vm_size=vm_size,\n",
    "                                                                min_nodes=compute_min_nodes,\n",
    "                                                                max_nodes=compute_max_nodes)\n",
    "\n",
    "    compute_target = ComputeTarget.create(ws, compute_name, provisioning_config)\n",
    "\n",
    "    compute_target.wait_for_completion(show_output=True, min_node_count=None, timeout_in_minutes=20)\n",
    "\n",
    "    print(compute_target.get_status().serialize())"
   ]
  },
  {
   "cell_type": "markdown",
   "metadata": {},
   "source": [
    "## Pour utiliser une instance déjà créee"
   ]
  },
  {
   "cell_type": "code",
   "execution_count": null,
   "metadata": {},
   "outputs": [],
   "source": [
    "compute_name = \"aml-cluster\"\n",
    "\n",
    "if compute_name in ws.compute_targets:\n",
    "    compute_target = ws.compute_targets[compute_name]\n",
    "    print('found compute target. just use it. ' + compute_name)\n",
    "        \n",
    "else :\n",
    "    compute_target = 'local'\n",
    "    print('compute target not found. work locally.')"
   ]
  },
  {
   "cell_type": "markdown",
   "metadata": {},
   "source": [
    "# Ne pas oublier à la fin de l'expérience!!\n",
    "(si votre travail à utilisé une instance de calcul)\n",
    "\n",
    "<img src='https://github.com/jtobelem-simplon/prepa-dp100/blob/master/images/down.png?raw=true'>\n",
    "\n"
   ]
  },
  {
   "cell_type": "code",
   "execution_count": null,
   "metadata": {},
   "outputs": [],
   "source": [
    "# stop toutes les instances de calcul\n",
    "from azureml.core.compute import ComputeTarget, AmlCompute, ComputeInstance\n",
    "from azureml.core.compute_target import ComputeTargetException\n",
    "\n",
    "for compute in ComputeTarget.list(ws):\n",
    "    if type(compute) is ComputeInstance and compute.get_status().state != 'Stopped':\n",
    "        print('try to stop compute', compute.name)\n",
    "        compute.stop(show_output=True)"
   ]
  },
  {
   "cell_type": "code",
   "execution_count": null,
   "metadata": {},
   "outputs": [],
   "source": [
    "from azureml.core.compute import ComputeTarget, AmlCompute, ComputeInstance\n",
    "\n",
    "# liste tous les compute pour vérifier qu'elles sont éteintes\n",
    "for compute in ComputeTarget.list(ws):\n",
    "    if type(compute) is ComputeInstance:\n",
    "        print(compute.name, compute.get_status())"
   ]
  },
  {
   "cell_type": "markdown",
   "metadata": {},
   "source": [
    "# Ressources\n",
    "\n",
    "[api azure](https://docs.microsoft.com/en-us/python/api/azureml-core)\n",
    "\n",
    "[parcours d'apprentissage microsoft](https://docs.microsoft.com/fr-fr/learn/paths/build-ai-solutions-with-azure-ml-service/)\n",
    "\n",
    "[le repository microsoft](https://github.com/MicrosoftDocs/mslearn-aml-labs.git)"
   ]
  },
  {
   "cell_type": "code",
   "execution_count": null,
   "metadata": {},
   "outputs": [],
   "source": []
  }
 ],
 "metadata": {
  "kernelspec": {
   "display_name": "Python 3",
   "language": "python",
   "name": "python3"
  },
  "language_info": {
   "codemirror_mode": {
    "name": "ipython",
    "version": 3
   },
   "file_extension": ".py",
   "mimetype": "text/x-python",
   "name": "python",
   "nbconvert_exporter": "python",
   "pygments_lexer": "ipython3",
   "version": "3.8.5"
  },
  "toc": {
   "base_numbering": 1,
   "nav_menu": {},
   "number_sections": true,
   "sideBar": true,
   "skip_h1_title": false,
   "title_cell": "Table of Contents",
   "title_sidebar": "Contents",
   "toc_cell": false,
   "toc_position": {},
   "toc_section_display": true,
   "toc_window_display": true
  }
 },
 "nbformat": 4,
 "nbformat_minor": 1
}