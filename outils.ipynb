{
 "cells": [
  {
   "cell_type": "markdown",
   "metadata": {},
   "source": [
    "<img src='https://github.com/jtobelem-simplon/prepa-dp100/blob/master/images/top.png?raw=true'>"
   ]
  },
  {
   "cell_type": "markdown",
   "metadata": {},
   "source": [
    "# Configuration (à lancer avant tous les notebooks)"
   ]
  },
  {
   "cell_type": "code",
   "execution_count": null,
   "metadata": {},
   "outputs": [],
   "source": [
    "# version de python\n",
    "import platform\n",
    "platform.python_version()"
   ]
  },
  {
   "cell_type": "code",
   "execution_count": null,
   "metadata": {
    "pycharm": {
     "is_executing": false
    }
   },
   "outputs": [],
   "source": [
    "# la liste des packages installés\n",
    "!conda list"
   ]
  },
  {
   "cell_type": "code",
   "execution_count": null,
   "metadata": {},
   "outputs": [],
   "source": [
    "# version de la SDK azureml\n",
    "import azureml.core\n",
    "print(\"Ready to use Azure ML\", azureml.core.VERSION)"
   ]
  },
  {
   "cell_type": "markdown",
   "metadata": {},
   "source": [
    "Si le notebook est executé en dehors d'Azure, il faut télécharger le fichier config.json depuis le portail https://portal.azure.com/, et le mettre dans le workspace qui contient le notebook.\n",
    "\n",
    "Si le notebook est exécuté directement depuis le workspace Azure, le fichier de config devrait déjà être là."
   ]
  },
  {
   "cell_type": "code",
   "execution_count": null,
   "metadata": {},
   "outputs": [],
   "source": [
    "# connexion au workspace\n",
    "from azureml.core import Workspace\n",
    "\n",
    "ws = Workspace.from_config()\n",
    "print(ws.name, \"loaded\")"
   ]
  },
  {
   "cell_type": "code",
   "execution_count": null,
   "metadata": {
    "pycharm": {
     "name": "#%%\n"
    }
   },
   "outputs": [],
   "source": [
    "from azureml.core import ComputeTarget, Datastore, Dataset\n",
    "\n",
    "print(\"- Compute Targets :\")\n",
    "for compute_name in ws.compute_targets:\n",
    "    compute = ws.compute_targets[compute_name]\n",
    "    print(\"\\t\", compute.name, ':', compute.type)\n",
    "    \n",
    "print(\"- Datastores :\")\n",
    "for datastore_name in ws.datastores:\n",
    "    datastore = Datastore.get(ws, datastore_name)\n",
    "    print(\"\\t\", datastore.name, ':', datastore.datastore_type)\n",
    "    \n",
    "print(\"- Datasets :\")\n",
    "for dataset_name in list(ws.datasets.keys()):\n",
    "    dataset = Dataset.get_by_name(ws, dataset_name)\n",
    "    print(\"\\t\", dataset.name)"
   ]
  },
  {
   "cell_type": "markdown",
   "metadata": {
    "pycharm": {
     "name": "#%% md\n"
    }
   },
   "source": [
    "# Enregistrer une source de donnée"
   ]
  },
  {
   "cell_type": "markdown",
   "metadata": {},
   "source": [
    "Upload des fichiers csv, crée un dataset à partir de ces fichiers et enregistre la référence sur le working set."
   ]
  },
  {
   "cell_type": "code",
   "execution_count": null,
   "metadata": {
    "pycharm": {
     "name": "#%%\n"
    }
   },
   "outputs": [],
   "source": [
    "from azureml.core import Dataset\n",
    "\n",
    "dataset_name = 'titanic train dataset'\n",
    "description='titanic training data'\n",
    "file='./data/titanic/train.csv'\n",
    "target_path='titanic-data/'\n",
    "\n",
    "default_ds = ws.get_default_datastore()\n",
    "\n",
    "if dataset_name not in ws.datasets:\n",
    "    default_ds.upload_files(files=[file], target_path=target_path, overwrite=True, show_progress=True)\n",
    "\n",
    "    #Create a tabular dataset from the path on the datastore (this may take a short while)\n",
    "    tab_data_set = Dataset.Tabular.from_delimited_files(path=(default_ds, file))\n",
    "\n",
    "    # Register the tabular dataset\n",
    "    try:\n",
    "        tab_data_set.register(workspace=ws, \n",
    "                                name=dataset_name,\n",
    "                                description=description,\n",
    "                                tags = {'format':'CSV'},\n",
    "                                create_new_version=True)\n",
    "        \n",
    "        print('Dataset registered.')\n",
    "    except Exception as ex:\n",
    "        print(ex)\n",
    "else:\n",
    "    print('Dataset already registered.')"
   ]
  },
  {
   "cell_type": "markdown",
   "metadata": {},
   "source": [
    "On peut vérifier le contenu du dataset."
   ]
  },
  {
   "cell_type": "code",
   "execution_count": null,
   "metadata": {
    "pycharm": {
     "name": "#%%\n"
    }
   },
   "outputs": [],
   "source": [
    "titanic_ds = ws.datasets.get(\"titanic train dataset\")\n",
    "titanic_ds.to_pandas_dataframe().head()"
   ]
  },
  {
   "cell_type": "markdown",
   "metadata": {},
   "source": [
    "# Gestion des environnements ... (à creuser)"
   ]
  },
  {
   "cell_type": "markdown",
   "metadata": {},
   "source": [
    "https://docs.microsoft.com/fr-fr/azure/machine-learning/how-to-use-environments\n",
    "\n",
    "https://docs.microsoft.com/fr-fr/azure/machine-learning/resource-curated-environments\n",
    "\n",
    "https://github.com/Azure/MachineLearningNotebooks/blob/master/how-to-use-azureml/automated-machine-learning/automl_env.yml"
   ]
  },
  {
   "cell_type": "code",
   "execution_count": null,
   "metadata": {
    "pycharm": {
     "name": "#%%\n"
    }
   },
   "outputs": [],
   "source": [
    "from azureml.core import Environment\n",
    "\n",
    "envs = Environment.list(workspace=ws)\n",
    "\n",
    "for env in envs:\n",
    "    if env.startswith(\"AzureML-AutoML\"):\n",
    "        print(\"Nom :\",env)\n",
    "        print()\n",
    "        print(\"Packages :\", envs[env].python.conda_dependencies.serialize_to_string())"
   ]
  },
  {
   "cell_type": "code",
   "execution_count": null,
   "metadata": {
    "pycharm": {
     "name": "#%%\n"
    }
   },
   "outputs": [],
   "source": [
    "from azureml.core import Workspace, Environment\n",
    "\n",
    "ws = Workspace.from_config()\n",
    "env = Environment.get(workspace=ws, name=\"AzureML-AutoML\")"
   ]
  },
  {
   "cell_type": "markdown",
   "metadata": {},
   "source": [
    "# Création d'une instance de calcul"
   ]
  },
  {
   "cell_type": "markdown",
   "metadata": {},
   "source": [
    "## Création d'une aml compute instance"
   ]
  },
  {
   "cell_type": "code",
   "execution_count": null,
   "metadata": {
    "pycharm": {
     "name": "#%%\n"
    }
   },
   "outputs": [],
   "source": [
    "from azureml.core.compute import ComputeTarget, ComputeInstance\n",
    "from azureml.core.compute_target import ComputeTargetException\n",
    "\n",
    "compute_name = \"vm-ds3-v2\"\n",
    "\n",
    "# Verify that instance does not exist already\n",
    "if compute_name in ws.compute_targets:\n",
    "    print('Found existing instance, use it : ' + compute_name)\n",
    "else:\n",
    "    print('creating a new compute target...')\n",
    "    compute_config = ComputeInstance.provisioning_configuration(\n",
    "        vm_size='STANDARD_D3_V2',\n",
    "        ssh_public_access=False\n",
    "    )\n",
    "    instance = ComputeInstance.create(ws, compute_name, compute_config)\n",
    "    instance.wait_for_completion(show_output=True)"
   ]
  },
  {
   "cell_type": "markdown",
   "metadata": {},
   "source": [
    "## Création d'un cluster\n",
    "\n",
    "Il faut définir le nom du cluster, ainsi que les nombres de noeuds min et max."
   ]
  },
  {
   "cell_type": "code",
   "execution_count": null,
   "metadata": {
    "pycharm": {
     "name": "#%%\n"
    }
   },
   "outputs": [],
   "source": [
    "from azureml.core.compute import AmlCompute\n",
    "from azureml.core.compute import ComputeTarget\n",
    "import os\n",
    "\n",
    "# choose a name for your cluster\n",
    "compute_name = os.environ.get(\"AML_COMPUTE_CLUSTER_NAME\", \"aml-cluster\")\n",
    "compute_min_nodes = os.environ.get(\"AML_COMPUTE_CLUSTER_MIN_NODES\", 0)\n",
    "compute_max_nodes = os.environ.get(\"AML_COMPUTE_CLUSTER_MAX_NODES\", 4)\n",
    "\n",
    "# This example uses CPU VM. For using GPU VM, set SKU to STANDARD_NC6\n",
    "vm_size = os.environ.get(\"AML_COMPUTE_CLUSTER_SKU\", \"STANDARD_D2_V2\")\n",
    "\n",
    "\n",
    "if compute_name in ws.compute_targets:\n",
    "    compute_target = ws.compute_targets[compute_name]\n",
    "    if compute_target and type(compute_target) is AmlCompute:\n",
    "        print('found compute target. just use it : ' + compute_name)\n",
    "else:\n",
    "    print('creating a new compute target...')\n",
    "    provisioning_config = AmlCompute.provisioning_configuration(vm_size=vm_size,\n",
    "                                                                min_nodes=compute_min_nodes,\n",
    "                                                                max_nodes=compute_max_nodes)\n",
    "\n",
    "    compute_target = ComputeTarget.create(ws, compute_name, provisioning_config)\n",
    "\n",
    "    compute_target.wait_for_completion(show_output=True, min_node_count=None, timeout_in_minutes=20)\n",
    "\n",
    "    print(compute_target.get_status().serialize())"
   ]
  },
  {
   "cell_type": "markdown",
   "metadata": {},
   "source": [
    "## Pour utiliser une instance déjà créee"
   ]
  },
  {
   "cell_type": "code",
   "execution_count": null,
   "metadata": {
    "pycharm": {
     "name": "#%%\n"
    }
   },
   "outputs": [],
   "source": [
    "compute_name = \"aml-cluster\"\n",
    "\n",
    "if compute_name in ws.compute_targets:\n",
    "    compute_target = ws.compute_targets[compute_name]\n",
    "    print('found compute target. just use it. ' + compute_name)\n",
    "        \n",
    "else :\n",
    "    compute_target = 'local'\n",
    "    print('compute target not found. work locally.')"
   ]
  },
  {
   "cell_type": "markdown",
   "metadata": {},
   "source": [
    "# Ne pas oublier à la fin de l'expérience!!\n",
    "(si votre travail à utilisé une instance de calcul)\n",
    "\n",
    "<img src='https://github.com/jtobelem-simplon/prepa-dp100/blob/master/images/down.png?raw=true'>\n",
    "\n"
   ]
  },
  {
   "cell_type": "code",
   "execution_count": null,
   "metadata": {
    "pycharm": {
     "name": "#%%\n"
    }
   },
   "outputs": [],
   "source": [
    "# stop toutes les instances de calcul\n",
    "from azureml.core.compute import ComputeTarget, AmlCompute, ComputeInstance\n",
    "from azureml.core.compute_target import ComputeTargetException\n",
    "\n",
    "for compute in ComputeTarget.list(ws):\n",
    "    if type(compute) is ComputeInstance and compute.get_status().state != 'Stopped':\n",
    "        print('try to stop compute', compute.name)\n",
    "        compute.stop(show_output=True)"
   ]
  },
  {
   "cell_type": "code",
   "execution_count": null,
   "metadata": {
    "pycharm": {
     "name": "#%%\n"
    }
   },
   "outputs": [],
   "source": [
    "from azureml.core.compute import ComputeTarget, AmlCompute, ComputeInstance\n",
    "\n",
    "# liste tous les compute pour vérifier qu'elles sont éteintes\n",
    "for compute in ComputeTarget.list(ws):\n",
    "    if type(compute) is ComputeInstance:\n",
    "        print(compute.name, compute.get_status())"
   ]
  },
  {
   "cell_type": "code",
   "execution_count": 4,
   "metadata": {},
   "outputs": [
    {
     "name": "stdout",
     "output_type": "stream",
     "text": [
      "Workspace.create(name='workspace-eun', subscription_id='9a159407-5de2-4a4d-a61c-89720c3bfb79', resource_group='prepa-dp100-ressources')\n",
      "{\n",
      "  \"Name\": \"machine1-eun\",\n",
      "  \"Id\": \"/subscriptions/9a159407-5de2-4a4d-a61c-89720c3bfb79/resourceGroups/prepa-dp100-ressources/providers/Microsoft.MachineLearningServices/workspaces/workspace-eun/computes/machine1-eun\",\n",
      "  \"Workspace\": \"workspace-eun\",\n",
      "  \"Location\": \"northeurope\",\n",
      "  \"VmSize\": \"STANDARD_D2_V3\",\n",
      "  \"State\": \"Stopped\",\n",
      "  \"Tags\": null\n",
      "}\n",
      "{\n",
      "  \"Name\": \"machine5-eun\",\n",
      "  \"Id\": \"/subscriptions/9a159407-5de2-4a4d-a61c-89720c3bfb79/resourceGroups/prepa-dp100-ressources/providers/Microsoft.MachineLearningServices/workspaces/workspace-eun/computes/machine5-eun\",\n",
      "  \"Workspace\": \"workspace-eun\",\n",
      "  \"Location\": \"northeurope\",\n",
      "  \"VmSize\": \"STANDARD_D2_V3\",\n",
      "  \"State\": \"Stopped\",\n",
      "  \"Tags\": null\n",
      "}\n",
      "{\n",
      "  \"Name\": \"machine3-eun\",\n",
      "  \"Id\": \"/subscriptions/9a159407-5de2-4a4d-a61c-89720c3bfb79/resourceGroups/prepa-dp100-ressources/providers/Microsoft.MachineLearningServices/workspaces/workspace-eun/computes/machine3-eun\",\n",
      "  \"Workspace\": \"workspace-eun\",\n",
      "  \"Location\": \"northeurope\",\n",
      "  \"VmSize\": \"STANDARD_D2_V3\",\n",
      "  \"State\": \"Stopped\",\n",
      "  \"Tags\": null\n",
      "}\n",
      "{\n",
      "  \"Name\": \"Machine4-eun\",\n",
      "  \"Id\": \"/subscriptions/9a159407-5de2-4a4d-a61c-89720c3bfb79/resourceGroups/prepa-dp100-ressources/providers/Microsoft.MachineLearningServices/workspaces/workspace-eun/computes/Machine4-eun\",\n",
      "  \"Workspace\": \"workspace-eun\",\n",
      "  \"Location\": \"northeurope\",\n",
      "  \"VmSize\": \"STANDARD_D2_V3\",\n",
      "  \"State\": \"Stopped\",\n",
      "  \"Tags\": null\n",
      "}\n",
      "{\n",
      "  \"Name\": \"machine-eun2\",\n",
      "  \"Id\": \"/subscriptions/9a159407-5de2-4a4d-a61c-89720c3bfb79/resourceGroups/prepa-dp100-ressources/providers/Microsoft.MachineLearningServices/workspaces/workspace-eun/computes/machine-eun2\",\n",
      "  \"Workspace\": \"workspace-eun\",\n",
      "  \"Location\": \"northeurope\",\n",
      "  \"VmSize\": \"STANDARD_D2_V3\",\n",
      "  \"State\": \"Stopped\",\n",
      "  \"Tags\": null\n",
      "}\n",
      "AmlCompute(workspace=Workspace.create(name='workspace-eun', subscription_id='9a159407-5de2-4a4d-a61c-89720c3bfb79', resource_group='prepa-dp100-ressources'), name=aml-cluster, id=/subscriptions/9a159407-5de2-4a4d-a61c-89720c3bfb79/resourceGroups/prepa-dp100-ressources/providers/Microsoft.MachineLearningServices/workspaces/workspace-eun/computes/aml-cluster, type=AmlCompute, provisioning_state=Succeeded, location=northeurope, tags=None)\n",
      "AmlCompute(workspace=Workspace.create(name='workspace-eun', subscription_id='9a159407-5de2-4a4d-a61c-89720c3bfb79', resource_group='prepa-dp100-ressources'), name=hk-cluster, id=/subscriptions/9a159407-5de2-4a4d-a61c-89720c3bfb79/resourceGroups/prepa-dp100-ressources/providers/Microsoft.MachineLearningServices/workspaces/workspace-eun/computes/hk-cluster, type=AmlCompute, provisioning_state=Succeeded, location=northeurope, tags=None)\n",
      "Workspace.create(name='workspace-euw', subscription_id='9a159407-5de2-4a4d-a61c-89720c3bfb79', resource_group='prepa-dp100-ressources')\n",
      "{\n",
      "  \"Name\": \"machine1-euw\",\n",
      "  \"Id\": \"/subscriptions/9a159407-5de2-4a4d-a61c-89720c3bfb79/resourceGroups/prepa-dp100-ressources/providers/Microsoft.MachineLearningServices/workspaces/workspace-euw/computes/machine1-euw\",\n",
      "  \"Workspace\": \"workspace-euw\",\n",
      "  \"Location\": \"westeurope\",\n",
      "  \"VmSize\": \"STANDARD_D2_V3\",\n",
      "  \"State\": \"Stopped\",\n",
      "  \"Tags\": null\n",
      "}\n",
      "{\n",
      "  \"Name\": \"machine2-euw\",\n",
      "  \"Id\": \"/subscriptions/9a159407-5de2-4a4d-a61c-89720c3bfb79/resourceGroups/prepa-dp100-ressources/providers/Microsoft.MachineLearningServices/workspaces/workspace-euw/computes/machine2-euw\",\n",
      "  \"Workspace\": \"workspace-euw\",\n",
      "  \"Location\": \"westeurope\",\n",
      "  \"VmSize\": \"STANDARD_D2_V3\",\n",
      "  \"State\": \"Stopped\",\n",
      "  \"Tags\": null\n",
      "}\n",
      "{\n",
      "  \"Name\": \"machine4-euw\",\n",
      "  \"Id\": \"/subscriptions/9a159407-5de2-4a4d-a61c-89720c3bfb79/resourceGroups/prepa-dp100-ressources/providers/Microsoft.MachineLearningServices/workspaces/workspace-euw/computes/machine4-euw\",\n",
      "  \"Workspace\": \"workspace-euw\",\n",
      "  \"Location\": \"westeurope\",\n",
      "  \"VmSize\": \"STANDARD_D2_V3\",\n",
      "  \"State\": \"Stopped\",\n",
      "  \"Tags\": null\n",
      "}\n",
      "{\n",
      "  \"Name\": \"machine3-euw\",\n",
      "  \"Id\": \"/subscriptions/9a159407-5de2-4a4d-a61c-89720c3bfb79/resourceGroups/prepa-dp100-ressources/providers/Microsoft.MachineLearningServices/workspaces/workspace-euw/computes/machine3-euw\",\n",
      "  \"Workspace\": \"workspace-euw\",\n",
      "  \"Location\": \"westeurope\",\n",
      "  \"VmSize\": \"STANDARD_D2_V3\",\n",
      "  \"State\": \"Stopped\",\n",
      "  \"Tags\": null\n",
      "}\n",
      "{\n",
      "  \"Name\": \"machine5-euw\",\n",
      "  \"Id\": \"/subscriptions/9a159407-5de2-4a4d-a61c-89720c3bfb79/resourceGroups/prepa-dp100-ressources/providers/Microsoft.MachineLearningServices/workspaces/workspace-euw/computes/machine5-euw\",\n",
      "  \"Workspace\": \"workspace-euw\",\n",
      "  \"Location\": \"westeurope\",\n",
      "  \"VmSize\": \"STANDARD_D2_V3\",\n",
      "  \"State\": \"Stopped\",\n",
      "  \"Tags\": null\n",
      "}\n",
      "AmlCompute(workspace=Workspace.create(name='workspace-euw', subscription_id='9a159407-5de2-4a4d-a61c-89720c3bfb79', resource_group='prepa-dp100-ressources'), name=aml-cluster, id=/subscriptions/9a159407-5de2-4a4d-a61c-89720c3bfb79/resourceGroups/prepa-dp100-ressources/providers/Microsoft.MachineLearningServices/workspaces/workspace-euw/computes/aml-cluster, type=AmlCompute, provisioning_state=Succeeded, location=westeurope, tags=None)\n",
      "Workspace.create(name='workspace-usae2', subscription_id='9a159407-5de2-4a4d-a61c-89720c3bfb79', resource_group='prepa-dp100-ressources')\n",
      "{\n",
      "  \"Name\": \"machine4-usae2\",\n",
      "  \"Id\": \"/subscriptions/9a159407-5de2-4a4d-a61c-89720c3bfb79/resourceGroups/prepa-dp100-ressources/providers/Microsoft.MachineLearningServices/workspaces/workspace-usae2/computes/machine4-usae2\",\n",
      "  \"Workspace\": \"workspace-usae2\",\n",
      "  \"Location\": \"eastus2\",\n",
      "  \"VmSize\": \"STANDARD_D2_V3\",\n",
      "  \"State\": \"Stopped\",\n",
      "  \"Tags\": null\n",
      "}\n",
      "{\n",
      "  \"Name\": \"machine5-usae2\",\n",
      "  \"Id\": \"/subscriptions/9a159407-5de2-4a4d-a61c-89720c3bfb79/resourceGroups/prepa-dp100-ressources/providers/Microsoft.MachineLearningServices/workspaces/workspace-usae2/computes/machine5-usae2\",\n",
      "  \"Workspace\": \"workspace-usae2\",\n",
      "  \"Location\": \"eastus2\",\n",
      "  \"VmSize\": \"STANDARD_D2S_V3\",\n",
      "  \"State\": \"Stopped\",\n",
      "  \"Tags\": null\n",
      "}\n",
      "{\n",
      "  \"Name\": \"machine2-usae2\",\n",
      "  \"Id\": \"/subscriptions/9a159407-5de2-4a4d-a61c-89720c3bfb79/resourceGroups/prepa-dp100-ressources/providers/Microsoft.MachineLearningServices/workspaces/workspace-usae2/computes/machine2-usae2\",\n",
      "  \"Workspace\": \"workspace-usae2\",\n",
      "  \"Location\": \"eastus2\",\n",
      "  \"VmSize\": \"STANDARD_D2_V3\",\n",
      "  \"State\": \"Stopped\",\n",
      "  \"Tags\": null\n",
      "}\n",
      "{\n",
      "  \"Name\": \"machine3-usae2\",\n",
      "  \"Id\": \"/subscriptions/9a159407-5de2-4a4d-a61c-89720c3bfb79/resourceGroups/prepa-dp100-ressources/providers/Microsoft.MachineLearningServices/workspaces/workspace-usae2/computes/machine3-usae2\",\n",
      "  \"Workspace\": \"workspace-usae2\",\n",
      "  \"Location\": \"eastus2\",\n",
      "  \"VmSize\": \"STANDARD_D2S_V3\",\n",
      "  \"State\": \"Stopped\",\n",
      "  \"Tags\": null\n",
      "}\n",
      "AmlCompute(workspace=Workspace.create(name='workspace-usae2', subscription_id='9a159407-5de2-4a4d-a61c-89720c3bfb79', resource_group='prepa-dp100-ressources'), name=aml-cluster, id=/subscriptions/9a159407-5de2-4a4d-a61c-89720c3bfb79/resourceGroups/prepa-dp100-ressources/providers/Microsoft.MachineLearningServices/workspaces/workspace-usae2/computes/aml-cluster, type=AmlCompute, provisioning_state=Succeeded, location=eastus2, tags=None)\n",
      "AmlCompute(workspace=Workspace.create(name='workspace-usae2', subscription_id='9a159407-5de2-4a4d-a61c-89720c3bfb79', resource_group='prepa-dp100-ressources'), name=vpu-cluster, id=/subscriptions/9a159407-5de2-4a4d-a61c-89720c3bfb79/resourceGroups/prepa-dp100-ressources/providers/Microsoft.MachineLearningServices/workspaces/workspace-usae2/computes/vpu-cluster, type=AmlCompute, provisioning_state=Succeeded, location=eastus2, tags=None)\n",
      "Workspace.create(name='workspace-usaw', subscription_id='9a159407-5de2-4a4d-a61c-89720c3bfb79', resource_group='prepa-dp100-ressources')\n",
      "{\n",
      "  \"Name\": \"machine1-usaw\",\n",
      "  \"Id\": \"/subscriptions/9a159407-5de2-4a4d-a61c-89720c3bfb79/resourceGroups/prepa-dp100-ressources/providers/Microsoft.MachineLearningServices/workspaces/workspace-usaw/computes/machine1-usaw\",\n",
      "  \"Workspace\": \"workspace-usaw\",\n",
      "  \"Location\": \"westus\",\n",
      "  \"VmSize\": \"STANDARD_D2_V3\",\n",
      "  \"State\": \"Stopped\",\n",
      "  \"Tags\": null\n",
      "}\n",
      "{\n",
      "  \"Name\": \"machine2-usaw\",\n",
      "  \"Id\": \"/subscriptions/9a159407-5de2-4a4d-a61c-89720c3bfb79/resourceGroups/prepa-dp100-ressources/providers/Microsoft.MachineLearningServices/workspaces/workspace-usaw/computes/machine2-usaw\",\n",
      "  \"Workspace\": \"workspace-usaw\",\n",
      "  \"Location\": \"westus\",\n",
      "  \"VmSize\": \"STANDARD_D2_V3\",\n",
      "  \"State\": \"Stopped\",\n",
      "  \"Tags\": null\n",
      "}\n"
     ]
    },
    {
     "name": "stdout",
     "output_type": "stream",
     "text": [
      "{\n",
      "  \"Name\": \"machine4-usaw\",\n",
      "  \"Id\": \"/subscriptions/9a159407-5de2-4a4d-a61c-89720c3bfb79/resourceGroups/prepa-dp100-ressources/providers/Microsoft.MachineLearningServices/workspaces/workspace-usaw/computes/machine4-usaw\",\n",
      "  \"Workspace\": \"workspace-usaw\",\n",
      "  \"Location\": \"westus\",\n",
      "  \"VmSize\": \"STANDARD_D2_V3\",\n",
      "  \"State\": \"Stopped\",\n",
      "  \"Tags\": null\n",
      "}\n",
      "{\n",
      "  \"Name\": \"machine5-usaw\",\n",
      "  \"Id\": \"/subscriptions/9a159407-5de2-4a4d-a61c-89720c3bfb79/resourceGroups/prepa-dp100-ressources/providers/Microsoft.MachineLearningServices/workspaces/workspace-usaw/computes/machine5-usaw\",\n",
      "  \"Workspace\": \"workspace-usaw\",\n",
      "  \"Location\": \"westus\",\n",
      "  \"VmSize\": \"STANDARD_D2_V3\",\n",
      "  \"State\": \"Stopped\",\n",
      "  \"Tags\": null\n",
      "}\n",
      "{\n",
      "  \"Name\": \"machine3-usaw\",\n",
      "  \"Id\": \"/subscriptions/9a159407-5de2-4a4d-a61c-89720c3bfb79/resourceGroups/prepa-dp100-ressources/providers/Microsoft.MachineLearningServices/workspaces/workspace-usaw/computes/machine3-usaw\",\n",
      "  \"Workspace\": \"workspace-usaw\",\n",
      "  \"Location\": \"westus\",\n",
      "  \"VmSize\": \"STANDARD_D2S_V3\",\n",
      "  \"State\": \"Stopped\",\n",
      "  \"Tags\": null\n",
      "}\n",
      "AmlCompute(workspace=Workspace.create(name='workspace-usaw', subscription_id='9a159407-5de2-4a4d-a61c-89720c3bfb79', resource_group='prepa-dp100-ressources'), name=your-compute, id=/subscriptions/9a159407-5de2-4a4d-a61c-89720c3bfb79/resourceGroups/prepa-dp100-ressources/providers/Microsoft.MachineLearningServices/workspaces/workspace-usaw/computes/your-compute, type=AmlCompute, provisioning_state=Succeeded, location=westus, tags=None)\n",
      "AmlCompute(workspace=Workspace.create(name='workspace-usaw', subscription_id='9a159407-5de2-4a4d-a61c-89720c3bfb79', resource_group='prepa-dp100-ressources'), name=aml-compute, id=/subscriptions/9a159407-5de2-4a4d-a61c-89720c3bfb79/resourceGroups/prepa-dp100-ressources/providers/Microsoft.MachineLearningServices/workspaces/workspace-usaw/computes/aml-compute, type=AmlCompute, provisioning_state=Succeeded, location=westus, tags=None)\n",
      "Workspace.create(name='workspace-usaw2', subscription_id='9a159407-5de2-4a4d-a61c-89720c3bfb79', resource_group='prepa-dp100-ressources')\n",
      "{\n",
      "  \"Name\": \"machine1-usaw2\",\n",
      "  \"Id\": \"/subscriptions/9a159407-5de2-4a4d-a61c-89720c3bfb79/resourceGroups/prepa-dp100-ressources/providers/Microsoft.MachineLearningServices/workspaces/workspace-usaw2/computes/machine1-usaw2\",\n",
      "  \"Workspace\": \"workspace-usaw2\",\n",
      "  \"Location\": \"westus2\",\n",
      "  \"VmSize\": \"STANDARD_D2_V3\",\n",
      "  \"State\": \"Stopped\",\n",
      "  \"Tags\": null\n",
      "}\n",
      "{\n",
      "  \"Name\": \"machine11-usaw2\",\n",
      "  \"Id\": \"/subscriptions/9a159407-5de2-4a4d-a61c-89720c3bfb79/resourceGroups/prepa-dp100-ressources/providers/Microsoft.MachineLearningServices/workspaces/workspace-usaw2/computes/machine11-usaw2\",\n",
      "  \"Workspace\": \"workspace-usaw2\",\n",
      "  \"Location\": \"westus2\",\n",
      "  \"VmSize\": \"STANDARD_D2_V3\",\n",
      "  \"State\": \"Stopped\",\n",
      "  \"Tags\": null\n",
      "}\n",
      "{\n",
      "  \"Name\": \"machine3-usaw2\",\n",
      "  \"Id\": \"/subscriptions/9a159407-5de2-4a4d-a61c-89720c3bfb79/resourceGroups/prepa-dp100-ressources/providers/Microsoft.MachineLearningServices/workspaces/workspace-usaw2/computes/machine3-usaw2\",\n",
      "  \"Workspace\": \"workspace-usaw2\",\n",
      "  \"Location\": \"westus2\",\n",
      "  \"VmSize\": \"STANDARD_D2_V3\",\n",
      "  \"State\": \"Stopped\",\n",
      "  \"Tags\": null\n",
      "}\n",
      "{\n",
      "  \"Name\": \"machine2-usaw2\",\n",
      "  \"Id\": \"/subscriptions/9a159407-5de2-4a4d-a61c-89720c3bfb79/resourceGroups/prepa-dp100-ressources/providers/Microsoft.MachineLearningServices/workspaces/workspace-usaw2/computes/machine2-usaw2\",\n",
      "  \"Workspace\": \"workspace-usaw2\",\n",
      "  \"Location\": \"westus2\",\n",
      "  \"VmSize\": \"STANDARD_D2_V3\",\n",
      "  \"State\": \"Stopped\",\n",
      "  \"Tags\": null\n",
      "}\n",
      "AmlCompute(workspace=Workspace.create(name='workspace-usaw2', subscription_id='9a159407-5de2-4a4d-a61c-89720c3bfb79', resource_group='prepa-dp100-ressources'), name=aml-cluster, id=/subscriptions/9a159407-5de2-4a4d-a61c-89720c3bfb79/resourceGroups/prepa-dp100-ressources/providers/Microsoft.MachineLearningServices/workspaces/workspace-usaw2/computes/aml-cluster, type=AmlCompute, provisioning_state=Succeeded, location=westus2, tags=None)\n"
     ]
    }
   ],
   "source": [
    "import os\n",
    "from azureml.core.compute import ComputeTarget, AmlCompute, ComputeInstance\n",
    "from azureml.core.compute_target import ComputeTargetException\n",
    "from azureml.core import Workspace\n",
    "\n",
    "subscription_id = os.environ.get(\"SUBSCRIPTION_ID\", \"9a159407-5de2-4a4d-a61c-89720c3bfb79\") #ID soubscription Azure\n",
    "resource_group = os.environ.get(\"RESOURCE_GROUP\", \"prepa-dp100-ressources\") #Resource group\n",
    "\n",
    "workspace_name = os.environ.get(\"WORKSPACE_NAME\", \"workspace-eun\") #Nom workspace\n",
    "ws1 = Workspace(subscription_id = subscription_id, resource_group = resource_group, workspace_name = workspace_name)\n",
    "\n",
    "workspace_name = os.environ.get(\"WORKSPACE_NAME\", \"workspace-euw\") #Nom workspace\n",
    "ws2 = Workspace(subscription_id = subscription_id, resource_group = resource_group, workspace_name = workspace_name)\n",
    "\n",
    "workspace_name = os.environ.get(\"WORKSPACE_NAME\", \"workspace-usae2\") #Nom workspace\n",
    "ws3 = Workspace(subscription_id = subscription_id, resource_group = resource_group, workspace_name = workspace_name)\n",
    "\n",
    "workspace_name = os.environ.get(\"WORKSPACE_NAME\", \"workspace-usaw\") #Nom workspace\n",
    "ws4 = Workspace(subscription_id = subscription_id, resource_group = resource_group, workspace_name = workspace_name)\n",
    "\n",
    "workspace_name = os.environ.get(\"WORKSPACE_NAME\", \"workspace-usaw2\") #Nom workspace\n",
    "ws5 = Workspace(subscription_id = subscription_id, resource_group = resource_group, workspace_name = workspace_name)\n",
    "\n",
    "for ws in [ws1,ws2, ws3, ws4, ws5]:\n",
    "    print(ws)\n",
    "    for compute in ComputeTarget.list(ws):\n",
    "        print(compute)\n",
    "        if type(compute) is ComputeInstance and compute.get_status().state != 'Stopped':\n",
    "            print('try to stop compute', compute.name)\n",
    "            compute.stop(show_output=True)"
   ]
  },
  {
   "cell_type": "markdown",
   "metadata": {},
   "source": [
    "# Ressources\n",
    "\n",
    "[api azure](https://docs.microsoft.com/en-us/python/api/azureml-core)\n",
    "\n",
    "[parcours d'apprentissage microsoft](https://docs.microsoft.com/fr-fr/learn/paths/build-ai-solutions-with-azure-ml-service/)\n",
    "\n",
    "[le repository microsoft](https://github.com/MicrosoftDocs/mslearn-aml-labs.git)"
   ]
  }
 ],
 "metadata": {
  "kernelspec": {
   "display_name": "Python 3",
   "language": "python",
   "name": "python3"
  },
  "language_info": {
   "codemirror_mode": {
    "name": "ipython",
    "version": 3
   },
   "file_extension": ".py",
   "mimetype": "text/x-python",
   "name": "python",
   "nbconvert_exporter": "python",
   "pygments_lexer": "ipython3",
   "version": "3.7.8"
  },
  "toc": {
   "base_numbering": 1,
   "nav_menu": {},
   "number_sections": true,
   "sideBar": true,
   "skip_h1_title": false,
   "title_cell": "Table of Contents",
   "title_sidebar": "Contents",
   "toc_cell": false,
   "toc_position": {},
   "toc_section_display": true,
   "toc_window_display": true
  }
 },
 "nbformat": 4,
 "nbformat_minor": 1
}
